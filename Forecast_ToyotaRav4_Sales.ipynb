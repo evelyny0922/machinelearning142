{
 "cells": [
  {
   "cell_type": "code",
   "execution_count": 1,
   "metadata": {},
   "outputs": [],
   "source": [
    "import numpy as np\n",
    "import pandas as pd"
   ]
  },
  {
   "cell_type": "code",
   "execution_count": 2,
   "metadata": {},
   "outputs": [
    {
     "name": "stdout",
     "output_type": "stream",
     "text": [
      "<class 'pandas.core.frame.DataFrame'>\n",
      "RangeIndex: 120 entries, 0 to 119\n",
      "Data columns (total 8 columns):\n",
      " #   Column        Non-Null Count  Dtype  \n",
      "---  ------        --------------  -----  \n",
      " 0   MonthNumeric  120 non-null    int64  \n",
      " 1   MonthFactor   120 non-null    object \n",
      " 2   Year          120 non-null    int64  \n",
      " 3   RAV4Sales     120 non-null    int64  \n",
      " 4   Unemployment  120 non-null    float64\n",
      " 5   RAV4Queries   120 non-null    int64  \n",
      " 6   CPIAll        120 non-null    float64\n",
      " 7   CPIEnergy     120 non-null    float64\n",
      "dtypes: float64(3), int64(4), object(1)\n",
      "memory usage: 7.6+ KB\n"
     ]
    }
   ],
   "source": [
    "#Loading data\n",
    "Rav4 = pd.read_csv('RAV4-142-Spring2021.csv')\n",
    "Rav4.info()"
   ]
  },
  {
   "cell_type": "code",
   "execution_count": 3,
   "metadata": {},
   "outputs": [
    {
     "data": {
      "text/html": [
       "<div>\n",
       "<style scoped>\n",
       "    .dataframe tbody tr th:only-of-type {\n",
       "        vertical-align: middle;\n",
       "    }\n",
       "\n",
       "    .dataframe tbody tr th {\n",
       "        vertical-align: top;\n",
       "    }\n",
       "\n",
       "    .dataframe thead th {\n",
       "        text-align: right;\n",
       "    }\n",
       "</style>\n",
       "<table border=\"1\" class=\"dataframe\">\n",
       "  <thead>\n",
       "    <tr style=\"text-align: right;\">\n",
       "      <th></th>\n",
       "      <th>MonthNumeric</th>\n",
       "      <th>MonthFactor</th>\n",
       "      <th>Year</th>\n",
       "      <th>RAV4Sales</th>\n",
       "      <th>Unemployment</th>\n",
       "      <th>RAV4Queries</th>\n",
       "      <th>CPIAll</th>\n",
       "      <th>CPIEnergy</th>\n",
       "    </tr>\n",
       "  </thead>\n",
       "  <tbody>\n",
       "    <tr>\n",
       "      <th>0</th>\n",
       "      <td>1</td>\n",
       "      <td>January</td>\n",
       "      <td>2011</td>\n",
       "      <td>11196</td>\n",
       "      <td>9.1</td>\n",
       "      <td>29</td>\n",
       "      <td>221.187</td>\n",
       "      <td>229.258</td>\n",
       "    </tr>\n",
       "    <tr>\n",
       "      <th>1</th>\n",
       "      <td>2</td>\n",
       "      <td>February</td>\n",
       "      <td>2011</td>\n",
       "      <td>12562</td>\n",
       "      <td>9.0</td>\n",
       "      <td>29</td>\n",
       "      <td>221.898</td>\n",
       "      <td>232.068</td>\n",
       "    </tr>\n",
       "    <tr>\n",
       "      <th>2</th>\n",
       "      <td>3</td>\n",
       "      <td>March</td>\n",
       "      <td>2011</td>\n",
       "      <td>16082</td>\n",
       "      <td>9.0</td>\n",
       "      <td>29</td>\n",
       "      <td>223.046</td>\n",
       "      <td>240.079</td>\n",
       "    </tr>\n",
       "    <tr>\n",
       "      <th>3</th>\n",
       "      <td>4</td>\n",
       "      <td>April</td>\n",
       "      <td>2011</td>\n",
       "      <td>15586</td>\n",
       "      <td>9.1</td>\n",
       "      <td>27</td>\n",
       "      <td>224.093</td>\n",
       "      <td>247.977</td>\n",
       "    </tr>\n",
       "    <tr>\n",
       "      <th>4</th>\n",
       "      <td>5</td>\n",
       "      <td>May</td>\n",
       "      <td>2011</td>\n",
       "      <td>8624</td>\n",
       "      <td>9.0</td>\n",
       "      <td>28</td>\n",
       "      <td>224.806</td>\n",
       "      <td>250.744</td>\n",
       "    </tr>\n",
       "  </tbody>\n",
       "</table>\n",
       "</div>"
      ],
      "text/plain": [
       "   MonthNumeric MonthFactor  Year  RAV4Sales  Unemployment  RAV4Queries  \\\n",
       "0             1     January  2011      11196           9.1           29   \n",
       "1             2    February  2011      12562           9.0           29   \n",
       "2             3       March  2011      16082           9.0           29   \n",
       "3             4       April  2011      15586           9.1           27   \n",
       "4             5         May  2011       8624           9.0           28   \n",
       "\n",
       "    CPIAll  CPIEnergy  \n",
       "0  221.187    229.258  \n",
       "1  221.898    232.068  \n",
       "2  223.046    240.079  \n",
       "3  224.093    247.977  \n",
       "4  224.806    250.744  "
      ]
     },
     "execution_count": 3,
     "metadata": {},
     "output_type": "execute_result"
    }
   ],
   "source": [
    "Rav4.head()"
   ]
  },
  {
   "cell_type": "code",
   "execution_count": 5,
   "metadata": {},
   "outputs": [],
   "source": [
    "# Problem 2\n",
    "# a) Start  by  splitting  the  data  into  a  training  set  and  testing  set. The trainingset should contain all observations for 2011 through 2016.  \n",
    "#The testing set should have allobservations for 2017 through 2020.\n",
    "\n",
    "Rav4_train = Rav4[(Rav4['Year'] >= 2011) & (Rav4['Year'] <= 2016)]\n",
    "Rav4_test = Rav4[(Rav4['Year'] >= 2017) & (Rav4['Year'] <= 2020)]"
   ]
  },
  {
   "cell_type": "code",
   "execution_count": 6,
   "metadata": {},
   "outputs": [],
   "source": [
    "#i) What  is  the  linear  regression  equation  produced  by  your  model,  and  how  should  one interpret the coefficients for the independent variables?  \n",
    "#Consider interpretability issues when  writing  down  the  equation  (e.g.,  do  not  just  copy  and  paste  the  output  from Python)"
   ]
  },
  {
   "cell_type": "markdown",
   "metadata": {},
   "source": [
    "The code below is the ols regression which takes in following variable: Unemployment, RAV4Queries, CPIAll, and CPIEnergy. The coefficient value of these variable represent how much the mean dependent variable changes given a one unit shift in the independent variable while holding other variables in the model constant. Further, each coefficient represents the additional effect of adding this variable to the model. This means that the coefficients will change depending on which variables are added and removed."
   ]
  },
  {
   "cell_type": "code",
   "execution_count": 7,
   "metadata": {},
   "outputs": [
    {
     "name": "stdout",
     "output_type": "stream",
     "text": [
      "                            OLS Regression Results                            \n",
      "==============================================================================\n",
      "Dep. Variable:              RAV4Sales   R-squared:                       0.810\n",
      "Model:                            OLS   Adj. R-squared:                  0.799\n",
      "Method:                 Least Squares   F-statistic:                     71.42\n",
      "Date:                Wed, 10 Feb 2021   Prob (F-statistic):           1.93e-23\n",
      "Time:                        21:30:10   Log-Likelihood:                -683.31\n",
      "No. Observations:                  72   AIC:                             1377.\n",
      "Df Residuals:                      67   BIC:                             1388.\n",
      "Df Model:                           4                                         \n",
      "Covariance Type:            nonrobust                                         \n",
      "================================================================================\n",
      "                   coef    std err          t      P>|t|      [0.025      0.975]\n",
      "--------------------------------------------------------------------------------\n",
      "Intercept     1.961e+04   9.36e+04      0.210      0.835   -1.67e+05    2.06e+05\n",
      "Unemployment -2874.1879   1606.504     -1.789      0.078   -6080.784     332.408\n",
      "RAV4Queries    240.9823    106.555      2.262      0.027      28.297     453.668\n",
      "CPIAll          48.2031    396.625      0.122      0.904    -743.464     839.870\n",
      "CPIEnergy       -2.9213     43.674     -0.067      0.947     -90.094      84.251\n",
      "==============================================================================\n",
      "Omnibus:                        9.866   Durbin-Watson:                   1.586\n",
      "Prob(Omnibus):                  0.007   Jarque-Bera (JB):               13.668\n",
      "Skew:                           0.532   Prob(JB):                      0.00108\n",
      "Kurtosis:                       4.851   Cond. No.                     7.88e+04\n",
      "==============================================================================\n",
      "\n",
      "Warnings:\n",
      "[1] Standard Errors assume that the covariance matrix of the errors is correctly specified.\n",
      "[2] The condition number is large, 7.88e+04. This might indicate that there are\n",
      "strong multicollinearity or other numerical problems.\n"
     ]
    }
   ],
   "source": [
    "import statsmodels.api as sm\n",
    "import statsmodels.formula.api as smf\n",
    "\n",
    "ols_1 = smf.ols(formula='RAV4Sales ~ Unemployment + RAV4Queries + CPIAll + CPIEnergy ', data = Rav4_train)\n",
    "model_1 = ols_1.fit()\n",
    "print(model_1.summary())"
   ]
  },
  {
   "cell_type": "code",
   "execution_count": 8,
   "metadata": {},
   "outputs": [],
   "source": [
    "#ii) How did you select the variables to include in your linear regression model?\n",
    "from statsmodels.stats.outliers_influence import variance_inflation_factor\n",
    "\n",
    "def VIF(df, columns):\n",
    "    values = sm.add_constant(df[columns]).values\n",
    "    num_columns = len(columns)+1\n",
    "    vif = [variance_inflation_factor(values, i) for i in range(num_columns)]\n",
    "    return pd.Series(vif[1:], index=columns)"
   ]
  },
  {
   "cell_type": "code",
   "execution_count": 9,
   "metadata": {},
   "outputs": [
    {
     "data": {
      "text/plain": [
       "Unemployment    37.437684\n",
       "RAV4Queries      6.231404\n",
       "CPIAll          28.216088\n",
       "CPIEnergy        7.220536\n",
       "dtype: float64"
      ]
     },
     "execution_count": 9,
     "metadata": {},
     "output_type": "execute_result"
    }
   ],
   "source": [
    "cols_1 = ['Unemployment', 'RAV4Queries', 'CPIAll', 'CPIEnergy']\n",
    "VIF(Rav4_train, cols_1)"
   ]
  },
  {
   "cell_type": "markdown",
   "metadata": {},
   "source": [
    "After checking which features have the highest VIF, I decided to remove Unemployment which has a high VIF in order to produce a better model."
   ]
  },
  {
   "cell_type": "code",
   "execution_count": 10,
   "metadata": {},
   "outputs": [
    {
     "name": "stdout",
     "output_type": "stream",
     "text": [
      "                            OLS Regression Results                            \n",
      "==============================================================================\n",
      "Dep. Variable:              RAV4Sales   R-squared:                       0.801\n",
      "Model:                            OLS   Adj. R-squared:                  0.792\n",
      "Method:                 Least Squares   F-statistic:                     91.21\n",
      "Date:                Wed, 10 Feb 2021   Prob (F-statistic):           8.73e-24\n",
      "Time:                        21:30:10   Log-Likelihood:                -684.99\n",
      "No. Observations:                  72   AIC:                             1378.\n",
      "Df Residuals:                      68   BIC:                             1387.\n",
      "Df Model:                           3                                         \n",
      "Covariance Type:            nonrobust                                         \n",
      "===============================================================================\n",
      "                  coef    std err          t      P>|t|      [0.025      0.975]\n",
      "-------------------------------------------------------------------------------\n",
      "Intercept   -1.379e+05   3.21e+04     -4.290      0.000   -2.02e+05   -7.38e+04\n",
      "RAV4Queries   200.6189    105.811      1.896      0.062     -10.524     411.762\n",
      "CPIAll        707.2526    149.379      4.735      0.000     409.171    1005.334\n",
      "CPIEnergy     -65.3539     26.683     -2.449      0.017    -118.598     -12.110\n",
      "==============================================================================\n",
      "Omnibus:                       10.755   Durbin-Watson:                   1.444\n",
      "Prob(Omnibus):                  0.005   Jarque-Bera (JB):               13.951\n",
      "Skew:                           0.625   Prob(JB):                     0.000935\n",
      "Kurtosis:                       4.757   Cond. No.                     2.66e+04\n",
      "==============================================================================\n",
      "\n",
      "Warnings:\n",
      "[1] Standard Errors assume that the covariance matrix of the errors is correctly specified.\n",
      "[2] The condition number is large, 2.66e+04. This might indicate that there are\n",
      "strong multicollinearity or other numerical problems.\n"
     ]
    }
   ],
   "source": [
    "ols_2 = smf.ols(formula='RAV4Sales ~ RAV4Queries + CPIAll + CPIEnergy ', data = Rav4_train)\n",
    "model_2 = ols_2.fit()\n",
    "print(model_2.summary())"
   ]
  },
  {
   "cell_type": "code",
   "execution_count": 11,
   "metadata": {},
   "outputs": [
    {
     "data": {
      "text/plain": [
       "RAV4Queries    5.952056\n",
       "CPIAll         3.876882\n",
       "CPIEnergy      2.610675\n",
       "dtype: float64"
      ]
     },
     "execution_count": 11,
     "metadata": {},
     "output_type": "execute_result"
    }
   ],
   "source": [
    "cols_2 = ['RAV4Queries', 'CPIAll', 'CPIEnergy']\n",
    "VIF(Rav4_train, cols_2)"
   ]
  },
  {
   "cell_type": "markdown",
   "metadata": {},
   "source": [
    "Next, I removed RAV4Queries as it has the highest VIF among the three features."
   ]
  },
  {
   "cell_type": "code",
   "execution_count": 12,
   "metadata": {},
   "outputs": [],
   "source": [
    "#iii) Do the signs of the model’s coefficients make sense?  Are you reasonably sure that thesigns are correct?"
   ]
  },
  {
   "cell_type": "markdown",
   "metadata": {},
   "source": [
    "In the first model, we see that our ols regression model has a negative coefficient on Unemployment and positive coefficients on other three variables. From VIF, we see that Unemployment and CPI.ALL have the highest VIF out of the four. On the second ols regression model, we see that CPI Energy has a negative coefficient. We can reason that in cases where there is a negative coefficient, it means that dependent variable negatively correlates to the independent variables and we remove those variables with opposite signs based on the values from our VIF."
   ]
  },
  {
   "cell_type": "code",
   "execution_count": 13,
   "metadata": {},
   "outputs": [
    {
     "name": "stdout",
     "output_type": "stream",
     "text": [
      "                            OLS Regression Results                            \n",
      "==============================================================================\n",
      "Dep. Variable:              RAV4Sales   R-squared:                       0.790\n",
      "Model:                            OLS   Adj. R-squared:                  0.784\n",
      "Method:                 Least Squares   F-statistic:                     130.1\n",
      "Date:                Wed, 10 Feb 2021   Prob (F-statistic):           3.85e-24\n",
      "Time:                        21:30:11   Log-Likelihood:                -686.84\n",
      "No. Observations:                  72   AIC:                             1380.\n",
      "Df Residuals:                      69   BIC:                             1387.\n",
      "Df Model:                           2                                         \n",
      "Covariance Type:            nonrobust                                         \n",
      "==============================================================================\n",
      "                 coef    std err          t      P>|t|      [0.025      0.975]\n",
      "------------------------------------------------------------------------------\n",
      "Intercept  -1.729e+05   2.68e+04     -6.447      0.000   -2.26e+05   -1.19e+05\n",
      "CPIAll       920.5497    100.107      9.196      0.000     720.841    1120.258\n",
      "CPIEnergy    -95.5914     21.791     -4.387      0.000    -139.062     -52.120\n",
      "==============================================================================\n",
      "Omnibus:                       16.029   Durbin-Watson:                   1.307\n",
      "Prob(Omnibus):                  0.000   Jarque-Bera (JB):               22.048\n",
      "Skew:                           0.912   Prob(JB):                     1.63e-05\n",
      "Kurtosis:                       5.006   Cond. No.                     2.17e+04\n",
      "==============================================================================\n",
      "\n",
      "Warnings:\n",
      "[1] Standard Errors assume that the covariance matrix of the errors is correctly specified.\n",
      "[2] The condition number is large, 2.17e+04. This might indicate that there are\n",
      "strong multicollinearity or other numerical problems.\n"
     ]
    }
   ],
   "source": [
    "#iv) How well does the model predict training set observations? Can you justify the model’s performance on the training data with a quantifiable metric?\n",
    "ols_3 = smf.ols(formula='RAV4Sales ~ CPIAll + CPIEnergy', data = Rav4_train)\n",
    "model_3 = ols_3.fit()\n",
    "print(model_3.summary())"
   ]
  },
  {
   "cell_type": "code",
   "execution_count": 14,
   "metadata": {},
   "outputs": [
    {
     "data": {
      "text/plain": [
       "CPIAll       1.67804\n",
       "CPIEnergy    1.67804\n",
       "dtype: float64"
      ]
     },
     "execution_count": 14,
     "metadata": {},
     "output_type": "execute_result"
    }
   ],
   "source": [
    "cols_3 = ['CPIAll', 'CPIEnergy']\n",
    "VIF(Rav4_train, cols_3)"
   ]
  },
  {
   "cell_type": "markdown",
   "metadata": {},
   "source": [
    "We can tell that our model is moderately predicting our training set observations. Upon removing three variables and iterating our model, we now see a VIF value that is around 1 for both variables: CPIAll, CPIEnergy. Although the R-squared does not really entail everything, our ols_3 model R-squared didn't deviate a lot from where it started off from. Removing variables that had a high VIF value had a huge impact in optimizing the overall VIF values, the amount of multicollinearity."
   ]
  },
  {
   "cell_type": "code",
   "execution_count": 15,
   "metadata": {},
   "outputs": [
    {
     "data": {
      "text/plain": [
       "<matplotlib.legend.Legend at 0x7f2e726d2d30>"
      ]
     },
     "execution_count": 15,
     "metadata": {},
     "output_type": "execute_result"
    },
    {
     "data": {
      "image/png": "[encoded data removed]",
      "text/plain": [
       "<Figure size 432x288 with 1 Axes>"
      ]
     },
     "metadata": {},
     "output_type": "display_data"
    }
   ],
   "source": [
    "#Plot the sales of RAV4 versus Year, by different months\n",
    "import seaborn as sns\n",
    "import matplotlib.pyplot as plt\n",
    "sns.set_theme(style=\"darkgrid\")\n",
    "# Load an example dataset with long-form data\n",
    "fmri = sns.load_dataset(\"fmri\")\n",
    "\n",
    "# Plot the responses for different events and regions\n",
    "g = sns.lineplot(x=\"Year\", y=\"RAV4Sales\", hue=\"MonthFactor\", data=Rav4_train)\n",
    "plt.legend(bbox_to_anchor=(1.05, 1), loc=2, borderaxespad=0.)"
   ]
  },
  {
   "cell_type": "code",
   "execution_count": 16,
   "metadata": {},
   "outputs": [
    {
     "data": {
      "text/plain": [
       "<matplotlib.legend.Legend at 0x7f2e3f210190>"
      ]
     },
     "execution_count": 16,
     "metadata": {},
     "output_type": "execute_result"
    },
    {
     "data": {
      "image/png": "[encoded data removed]",
      "text/plain": [
       "<Figure size 432x288 with 1 Axes>"
      ]
     },
     "metadata": {},
     "output_type": "display_data"
    }
   ],
   "source": [
    "Rav4_train2 = Rav4_train[(Rav4_train['MonthFactor'] == 'January') | (Rav4_train['MonthFactor'] == 'February')]\n",
    "g = sns.lineplot(x=\"Year\", y=\"RAV4Sales\", hue=\"MonthFactor\", data=Rav4_train2).set_title(\"RAV4 Sales for Jan and Feb\")\n",
    "plt.legend(bbox_to_anchor=(1.05, 1), loc=2, borderaxespad=0.)"
   ]
  },
  {
   "cell_type": "code",
   "execution_count": 17,
   "metadata": {},
   "outputs": [
    {
     "data": {
      "text/plain": [
       "array([[2.21187e+02, 2.29258e+02, 0.00000e+00, ..., 1.11960e+04,\n",
       "        9.10000e+00, 2.01100e+03],\n",
       "       [2.21898e+02, 2.32068e+02, 0.00000e+00, ..., 1.25620e+04,\n",
       "        9.00000e+00, 2.01100e+03],\n",
       "       [2.23046e+02, 2.40079e+02, 0.00000e+00, ..., 1.60820e+04,\n",
       "        9.00000e+00, 2.01100e+03],\n",
       "       ...,\n",
       "       [2.41641e+02, 1.95541e+02, 0.00000e+00, ..., 2.64290e+04,\n",
       "        4.90000e+00, 2.01600e+03],\n",
       "       [2.41993e+02, 1.95927e+02, 0.00000e+00, ..., 2.81160e+04,\n",
       "        4.70000e+00, 2.01600e+03],\n",
       "       [2.42712e+02, 2.00139e+02, 0.00000e+00, ..., 3.72140e+04,\n",
       "        4.70000e+00, 2.01600e+03]])"
      ]
     },
     "execution_count": 17,
     "metadata": {},
     "output_type": "execute_result"
    }
   ],
   "source": [
    "#Using One hot encoding to use specific MonthFactors\n",
    "from sklearn.feature_extraction import DictVectorizer\n",
    "all_columns = ['MonthFactor', 'Year', 'RAV4Sales', 'Unemployment', \n",
    "               'RAV4Queries', 'CPIAll','CPIEnergy']\n",
    "\n",
    "records = Rav4_train[all_columns].to_dict(orient='records')\n",
    "encoder = DictVectorizer(sparse=False)\n",
    "encoded_X = encoder.fit_transform(records)\n",
    "encoded_X"
   ]
  },
  {
   "cell_type": "code",
   "execution_count": 18,
   "metadata": {},
   "outputs": [
    {
     "data": {
      "text/html": [
       "<div>\n",
       "<style scoped>\n",
       "    .dataframe tbody tr th:only-of-type {\n",
       "        vertical-align: middle;\n",
       "    }\n",
       "\n",
       "    .dataframe tbody tr th {\n",
       "        vertical-align: top;\n",
       "    }\n",
       "\n",
       "    .dataframe thead th {\n",
       "        text-align: right;\n",
       "    }\n",
       "</style>\n",
       "<table border=\"1\" class=\"dataframe\">\n",
       "  <thead>\n",
       "    <tr style=\"text-align: right;\">\n",
       "      <th></th>\n",
       "      <th>CPIAll</th>\n",
       "      <th>CPIEnergy</th>\n",
       "      <th>Apr</th>\n",
       "      <th>Aug</th>\n",
       "      <th>Dec</th>\n",
       "      <th>Feb</th>\n",
       "      <th>Jan</th>\n",
       "      <th>Jul</th>\n",
       "      <th>Jun</th>\n",
       "      <th>Mar</th>\n",
       "      <th>May</th>\n",
       "      <th>Nov</th>\n",
       "      <th>Oct</th>\n",
       "      <th>Sep</th>\n",
       "      <th>RAV4Queries</th>\n",
       "      <th>RAV4Sales</th>\n",
       "      <th>Unemployment</th>\n",
       "      <th>Year</th>\n",
       "    </tr>\n",
       "  </thead>\n",
       "  <tbody>\n",
       "    <tr>\n",
       "      <th>0</th>\n",
       "      <td>221.187</td>\n",
       "      <td>229.258</td>\n",
       "      <td>0.0</td>\n",
       "      <td>0.0</td>\n",
       "      <td>0.0</td>\n",
       "      <td>0.0</td>\n",
       "      <td>1.0</td>\n",
       "      <td>0.0</td>\n",
       "      <td>0.0</td>\n",
       "      <td>0.0</td>\n",
       "      <td>0.0</td>\n",
       "      <td>0.0</td>\n",
       "      <td>0.0</td>\n",
       "      <td>0.0</td>\n",
       "      <td>29.0</td>\n",
       "      <td>11196.0</td>\n",
       "      <td>9.1</td>\n",
       "      <td>2011.0</td>\n",
       "    </tr>\n",
       "    <tr>\n",
       "      <th>1</th>\n",
       "      <td>221.898</td>\n",
       "      <td>232.068</td>\n",
       "      <td>0.0</td>\n",
       "      <td>0.0</td>\n",
       "      <td>0.0</td>\n",
       "      <td>1.0</td>\n",
       "      <td>0.0</td>\n",
       "      <td>0.0</td>\n",
       "      <td>0.0</td>\n",
       "      <td>0.0</td>\n",
       "      <td>0.0</td>\n",
       "      <td>0.0</td>\n",
       "      <td>0.0</td>\n",
       "      <td>0.0</td>\n",
       "      <td>29.0</td>\n",
       "      <td>12562.0</td>\n",
       "      <td>9.0</td>\n",
       "      <td>2011.0</td>\n",
       "    </tr>\n",
       "    <tr>\n",
       "      <th>2</th>\n",
       "      <td>223.046</td>\n",
       "      <td>240.079</td>\n",
       "      <td>0.0</td>\n",
       "      <td>0.0</td>\n",
       "      <td>0.0</td>\n",
       "      <td>0.0</td>\n",
       "      <td>0.0</td>\n",
       "      <td>0.0</td>\n",
       "      <td>0.0</td>\n",
       "      <td>1.0</td>\n",
       "      <td>0.0</td>\n",
       "      <td>0.0</td>\n",
       "      <td>0.0</td>\n",
       "      <td>0.0</td>\n",
       "      <td>29.0</td>\n",
       "      <td>16082.0</td>\n",
       "      <td>9.0</td>\n",
       "      <td>2011.0</td>\n",
       "    </tr>\n",
       "    <tr>\n",
       "      <th>3</th>\n",
       "      <td>224.093</td>\n",
       "      <td>247.977</td>\n",
       "      <td>1.0</td>\n",
       "      <td>0.0</td>\n",
       "      <td>0.0</td>\n",
       "      <td>0.0</td>\n",
       "      <td>0.0</td>\n",
       "      <td>0.0</td>\n",
       "      <td>0.0</td>\n",
       "      <td>0.0</td>\n",
       "      <td>0.0</td>\n",
       "      <td>0.0</td>\n",
       "      <td>0.0</td>\n",
       "      <td>0.0</td>\n",
       "      <td>27.0</td>\n",
       "      <td>15586.0</td>\n",
       "      <td>9.1</td>\n",
       "      <td>2011.0</td>\n",
       "    </tr>\n",
       "    <tr>\n",
       "      <th>4</th>\n",
       "      <td>224.806</td>\n",
       "      <td>250.744</td>\n",
       "      <td>0.0</td>\n",
       "      <td>0.0</td>\n",
       "      <td>0.0</td>\n",
       "      <td>0.0</td>\n",
       "      <td>0.0</td>\n",
       "      <td>0.0</td>\n",
       "      <td>0.0</td>\n",
       "      <td>0.0</td>\n",
       "      <td>1.0</td>\n",
       "      <td>0.0</td>\n",
       "      <td>0.0</td>\n",
       "      <td>0.0</td>\n",
       "      <td>28.0</td>\n",
       "      <td>8624.0</td>\n",
       "      <td>9.0</td>\n",
       "      <td>2011.0</td>\n",
       "    </tr>\n",
       "  </tbody>\n",
       "</table>\n",
       "</div>"
      ],
      "text/plain": [
       "    CPIAll  CPIEnergy  Apr  Aug  Dec  Feb  Jan  Jul  Jun  Mar  May  Nov  Oct  \\\n",
       "0  221.187    229.258  0.0  0.0  0.0  0.0  1.0  0.0  0.0  0.0  0.0  0.0  0.0   \n",
       "1  221.898    232.068  0.0  0.0  0.0  1.0  0.0  0.0  0.0  0.0  0.0  0.0  0.0   \n",
       "2  223.046    240.079  0.0  0.0  0.0  0.0  0.0  0.0  0.0  1.0  0.0  0.0  0.0   \n",
       "3  224.093    247.977  1.0  0.0  0.0  0.0  0.0  0.0  0.0  0.0  0.0  0.0  0.0   \n",
       "4  224.806    250.744  0.0  0.0  0.0  0.0  0.0  0.0  0.0  0.0  1.0  0.0  0.0   \n",
       "\n",
       "   Sep  RAV4Queries  RAV4Sales  Unemployment    Year  \n",
       "0  0.0         29.0    11196.0           9.1  2011.0  \n",
       "1  0.0         29.0    12562.0           9.0  2011.0  \n",
       "2  0.0         29.0    16082.0           9.0  2011.0  \n",
       "3  0.0         27.0    15586.0           9.1  2011.0  \n",
       "4  0.0         28.0     8624.0           9.0  2011.0  "
      ]
     },
     "execution_count": 18,
     "metadata": {},
     "output_type": "execute_result"
    }
   ],
   "source": [
    "#To get a better sense of the transformed data, we display it with the column names\n",
    "Rav4_train_mf = pd.DataFrame(data=encoded_X, columns=encoder.feature_names_)\n",
    "Rav4_train_mf22 = Rav4_train_mf.rename(columns={\"MonthFactor=January\": \"Jan\",\n",
    "                                               \"MonthFactor=February\": \"Feb\",\n",
    "                                               \"MonthFactor=March\": \"Mar\",\n",
    "                                               \"MonthFactor=April\": \"Apr\",\n",
    "                                               \"MonthFactor=May\": \"May\",\n",
    "                                               \"MonthFactor=June\": \"Jun\",\n",
    "                                               \"MonthFactor=July\": \"Jul\",\n",
    "                                               \"MonthFactor=August\": \"Aug\",\n",
    "                                               \"MonthFactor=September\": \"Sep\",\n",
    "                                               \"MonthFactor=October\": \"Oct\",\n",
    "                                               \"MonthFactor=November\": \"Nov\",\n",
    "                                               \"MonthFactor=December\": \"Dec\"})\n",
    "Rav4_train_mf22.head()"
   ]
  },
  {
   "cell_type": "code",
   "execution_count": 19,
   "metadata": {},
   "outputs": [],
   "source": [
    "Rav4_train_mf2 = Rav4_train_mf22[(Rav4_train_mf22['Year'] >= 2011) & (Rav4_train_mf22['Year'] <= 2016)]"
   ]
  },
  {
   "cell_type": "code",
   "execution_count": 20,
   "metadata": {},
   "outputs": [
    {
     "name": "stdout",
     "output_type": "stream",
     "text": [
      "                            OLS Regression Results                            \n",
      "==============================================================================\n",
      "Dep. Variable:              RAV4Sales   R-squared:                       0.884\n",
      "Model:                            OLS   Adj. R-squared:                  0.853\n",
      "Method:                 Least Squares   F-statistic:                     28.51\n",
      "Date:                Wed, 10 Feb 2021   Prob (F-statistic):           8.55e-21\n",
      "Time:                        21:30:16   Log-Likelihood:                -665.48\n",
      "No. Observations:                  72   AIC:                             1363.\n",
      "Df Residuals:                      56   BIC:                             1399.\n",
      "Df Model:                          15                                         \n",
      "Covariance Type:            nonrobust                                         \n",
      "============================================================================================\n",
      "                               coef    std err          t      P>|t|      [0.025      0.975]\n",
      "--------------------------------------------------------------------------------------------\n",
      "Intercept                 7.754e+04   8.82e+04      0.879      0.383   -9.92e+04    2.54e+05\n",
      "MonthFactor[T.August]     2422.0989   1679.828      1.442      0.155    -943.001    5787.199\n",
      "MonthFactor[T.December]   1885.2249   1704.333      1.106      0.273   -1528.965    5299.414\n",
      "MonthFactor[T.February]  -2922.8349   1644.025     -1.778      0.081   -6216.214     370.544\n",
      "MonthFactor[T.January]   -4543.8071   1648.557     -2.756      0.008   -7846.264   -1241.350\n",
      "MonthFactor[T.July]       -193.7079   1687.715     -0.115      0.909   -3574.607    3187.191\n",
      "MonthFactor[T.June]      -1426.1733   1666.576     -0.856      0.396   -4764.726    1912.380\n",
      "MonthFactor[T.March]       466.8540   1639.891      0.285      0.777   -2818.243    3751.951\n",
      "MonthFactor[T.May]        2010.0694   1640.329      1.225      0.226   -1275.904    5296.043\n",
      "MonthFactor[T.November]  -1540.1770   1687.060     -0.913      0.365   -4919.765    1839.411\n",
      "MonthFactor[T.October]   -1808.4239   1695.135     -1.067      0.291   -5204.188    1587.340\n",
      "MonthFactor[T.September] -1879.2594   1651.944     -1.138      0.260   -5188.501    1429.982\n",
      "Unemployment             -3687.3648   1437.100     -2.566      0.013   -6566.223    -808.507\n",
      "RAV4Queries                228.4423    116.205      1.966      0.054      -4.343     461.228\n",
      "CPIAll                    -175.4430    379.958     -0.462      0.646    -936.590     585.704\n",
      "CPIEnergy                    1.1895     40.426      0.029      0.977     -79.794      82.173\n",
      "==============================================================================\n",
      "Omnibus:                        7.146   Durbin-Watson:                   1.287\n",
      "Prob(Omnibus):                  0.028   Jarque-Bera (JB):               11.806\n",
      "Skew:                           0.206   Prob(JB):                      0.00273\n",
      "Kurtosis:                       4.941   Cond. No.                     8.70e+04\n",
      "==============================================================================\n",
      "\n",
      "Warnings:\n",
      "[1] Standard Errors assume that the covariance matrix of the errors is correctly specified.\n",
      "[2] The condition number is large, 8.7e+04. This might indicate that there are\n",
      "strong multicollinearity or other numerical problems.\n"
     ]
    }
   ],
   "source": [
    "#b \n",
    "#Construct a new linear regression model using theMonthFactorvariable as an independentvariable, in addition to all four of the variables you used at the start of part(a)\n",
    "ols_4 = smf.ols(formula='RAV4Sales ~ MonthFactor + Unemployment + RAV4Queries + CPIAll + CPIEnergy', data = Rav4_train)\n",
    "model_4 = ols_4.fit()\n",
    "print(model_4.summary())"
   ]
  },
  {
   "cell_type": "markdown",
   "metadata": {},
   "source": [
    "Since MonthFactor was a categorical variable, I performed a one hot encoding tranformation on MonthFactor: created a new column for every unique value: month in a categorical variable. The column contains 1 if the variable had the corresponding value and 0 otherwise. After creating a new dataframe Rav4_train_mf2, which includes 11 new variables (April missing from original df). I decided to use Jan and Feb as a new variable to my new model first to see whether this has any impacts. After doing so, I found out that my VIF values has resulted very low, all being around 1. My R^2 also resulted in 0.818, which is considered pretty high."
   ]
  },
  {
   "cell_type": "code",
   "execution_count": 21,
   "metadata": {},
   "outputs": [
    {
     "name": "stdout",
     "output_type": "stream",
     "text": [
      "                            OLS Regression Results                            \n",
      "==============================================================================\n",
      "Dep. Variable:              RAV4Sales   R-squared:                       0.818\n",
      "Model:                            OLS   Adj. R-squared:                  0.807\n",
      "Method:                 Least Squares   F-statistic:                     75.41\n",
      "Date:                Wed, 10 Feb 2021   Prob (F-statistic):           4.43e-24\n",
      "Time:                        21:30:18   Log-Likelihood:                -681.72\n",
      "No. Observations:                  72   AIC:                             1373.\n",
      "Df Residuals:                      67   BIC:                             1385.\n",
      "Df Model:                           4                                         \n",
      "Covariance Type:            nonrobust                                         \n",
      "==============================================================================\n",
      "                 coef    std err          t      P>|t|      [0.025      0.975]\n",
      "------------------------------------------------------------------------------\n",
      "Intercept  -1.533e+05   2.61e+04     -5.876      0.000   -2.05e+05   -1.01e+05\n",
      "Jan        -4098.9932   1417.524     -2.892      0.005   -6928.384   -1269.603\n",
      "Feb        -2391.3578   1404.554     -1.703      0.093   -5194.859     412.144\n",
      "CPIAll       849.8474     97.184      8.745      0.000     655.868    1043.827\n",
      "CPIEnergy   -106.8754     20.894     -5.115      0.000    -148.580     -65.171\n",
      "==============================================================================\n",
      "Omnibus:                       23.441   Durbin-Watson:                   1.212\n",
      "Prob(Omnibus):                  0.000   Jarque-Bera (JB):               43.106\n",
      "Skew:                           1.150   Prob(JB):                     4.36e-10\n",
      "Kurtosis:                       6.014   Cond. No.                     2.23e+04\n",
      "==============================================================================\n",
      "\n",
      "Warnings:\n",
      "[1] Standard Errors assume that the covariance matrix of the errors is correctly specified.\n",
      "[2] The condition number is large, 2.23e+04. This might indicate that there are\n",
      "strong multicollinearity or other numerical problems.\n"
     ]
    }
   ],
   "source": [
    "ols_5 = smf.ols(formula='RAV4Sales ~ Jan + Feb + CPIAll + CPIEnergy', data = Rav4_train_mf2)\n",
    "model_5 = ols_5.fit()\n",
    "print(model_5.summary())"
   ]
  },
  {
   "cell_type": "code",
   "execution_count": 22,
   "metadata": {},
   "outputs": [
    {
     "data": {
      "text/plain": [
       "Jan          1.048590\n",
       "Feb          1.029488\n",
       "CPIAll       1.770659\n",
       "CPIEnergy    1.727375\n",
       "dtype: float64"
      ]
     },
     "execution_count": 22,
     "metadata": {},
     "output_type": "execute_result"
    }
   ],
   "source": [
    "cols_5 = ['Jan', 'Feb', 'CPIAll', 'CPIEnergy']\n",
    "VIF(Rav4_train_mf2, cols_5)"
   ]
  },
  {
   "cell_type": "code",
   "execution_count": 23,
   "metadata": {},
   "outputs": [],
   "source": [
    "#b\n",
    "#i) Describe your new model. What is the regression equation? (Do not simply copy andpaste output  from  Python. How  should  one  interpret  the  coefficients  of  each  of  theMonthFactordummy variables?"
   ]
  },
  {
   "cell_type": "markdown",
   "metadata": {},
   "source": [
    "Our new model has a higher r-squared value. It has increased from previous models after including MonthFactor as one of our variable.\n",
    "\n",
    "Our new regression equation:\n",
    "Y = 7.754e+04 + 1.1895(CPIEnergy) - 175.4430(CPIAll) + 228.4423(RAV4Queries) - 3687.3648(Unemployment) - 1879.2594(MonthFactor[T.September]) - 1808.4239(MonthFactor[T.October]) - 1540.1770(MonthFactor[T.November]) + 2010.0694(MonthFactor[T.May]) + 466.8540(MonthFactor[T.March]) - 1426.1733(MonthFactor[T.June]) - 193.7079(MonthFactor[T.July]) - 4543.8071(MonthFactor[T.January]) - 2922.8349(MonthFactor[T.February]) +1885.2249(MonthFactor[T.December]) + 2422.0989(MonthFactor[T.August])\n",
    "\n",
    "The dummy variable on the MonthFactor will be either 0 or 1 and it will be calculated with 0*beta_i or 1*beta_i"
   ]
  },
  {
   "cell_type": "code",
   "execution_count": 24,
   "metadata": {},
   "outputs": [],
   "source": [
    "#ii) What is the training set R^2 for the new model? Which variables are significant?"
   ]
  },
  {
   "cell_type": "markdown",
   "metadata": {},
   "source": [
    "The traiing set R^2 for the new model is now 0.884. Following variables are significant: Unemployment, RAV4Queries, CPIAll, CPIEnergy, MonthFactor"
   ]
  },
  {
   "cell_type": "code",
   "execution_count": 25,
   "metadata": {},
   "outputs": [],
   "source": [
    "#iii) Do you think adding the independent variable MonthFactor improves the quality of themodel?  Why or why not?"
   ]
  },
  {
   "cell_type": "markdown",
   "metadata": {},
   "source": [
    "Yes, adding the independent variable Month Factor has improved the quality of our regression model. The variable seem to help with prediction and contribute to the output of sales."
   ]
  },
  {
   "cell_type": "code",
   "execution_count": 26,
   "metadata": {},
   "outputs": [],
   "source": [
    "#iv) Can you think of a different way that you might use the given data to model seasonality? Do you think your new way would improve on the best model you have constructed sofar? "
   ]
  },
  {
   "cell_type": "markdown",
   "metadata": {},
   "source": [
    "To further improve our model, we could potentially add other features as well or incorporate other dataset and use those variables to build a better model. Such relevant dataset could possibly be a gas prices, number of license issued, or RAV4 inventory."
   ]
  },
  {
   "cell_type": "code",
   "execution_count": 27,
   "metadata": {},
   "outputs": [],
   "source": [
    "#c) Build a final model using a subset of the independent variables used in parts(a)and(b), providing a brief justification for the variables selected.  What is the training set R2and theOSR2(this is theR2of your model on the test set)?  Do you think your model wouldbe useful to Toyota?  Why or why not?"
   ]
  },
  {
   "cell_type": "code",
   "execution_count": 28,
   "metadata": {},
   "outputs": [
    {
     "name": "stdout",
     "output_type": "stream",
     "text": [
      "                            OLS Regression Results                            \n",
      "==============================================================================\n",
      "Dep. Variable:              RAV4Sales   R-squared:                       0.867\n",
      "Model:                            OLS   Adj. R-squared:                  0.837\n",
      "Method:                 Least Squares   F-statistic:                     29.08\n",
      "Date:                Wed, 10 Feb 2021   Prob (F-statistic):           1.26e-20\n",
      "Time:                        21:30:26   Log-Likelihood:                -670.48\n",
      "No. Observations:                  72   AIC:                             1369.\n",
      "Df Residuals:                      58   BIC:                             1401.\n",
      "Df Model:                          13                                         \n",
      "Covariance Type:            nonrobust                                         \n",
      "============================================================================================\n",
      "                               coef    std err          t      P>|t|      [0.025      0.975]\n",
      "--------------------------------------------------------------------------------------------\n",
      "Intercept                -1.618e+05   2.43e+04     -6.654      0.000    -2.1e+05   -1.13e+05\n",
      "MonthFactor[T.August]     2704.9413   1729.421      1.564      0.123    -756.871    6166.753\n",
      "MonthFactor[T.December]    832.6124   1730.309      0.481      0.632   -2630.978    4296.203\n",
      "MonthFactor[T.February]  -2557.8847   1726.416     -1.482      0.144   -6013.682     897.912\n",
      "MonthFactor[T.January]   -4241.3078   1732.289     -2.448      0.017   -7708.861    -773.754\n",
      "MonthFactor[T.July]        337.3161   1725.350      0.196      0.846   -3116.346    3790.978\n",
      "MonthFactor[T.June]      -1034.9571   1724.759     -0.600      0.551   -4487.437    2417.522\n",
      "MonthFactor[T.March]       746.0256   1724.107      0.433      0.667   -2705.150    4197.201\n",
      "MonthFactor[T.May]        1711.0155   1723.869      0.993      0.325   -1739.684    5161.715\n",
      "MonthFactor[T.November]  -2445.9023   1731.224     -1.413      0.163   -5911.324    1019.519\n",
      "MonthFactor[T.October]   -2846.5091   1732.515     -1.643      0.106   -6314.514     621.495\n",
      "MonthFactor[T.September] -2355.8431   1730.562     -1.361      0.179   -5819.940    1108.254\n",
      "CPIAll                     883.2138     90.879      9.719      0.000     701.299    1065.128\n",
      "CPIEnergy                 -102.8119     19.340     -5.316      0.000    -141.525     -64.099\n",
      "==============================================================================\n",
      "Omnibus:                       13.260   Durbin-Watson:                   0.992\n",
      "Prob(Omnibus):                  0.001   Jarque-Bera (JB):               26.847\n",
      "Skew:                           0.547   Prob(JB):                     1.48e-06\n",
      "Kurtosis:                       5.784   Cond. No.                     2.26e+04\n",
      "==============================================================================\n",
      "\n",
      "Warnings:\n",
      "[1] Standard Errors assume that the covariance matrix of the errors is correctly specified.\n",
      "[2] The condition number is large, 2.26e+04. This might indicate that there are\n",
      "strong multicollinearity or other numerical problems.\n"
     ]
    }
   ],
   "source": [
    "ols_final = smf.ols(formula='RAV4Sales ~ MonthFactor + CPIAll + CPIEnergy', data = Rav4_train)\n",
    "model_final = ols_final.fit()\n",
    "print(model_final.summary())"
   ]
  },
  {
   "cell_type": "code",
   "execution_count": 29,
   "metadata": {},
   "outputs": [
    {
     "data": {
      "text/plain": [
       "0.7922709030686684"
      ]
     },
     "execution_count": 29,
     "metadata": {},
     "output_type": "execute_result"
    }
   ],
   "source": [
    "# Compute out-of-sample R-squared using the test set\n",
    "def OSR2(model, df_train, df_test, dependent_var):   \n",
    "    y_test = df_test[dependent_var]\n",
    "    y_pred = model.predict(df_test)\n",
    "    SSE = np.sum((y_test - y_pred)**2)\n",
    "    SST = np.sum((y_test - np.mean(df_train[dependent_var]))**2)    \n",
    "    return 1 - SSE/SST\n",
    "\n",
    "OSR2(model_final, Rav4_train, Rav4_test, 'RAV4Sales')"
   ]
  },
  {
   "cell_type": "markdown",
   "metadata": {},
   "source": [
    "When building a model, we are only using our trainset and thus I thought it was most important to first look at the VIFs and R^2 when choosing independent variables. After doing some modeling above, I have decided to include MonthFactor, Unemployment, RAV4Queries, and CPIEnergy as my variables for my final model. Adding MonthFactor as one of my variable did improve my model after checking the output of VIF. R^2 is 0.884 for our train set and the OSR^2 is 0.769 for our test set. I think my final model would be useful to Toyota because my OSR^2 is 0.768 which is a quite high figure. Since OSR is a trial on real world performance, OSR^2 is a good metric to apply to test data whether our predictive models has out of sample predictability (predictive relationship)."
   ]
  },
  {
   "cell_type": "code",
   "execution_count": 30,
   "metadata": {},
   "outputs": [],
   "source": [
    "#d) Now, build  a  new  regression  model  with  your  additional  chosen  feature  in  addition  to  thefeatures that you selected in part(c).  Does the new feature add any predictive value?  Justifyyour answer based on the results of your analysis."
   ]
  },
  {
   "cell_type": "code",
   "execution_count": 31,
   "metadata": {},
   "outputs": [],
   "source": [
    "#Loading data\n",
    "weekly_gas = pd.read_csv('US Gasoline and Diesel Prices.csv')"
   ]
  },
  {
   "cell_type": "markdown",
   "metadata": {},
   "source": [
    "I will be using column A1 as it represents weekly U.S. All Grades All Formulations Retail Gasoline Prices (Dollars per Gallon)"
   ]
  },
  {
   "cell_type": "code",
   "execution_count": 32,
   "metadata": {},
   "outputs": [],
   "source": [
    "#Parse only the Year from the Date column \n",
    "weekly_gas = weekly_gas.iloc[:,0:2]\n",
    "weekly_gas['Year'] = pd.DatetimeIndex(weekly_gas['Date']).year\n",
    "weekly_gas_1 = weekly_gas.iloc[2:]\n",
    "del weekly_gas_1['Date']"
   ]
  },
  {
   "cell_type": "code",
   "execution_count": 33,
   "metadata": {},
   "outputs": [
    {
     "name": "stderr",
     "output_type": "stream",
     "text": [
      "<ipython-input-33-884fcb5e8af0>:2: UserWarning: Boolean Series key will be reindexed to match DataFrame index.\n",
      "  weekly_gas_train = weekly_gas_1[(weekly_gas['Year'] >= 2011 ) & (weekly_gas_1['Year'] <= 2016)]\n",
      "<ipython-input-33-884fcb5e8af0>:7: SettingWithCopyWarning: \n",
      "A value is trying to be set on a copy of a slice from a DataFrame.\n",
      "Try using .loc[row_indexer,col_indexer] = value instead\n",
      "\n",
      "See the caveats in the documentation: https://pandas.pydata.org/pandas-docs/stable/user_guide/indexing.html#returning-a-view-versus-a-copy\n",
      "  Rav4_train[\"A1\"] = weekly_gas_train[\"A1\"].tolist()\n"
     ]
    }
   ],
   "source": [
    "#Make the constraints to be the same as our Rav4 train which is 2011 through 2016\n",
    "weekly_gas_train = weekly_gas_1[(weekly_gas['Year'] >= 2011 ) & (weekly_gas_1['Year'] <= 2016)]\n",
    "del weekly_gas_train['Year']\n",
    "weekly_gas_train.head()\n",
    "#Randomnly select 72 outputs as our Rav4 train also has 72 outputs\n",
    "weekly_gas_train = weekly_gas_train.sample(72)\n",
    "Rav4_train[\"A1\"] = weekly_gas_train[\"A1\"].tolist()\n",
    "\n",
    "#rename column A1 to Gas Prices\n",
    "Rav4_train= Rav4_train.rename(columns={\"A1\": \"GasPrices\"})"
   ]
  },
  {
   "cell_type": "code",
   "execution_count": 34,
   "metadata": {},
   "outputs": [
    {
     "name": "stdout",
     "output_type": "stream",
     "text": [
      "                            OLS Regression Results                            \n",
      "==============================================================================\n",
      "Dep. Variable:              RAV4Sales   R-squared:                       0.873\n",
      "Model:                            OLS   Adj. R-squared:                  0.842\n",
      "Method:                 Least Squares   F-statistic:                     27.95\n",
      "Date:                Wed, 10 Feb 2021   Prob (F-statistic):           2.00e-20\n",
      "Time:                        21:30:28   Log-Likelihood:                -668.85\n",
      "No. Observations:                  72   AIC:                             1368.\n",
      "Df Residuals:                      57   BIC:                             1402.\n",
      "Df Model:                          14                                         \n",
      "Covariance Type:            nonrobust                                         \n",
      "============================================================================================\n",
      "                               coef    std err          t      P>|t|      [0.025      0.975]\n",
      "--------------------------------------------------------------------------------------------\n",
      "Intercept                -1.689e+05   2.44e+04     -6.930      0.000   -2.18e+05    -1.2e+05\n",
      "MonthFactor[T.August]     2325.7487   1721.348      1.351      0.182   -1121.191    5772.688\n",
      "MonthFactor[T.December]     21.4824   1777.834      0.012      0.990   -3538.570    3581.535\n",
      "MonthFactor[T.February]  -3039.0431   1728.049     -1.759      0.084   -6499.402     421.316\n",
      "MonthFactor[T.January]   -4405.4968   1711.274     -2.574      0.013   -7832.264    -978.729\n",
      "MonthFactor[T.July]       -271.2662   1742.168     -0.156      0.877   -3759.898    3217.366\n",
      "MonthFactor[T.June]      -1651.5228   1742.662     -0.948      0.347   -5141.143    1838.098\n",
      "MonthFactor[T.March]       290.0057   1723.220      0.168      0.867   -3160.683    3740.695\n",
      "MonthFactor[T.May]        1897.4467   1703.852      1.114      0.270   -1514.459    5309.352\n",
      "MonthFactor[T.November]  -2756.1157   1717.877     -1.604      0.114   -6196.105     683.874\n",
      "MonthFactor[T.October]   -3106.5090   1715.986     -1.810      0.076   -6542.711     329.693\n",
      "MonthFactor[T.September] -2618.5329   1714.224     -1.528      0.132   -6051.208     814.142\n",
      "GasPrices                  998.2080    614.223      1.625      0.110    -231.751    2228.167\n",
      "CPIAll                     897.9399     90.077      9.969      0.000     717.564    1078.316\n",
      "CPIEnergy                  -98.8684     19.226     -5.142      0.000    -137.367     -60.369\n",
      "==============================================================================\n",
      "Omnibus:                       10.364   Durbin-Watson:                   0.984\n",
      "Prob(Omnibus):                  0.006   Jarque-Bera (JB):               23.663\n",
      "Skew:                           0.273   Prob(JB):                     7.27e-06\n",
      "Kurtosis:                       5.755   Cond. No.                     2.30e+04\n",
      "==============================================================================\n",
      "\n",
      "Warnings:\n",
      "[1] Standard Errors assume that the covariance matrix of the errors is correctly specified.\n",
      "[2] The condition number is large, 2.3e+04. This might indicate that there are\n",
      "strong multicollinearity or other numerical problems.\n"
     ]
    }
   ],
   "source": [
    "ols_new = smf.ols(formula='RAV4Sales ~ GasPrices + MonthFactor + CPIAll + CPIEnergy', data = Rav4_train)\n",
    "model_new = ols_new.fit()\n",
    "print(model_new.summary())"
   ]
  },
  {
   "cell_type": "code",
   "execution_count": 35,
   "metadata": {},
   "outputs": [
    {
     "data": {
      "text/plain": [
       "GasPrices    1.012971\n",
       "CPIAll       1.687050\n",
       "CPIEnergy    1.699803\n",
       "dtype: float64"
      ]
     },
     "execution_count": 35,
     "metadata": {},
     "output_type": "execute_result"
    }
   ],
   "source": [
    "cols_final = ['GasPrices', 'CPIAll', 'CPIEnergy']\n",
    "VIF(Rav4_train, cols_final)"
   ]
  },
  {
   "cell_type": "markdown",
   "metadata": {},
   "source": [
    "The GasPrices column, which represents weekly U.S. All Grades All Formulation Retail Gasoline Factors seem to add some additional predictive value to the new model. I have added GasPrices column in addition to the features that I have selected from part c. The R^2 is 0.860 and the VIF values all result in 1. Based on final model analysis, I can conclude that GasPrices variable seem to add some influence. "
   ]
  },
  {
   "cell_type": "code",
   "execution_count": null,
   "metadata": {},
   "outputs": [],
   "source": []
  }
 ],
 "metadata": {
  "history": [
   {
    "code": "import numpy as np\nimport pandas as pd",
    "id": "9abf17305d024fbe842b8c4ab0469465",
    "idx": 0,
    "time": "2021-02-01T08:19:02.725Z",
    "type": "execution"
   },
   {
    "id": "9abf17305d024fbe842b8c4ab0469465",
    "time": "2021-02-01T08:19:03.246Z",
    "type": "completion"
   },
   {
    "code": "Rav4 = pd.read_csv('RAV4-142-Spring2021.csv')",
    "id": "84c7cc78a6054e9c882faf2850cf3a56",
    "idx": 1,
    "time": "2021-02-01T08:19:37.420Z",
    "type": "execution"
   },
   {
    "id": "84c7cc78a6054e9c882faf2850cf3a56",
    "time": "2021-02-01T08:19:37.599Z",
    "type": "completion"
   },
   {
    "code": "Rav4 = pd.read_csv('RAV4-142-Spring2021.csv')\nRav4.info()",
    "id": "84c7cc78a6054e9c882faf2850cf3a56",
    "idx": 1,
    "time": "2021-02-01T08:19:46.145Z",
    "type": "execution"
   },
   {
    "id": "84c7cc78a6054e9c882faf2850cf3a56",
    "time": "2021-02-01T08:19:46.346Z",
    "type": "completion"
   },
   {
    "code": "#Loading data\nRav4 = pd.read_csv('RAV4-142-Spring2021.csv')\nRav4.info()",
    "id": "84c7cc78a6054e9c882faf2850cf3a56",
    "idx": 1,
    "time": "2021-02-01T08:20:03.305Z",
    "type": "execution"
   },
   {
    "code": "import numpy as np\nimport pandas as pd",
    "id": "3fcf03a5d4e0458fae8f5b63074e585f",
    "idx": 0,
    "time": "2021-02-01T12:51:44.080Z",
    "type": "execution"
   },
   {
    "id": "3fcf03a5d4e0458fae8f5b63074e585f",
    "time": "2021-02-01T12:51:44.560Z",
    "type": "completion"
   },
   {
    "code": "#Loading data\nRav4 = pd.read_csv('RAV4-142-Spring2021.csv')\nRav4.info()",
    "id": "87d7e53c4d7644d887226377cea24e15",
    "idx": 1,
    "time": "2021-02-01T12:51:44.683Z",
    "type": "execution"
   },
   {
    "id": "87d7e53c4d7644d887226377cea24e15",
    "time": "2021-02-01T12:51:44.864Z",
    "type": "completion"
   },
   {
    "code": "#Problem 2\n# 2a\nStart  by  splitting  the  data  into  a  training  set  and  testing  set.   \nThe  trainingset should contain all observations for 2011 through 2016.  \nThe testing set should have allobservations for 2017 through 2020",
    "id": "2fbd11ee45cc48a98172372589b3ee55",
    "idx": 2,
    "time": "2021-02-01T12:53:24.777Z",
    "type": "execution"
   },
   {
    "id": "2fbd11ee45cc48a98172372589b3ee55",
    "time": "2021-02-01T12:53:24.961Z",
    "type": "completion"
   },
   {
    "code": "###Problem 2\n# 2a\nStart  by  splitting  the  data  into  a  training  set  and  testing  set.   \nThe  trainingset should contain all observations for 2011 through 2016.  \nThe testing set should have allobservations for 2017 through 2020",
    "id": "2fbd11ee45cc48a98172372589b3ee55",
    "idx": 2,
    "time": "2021-02-01T12:53:56.332Z",
    "type": "execution"
   },
   {
    "id": "2fbd11ee45cc48a98172372589b3ee55",
    "time": "2021-02-01T12:53:56.504Z",
    "type": "completion"
   },
   {
    "code": "# Problem 2\n# 2a\n/Start  by  splitting  the  data  into  a  training  set  and  testing  set.   \nThe  trainingset should contain all observations for 2011 through 2016.  \nThe testing set should have allobservations for 2017 through 2020/",
    "id": "2fbd11ee45cc48a98172372589b3ee55",
    "idx": 2,
    "time": "2021-02-01T12:54:26.719Z",
    "type": "execution"
   },
   {
    "id": "2fbd11ee45cc48a98172372589b3ee55",
    "time": "2021-02-01T12:54:26.892Z",
    "type": "completion"
   },
   {
    "code": "# Problem 2\n# 2a\n#Start  by  splitting  the  data  into  a  training  set  and  testing  set. \n#The trainingset should contain all observations for 2011 through 2016.  \n#The testing set should have allobservations for 2017 through 2020.",
    "id": "2fbd11ee45cc48a98172372589b3ee55",
    "idx": 2,
    "time": "2021-02-01T12:54:53.547Z",
    "type": "execution"
   },
   {
    "id": "2fbd11ee45cc48a98172372589b3ee55",
    "time": "2021-02-01T12:54:53.720Z",
    "type": "completion"
   },
   {
    "code": "Rav4.head()",
    "id": "8167f56e5e764fe4a8f451783fbd572a",
    "idx": 2,
    "time": "2021-02-01T12:58:20.154Z",
    "type": "execution"
   },
   {
    "id": "8167f56e5e764fe4a8f451783fbd572a",
    "time": "2021-02-01T12:58:20.365Z",
    "type": "completion"
   },
   {
    "code": "# Problem 2\n# a) \n#Start  by  splitting  the  data  into  a  training  set  and  testing  set. \n#The trainingset should contain all observations for 2011 through 2016.  \n#The testing set should have allobservations for 2017 through 2020.\n\nRav4_train = Rav4[(Rav4['Year'] == 2011) & (Rav4['Year'] == 2012) & (Rav4['Year'] == 2013) & (Rav4['Year'] == 2014) & (Rav4['Year'] == 2015) & (Rav4['Year'] == 2016)]\nRav4_test = Rav4[(Rav4['Year'] == 2017) & (Rav4['Year'] == 2018) & (Rav4['Year'] == 2019) & (Rav4['Year'] == 2020)]",
    "id": "2fbd11ee45cc48a98172372589b3ee55",
    "idx": 3,
    "time": "2021-02-01T13:03:35.620Z",
    "type": "execution"
   },
   {
    "id": "2fbd11ee45cc48a98172372589b3ee55",
    "time": "2021-02-01T13:03:35.802Z",
    "type": "completion"
   },
   {
    "code": "# Problem 2\n# a) \n#Start  by  splitting  the  data  into  a  training  set  and  testing  set. \n#The trainingset should contain all observations for 2011 through 2016.  \n#The testing set should have allobservations for 2017 through 2020.\n\nRav4_train = Rav4[(Rav4['Year'] == 2011) & (Rav4['Year'] == 2012) & (Rav4['Year'] == 2013) & (Rav4['Year'] == 2014) & (Rav4['Year'] == 2015) & (Rav4['Year'] == 2016)]\nRav4_test = Rav4[(Rav4['Year'] == 2017) & (Rav4['Year'] == 2018) & (Rav4['Year'] == 2019) & (Rav4['Year'] == 2020)]\nlen(Rav4_train)",
    "id": "2fbd11ee45cc48a98172372589b3ee55",
    "idx": 3,
    "time": "2021-02-01T13:03:42.809Z",
    "type": "execution"
   },
   {
    "id": "2fbd11ee45cc48a98172372589b3ee55",
    "time": "2021-02-01T13:03:42.996Z",
    "type": "completion"
   },
   {
    "code": "# Problem 2\n# a) \n#Start  by  splitting  the  data  into  a  training  set  and  testing  set. \n#The trainingset should contain all observations for 2011 through 2016.  \n#The testing set should have allobservations for 2017 through 2020.\n\n#Rav4_train = Rav4[(Rav4['Year'] == 2011) & (Rav4['Year'] == 2012) & (Rav4['Year'] == 2013) & (Rav4['Year'] == 2014) & (Rav4['Year'] == 2015) & (Rav4['Year'] == 2016)]\nRav4_test = Rav4[(Rav4['Year'] == 2017) & (Rav4['Year'] == 2018) & (Rav4['Year'] == 2019) & (Rav4['Year'] == 2020)]\n\nRav4_train = Rav4[(Rav4['Year'] == 2011)]\n\nlen(Rav4_train)",
    "id": "2fbd11ee45cc48a98172372589b3ee55",
    "idx": 3,
    "time": "2021-02-01T13:04:52.444Z",
    "type": "execution"
   },
   {
    "id": "2fbd11ee45cc48a98172372589b3ee55",
    "time": "2021-02-01T13:04:52.624Z",
    "type": "completion"
   },
   {
    "code": "# Problem 2\n# a) \n#Start  by  splitting  the  data  into  a  training  set  and  testing  set. \n#The trainingset should contain all observations for 2011 through 2016.  \n#The testing set should have allobservations for 2017 through 2020.\n\nRav4_train = Rav4[(Rav4['Year'] >= 2010) & (Rav4['Year'] <= 2017)]\nRav4_test = Rav4[(Rav4['Year'] == 2017) & (Rav4['Year'] == 2018) & (Rav4['Year'] == 2019) & (Rav4['Year'] == 2020)]\n\n\n\nlen(Rav4_train)",
    "id": "2fbd11ee45cc48a98172372589b3ee55",
    "idx": 3,
    "time": "2021-02-01T13:10:06.355Z",
    "type": "execution"
   },
   {
    "id": "2fbd11ee45cc48a98172372589b3ee55",
    "time": "2021-02-01T13:10:06.527Z",
    "type": "completion"
   },
   {
    "code": "# Problem 2\n# a) \n#Start  by  splitting  the  data  into  a  training  set  and  testing  set. \n#The trainingset should contain all observations for 2011 through 2016.  \n#The testing set should have allobservations for 2017 through 2020.\n\nRav4_train = Rav4[(Rav4['Year'] >= 2010) & (Rav4['Year'] <= 2017)]\nRav4_test = Rav4[(Rav4['Year'] >= 2018) & (Rav4['Year'] <= 2021)]\n\nlen(Rav4_train)\nlen(Rav4_test)",
    "id": "2fbd11ee45cc48a98172372589b3ee55",
    "idx": 3,
    "time": "2021-02-01T13:10:35.080Z",
    "type": "execution"
   },
   {
    "id": "2fbd11ee45cc48a98172372589b3ee55",
    "time": "2021-02-01T13:10:35.259Z",
    "type": "completion"
   },
   {
    "code": "#i) \n#What  is  the  linear  regression  equation  produced  by  your  model,  and  how  should  one interpret the coefficients for the independent variables?  \n#Consider interpretability issues when  writing  down  the  equation  (e.g.,  do  not  just  copy  and  paste  the  output  from Python)\nimport statsmodels.api as sm",
    "id": "2a3da132368f4426ab727ecd7b11c308",
    "idx": 4,
    "time": "2021-02-01T13:13:56.768Z",
    "type": "execution"
   },
   {
    "id": "2a3da132368f4426ab727ecd7b11c308",
    "time": "2021-02-01T13:13:57.497Z",
    "type": "completion"
   },
   {
    "code": "import numpy as np\nimport pandas as pd",
    "id": "9508b0bbbe154dd588995e354a9efb19",
    "idx": 0,
    "time": "2021-02-02T08:09:30.440Z",
    "type": "execution"
   },
   {
    "id": "9508b0bbbe154dd588995e354a9efb19",
    "time": "2021-02-02T08:09:30.922Z",
    "type": "completion"
   },
   {
    "code": "#Loading data\nRav4 = pd.read_csv('RAV4-142-Spring2021.csv')\nRav4.info()",
    "id": "24bb634dd8204e07b6b26ff0ead7c943",
    "idx": 1,
    "time": "2021-02-02T08:09:32.601Z",
    "type": "execution"
   },
   {
    "id": "24bb634dd8204e07b6b26ff0ead7c943",
    "time": "2021-02-02T08:09:32.794Z",
    "type": "completion"
   },
   {
    "code": "Rav4.head()",
    "id": "a772396412474f5d842a230993bd097a",
    "idx": 2,
    "time": "2021-02-02T08:09:33.364Z",
    "type": "execution"
   },
   {
    "id": "a772396412474f5d842a230993bd097a",
    "time": "2021-02-02T08:09:33.565Z",
    "type": "completion"
   },
   {
    "code": "# Problem 2\n# a) \n#Start  by  splitting  the  data  into  a  training  set  and  testing  set. \n#The trainingset should contain all observations for 2011 through 2016.  \n#The testing set should have allobservations for 2017 through 2020.\n\nRav4_train = Rav4[(Rav4['Year'] >= 2010) & (Rav4['Year'] <= 2017)]\nRav4_test = Rav4[(Rav4['Year'] >= 2018) & (Rav4['Year'] <= 2021)]\n\nlen(Rav4_train)\nlen(Rav4_test)",
    "id": "a9746c191fe54d6a8448fc3608f22999",
    "idx": 3,
    "time": "2021-02-02T08:09:35.153Z",
    "type": "execution"
   },
   {
    "id": "a9746c191fe54d6a8448fc3608f22999",
    "time": "2021-02-02T08:09:35.332Z",
    "type": "completion"
   },
   {
    "code": "# Problem 2\n# a) \n#Start  by  splitting  the  data  into  a  training  set  and  testing  set. \n#The trainingset should contain all observations for 2011 through 2016.  \n#The testing set should have allobservations for 2017 through 2020.\n\nRav4_train = Rav4[(Rav4['Year'] >= 2010) & (Rav4['Year'] <= 2017)]\nRav4_test = Rav4[(Rav4['Year'] >= 2018) & (Rav4['Year'] <= 2021)]\n\n#len(Rav4_train)\n#len(Rav4_test)",
    "id": "a9746c191fe54d6a8448fc3608f22999",
    "idx": 3,
    "time": "2021-02-02T08:09:39.564Z",
    "type": "execution"
   },
   {
    "id": "a9746c191fe54d6a8448fc3608f22999",
    "time": "2021-02-02T08:09:39.742Z",
    "type": "completion"
   },
   {
    "code": "# Problem 2\n# a) \n#Start  by  splitting  the  data  into  a  training  set  and  testing  set. \n#The trainingset should contain all observations for 2011 through 2016.  \n#The testing set should have allobservations for 2017 through 2020.\n\nRav4_train = Rav4[(Rav4['Year'] >= 2010) & (Rav4['Year'] <= 2017)]\nRav4_test = Rav4[(Rav4['Year'] >= 2018) & (Rav4['Year'] <= 2021)]\n\nhead(Rav4_train)\n#len(Rav4_train)\n#len(Rav4_test)",
    "id": "a9746c191fe54d6a8448fc3608f22999",
    "idx": 3,
    "time": "2021-02-02T08:19:58.977Z",
    "type": "execution"
   },
   {
    "id": "a9746c191fe54d6a8448fc3608f22999",
    "time": "2021-02-02T08:19:59.243Z",
    "type": "completion"
   },
   {
    "code": "Rav4.head()",
    "id": "a772396412474f5d842a230993bd097a",
    "idx": 2,
    "time": "2021-02-02T08:20:03.414Z",
    "type": "execution"
   },
   {
    "id": "a772396412474f5d842a230993bd097a",
    "time": "2021-02-02T08:20:03.598Z",
    "type": "completion"
   },
   {
    "code": "# Problem 2\n# a) \n#Start  by  splitting  the  data  into  a  training  set  and  testing  set. \n#The trainingset should contain all observations for 2011 through 2016.  \n#The testing set should have allobservations for 2017 through 2020.\n\nRav4_train = Rav4[(Rav4['Year'] >= 2010) & (Rav4['Year'] <= 2017)]\nRav4_test = Rav4[(Rav4['Year'] >= 2018) & (Rav4['Year'] <= 2021)]\n\nhead(Rav4_train)\n#len(Rav4_train)\n#len(Rav4_test)",
    "id": "a9746c191fe54d6a8448fc3608f22999",
    "idx": 3,
    "time": "2021-02-02T08:20:04.684Z",
    "type": "execution"
   },
   {
    "id": "a9746c191fe54d6a8448fc3608f22999",
    "time": "2021-02-02T08:20:04.869Z",
    "type": "completion"
   },
   {
    "code": "# Problem 2\n# a) \n#Start  by  splitting  the  data  into  a  training  set  and  testing  set. \n#The trainingset should contain all observations for 2011 through 2016.  \n#The testing set should have allobservations for 2017 through 2020.\n\nRav4_train = Rav4[(Rav4['Year'] >= 2010) & (Rav4['Year'] <= 2017)]\nRav4_test = Rav4[(Rav4['Year'] >= 2018) & (Rav4['Year'] <= 2021)]\n\nhead(Rav4_train)\n#len(Rav4_train)\n#len(Rav4_test)",
    "id": "a9746c191fe54d6a8448fc3608f22999",
    "idx": 3,
    "time": "2021-02-02T08:20:22.342Z",
    "type": "execution"
   },
   {
    "id": "a9746c191fe54d6a8448fc3608f22999",
    "time": "2021-02-02T08:20:22.525Z",
    "type": "completion"
   },
   {
    "code": "# Problem 2\n# a) \n#Start  by  splitting  the  data  into  a  training  set  and  testing  set. \n#The trainingset should contain all observations for 2011 through 2016.  \n#The testing set should have allobservations for 2017 through 2020.\n\nRav4_train = Rav4[(Rav4['Year'] >= 2010) & (Rav4['Year'] <= 2017)]\nRav4_test = Rav4[(Rav4['Year'] >= 2018) & (Rav4['Year'] <= 2021)]\n\nRav4_train.head()\n#len(Rav4_train)\n#len(Rav4_test)",
    "id": "a9746c191fe54d6a8448fc3608f22999",
    "idx": 3,
    "time": "2021-02-02T08:20:37.622Z",
    "type": "execution"
   },
   {
    "id": "a9746c191fe54d6a8448fc3608f22999",
    "time": "2021-02-02T08:20:37.818Z",
    "type": "completion"
   },
   {
    "code": "#i) \n#What  is  the  linear  regression  equation  produced  by  your  model,  and  how  should  one interpret the coefficients for the independent variables?  \n#Consider interpretability issues when  writing  down  the  equation  (e.g.,  do  not  just  copy  and  paste  the  output  from Python)\nimport statsmodels.api as sm\n\n#choose the features to be used\ncols = ['Unemployment', 'RAV4Queries', 'CPIAll', 'CPIEnergy']\nX_train = Rav4_train(cols)\nY_train = Rav4_train['RAV4Sales'] #variable that we want to predict\n\n# We must add an intercept as the standard model doesn't automatically fit one\nX_train = sm.add_constant(X_train) \n\n# Fit the data to the model\n#ols , ordinary least square\nmodel_1 = sm.OLS(Y_train, X_train).fit()\nprint(model_1.summary())",
    "id": "0761a743444a42b78aefab50a5730630",
    "idx": 4,
    "time": "2021-02-02T08:57:10.917Z",
    "type": "execution"
   },
   {
    "id": "0761a743444a42b78aefab50a5730630",
    "time": "2021-02-02T08:57:11.817Z",
    "type": "completion"
   },
   {
    "code": "#i) \n#What  is  the  linear  regression  equation  produced  by  your  model,  and  how  should  one interpret the coefficients for the independent variables?  \n#Consider interpretability issues when  writing  down  the  equation  (e.g.,  do  not  just  copy  and  paste  the  output  from Python)\nimport statsmodels.api as sm\n\n#choose the features to be used\ncols = ['Unemployment', 'RAV4Queries', 'CPIAll', 'CPIEnergy']\nX_train = Rav4_train(cols)\nY_train = Rav4_train['RAV4Sales'] #variable that we want to predict\n\n# We must add an intercept as the standard model doesn't automatically fit one\nX_train = sm.add_constant(X_train) \n\n# Fit the data to the model\n#ols , ordinary least square\nmodel_1 = sm.OLS(Y_train, X_train).fit()\nprint(model_1.summary())",
    "id": "0761a743444a42b78aefab50a5730630",
    "idx": 4,
    "time": "2021-02-02T08:59:01.594Z",
    "type": "execution"
   },
   {
    "id": "0761a743444a42b78aefab50a5730630",
    "time": "2021-02-02T08:59:01.806Z",
    "type": "completion"
   },
   {
    "code": "#i) \n#What  is  the  linear  regression  equation  produced  by  your  model,  and  how  should  one interpret the coefficients for the independent variables?  \n#Consider interpretability issues when  writing  down  the  equation  (e.g.,  do  not  just  copy  and  paste  the  output  from Python)\nimport statsmodels.api as sm\n\n#choose the features to be used\ncols = ['Unemployment', 'RAV4Queries', 'CPIAll', 'CPIEnergy']\nX_train = Rav4_train[cols]\nY_train = Rav4_train['RAV4Sales'] #variable that we want to predict\n\n# We must add an intercept as the standard model doesn't automatically fit one\nX_train = sm.add_constant(X_train) \n\n# Fit the data to the model\n#ols , ordinary least square\nmodel_1 = sm.OLS(Y_train, X_train).fit()\nprint(model_1.summary())",
    "id": "0761a743444a42b78aefab50a5730630",
    "idx": 4,
    "time": "2021-02-02T08:59:15.608Z",
    "type": "execution"
   },
   {
    "id": "0761a743444a42b78aefab50a5730630",
    "time": "2021-02-02T08:59:15.838Z",
    "type": "completion"
   },
   {
    "code": "#ii) How did you select the variables to include in your linear regression model?\n\nfrom statsmodels.stats.outliers_influence import variance_inflation_factor\n\ndef VIF(df, columns):\n    values = sm.add_constant(df[columns]).values\n    num_columns = len(columns)+1\n    vif = [variance_inflation_factor(values, i) for i in range(num_columns)]\n    return pd.Series(vif[1:], index=columns)\n\ncols = ['Unemployment', 'RAV4Queries', 'CPIAll', 'CPIEnergy']\nVIF(Rav4_train, cols)",
    "id": "8d721de35ca140b991ffc8f88c7fa864",
    "idx": 5,
    "time": "2021-02-02T09:04:52.275Z",
    "type": "execution"
   },
   {
    "id": "8d721de35ca140b991ffc8f88c7fa864",
    "time": "2021-02-02T09:04:52.460Z",
    "type": "completion"
   },
   {
    "code": "After checking which features have the highest VIF, I decided to remove Unemployment which has the highest VIF\nto produce a better model",
    "id": "a3c7b7153eb94ec382ff7dae2993ebc3",
    "idx": 6,
    "time": "2021-02-02T09:09:58.479Z",
    "type": "execution"
   },
   {
    "id": "a3c7b7153eb94ec382ff7dae2993ebc3",
    "time": "2021-02-02T09:09:58.674Z",
    "type": "completion"
   },
   {
    "code": "//After checking which features have the highest VIF, I decided to remove Unemployment which has the highest VIF\nto produce a better model//",
    "id": "a3c7b7153eb94ec382ff7dae2993ebc3",
    "idx": 6,
    "time": "2021-02-02T09:10:29.951Z",
    "type": "execution"
   },
   {
    "id": "a3c7b7153eb94ec382ff7dae2993ebc3",
    "time": "2021-02-02T09:10:30.133Z",
    "type": "completion"
   },
   {
    "code": "#choose the features to be used\ncols = ['RAV4Queries', 'CPIAll', 'CPIEnergy']\nX_train = Rav4_train[cols]\nY_train = Rav4_train['RAV4Sales'] #variable that we want to predict\n\n# We must add an intercept as the standard model doesn't automatically fit one\nX_train = sm.add_constant(X_train) \n\n# Fit the data to the model\n#ols , ordinary least square\nmodel_1 = sm.OLS(Y_train, X_train).fit()\nprint(model_1.summary())",
    "id": "a3f7f5e1f8344b5397209aa9a3ba18f8",
    "idx": 7,
    "time": "2021-02-02T09:12:32.919Z",
    "type": "execution"
   },
   {
    "id": "a3f7f5e1f8344b5397209aa9a3ba18f8",
    "time": "2021-02-02T09:12:33.114Z",
    "type": "completion"
   },
   {
    "code": "#choose the features to be used\ncols = ['RAV4Queries', 'CPIAll', 'CPIEnergy']\nX_train = Rav4_train[cols]\nY_train = Rav4_train['RAV4Sales'] #variable that we want to predict\n\n# We must add an intercept as the standard model doesn't automatically fit one\nX_train = sm.add_constant(X_train) \n\n# Fit the data to the model\n#ols , ordinary least square\nmodel_2 = sm.OLS(Y_train, X_train).fit()\nprint(model_2.summary())",
    "id": "a3f7f5e1f8344b5397209aa9a3ba18f8",
    "idx": 7,
    "time": "2021-02-02T09:12:57.143Z",
    "type": "execution"
   },
   {
    "id": "a3f7f5e1f8344b5397209aa9a3ba18f8",
    "time": "2021-02-02T09:12:57.334Z",
    "type": "completion"
   },
   {
    "code": "#i) \n#What  is  the  linear  regression  equation  produced  by  your  model,  and  how  should  one interpret the coefficients for the independent variables?  \n#Consider interpretability issues when  writing  down  the  equation  (e.g.,  do  not  just  copy  and  paste  the  output  from Python)\nimport statsmodels.api as sm\n\n#choose the features to be used\ncols_1 = ['Unemployment', 'RAV4Queries', 'CPIAll', 'CPIEnergy']\nX_train = Rav4_train[cols_1]\nY_train = Rav4_train['RAV4Sales'] #variable that we want to predict\n\n# We must add an intercept as the standard model doesn't automatically fit one\nX_train = sm.add_constant(X_train) \n\n# Fit the data to the model\n#ols , ordinary least square\nmodel_1 = sm.OLS(Y_train, X_train).fit()\nprint(model_1.summary())",
    "id": "0761a743444a42b78aefab50a5730630",
    "idx": 4,
    "time": "2021-02-02T09:14:23.079Z",
    "type": "execution"
   },
   {
    "id": "0761a743444a42b78aefab50a5730630",
    "time": "2021-02-02T09:14:23.299Z",
    "type": "completion"
   },
   {
    "code": "#ii) How did you select the variables to include in your linear regression model?\n\nfrom statsmodels.stats.outliers_influence import variance_inflation_factor\n\ndef VIF(df, columns):\n    values = sm.add_constant(df[columns]).values\n    num_columns = len(columns)+1\n    vif = [variance_inflation_factor(values, i) for i in range(num_columns)]\n    return pd.Series(vif[1:], index=columns)\n\ncols_1 = ['Unemployment', 'RAV4Queries', 'CPIAll', 'CPIEnergy']\nVIF(Rav4_train, cols_1)",
    "id": "8d721de35ca140b991ffc8f88c7fa864",
    "idx": 5,
    "time": "2021-02-02T09:14:39.545Z",
    "type": "execution"
   },
   {
    "id": "8d721de35ca140b991ffc8f88c7fa864",
    "time": "2021-02-02T09:14:39.753Z",
    "type": "completion"
   },
   {
    "code": "#choose the features to be used\ncols_2 = ['RAV4Queries', 'CPIAll', 'CPIEnergy']\nX_train = Rav4_train[cols_2]\nY_train = Rav4_train['RAV4Sales'] #variable that we want to predict\n\n# We must add an intercept as the standard model doesn't automatically fit one\nX_train = sm.add_constant(X_train) \n\n# Fit the data to the model\n#ols , ordinary least square\nmodel_2 = sm.OLS(Y_train, X_train).fit()\nprint(model_2.summary())",
    "id": "a3f7f5e1f8344b5397209aa9a3ba18f8",
    "idx": 7,
    "time": "2021-02-02T09:14:51.935Z",
    "type": "execution"
   },
   {
    "id": "a3f7f5e1f8344b5397209aa9a3ba18f8",
    "time": "2021-02-02T09:14:52.130Z",
    "type": "completion"
   },
   {
    "code": "VIF(Rav4_train, cols_2)",
    "id": "4df7ead65d7a418bb61549c7fa8558ee",
    "idx": 8,
    "time": "2021-02-02T09:15:06.014Z",
    "type": "execution"
   },
   {
    "id": "4df7ead65d7a418bb61549c7fa8558ee",
    "time": "2021-02-02T09:15:06.199Z",
    "type": "completion"
   },
   {
    "code": "# Problem 2\n# a) \n#Start  by  splitting  the  data  into  a  training  set  and  testing  set. \n#The trainingset should contain all observations for 2011 through 2016.  \n#The testing set should have allobservations for 2017 through 2020.\n\nRav4_train = Rav4[(Rav4['Year'] >= 2010) & (Rav4['Year'] <= 2017)]\nRav4_test = Rav4[(Rav4['Year'] >= 2018) & (Rav4['Year'] <= 2021)]\n\nRav4_train.head()",
    "id": "a9746c191fe54d6a8448fc3608f22999",
    "idx": 3,
    "time": "2021-02-02T12:23:55.506Z",
    "type": "execution"
   },
   {
    "id": "a9746c191fe54d6a8448fc3608f22999",
    "time": "2021-02-02T12:23:55.725Z",
    "type": "completion"
   },
   {
    "code": "#i) \n#What  is  the  linear  regression  equation  produced  by  your  model,  and  how  should  one interpret the coefficients for the independent variables?  \n#Consider interpretability issues when  writing  down  the  equation  (e.g.,  do  not  just  copy  and  paste  the  output  from Python)\nimport statsmodels.api as sm\n\n#choose the features to be used\ncols_1 = ['Unemployment', 'RAV4Queries', 'CPIAll', 'CPIEnergy']\nX_train = Rav4_train[cols_1]\nY_train = Rav4_train['RAV4Sales'] #variable that we want to predict\n\n# We must add an intercept as the standard model doesn't automatically fit one\nX_train = sm.add_constant(X_train) \n\n# Fit the data to the model\n#ols , ordinary least square\nmodel_1 = sm.OLS(Y_train, X_train).fit()\nprint(model_1.summary())",
    "id": "0761a743444a42b78aefab50a5730630",
    "idx": 4,
    "time": "2021-02-02T12:23:56.398Z",
    "type": "execution"
   },
   {
    "id": "0761a743444a42b78aefab50a5730630",
    "time": "2021-02-02T12:23:56.608Z",
    "type": "completion"
   },
   {
    "code": "#ii) How did you select the variables to include in your linear regression model?\n\nfrom statsmodels.stats.outliers_influence import variance_inflation_factor\n\ndef VIF(df, columns):\n    values = sm.add_constant(df[columns]).values\n    num_columns = len(columns)+1\n    vif = [variance_inflation_factor(values, i) for i in range(num_columns)]\n    return pd.Series(vif[1:], index=columns)\n\ncols_1 = ['Unemployment', 'RAV4Queries', 'CPIAll', 'CPIEnergy']\nVIF(Rav4_train, cols_1)",
    "id": "8d721de35ca140b991ffc8f88c7fa864",
    "idx": 5,
    "time": "2021-02-02T12:24:13.052Z",
    "type": "execution"
   },
   {
    "id": "8d721de35ca140b991ffc8f88c7fa864",
    "time": "2021-02-02T12:24:13.246Z",
    "type": "completion"
   },
   {
    "code": "#choose the features to be used\ncols_2 = ['RAV4Queries', 'CPIAll', 'CPIEnergy']\nX_train = Rav4_train[cols_2]\nY_train = Rav4_train['RAV4Sales'] #variable that we want to predict\n\n# We must add an intercept as the standard model doesn't automatically fit one\nX_train = sm.add_constant(X_train) \n\n# Fit the data to the model\n#ols , ordinary least square\nmodel_2 = sm.OLS(Y_train, X_train).fit()\nprint(model_2.summary())",
    "id": "a3f7f5e1f8344b5397209aa9a3ba18f8",
    "idx": 7,
    "time": "2021-02-02T12:24:23.772Z",
    "type": "execution"
   },
   {
    "id": "a3f7f5e1f8344b5397209aa9a3ba18f8",
    "time": "2021-02-02T12:24:23.966Z",
    "type": "completion"
   },
   {
    "code": "#i) \n#What  is  the  linear  regression  equation  produced  by  your  model,  and  how  should  one interpret the coefficients for the independent variables?  \n#Consider interpretability issues when  writing  down  the  equation  (e.g.,  do  not  just  copy  and  paste  the  output  from Python)\nimport statsmodels.api as sm\n\n#choose the features to be used\n\nols = smf.ols(formula='Unemployment ~ RAV4Queries + CPIAll + CPIEnergy ', data = Rav4_train)\nmodel1 =ols.fit()\nprint(model1.summary())\n\n\n#cols_1 = ['Unemployment', 'RAV4Queries', 'CPIAll', 'CPIEnergy']\n#X_train = Rav4_train[cols_1]\n#Y_train = Rav4_train['RAV4Sales'] #variable that we want to predict\n\n# We must add an intercept as the standard model doesn't automatically fit one\n#X_train = sm.add_constant(X_train) \n\n# Fit the data to the model\n#ols , ordinary least square\n#model_1 = sm.OLS(Y_train, X_train).fit()\n#print(model_1.summary())",
    "id": "0761a743444a42b78aefab50a5730630",
    "idx": 4,
    "time": "2021-02-02T13:22:02.648Z",
    "type": "execution"
   },
   {
    "id": "0761a743444a42b78aefab50a5730630",
    "time": "2021-02-02T13:22:02.863Z",
    "type": "completion"
   },
   {
    "code": "#i) \n#What  is  the  linear  regression  equation  produced  by  your  model,  and  how  should  one interpret the coefficients for the independent variables?  \n#Consider interpretability issues when  writing  down  the  equation  (e.g.,  do  not  just  copy  and  paste  the  output  from Python)\nimport statsmodels.api as smf\n\n#choose the features to be used\n\nols = smf.ols(formula='Unemployment ~ RAV4Queries + CPIAll + CPIEnergy ', data = Rav4_train)\nmodel1 =ols.fit()\nprint(model1.summary())\n\n\n#cols_1 = ['Unemployment', 'RAV4Queries', 'CPIAll', 'CPIEnergy']\n#X_train = Rav4_train[cols_1]\n#Y_train = Rav4_train['RAV4Sales'] #variable that we want to predict\n\n# We must add an intercept as the standard model doesn't automatically fit one\n#X_train = sm.add_constant(X_train) \n\n# Fit the data to the model\n#ols , ordinary least square\n#model_1 = sm.OLS(Y_train, X_train).fit()\n#print(model_1.summary())",
    "id": "0761a743444a42b78aefab50a5730630",
    "idx": 4,
    "time": "2021-02-02T13:22:25.320Z",
    "type": "execution"
   },
   {
    "id": "0761a743444a42b78aefab50a5730630",
    "time": "2021-02-02T13:22:25.504Z",
    "type": "completion"
   },
   {
    "code": "#i) \n#What  is  the  linear  regression  equation  produced  by  your  model,  and  how  should  one interpret the coefficients for the independent variables?  \n#Consider interpretability issues when  writing  down  the  equation  (e.g.,  do  not  just  copy  and  paste  the  output  from Python)\nimport statsmodels.formula.api as smf\n#choose the features to be used\n\nols = smf.ols(formula='Unemployment ~ RAV4Queries + CPIAll + CPIEnergy ', data = Rav4_train)\nmodel1 =ols.fit()\nprint(model1.summary())\n\n\n#cols_1 = ['Unemployment', 'RAV4Queries', 'CPIAll', 'CPIEnergy']\n#X_train = Rav4_train[cols_1]\n#Y_train = Rav4_train['RAV4Sales'] #variable that we want to predict\n\n# We must add an intercept as the standard model doesn't automatically fit one\n#X_train = sm.add_constant(X_train) \n\n# Fit the data to the model\n#ols , ordinary least square\n#model_1 = sm.OLS(Y_train, X_train).fit()\n#print(model_1.summary())",
    "id": "0761a743444a42b78aefab50a5730630",
    "idx": 4,
    "time": "2021-02-02T13:23:12.710Z",
    "type": "execution"
   },
   {
    "id": "0761a743444a42b78aefab50a5730630",
    "time": "2021-02-02T13:23:12.941Z",
    "type": "completion"
   },
   {
    "code": "#i) \n#What  is  the  linear  regression  equation  produced  by  your  model,  and  how  should  one interpret the coefficients for the independent variables?  \n#Consider interpretability issues when  writing  down  the  equation  (e.g.,  do  not  just  copy  and  paste  the  output  from Python)\nimport statsmodels.formula.api as smf\n#choose the features to be used\n\nols = smf.ols(formula='Unemployment ~ RAV4Queries + CPIAll + CPIEnergy ', data = Rav4_train)\nmodel1 =ols.fit()\nprint(model1.summary())",
    "id": "0761a743444a42b78aefab50a5730630",
    "idx": 4,
    "time": "2021-02-02T13:23:34.830Z",
    "type": "execution"
   },
   {
    "id": "0761a743444a42b78aefab50a5730630",
    "time": "2021-02-02T13:23:35.025Z",
    "type": "completion"
   },
   {
    "code": "#i) \n#What  is  the  linear  regression  equation  produced  by  your  model,  and  how  should  one interpret the coefficients for the independent variables?  \n#Consider interpretability issues when  writing  down  the  equation  (e.g.,  do  not  just  copy  and  paste  the  output  from Python)\nimport statsmodels.formula.api as smf\n#choose the features to be used\n\nols = smf.ols(formula='Unemployment ~ RAV4Queries + CPIAll + CPIEnergy ', data = Rav4_train)\nmodel_1 =ols.fit()\nprint(model_1.summary())",
    "id": "0761a743444a42b78aefab50a5730630",
    "idx": 4,
    "time": "2021-02-02T13:23:42.074Z",
    "type": "execution"
   },
   {
    "id": "0761a743444a42b78aefab50a5730630",
    "time": "2021-02-02T13:23:42.272Z",
    "type": "completion"
   },
   {
    "code": "import numpy as np\nimport pandas as pd",
    "id": "29ded1ea04a24f9b907a6471bbf3e216",
    "idx": 0,
    "time": "2021-02-03T00:40:43.626Z",
    "type": "execution"
   },
   {
    "code": "#Loading data\nRav4 = pd.read_csv('RAV4-142-Spring2021.csv')\nRav4.info()",
    "id": "c6c1f48c01574eb78e3a06ddc2fb09c9",
    "idx": 1,
    "time": "2021-02-03T00:40:44.103Z",
    "type": "execution"
   },
   {
    "id": "29ded1ea04a24f9b907a6471bbf3e216",
    "time": "2021-02-03T00:40:44.166Z",
    "type": "completion"
   },
   {
    "id": "c6c1f48c01574eb78e3a06ddc2fb09c9",
    "time": "2021-02-03T00:40:44.296Z",
    "type": "completion"
   },
   {
    "code": "Rav4.head()",
    "id": "538360c81d5c4f4b9a66e6191dd5fab4",
    "idx": 2,
    "time": "2021-02-03T00:40:44.956Z",
    "type": "execution"
   },
   {
    "id": "538360c81d5c4f4b9a66e6191dd5fab4",
    "time": "2021-02-03T00:40:45.150Z",
    "type": "completion"
   },
   {
    "code": "# Problem 2\n# a) \n#Start  by  splitting  the  data  into  a  training  set  and  testing  set. \n#The trainingset should contain all observations for 2011 through 2016.  \n#The testing set should have allobservations for 2017 through 2020.\n\nRav4_train = Rav4[(Rav4['Year'] >= 2010) & (Rav4['Year'] <= 2017)]\nRav4_test = Rav4[(Rav4['Year'] >= 2018) & (Rav4['Year'] <= 2021)]\n\nRav4_train.head()",
    "id": "83daae0e20f34fa398bdb64f596dd966",
    "idx": 3,
    "time": "2021-02-03T00:40:46.465Z",
    "type": "execution"
   },
   {
    "id": "83daae0e20f34fa398bdb64f596dd966",
    "time": "2021-02-03T00:40:46.671Z",
    "type": "completion"
   },
   {
    "code": "#i) \n#What  is  the  linear  regression  equation  produced  by  your  model,  and  how  should  one interpret the coefficients for the independent variables?  \n#Consider interpretability issues when  writing  down  the  equation  (e.g.,  do  not  just  copy  and  paste  the  output  from Python)\nimport statsmodels.formula.api as smf\n#choose the features to be used\n\nols = smf.ols(formula='Unemployment ~ RAV4Queries + CPIAll + CPIEnergy ', data = Rav4_train)\nmodel_1 =ols.fit()\nprint(model_1.summary())",
    "id": "19eb5e9fba4949abb07e6f762f107f2e",
    "idx": 4,
    "time": "2021-02-03T00:40:49.604Z",
    "type": "execution"
   },
   {
    "id": "19eb5e9fba4949abb07e6f762f107f2e",
    "time": "2021-02-03T00:40:50.264Z",
    "type": "completion"
   },
   {
    "code": "#ii) How did you select the variables to include in your linear regression model?\n\nfrom statsmodels.stats.outliers_influence import variance_inflation_factor\n\ndef VIF(df, columns):\n    values = sm.add_constant(df[columns]).values\n    num_columns = len(columns)+1\n    vif = [variance_inflation_factor(values, i) for i in range(num_columns)]\n    return pd.Series(vif[1:], index=columns)\n\ncols_1 = ['Unemployment', 'RAV4Queries', 'CPIAll', 'CPIEnergy']\nVIF(Rav4_train, cols_1)",
    "id": "d19557a7b31a4082a148c9bc43eb71e9",
    "idx": 5,
    "time": "2021-02-03T00:40:53.138Z",
    "type": "execution"
   },
   {
    "id": "d19557a7b31a4082a148c9bc43eb71e9",
    "time": "2021-02-03T00:40:53.435Z",
    "type": "completion"
   },
   {
    "code": "#i) \n#What  is  the  linear  regression  equation  produced  by  your  model,  and  how  should  one interpret the coefficients for the independent variables?  \n#Consider interpretability issues when  writing  down  the  equation  (e.g.,  do  not  just  copy  and  paste  the  output  from Python)\nimport statsmodels.api as sm\nimport statsmodels.formula.api as smf\n#choose the features to be used\n\nols = smf.ols(formula='Unemployment ~ RAV4Queries + CPIAll + CPIEnergy ', data = Rav4_train)\nmodel_1 =ols.fit()\nprint(model_1.summary())",
    "id": "19eb5e9fba4949abb07e6f762f107f2e",
    "idx": 4,
    "time": "2021-02-03T00:42:00.401Z",
    "type": "execution"
   },
   {
    "id": "19eb5e9fba4949abb07e6f762f107f2e",
    "time": "2021-02-03T00:42:00.846Z",
    "type": "completion"
   },
   {
    "code": "#ii) How did you select the variables to include in your linear regression model?\n\nfrom statsmodels.stats.outliers_influence import variance_inflation_factor\n\ndef VIF(df, columns):\n    values = sm.add_constant(df[columns]).values\n    num_columns = len(columns)+1\n    vif = [variance_inflation_factor(values, i) for i in range(num_columns)]\n    return pd.Series(vif[1:], index=columns)\n\ncols_1 = ['Unemployment', 'RAV4Queries', 'CPIAll', 'CPIEnergy']\nVIF(Rav4_train, cols_1)",
    "id": "d19557a7b31a4082a148c9bc43eb71e9",
    "idx": 5,
    "time": "2021-02-03T00:42:01.748Z",
    "type": "execution"
   },
   {
    "id": "d19557a7b31a4082a148c9bc43eb71e9",
    "time": "2021-02-03T00:42:01.945Z",
    "type": "completion"
   },
   {
    "code": "ols = smf.ols(formula='RAV4Queries ~ + CPIAll + CPIEnergy ', data = Rav4_train)\nmodel_2 =ols.fit()\nprint(model_2.summary())",
    "id": "7b9a9914746b4f8f835bd3d43724fe6e",
    "idx": 7,
    "time": "2021-02-03T00:43:36.283Z",
    "type": "execution"
   },
   {
    "id": "7b9a9914746b4f8f835bd3d43724fe6e",
    "time": "2021-02-03T00:43:36.483Z",
    "type": "completion"
   },
   {
    "code": "ols_1 = smf.ols_1(formula='RAV4Queries ~ + CPIAll + CPIEnergy ', data = Rav4_train)\nmodel_2 =ols_1.fit()\nprint(model_2.summary())",
    "id": "7b9a9914746b4f8f835bd3d43724fe6e",
    "idx": 7,
    "time": "2021-02-03T00:45:59.717Z",
    "type": "execution"
   },
   {
    "id": "7b9a9914746b4f8f835bd3d43724fe6e",
    "time": "2021-02-03T00:45:59.935Z",
    "type": "completion"
   },
   {
    "code": "ols_1 = smf.ols(formula='RAV4Queries ~ + CPIAll + CPIEnergy ', data = Rav4_train)\nmodel_2 =ols_1.fit()\nprint(model_2.summary())",
    "id": "7b9a9914746b4f8f835bd3d43724fe6e",
    "idx": 7,
    "time": "2021-02-03T00:46:04.700Z",
    "type": "execution"
   },
   {
    "id": "7b9a9914746b4f8f835bd3d43724fe6e",
    "time": "2021-02-03T00:46:04.906Z",
    "type": "completion"
   },
   {
    "code": "ols = smf.ols(formula='RAV4Queries ~ + CPIAll + CPIEnergy ', data = Rav4_train)\nmodel_2 =ols.fit()\nprint(model_2.summary())",
    "id": "7b9a9914746b4f8f835bd3d43724fe6e",
    "idx": 7,
    "time": "2021-02-03T00:46:21.214Z",
    "type": "execution"
   },
   {
    "id": "7b9a9914746b4f8f835bd3d43724fe6e",
    "time": "2021-02-03T00:46:21.409Z",
    "type": "completion"
   },
   {
    "code": "#i) \n#What  is  the  linear  regression  equation  produced  by  your  model,  and  how  should  one interpret the coefficients for the independent variables?  \n#Consider interpretability issues when  writing  down  the  equation  (e.g.,  do  not  just  copy  and  paste  the  output  from Python)\nimport statsmodels.api as sm\nimport statsmodels.formula.api as smf\n#choose the features to be used\n\nols_1 = smf.ols(formula='Unemployment ~ RAV4Queries + CPIAll + CPIEnergy ', data = Rav4_train)\nmodel_1 =ols_1.fit()\nprint(model_1.summary())",
    "id": "19eb5e9fba4949abb07e6f762f107f2e",
    "idx": 4,
    "time": "2021-02-03T00:46:42.039Z",
    "type": "execution"
   },
   {
    "id": "19eb5e9fba4949abb07e6f762f107f2e",
    "time": "2021-02-03T00:46:42.243Z",
    "type": "completion"
   },
   {
    "code": "#ii) How did you select the variables to include in your linear regression model?\n\nfrom statsmodels.stats.outliers_influence import variance_inflation_factor\n\ndef VIF(df, columns):\n    values = sm.add_constant(df[columns]).values\n    num_columns = len(columns)+1\n    vif = [variance_inflation_factor(values, i) for i in range(num_columns)]\n    return pd.Series(vif[1:], index=columns)\n\n#cols_1 = ['Unemployment', 'RAV4Queries', 'CPIAll', 'CPIEnergy']\n#VIF(Rav4_train, col_1)\nVIF(ols_1)",
    "id": "d19557a7b31a4082a148c9bc43eb71e9",
    "idx": 5,
    "time": "2021-02-03T00:47:12.670Z",
    "type": "execution"
   },
   {
    "id": "d19557a7b31a4082a148c9bc43eb71e9",
    "time": "2021-02-03T00:47:12.889Z",
    "type": "completion"
   },
   {
    "code": "#ii) How did you select the variables to include in your linear regression model?\n\nfrom statsmodels.stats.outliers_influence import variance_inflation_factor\n\ndef VIF(df, columns):\n    values = sm.add_constant(df[columns]).values\n    num_columns = len(columns)+1\n    vif = [variance_inflation_factor(values, i) for i in range(num_columns)]\n    return pd.Series(vif[1:], index=columns)\n\n#cols_1 = ['Unemployment', 'RAV4Queries', 'CPIAll', 'CPIEnergy']\n#VIF(Rav4_train, col_1)\nVIF(Rav4_train, ols_1)",
    "id": "d19557a7b31a4082a148c9bc43eb71e9",
    "idx": 5,
    "time": "2021-02-03T00:47:21.193Z",
    "type": "execution"
   },
   {
    "id": "d19557a7b31a4082a148c9bc43eb71e9",
    "time": "2021-02-03T00:47:21.568Z",
    "type": "completion"
   },
   {
    "code": "#ii) How did you select the variables to include in your linear regression model?\n\nfrom statsmodels.stats.outliers_influence import variance_inflation_factor\n\ndef VIF(df, columns):\n    values = sm.add_constant(df[columns]).values\n    num_columns = len(columns)+1\n    vif = [variance_inflation_factor(values, i) for i in range(num_columns)]\n    return pd.Series(vif[1:], index=columns)\n\n#cols_1 = ['Unemployment', 'RAV4Queries', 'CPIAll', 'CPIEnergy']\n#VIF(Rav4_train, col_1)\nVIF(ols_1)",
    "id": "d19557a7b31a4082a148c9bc43eb71e9",
    "idx": 5,
    "time": "2021-02-03T00:47:50.264Z",
    "type": "execution"
   },
   {
    "id": "d19557a7b31a4082a148c9bc43eb71e9",
    "time": "2021-02-03T00:47:50.454Z",
    "type": "completion"
   },
   {
    "code": "# Problem 2\n# a) \n#Start  by  splitting  the  data  into  a  training  set  and  testing  set. \n#The trainingset should contain all observations for 2011 through 2016.  \n#The testing set should have allobservations for 2017 through 2020.\n\nRav4_train = Rav4[(Rav4['Year'] >= 2010) & (Rav4['Year'] <= 2017)]\nRav4_test = Rav4[(Rav4['Year'] >= 2018) & (Rav4['Year'] <= 2021)]\n\nRav4_train.head()",
    "id": "83daae0e20f34fa398bdb64f596dd966",
    "idx": 3,
    "time": "2021-02-03T00:47:52.944Z",
    "type": "execution"
   },
   {
    "id": "83daae0e20f34fa398bdb64f596dd966",
    "time": "2021-02-03T00:47:53.171Z",
    "type": "completion"
   },
   {
    "code": "#i) \n#What  is  the  linear  regression  equation  produced  by  your  model,  and  how  should  one interpret the coefficients for the independent variables?  \n#Consider interpretability issues when  writing  down  the  equation  (e.g.,  do  not  just  copy  and  paste  the  output  from Python)\nimport statsmodels.api as sm\nimport statsmodels.formula.api as smf\n#choose the features to be used\n\nols_1 = smf.ols(formula='Unemployment ~ RAV4Queries + CPIAll + CPIEnergy ', data = Rav4_train)\nmodel_1 =ols_1.fit()\nprint(model_1.summary())",
    "id": "19eb5e9fba4949abb07e6f762f107f2e",
    "idx": 4,
    "time": "2021-02-03T00:47:53.394Z",
    "type": "execution"
   },
   {
    "id": "19eb5e9fba4949abb07e6f762f107f2e",
    "time": "2021-02-03T00:47:53.592Z",
    "type": "completion"
   },
   {
    "code": "#ii) How did you select the variables to include in your linear regression model?\n\nfrom statsmodels.stats.outliers_influence import variance_inflation_factor\n\ndef VIF(df, columns):\n    values = sm.add_constant(df[columns]).values\n    num_columns = len(columns)+1\n    vif = [variance_inflation_factor(values, i) for i in range(num_columns)]\n    return pd.Series(vif[1:], index=columns)\n\n#cols_1 = ['Unemployment', 'RAV4Queries', 'CPIAll', 'CPIEnergy']\n#VIF(Rav4_train, col_1)\nVIF(ols_1)",
    "id": "d19557a7b31a4082a148c9bc43eb71e9",
    "idx": 5,
    "time": "2021-02-03T00:47:54.436Z",
    "type": "execution"
   },
   {
    "id": "d19557a7b31a4082a148c9bc43eb71e9",
    "time": "2021-02-03T00:47:54.637Z",
    "type": "completion"
   },
   {
    "code": "#ii) How did you select the variables to include in your linear regression model?\n\nfrom statsmodels.stats.outliers_influence import variance_inflation_factor\n\ndef VIF(df, columns):\n    values = sm.add_constant(df[columns]).values\n    num_columns = len(columns)+1\n    vif = [variance_inflation_factor(values, i) for i in range(num_columns)]\n    return pd.Series(vif[1:], index=columns)\n\n#cols_1 = ['Unemployment', 'RAV4Queries', 'CPIAll', 'CPIEnergy']\n#VIF(Rav4_train, col_1)\nVIF(Rav4_train, ols_1)",
    "id": "d19557a7b31a4082a148c9bc43eb71e9",
    "idx": 5,
    "time": "2021-02-03T00:48:10.141Z",
    "type": "execution"
   },
   {
    "id": "d19557a7b31a4082a148c9bc43eb71e9",
    "time": "2021-02-03T00:48:10.499Z",
    "type": "completion"
   },
   {
    "code": "#ii) How did you select the variables to include in your linear regression model?\n\nfrom statsmodels.stats.outliers_influence import variance_inflation_factor\n\ndef VIF(df, columns):\n    values = sm.add_constant(df[columns]).values\n    num_columns = len(columns)+1\n    vif = [variance_inflation_factor(values, i) for i in range(num_columns)]\n    return pd.Series(vif[1:], index=columns)\n\ncols_1 = ['Unemployment', 'RAV4Queries', 'CPIAll', 'CPIEnergy']\nVIF(Rav4_train, col_1)",
    "id": "d19557a7b31a4082a148c9bc43eb71e9",
    "idx": 5,
    "time": "2021-02-03T00:48:19.361Z",
    "type": "execution"
   },
   {
    "id": "d19557a7b31a4082a148c9bc43eb71e9",
    "time": "2021-02-03T00:48:19.568Z",
    "type": "completion"
   },
   {
    "code": "#ii) How did you select the variables to include in your linear regression model?\n\nfrom statsmodels.stats.outliers_influence import variance_inflation_factor\n\ndef VIF(df, columns):\n    values = sm.add_constant(df[columns]).values\n    num_columns = len(columns)+1\n    vif = [variance_inflation_factor(values, i) for i in range(num_columns)]\n    return pd.Series(vif[1:], index=columns)\n\ncols_1 = ['Unemployment', 'RAV4Queries', 'CPIAll', 'CPIEnergy']\nVIF(Rav4_train, cols_1)",
    "id": "d19557a7b31a4082a148c9bc43eb71e9",
    "idx": 5,
    "time": "2021-02-03T00:48:24.742Z",
    "type": "execution"
   },
   {
    "id": "d19557a7b31a4082a148c9bc43eb71e9",
    "time": "2021-02-03T00:48:24.934Z",
    "type": "completion"
   },
   {
    "code": "ols = smf.ols(formula='RAV4Queries ~ + CPIAll + CPIEnergy ', data = Rav4_train)\nmodel_2 =ols.fit()\nprint(model_2.summary())",
    "id": "7b9a9914746b4f8f835bd3d43724fe6e",
    "idx": 7,
    "time": "2021-02-03T00:48:35.057Z",
    "type": "execution"
   },
   {
    "id": "7b9a9914746b4f8f835bd3d43724fe6e",
    "time": "2021-02-03T00:48:35.254Z",
    "type": "completion"
   },
   {
    "code": "cols_2 = [RAV4Queries', 'CPIAll', 'CPIEnergy']\nVIF(Rav4_train, cols_2)",
    "id": "620f1395fe9145d88d1a39c302703603",
    "idx": 9,
    "time": "2021-02-03T00:49:48.663Z",
    "type": "execution"
   },
   {
    "id": "620f1395fe9145d88d1a39c302703603",
    "time": "2021-02-03T00:49:48.850Z",
    "type": "completion"
   },
   {
    "code": "cols_2 = ['RAV4Queries', 'CPIAll', 'CPIEnergy']\nVIF(Rav4_train, cols_2)",
    "id": "620f1395fe9145d88d1a39c302703603",
    "idx": 9,
    "time": "2021-02-03T00:49:52.085Z",
    "type": "execution"
   },
   {
    "id": "620f1395fe9145d88d1a39c302703603",
    "time": "2021-02-03T00:49:52.300Z",
    "type": "completion"
   },
   {
    "code": "#i) \n#What  is  the  linear  regression  equation  produced  by  your  model,  and  how  should  one interpret the coefficients for the independent variables?  \n#Consider interpretability issues when  writing  down  the  equation  (e.g.,  do  not  just  copy  and  paste  the  output  from Python)\nimport statsmodels.api as sm\nimport statsmodels.formula.api as smf\n#choose the features to be used\n\nols_1 = smf.ols(formula='RAV4Sales ~ Unemployment + RAV4Queries + CPIAll + CPIEnergy ', data = Rav4_train)\nmodel_1 =ols_1.fit()\nprint(model_1.summary())",
    "id": "19eb5e9fba4949abb07e6f762f107f2e",
    "idx": 4,
    "time": "2021-02-03T00:53:21.326Z",
    "type": "execution"
   },
   {
    "id": "19eb5e9fba4949abb07e6f762f107f2e",
    "time": "2021-02-03T00:53:21.530Z",
    "type": "completion"
   },
   {
    "code": "#ii) How did you select the variables to include in your linear regression model?\n\nfrom statsmodels.stats.outliers_influence import variance_inflation_factor\n\ndef VIF(df, columns):\n    values = sm.add_constant(df[columns]).values\n    num_columns = len(columns)+1\n    vif = [variance_inflation_factor(values, i) for i in range(num_columns)]\n    return pd.Series(vif[1:], index=columns)\n\ncols_1 = ['Unemployment', 'RAV4Queries', 'CPIAll', 'CPIEnergy']\nVIF(Rav4_train, cols_1)",
    "id": "d19557a7b31a4082a148c9bc43eb71e9",
    "idx": 5,
    "time": "2021-02-03T00:53:45.731Z",
    "type": "execution"
   },
   {
    "id": "d19557a7b31a4082a148c9bc43eb71e9",
    "time": "2021-02-03T00:53:45.961Z",
    "type": "completion"
   },
   {
    "code": "ols_2 = smf.ols(formula='RAV4Sales ~ RAV4Queries + CPIAll + CPIEnergy ', data = Rav4_train)\nmodel_2 =ols_2.fit()\nprint(model_2.summary())",
    "id": "7b9a9914746b4f8f835bd3d43724fe6e",
    "idx": 7,
    "time": "2021-02-03T00:54:51.478Z",
    "type": "execution"
   },
   {
    "id": "7b9a9914746b4f8f835bd3d43724fe6e",
    "time": "2021-02-03T00:54:51.684Z",
    "type": "completion"
   },
   {
    "code": "cols_2 = ['RAV4Queries', 'CPIAll', 'CPIEnergy']\nVIF(Rav4_train, cols_2)",
    "id": "620f1395fe9145d88d1a39c302703603",
    "idx": 9,
    "time": "2021-02-03T00:55:23.378Z",
    "type": "execution"
   },
   {
    "id": "620f1395fe9145d88d1a39c302703603",
    "time": "2021-02-03T00:55:23.578Z",
    "type": "completion"
   },
   {
    "code": "import numpy as np\nimport pandas as pd",
    "id": "3606fd77f22148d7849b841043d91225",
    "idx": 0,
    "time": "2021-02-04T12:05:38.668Z",
    "type": "execution"
   },
   {
    "code": "#Loading data\nRav4 = pd.read_csv('RAV4-142-Spring2021.csv')\nRav4.info()",
    "id": "e1cacfc711f44ef5808c07295234f303",
    "idx": 1,
    "time": "2021-02-04T12:05:39.182Z",
    "type": "execution"
   },
   {
    "id": "3606fd77f22148d7849b841043d91225",
    "time": "2021-02-04T12:05:39.208Z",
    "type": "completion"
   },
   {
    "id": "e1cacfc711f44ef5808c07295234f303",
    "time": "2021-02-04T12:05:39.386Z",
    "type": "completion"
   },
   {
    "code": "Rav4.head()",
    "id": "c37acd1927d646c7945155b6388eacd2",
    "idx": 2,
    "time": "2021-02-04T12:05:44.078Z",
    "type": "execution"
   },
   {
    "id": "c37acd1927d646c7945155b6388eacd2",
    "time": "2021-02-04T12:05:44.283Z",
    "type": "completion"
   },
   {
    "code": "# Problem 2\n# a) \n#Start  by  splitting  the  data  into  a  training  set  and  testing  set. \n#The trainingset should contain all observations for 2011 through 2016.  \n#The testing set should have allobservations for 2017 through 2020.\n\nRav4_train = Rav4[(Rav4['Year'] >= 2010) & (Rav4['Year'] <= 2017)]\nRav4_test = Rav4[(Rav4['Year'] >= 2018) & (Rav4['Year'] <= 2021)]\n\nRav4_train.head()",
    "id": "71e364556e8c4144b883557a2f670b86",
    "idx": 3,
    "time": "2021-02-04T12:05:44.648Z",
    "type": "execution"
   },
   {
    "id": "71e364556e8c4144b883557a2f670b86",
    "time": "2021-02-04T12:05:44.853Z",
    "type": "completion"
   },
   {
    "code": "#i) \n#What  is  the  linear  regression  equation  produced  by  your  model,  and  how  should  one interpret the coefficients for the independent variables?  \n#Consider interpretability issues when  writing  down  the  equation  (e.g.,  do  not  just  copy  and  paste  the  output  from Python)\nimport statsmodels.api as sm\nimport statsmodels.formula.api as smf\n#choose the features to be used\n\nols_1 = smf.ols(formula='RAV4Sales ~ Unemployment + RAV4Queries + CPIAll + CPIEnergy ', data = Rav4_train)\nmodel_1 =ols_1.fit()\nprint(model_1.summary())",
    "id": "07e2fb5f556f4c768b88b9df00dc2792",
    "idx": 4,
    "time": "2021-02-04T12:05:45.984Z",
    "type": "execution"
   },
   {
    "id": "07e2fb5f556f4c768b88b9df00dc2792",
    "time": "2021-02-04T12:05:46.810Z",
    "type": "completion"
   },
   {
    "code": "#i) \n#What  is  the  linear  regression  equation  produced  by  your  model,  and  how  should  one interpret the coefficients for the independent variables?  \n#Consider interpretability issues when  writing  down  the  equation  (e.g.,  do  not  just  copy  and  paste  the  output  from Python)\nimport statsmodels.api as sm\nimport statsmodels.formula.api as smf\n\nols_1 = smf.ols(formula='RAV4Sales ~ Unemployment + RAV4Queries + CPIAll + CPIEnergy ', data = Rav4_train)\nmodel_1 =ols_1.fit()\nprint(model_1.summary())",
    "id": "07e2fb5f556f4c768b88b9df00dc2792",
    "idx": 4,
    "time": "2021-02-04T12:06:08.467Z",
    "type": "execution"
   },
   {
    "id": "07e2fb5f556f4c768b88b9df00dc2792",
    "time": "2021-02-04T12:06:08.673Z",
    "type": "completion"
   },
   {
    "code": "import statsmodels.api as sm\nimport statsmodels.formula.api as smf\n\nols_1 = smf.ols(formula='RAV4Sales ~ Unemployment + RAV4Queries + CPIAll + CPIEnergy ', data = Rav4_train)\nmodel_1 =ols_1.fit()\nprint(model_1.summary())",
    "id": "07e2fb5f556f4c768b88b9df00dc2792",
    "idx": 6,
    "time": "2021-02-04T12:50:29.080Z",
    "type": "execution"
   },
   {
    "id": "07e2fb5f556f4c768b88b9df00dc2792",
    "time": "2021-02-04T12:50:29.451Z",
    "type": "completion"
   },
   {
    "code": "#ii) How did you select the variables to include in your linear regression model?\nfrom statsmodels.stats.outliers_influence import variance_inflation_factor\n\ndef VIF(df, columns):\n    values = sm.add_constant(df[columns]).values\n    num_columns = len(columns)+1\n    vif = [variance_inflation_factor(values, i) for i in range(num_columns)]\n    return pd.Series(vif[1:], index=columns)",
    "id": "d57f13d6bebe4c8f9a0e1817344944f4",
    "idx": 7,
    "time": "2021-02-04T12:51:53.133Z",
    "type": "execution"
   },
   {
    "id": "d57f13d6bebe4c8f9a0e1817344944f4",
    "time": "2021-02-04T12:51:53.321Z",
    "type": "completion"
   },
   {
    "code": "#ii) How did you select the variables to include in your linear regression model?\nfrom statsmodels.stats.outliers_influence import variance_inflation_factor\n\ndef VIF(df, columns):\n    values = sm.add_constant(df[columns]).values\n    num_columns = len(columns)+1\n    vif = [variance_inflation_factor(values, i) for i in range(num_columns)]\n    return pd.Series(vif[1:], index=columns)",
    "id": "d57f13d6bebe4c8f9a0e1817344944f4",
    "idx": 7,
    "time": "2021-02-04T12:52:18.335Z",
    "type": "execution"
   },
   {
    "id": "d57f13d6bebe4c8f9a0e1817344944f4",
    "time": "2021-02-04T12:52:18.510Z",
    "type": "completion"
   },
   {
    "code": "cols_1 = ['Unemployment', 'RAV4Queries', 'CPIAll', 'CPIEnergy']\nVIF(Rav4_train, cols_1)",
    "id": "3d6d60039df94d5b9a958167a8f22071",
    "idx": 8,
    "time": "2021-02-04T12:52:19.068Z",
    "type": "execution"
   },
   {
    "id": "3d6d60039df94d5b9a958167a8f22071",
    "time": "2021-02-04T12:52:19.284Z",
    "type": "completion"
   },
   {
    "code": "# Problem 2\n# a) Start  by  splitting  the  data  into  a  training  set  and  testing  set. The trainingset should contain all observations for 2011 through 2016.  \n#The testing set should have allobservations for 2017 through 2020.\n\nRav4_train = Rav4[(Rav4['Year'] >= 2010) & (Rav4['Year'] <= 2017)]\nRav4_test = Rav4[(Rav4['Year'] >= 2018) & (Rav4['Year'] <= 2021)]\n\nRav4_train.head()",
    "id": "71e364556e8c4144b883557a2f670b86",
    "idx": 3,
    "time": "2021-02-04T12:52:51.163Z",
    "type": "execution"
   },
   {
    "id": "71e364556e8c4144b883557a2f670b86",
    "time": "2021-02-04T12:52:51.363Z",
    "type": "completion"
   },
   {
    "code": "#i) What  is  the  linear  regression  equation  produced  by  your  model,  and  how  should  one interpret the coefficients for the independent variables?  \n#Consider interpretability issues when  writing  down  the  equation  (e.g.,  do  not  just  copy  and  paste  the  output  from Python)",
    "id": "3674c303c05147fe85b0bfb100b6f6af",
    "idx": 4,
    "time": "2021-02-04T12:52:57.796Z",
    "type": "execution"
   },
   {
    "id": "3674c303c05147fe85b0bfb100b6f6af",
    "time": "2021-02-04T12:52:58.011Z",
    "type": "completion"
   },
   {
    "code": "import statsmodels.api as sm\nimport statsmodels.formula.api as smf\n\nols_1 = smf.ols(formula='RAV4Sales ~ Unemployment + RAV4Queries + CPIAll + CPIEnergy ', data = Rav4_train)\nmodel_1 =ols_1.fit()\nprint(model_1.summary())",
    "id": "07e2fb5f556f4c768b88b9df00dc2792",
    "idx": 6,
    "time": "2021-02-04T12:52:59.263Z",
    "type": "execution"
   },
   {
    "id": "07e2fb5f556f4c768b88b9df00dc2792",
    "time": "2021-02-04T12:52:59.465Z",
    "type": "completion"
   },
   {
    "code": "#ii) How did you select the variables to include in your linear regression model?\nfrom statsmodels.stats.outliers_influence import variance_inflation_factor\n\ndef VIF(df, columns):\n    values = sm.add_constant(df[columns]).values\n    num_columns = len(columns)+1\n    vif = [variance_inflation_factor(values, i) for i in range(num_columns)]\n    return pd.Series(vif[1:], index=columns)",
    "id": "d57f13d6bebe4c8f9a0e1817344944f4",
    "idx": 7,
    "time": "2021-02-04T12:53:01.946Z",
    "type": "execution"
   },
   {
    "id": "d57f13d6bebe4c8f9a0e1817344944f4",
    "time": "2021-02-04T12:53:02.131Z",
    "type": "completion"
   },
   {
    "code": "import statsmodels.api as sm\nimport statsmodels.formula.api as smf\n\nols_1 = smf.ols(formula='RAV4Sales ~ Unemployment + RAV4Queries + CPIAll + CPIEnergy ', data = Rav4_train)\nmodel_1 = ols_1.fit()\nprint(model_1.summary())",
    "id": "07e2fb5f556f4c768b88b9df00dc2792",
    "idx": 6,
    "time": "2021-02-04T12:53:14.367Z",
    "type": "execution"
   },
   {
    "id": "07e2fb5f556f4c768b88b9df00dc2792",
    "time": "2021-02-04T12:53:14.562Z",
    "type": "completion"
   },
   {
    "code": "#ii) How did you select the variables to include in your linear regression model?\nfrom statsmodels.stats.outliers_influence import variance_inflation_factor\n\ndef VIF(df, columns):\n    values = sm.add_constant(df[columns]).values\n    num_columns = len(columns)+1\n    vif = [variance_inflation_factor(values, i) for i in range(num_columns)]\n    return pd.Series(vif[1:], index=columns)",
    "id": "d57f13d6bebe4c8f9a0e1817344944f4",
    "idx": 7,
    "time": "2021-02-04T12:53:16.255Z",
    "type": "execution"
   },
   {
    "id": "d57f13d6bebe4c8f9a0e1817344944f4",
    "time": "2021-02-04T12:53:16.437Z",
    "type": "completion"
   },
   {
    "code": "cols_1 = ['Unemployment', 'RAV4Queries', 'CPIAll', 'CPIEnergy']\nVIF(Rav4_train, cols_1)",
    "id": "3d6d60039df94d5b9a958167a8f22071",
    "idx": 8,
    "time": "2021-02-04T12:53:16.997Z",
    "type": "execution"
   },
   {
    "id": "3d6d60039df94d5b9a958167a8f22071",
    "time": "2021-02-04T12:53:17.200Z",
    "type": "completion"
   },
   {
    "code": "ols_2 = smf.ols(formula='RAV4Sales ~ RAV4Queries + CPIAll + CPIEnergy ', data = Rav4_train)\nmodel_2 =ols_2.fit()\nprint(model_2.summary())",
    "id": "f6a5c2e10f0249608ccb44647b8e74a2",
    "idx": 10,
    "time": "2021-02-04T12:53:19.030Z",
    "type": "execution"
   },
   {
    "id": "f6a5c2e10f0249608ccb44647b8e74a2",
    "time": "2021-02-04T12:53:19.230Z",
    "type": "completion"
   },
   {
    "code": "cols_2 = ['RAV4Queries', 'CPIAll', 'CPIEnergy']\nVIF(Rav4_train, cols_2)",
    "id": "74febba3da6e48fbab33230b8cc59eb4",
    "idx": 11,
    "time": "2021-02-04T12:54:23.154Z",
    "type": "execution"
   },
   {
    "id": "74febba3da6e48fbab33230b8cc59eb4",
    "time": "2021-02-04T12:54:23.344Z",
    "type": "completion"
   },
   {
    "code": "ols_2 = smf.ols(formula='RAV4Sales ~ RAV4Queries + CPIAll + CPIEnergy ', data = Rav4_train)\nmodel_2 =ols_2.fit()\nprint(model_2.summary())",
    "id": "f6a5c2e10f0249608ccb44647b8e74a2",
    "idx": 10,
    "time": "2021-02-04T12:55:04.333Z",
    "type": "execution"
   },
   {
    "id": "f6a5c2e10f0249608ccb44647b8e74a2",
    "time": "2021-02-04T12:55:04.527Z",
    "type": "completion"
   },
   {
    "code": "cols_2 = ['RAV4Queries', 'CPIAll', 'CPIEnergy']\nVIF(Rav4_train, cols_2)",
    "id": "74febba3da6e48fbab33230b8cc59eb4",
    "idx": 11,
    "time": "2021-02-04T12:55:05.295Z",
    "type": "execution"
   },
   {
    "id": "74febba3da6e48fbab33230b8cc59eb4",
    "time": "2021-02-04T12:55:05.497Z",
    "type": "completion"
   },
   {
    "code": "#iii) Do the signs of the models coefficients make sense?  Are you reasonably sure that thesigns are correct?",
    "id": "51470cdc77564c268692b703cda25860",
    "idx": 13,
    "time": "2021-02-04T12:57:06.620Z",
    "type": "execution"
   },
   {
    "id": "51470cdc77564c268692b703cda25860",
    "time": "2021-02-04T12:57:06.808Z",
    "type": "completion"
   },
   {
    "code": "#iv) How well does the model predict training set observations? Can you justify the models performance on the training data with a quantifiable metric?\nols_3 = smf.ols(formula='RAV4Sales ~ CPIAll + CPIEnergy ', data = Rav4_train)\nmodel_3 =ols_3.fit()\nprint(model_3.summary())",
    "id": "5c0c8aa2aef14df58b3cdf666c36389a",
    "idx": 15,
    "time": "2021-02-04T13:04:15.935Z",
    "type": "execution"
   },
   {
    "id": "5c0c8aa2aef14df58b3cdf666c36389a",
    "time": "2021-02-04T13:04:16.150Z",
    "type": "completion"
   },
   {
    "code": "#iv) How well does the model predict training set observations? Can you justify the models performance on the training data with a quantifiable metric?\nols_3 = smf.ols(formula='RAV4Sales ~ RAV4Queries + CPIAll ', data = Rav4_train)\nmodel_3 =ols_3.fit()\nprint(model_3.summary())",
    "id": "5c0c8aa2aef14df58b3cdf666c36389a",
    "idx": 15,
    "time": "2021-02-04T13:05:04.812Z",
    "type": "execution"
   },
   {
    "id": "5c0c8aa2aef14df58b3cdf666c36389a",
    "time": "2021-02-04T13:05:05.018Z",
    "type": "completion"
   },
   {
    "code": "ols_2 = smf.ols(formula='RAV4Sales ~ Unemployment + RAV4Queries + CPIEnergy ', data = Rav4_train)\nmodel_2 =ols_2.fit()\nprint(model_2.summary())",
    "id": "f6a5c2e10f0249608ccb44647b8e74a2",
    "idx": 10,
    "time": "2021-02-04T13:10:58.118Z",
    "type": "execution"
   },
   {
    "id": "f6a5c2e10f0249608ccb44647b8e74a2",
    "time": "2021-02-04T13:10:58.346Z",
    "type": "completion"
   },
   {
    "code": "cols_2 = ['Unemployment','RAV4Queries', 'CPIEnergy']\nVIF(Rav4_train, cols_2)",
    "id": "74febba3da6e48fbab33230b8cc59eb4",
    "idx": 11,
    "time": "2021-02-04T13:12:07.065Z",
    "type": "execution"
   },
   {
    "id": "74febba3da6e48fbab33230b8cc59eb4",
    "time": "2021-02-04T13:12:07.268Z",
    "type": "completion"
   },
   {
    "code": "#iv) How well does the model predict training set observations? Can you justify the models performance on the training data with a quantifiable metric?\nols_3 = smf.ols(formula='RAV4Sales ~ Unemployment, RAV4Queries', data = Rav4_train)\nmodel_3 =ols_3.fit()\nprint(model_3.summary())",
    "id": "5c0c8aa2aef14df58b3cdf666c36389a",
    "idx": 15,
    "time": "2021-02-04T13:12:39.647Z",
    "type": "execution"
   },
   {
    "id": "5c0c8aa2aef14df58b3cdf666c36389a",
    "time": "2021-02-04T13:12:40.134Z",
    "type": "completion"
   },
   {
    "code": "#iv) How well does the model predict training set observations? Can you justify the models performance on the training data with a quantifiable metric?\nols_3 = smf.ols(formula='RAV4Sales ~ Unemployment + RAV4Queries', data = Rav4_train)\nmodel_3 =ols_3.fit()\nprint(model_3.summary())",
    "id": "5c0c8aa2aef14df58b3cdf666c36389a",
    "idx": 15,
    "time": "2021-02-04T13:12:46.887Z",
    "type": "execution"
   },
   {
    "id": "5c0c8aa2aef14df58b3cdf666c36389a",
    "time": "2021-02-04T13:12:47.071Z",
    "type": "completion"
   },
   {
    "code": "import numpy as np\nimport pandas as pd",
    "id": "bf310ff262474273845b725529db7373",
    "idx": 0,
    "time": "2021-02-05T00:04:02.277Z",
    "type": "execution"
   },
   {
    "code": "#Loading data\nRav4 = pd.read_csv('RAV4-142-Spring2021.csv')\nRav4.info()",
    "id": "70d7b20a083649998026a17c082ac0c2",
    "idx": 1,
    "time": "2021-02-05T00:04:02.633Z",
    "type": "execution"
   },
   {
    "id": "bf310ff262474273845b725529db7373",
    "time": "2021-02-05T00:04:02.828Z",
    "type": "completion"
   },
   {
    "id": "70d7b20a083649998026a17c082ac0c2",
    "time": "2021-02-05T00:04:02.855Z",
    "type": "completion"
   },
   {
    "code": "Rav4.head()",
    "id": "3989069484b841538863a559a975616b",
    "idx": 2,
    "time": "2021-02-05T00:04:02.982Z",
    "type": "execution"
   },
   {
    "id": "3989069484b841538863a559a975616b",
    "time": "2021-02-05T00:04:03.187Z",
    "type": "completion"
   },
   {
    "code": "# Problem 2\n# a) Start  by  splitting  the  data  into  a  training  set  and  testing  set. The trainingset should contain all observations for 2011 through 2016.  \n#The testing set should have allobservations for 2017 through 2020.\n\nRav4_train = Rav4[(Rav4['Year'] >= 2010) & (Rav4['Year'] <= 2017)]\nRav4_test = Rav4[(Rav4['Year'] >= 2018) & (Rav4['Year'] <= 2021)]\n\nRav4_train.head()",
    "id": "0ffb9bf6e9184c91861147e34878d28f",
    "idx": 3,
    "time": "2021-02-05T00:04:04.623Z",
    "type": "execution"
   },
   {
    "id": "0ffb9bf6e9184c91861147e34878d28f",
    "time": "2021-02-05T00:04:04.828Z",
    "type": "completion"
   },
   {
    "code": "#i) What  is  the  linear  regression  equation  produced  by  your  model,  and  how  should  one interpret the coefficients for the independent variables?  \n#Consider interpretability issues when  writing  down  the  equation  (e.g.,  do  not  just  copy  and  paste  the  output  from Python)",
    "id": "5e3ef39e53af48e38c11208af6ea4860",
    "idx": 4,
    "time": "2021-02-05T00:04:06.588Z",
    "type": "execution"
   },
   {
    "id": "5e3ef39e53af48e38c11208af6ea4860",
    "time": "2021-02-05T00:04:06.768Z",
    "type": "completion"
   },
   {
    "code": "import statsmodels.api as sm\nimport statsmodels.formula.api as smf\n\nols_1 = smf.ols(formula='RAV4Sales ~ Unemployment + RAV4Queries + CPIAll + CPIEnergy ', data = Rav4_train)\nmodel_1 = ols_1.fit()\nprint(model_1.summary())",
    "id": "6606faf096be4ace8436ac659b285b16",
    "idx": 6,
    "time": "2021-02-05T00:04:09.045Z",
    "type": "execution"
   },
   {
    "code": "#ii) How did you select the variables to include in your linear regression model?\nfrom statsmodels.stats.outliers_influence import variance_inflation_factor\n\ndef VIF(df, columns):\n    values = sm.add_constant(df[columns]).values\n    num_columns = len(columns)+1\n    vif = [variance_inflation_factor(values, i) for i in range(num_columns)]\n    return pd.Series(vif[1:], index=columns)",
    "id": "b81beb02d9c543d58c4d1006fab8e6ec",
    "idx": 7,
    "time": "2021-02-05T00:04:09.869Z",
    "type": "execution"
   },
   {
    "id": "6606faf096be4ace8436ac659b285b16",
    "time": "2021-02-05T00:04:09.908Z",
    "type": "completion"
   },
   {
    "id": "b81beb02d9c543d58c4d1006fab8e6ec",
    "time": "2021-02-05T00:04:10.051Z",
    "type": "completion"
   },
   {
    "code": "cols_1 = ['Unemployment', 'RAV4Queries', 'CPIAll', 'CPIEnergy']\nVIF(Rav4_train, cols_1)",
    "id": "3a1f2db23adc46b28aa2918df068abfa",
    "idx": 8,
    "time": "2021-02-05T00:04:10.501Z",
    "type": "execution"
   },
   {
    "id": "3a1f2db23adc46b28aa2918df068abfa",
    "time": "2021-02-05T00:04:10.689Z",
    "type": "completion"
   },
   {
    "code": "ols_2 = smf.ols(formula='RAV4Sales ~ RAV4Queries + CPIAll + CPIEnergy ', data = Rav4_train)\nmodel_2 = ols_2.fit()\nprint(model_2.summary())",
    "id": "6e29b6daab464ff586c2b395b15f6e16",
    "idx": 10,
    "time": "2021-02-05T00:04:25.074Z",
    "type": "execution"
   },
   {
    "id": "6e29b6daab464ff586c2b395b15f6e16",
    "time": "2021-02-05T00:04:25.275Z",
    "type": "completion"
   },
   {
    "code": "cols_2 = ['RAV4Queries', 'CPIAll', 'CPIEnergy']\nVIF(Rav4_train, cols_2)",
    "id": "e062dd434ab842d18b59a99ce557c183",
    "idx": 11,
    "time": "2021-02-05T00:04:50.183Z",
    "type": "execution"
   },
   {
    "id": "e062dd434ab842d18b59a99ce557c183",
    "time": "2021-02-05T00:04:50.375Z",
    "type": "completion"
   },
   {
    "code": "#iii) Do the signs of the models coefficients make sense?  Are you reasonably sure that thesigns are correct?",
    "id": "3c2ae74c393340a1bc7ccfb02b8f751d",
    "idx": 13,
    "time": "2021-02-05T00:05:01.323Z",
    "type": "execution"
   },
   {
    "id": "3c2ae74c393340a1bc7ccfb02b8f751d",
    "time": "2021-02-05T00:05:01.508Z",
    "type": "completion"
   },
   {
    "code": "#iv) How well does the model predict training set observations? Can you justify the models performance on the training data with a quantifiable metric?\nols_3 = smf.ols(formula='RAV4Sales ~ CPIAll + CPIEnergy', data = Rav4_train)\nmodel_3 =ols_3.fit()\nprint(model_3.summary())",
    "id": "5fe7c9ae8315498183589e3a4599eb47",
    "idx": 15,
    "time": "2021-02-05T00:05:21.936Z",
    "type": "execution"
   },
   {
    "id": "5fe7c9ae8315498183589e3a4599eb47",
    "time": "2021-02-05T00:05:22.161Z",
    "type": "completion"
   },
   {
    "code": "import numpy as np\nimport pandas as pd",
    "id": "bf310ff262474273845b725529db7373",
    "idx": 0,
    "time": "2021-02-05T00:07:21.305Z",
    "type": "execution"
   },
   {
    "id": "bf310ff262474273845b725529db7373",
    "time": "2021-02-05T00:07:21.488Z",
    "type": "completion"
   },
   {
    "code": "#Loading data\nRav4 = pd.read_csv('RAV4-142-Spring2021.csv')\nRav4.info()",
    "id": "70d7b20a083649998026a17c082ac0c2",
    "idx": 1,
    "time": "2021-02-05T00:07:21.971Z",
    "type": "execution"
   },
   {
    "id": "70d7b20a083649998026a17c082ac0c2",
    "time": "2021-02-05T00:07:22.156Z",
    "type": "completion"
   },
   {
    "code": "Rav4.head()",
    "id": "3989069484b841538863a559a975616b",
    "idx": 2,
    "time": "2021-02-05T00:07:23.010Z",
    "type": "execution"
   },
   {
    "id": "3989069484b841538863a559a975616b",
    "time": "2021-02-05T00:07:23.193Z",
    "type": "completion"
   },
   {
    "code": "# Problem 2\n# a) Start  by  splitting  the  data  into  a  training  set  and  testing  set. The trainingset should contain all observations for 2011 through 2016.  \n#The testing set should have allobservations for 2017 through 2020.\n\nRav4_train = Rav4[(Rav4['Year'] >= 2011) & (Rav4['Year'] <= 2016)]\nRav4_test = Rav4[(Rav4['Year'] >= 2017) & (Rav4['Year'] <= 2020)]\n\nRav4_train.head()",
    "id": "0ffb9bf6e9184c91861147e34878d28f",
    "idx": 3,
    "time": "2021-02-05T00:08:23.913Z",
    "type": "execution"
   },
   {
    "id": "0ffb9bf6e9184c91861147e34878d28f",
    "time": "2021-02-05T00:08:24.146Z",
    "type": "completion"
   },
   {
    "code": "#i) What  is  the  linear  regression  equation  produced  by  your  model,  and  how  should  one interpret the coefficients for the independent variables?  \n#Consider interpretability issues when  writing  down  the  equation  (e.g.,  do  not  just  copy  and  paste  the  output  from Python)",
    "id": "5e3ef39e53af48e38c11208af6ea4860",
    "idx": 4,
    "time": "2021-02-05T00:08:26.693Z",
    "type": "execution"
   },
   {
    "id": "5e3ef39e53af48e38c11208af6ea4860",
    "time": "2021-02-05T00:08:26.871Z",
    "type": "completion"
   },
   {
    "code": "import statsmodels.api as sm\nimport statsmodels.formula.api as smf\n\nols_1 = smf.ols(formula='RAV4Sales ~ Unemployment + RAV4Queries + CPIAll + CPIEnergy ', data = Rav4_train)\nmodel_1 = ols_1.fit()\nprint(model_1.summary())",
    "id": "6606faf096be4ace8436ac659b285b16",
    "idx": 6,
    "time": "2021-02-05T00:08:28.216Z",
    "type": "execution"
   },
   {
    "id": "6606faf096be4ace8436ac659b285b16",
    "time": "2021-02-05T00:08:28.424Z",
    "type": "completion"
   },
   {
    "code": "#ii) How did you select the variables to include in your linear regression model?\nfrom statsmodels.stats.outliers_influence import variance_inflation_factor\n\ndef VIF(df, columns):\n    values = sm.add_constant(df[columns]).values\n    num_columns = len(columns)+1\n    vif = [variance_inflation_factor(values, i) for i in range(num_columns)]\n    return pd.Series(vif[1:], index=columns)",
    "id": "b81beb02d9c543d58c4d1006fab8e6ec",
    "idx": 7,
    "time": "2021-02-05T00:08:32.806Z",
    "type": "execution"
   },
   {
    "id": "b81beb02d9c543d58c4d1006fab8e6ec",
    "time": "2021-02-05T00:08:32.987Z",
    "type": "completion"
   },
   {
    "code": "cols_1 = ['Unemployment', 'RAV4Queries', 'CPIAll', 'CPIEnergy']\nVIF(Rav4_train, cols_1)",
    "id": "3a1f2db23adc46b28aa2918df068abfa",
    "idx": 8,
    "time": "2021-02-05T00:08:33.476Z",
    "type": "execution"
   },
   {
    "id": "3a1f2db23adc46b28aa2918df068abfa",
    "time": "2021-02-05T00:08:33.657Z",
    "type": "completion"
   },
   {
    "code": "ols_2 = smf.ols(formula='RAV4Sales ~ RAV4Queries + CPIAll + CPIEnergy ', data = Rav4_train)\nmodel_2 = ols_2.fit()\nprint(model_2.summary())",
    "id": "6e29b6daab464ff586c2b395b15f6e16",
    "idx": 10,
    "time": "2021-02-05T00:09:12.450Z",
    "type": "execution"
   },
   {
    "id": "6e29b6daab464ff586c2b395b15f6e16",
    "time": "2021-02-05T00:09:12.652Z",
    "type": "completion"
   },
   {
    "code": "cols_2 = ['RAV4Queries', 'CPIAll', 'CPIEnergy']\nVIF(Rav4_train, cols_2)",
    "id": "e062dd434ab842d18b59a99ce557c183",
    "idx": 11,
    "time": "2021-02-05T00:09:16.695Z",
    "type": "execution"
   },
   {
    "id": "e062dd434ab842d18b59a99ce557c183",
    "time": "2021-02-05T00:09:16.892Z",
    "type": "completion"
   },
   {
    "code": "#iii) Do the signs of the models coefficients make sense?  Are you reasonably sure that thesigns are correct?",
    "id": "3c2ae74c393340a1bc7ccfb02b8f751d",
    "idx": 13,
    "time": "2021-02-05T00:09:24.572Z",
    "type": "execution"
   },
   {
    "id": "3c2ae74c393340a1bc7ccfb02b8f751d",
    "time": "2021-02-05T00:09:24.780Z",
    "type": "completion"
   },
   {
    "code": "#iv) How well does the model predict training set observations? Can you justify the models performance on the training data with a quantifiable metric?\nols_3 = smf.ols(formula='RAV4Sales ~ CPIAll + CPIEnergy', data = Rav4_train)\nmodel_3 =ols_3.fit()\nprint(model_3.summary())",
    "id": "5fe7c9ae8315498183589e3a4599eb47",
    "idx": 15,
    "time": "2021-02-05T00:09:25.823Z",
    "type": "execution"
   },
   {
    "id": "5fe7c9ae8315498183589e3a4599eb47",
    "time": "2021-02-05T00:09:26.024Z",
    "type": "completion"
   },
   {
    "code": "#iv) How well does the model predict training set observations? Can you justify the models performance on the training data with a quantifiable metric?\nols_3 = smf.ols(formula='RAV4Sales ~ CPIAll + CPIEnergy', data = Rav4_train)\nmodel_3 = ols_3.fit()\nprint(model_3.summary())",
    "id": "5fe7c9ae8315498183589e3a4599eb47",
    "idx": 15,
    "time": "2021-02-05T00:09:39.820Z",
    "type": "execution"
   },
   {
    "id": "5fe7c9ae8315498183589e3a4599eb47",
    "time": "2021-02-05T00:09:40.024Z",
    "type": "completion"
   },
   {
    "code": "#b Construct a new linear regression model using theMonthFactorvariable as an independentvariable, in addition to all four of the variables you used at the start of part(a)\nols_4 = smf.ols(formula='RAV4Sales ~ Unemployment + RAV4Queries + CPIAll + CPIEnergy + MonthFactor', data = Rav4_train)\nmodel_4 = ols_4.fit()\nprint(model_4.summary())",
    "id": "13dfffcb88a04c1993ced26360817c48",
    "idx": 16,
    "time": "2021-02-05T00:23:21.717Z",
    "type": "execution"
   },
   {
    "id": "13dfffcb88a04c1993ced26360817c48",
    "time": "2021-02-05T00:23:21.927Z",
    "type": "completion"
   },
   {
    "code": "import numpy as np\nimport pandas as pd",
    "id": "04d79f47f1be4f9f8902d5b7d873e4d2",
    "idx": 0,
    "time": "2021-02-05T11:37:35.242Z",
    "type": "execution"
   },
   {
    "code": "#Loading data\nRav4 = pd.read_csv('RAV4-142-Spring2021.csv')\nRav4.info()",
    "id": "641e39ffaaf44d1b91221a687e1d2bdc",
    "idx": 1,
    "time": "2021-02-05T11:37:35.718Z",
    "type": "execution"
   },
   {
    "id": "04d79f47f1be4f9f8902d5b7d873e4d2",
    "time": "2021-02-05T11:37:35.841Z",
    "type": "completion"
   },
   {
    "id": "641e39ffaaf44d1b91221a687e1d2bdc",
    "time": "2021-02-05T11:37:35.912Z",
    "type": "completion"
   },
   {
    "code": "Rav4.head()",
    "id": "2d05b21497914ce48744371efb01903d",
    "idx": 2,
    "time": "2021-02-05T11:37:36.128Z",
    "type": "execution"
   },
   {
    "id": "2d05b21497914ce48744371efb01903d",
    "time": "2021-02-05T11:37:36.335Z",
    "type": "completion"
   },
   {
    "code": "# Problem 2\n# a) Start  by  splitting  the  data  into  a  training  set  and  testing  set. The trainingset should contain all observations for 2011 through 2016.  \n#The testing set should have allobservations for 2017 through 2020.\n\nRav4_train = Rav4[(Rav4['Year'] >= 2011) & (Rav4['Year'] <= 2016)]\nRav4_test = Rav4[(Rav4['Year'] >= 2017) & (Rav4['Year'] <= 2020)]\n\nRav4_train.head()",
    "id": "dada0e34f4aa4d308bfadbf69eec6a55",
    "idx": 3,
    "time": "2021-02-05T11:37:36.672Z",
    "type": "execution"
   },
   {
    "id": "dada0e34f4aa4d308bfadbf69eec6a55",
    "time": "2021-02-05T11:37:36.879Z",
    "type": "completion"
   },
   {
    "code": "#i) What  is  the  linear  regression  equation  produced  by  your  model,  and  how  should  one interpret the coefficients for the independent variables?  \n#Consider interpretability issues when  writing  down  the  equation  (e.g.,  do  not  just  copy  and  paste  the  output  from Python)",
    "id": "2c7ed1e6e2794306a42924409fa18e1c",
    "idx": 4,
    "time": "2021-02-05T11:37:37.778Z",
    "type": "execution"
   },
   {
    "id": "2c7ed1e6e2794306a42924409fa18e1c",
    "time": "2021-02-05T11:37:37.956Z",
    "type": "completion"
   },
   {
    "code": "import statsmodels.api as sm\nimport statsmodels.formula.api as smf\n\nols_1 = smf.ols(formula='RAV4Sales ~ Unemployment + RAV4Queries + CPIAll + CPIEnergy ', data = Rav4_train)\nmodel_1 = ols_1.fit()\nprint(model_1.summary())",
    "id": "ace100f911e1401b86b336f5dc52b49b",
    "idx": 6,
    "time": "2021-02-05T11:38:04.550Z",
    "type": "execution"
   },
   {
    "code": "#ii) How did you select the variables to include in your linear regression model?\nfrom statsmodels.stats.outliers_influence import variance_inflation_factor\n\ndef VIF(df, columns):\n    values = sm.add_constant(df[columns]).values\n    num_columns = len(columns)+1\n    vif = [variance_inflation_factor(values, i) for i in range(num_columns)]\n    return pd.Series(vif[1:], index=columns)",
    "id": "6c897e3139ad44bf82a662a83a7be28e",
    "idx": 7,
    "time": "2021-02-05T11:38:05.383Z",
    "type": "execution"
   },
   {
    "id": "ace100f911e1401b86b336f5dc52b49b",
    "time": "2021-02-05T11:38:05.492Z",
    "type": "completion"
   },
   {
    "id": "6c897e3139ad44bf82a662a83a7be28e",
    "time": "2021-02-05T11:38:05.563Z",
    "type": "completion"
   },
   {
    "code": "cols_1 = ['Unemployment', 'RAV4Queries', 'CPIAll', 'CPIEnergy']\nVIF(Rav4_train, cols_1)",
    "id": "e7e73ac07a554ea0940254d4e0b75255",
    "idx": 8,
    "time": "2021-02-05T11:38:20.018Z",
    "type": "execution"
   },
   {
    "id": "e7e73ac07a554ea0940254d4e0b75255",
    "time": "2021-02-05T11:38:20.228Z",
    "type": "completion"
   },
   {
    "code": "ols_2 = smf.ols(formula='RAV4Sales ~ RAV4Queries + CPIAll + CPIEnergy ', data = Rav4_train)\nmodel_2 = ols_2.fit()\nprint(model_2.summary())",
    "id": "719cfc6fd9064e678cc36da61ee733d2",
    "idx": 10,
    "time": "2021-02-05T11:38:27.238Z",
    "type": "execution"
   },
   {
    "id": "719cfc6fd9064e678cc36da61ee733d2",
    "time": "2021-02-05T11:38:27.428Z",
    "type": "completion"
   },
   {
    "code": "ols_2 = smf.ols(formula='RAV4Sales ~ Unemployment + RAV4Queries + CPIEnergy ', data = Rav4_train)\nmodel_2 = ols_2.fit()\nprint(model_2.summary())",
    "id": "b78ee7e7d6d74a34b991f0e70bdd20d3",
    "idx": 10,
    "time": "2021-02-05T11:39:11.193Z",
    "type": "execution"
   },
   {
    "id": "b78ee7e7d6d74a34b991f0e70bdd20d3",
    "time": "2021-02-05T11:39:11.431Z",
    "type": "completion"
   },
   {
    "code": "ols_2 = smf.ols(formula='RAV4Sales ~ Unemployment + RAV4Queries + CPIEnergy ', data = Rav4_train)\nmodel_2 = ols_2.fit()\nprint(model_2.summary())\ncols_2 = ['RAV4Queries', 'Unemployment', 'CPIEnergy']\nVIF(Rav4_train, cols_2)",
    "id": "b78ee7e7d6d74a34b991f0e70bdd20d3",
    "idx": 10,
    "time": "2021-02-05T11:39:55.088Z",
    "type": "execution"
   },
   {
    "id": "b78ee7e7d6d74a34b991f0e70bdd20d3",
    "time": "2021-02-05T11:39:55.317Z",
    "type": "completion"
   },
   {
    "code": "ols_2 = smf.ols(formula='RAV4Sales ~ RAV4Queries + CPIAll + CPIEnergy ', data = Rav4_train)\nmodel_2 = ols_2.fit()\nprint(model_2.summary())",
    "id": "719cfc6fd9064e678cc36da61ee733d2",
    "idx": 10,
    "time": "2021-02-05T11:40:23.667Z",
    "type": "execution"
   },
   {
    "id": "719cfc6fd9064e678cc36da61ee733d2",
    "time": "2021-02-05T11:40:23.881Z",
    "type": "completion"
   },
   {
    "code": "cols_2 = ['RAV4Queries', 'CPIAll', 'CPIEnergy']\nVIF(Rav4_train, cols_2)",
    "id": "f02a32371c6846fb8fc0e5d454668858",
    "idx": 11,
    "time": "2021-02-05T11:40:25.216Z",
    "type": "execution"
   },
   {
    "id": "f02a32371c6846fb8fc0e5d454668858",
    "time": "2021-02-05T11:40:25.406Z",
    "type": "completion"
   },
   {
    "code": "cols_3 = ['CPIAll', 'CPIEnergy']\nVIF(Rav4_train, cols_3)",
    "id": "be641043c1e1450183142d893b9e6b69",
    "idx": 16,
    "time": "2021-02-05T11:41:07.685Z",
    "type": "execution"
   },
   {
    "id": "be641043c1e1450183142d893b9e6b69",
    "time": "2021-02-05T11:41:07.894Z",
    "type": "completion"
   },
   {
    "code": "#b Construct a new linear regression model using theMonthFactorvariable as an independentvariable, in addition to all four of the variables you used at the start of part(a)\nols_4 = smf.ols(formula='RAV4Sales ~ Unemployment + RAV4Queries + CPIAll + CPIEnergy + MonthFactor', data = Rav4_train)\nmodel_4 = ols_4.fit()\nprint(model_4.summary())",
    "id": "c890730fcc074de1829a2ffa46c07260",
    "idx": 18,
    "time": "2021-02-05T11:49:16.016Z",
    "type": "execution"
   },
   {
    "id": "c890730fcc074de1829a2ffa46c07260",
    "time": "2021-02-05T11:49:16.242Z",
    "type": "completion"
   },
   {
    "code": "cols_4 = ['Unemployment', 'RAV4Queries', 'CPIAll', 'CPIEnergy', 'MonthFactor']\nVIF(Rav4_train, cols_4)",
    "id": "30b5bda4ee7d48598b132534519e57d9",
    "idx": 19,
    "time": "2021-02-05T12:07:31.594Z",
    "type": "execution"
   },
   {
    "id": "30b5bda4ee7d48598b132534519e57d9",
    "time": "2021-02-05T12:07:32.272Z",
    "type": "completion"
   },
   {
    "code": "#b\n#i) Describe your new model. What is the regression equation? (Do not simply copy andpaste output  from  Python. How  should  one  interpret  the  coefficients  of  each  of  theMonthFactordummy variables?",
    "id": "f08963f2638b4901839bffc224bbe6b7",
    "idx": 20,
    "time": "2021-02-05T13:40:26.028Z",
    "type": "execution"
   },
   {
    "id": "f08963f2638b4901839bffc224bbe6b7",
    "time": "2021-02-05T13:40:26.220Z",
    "type": "completion"
   },
   {
    "code": "#Ask How to put MonthFactor in to calculate VIF\n#cols_4 = ['Unemployment', 'RAV4Queries', 'CPIAll', 'CPIEnergy', 'MonthFactor']\n#VIF(Rav4_train, cols_4)",
    "id": "9e6d5d916b2540bb8cdd794aee721588",
    "idx": 19,
    "time": "2021-02-05T13:43:11.242Z",
    "type": "execution"
   },
   {
    "code": "import numpy as np\nimport pandas as pd",
    "id": "d99bbb2ace24480e84d7394961a7e8db",
    "idx": 0,
    "time": "2021-02-06T00:05:25.632Z",
    "type": "execution"
   },
   {
    "code": "#Loading data\nRav4 = pd.read_csv('RAV4-142-Spring2021.csv')\nRav4.info()",
    "id": "a5f61c1fb4b24ca08e3ff6d1645c4687",
    "idx": 1,
    "time": "2021-02-06T00:05:25.872Z",
    "type": "execution"
   },
   {
    "code": "Rav4.head()",
    "id": "7ca5fff45001492d835ff17f6db3b603",
    "idx": 2,
    "time": "2021-02-06T00:05:26.049Z",
    "type": "execution"
   },
   {
    "id": "d99bbb2ace24480e84d7394961a7e8db",
    "time": "2021-02-06T00:05:26.198Z",
    "type": "completion"
   },
   {
    "code": "# Problem 2\n# a) Start  by  splitting  the  data  into  a  training  set  and  testing  set. The trainingset should contain all observations for 2011 through 2016.  \n#The testing set should have allobservations for 2017 through 2020.\n\nRav4_train = Rav4[(Rav4['Year'] >= 2011) & (Rav4['Year'] <= 2016)]\nRav4_test = Rav4[(Rav4['Year'] >= 2017) & (Rav4['Year'] <= 2020)]\n\nRav4_train.head()",
    "id": "41da4ca76a8941138aa43ad3922b818d",
    "idx": 3,
    "time": "2021-02-06T00:05:26.209Z",
    "type": "execution"
   },
   {
    "id": "a5f61c1fb4b24ca08e3ff6d1645c4687",
    "time": "2021-02-06T00:05:26.241Z",
    "type": "completion"
   },
   {
    "code": "#i) What  is  the  linear  regression  equation  produced  by  your  model,  and  how  should  one interpret the coefficients for the independent variables?  \n#Consider interpretability issues when  writing  down  the  equation  (e.g.,  do  not  just  copy  and  paste  the  output  from Python)",
    "id": "3e6f90a4ddcb4dce8c487cfd96989a48",
    "idx": 4,
    "time": "2021-02-06T00:05:26.366Z",
    "type": "execution"
   },
   {
    "id": "7ca5fff45001492d835ff17f6db3b603",
    "time": "2021-02-06T00:05:26.390Z",
    "type": "completion"
   },
   {
    "id": "41da4ca76a8941138aa43ad3922b818d",
    "time": "2021-02-06T00:05:26.417Z",
    "type": "completion"
   },
   {
    "id": "3e6f90a4ddcb4dce8c487cfd96989a48",
    "time": "2021-02-06T00:05:26.552Z",
    "type": "completion"
   },
   {
    "code": "import statsmodels.api as sm\nimport statsmodels.formula.api as smf\n\nols_1 = smf.ols(formula='RAV4Sales ~ Unemployment + RAV4Queries + CPIAll + CPIEnergy ', data = Rav4_train)\nmodel_1 = ols_1.fit()\nprint(model_1.summary())",
    "id": "092f014a944b4576825816074fcedc37",
    "idx": 6,
    "time": "2021-02-06T00:05:26.677Z",
    "type": "execution"
   },
   {
    "code": "#ii) How did you select the variables to include in your linear regression model?\nfrom statsmodels.stats.outliers_influence import variance_inflation_factor\n\ndef VIF(df, columns):\n    values = sm.add_constant(df[columns]).values\n    num_columns = len(columns)+1\n    vif = [variance_inflation_factor(values, i) for i in range(num_columns)]\n    return pd.Series(vif[1:], index=columns)",
    "id": "5c35798ccd1f4cfd804dfdc4460591ea",
    "idx": 7,
    "time": "2021-02-06T00:05:26.840Z",
    "type": "execution"
   },
   {
    "code": "cols_1 = ['Unemployment', 'RAV4Queries', 'CPIAll', 'CPIEnergy']\nVIF(Rav4_train, cols_1)",
    "id": "e269149165724ddbb7c727bb41caf3aa",
    "idx": 8,
    "time": "2021-02-06T00:05:27.004Z",
    "type": "execution"
   },
   {
    "code": "ols_2 = smf.ols(formula='RAV4Sales ~ RAV4Queries + CPIAll + CPIEnergy ', data = Rav4_train)\nmodel_2 = ols_2.fit()\nprint(model_2.summary())",
    "id": "ec10f73b95c1405284e7f315fd83e1ca",
    "idx": 10,
    "time": "2021-02-06T00:05:27.351Z",
    "type": "execution"
   },
   {
    "id": "092f014a944b4576825816074fcedc37",
    "time": "2021-02-06T00:05:27.618Z",
    "type": "completion"
   },
   {
    "id": "5c35798ccd1f4cfd804dfdc4460591ea",
    "time": "2021-02-06T00:05:27.623Z",
    "type": "completion"
   },
   {
    "code": "cols_2 = ['RAV4Queries', 'CPIAll', 'CPIEnergy']\nVIF(Rav4_train, cols_2)",
    "id": "e60647a1f3ac4ec885bb81fdf6bf590d",
    "idx": 11,
    "time": "2021-02-06T00:05:27.706Z",
    "type": "execution"
   },
   {
    "id": "e269149165724ddbb7c727bb41caf3aa",
    "time": "2021-02-06T00:05:27.763Z",
    "type": "completion"
   },
   {
    "id": "ec10f73b95c1405284e7f315fd83e1ca",
    "time": "2021-02-06T00:05:27.767Z",
    "type": "completion"
   },
   {
    "id": "e60647a1f3ac4ec885bb81fdf6bf590d",
    "time": "2021-02-06T00:05:27.924Z",
    "type": "completion"
   },
   {
    "code": "#iii) Do the signs of the models coefficients make sense?  Are you reasonably sure that thesigns are correct?",
    "id": "4fde0aa3fe1d4a78ab1cf38dccdab016",
    "idx": 13,
    "time": "2021-02-06T00:05:28.876Z",
    "type": "execution"
   },
   {
    "id": "4fde0aa3fe1d4a78ab1cf38dccdab016",
    "time": "2021-02-06T00:05:29.061Z",
    "type": "completion"
   },
   {
    "code": "#iv) How well does the model predict training set observations? Can you justify the models performance on the training data with a quantifiable metric?\nols_3 = smf.ols(formula='RAV4Sales ~ CPIAll + CPIEnergy', data = Rav4_train)\nmodel_3 = ols_3.fit()\nprint(model_3.summary())",
    "id": "945ee9dd36a14d4d9c47cac23bf543b0",
    "idx": 15,
    "time": "2021-02-06T00:05:29.685Z",
    "type": "execution"
   },
   {
    "id": "945ee9dd36a14d4d9c47cac23bf543b0",
    "time": "2021-02-06T00:05:29.878Z",
    "type": "completion"
   },
   {
    "code": "cols_3 = ['CPIAll', 'CPIEnergy']\nVIF(Rav4_train, cols_3)",
    "id": "2c0b79feb2cd47bb8c2ec9212477d097",
    "idx": 16,
    "time": "2021-02-06T00:05:32.993Z",
    "type": "execution"
   },
   {
    "id": "2c0b79feb2cd47bb8c2ec9212477d097",
    "time": "2021-02-06T00:05:33.188Z",
    "type": "completion"
   },
   {
    "code": "#b Construct a new linear regression model using theMonthFactorvariable as an independentvariable, in addition to all four of the variables you used at the start of part(a)\nols_4 = smf.ols(formula='RAV4Sales ~ Unemployment + RAV4Queries + CPIAll + CPIEnergy + MonthFactor', data = Rav4_train)\nmodel_4 = ols_4.fit()\nprint(model_4.summary())",
    "id": "12a3504558e84046845ffe25723b5955",
    "idx": 18,
    "time": "2021-02-06T00:05:37.161Z",
    "type": "execution"
   },
   {
    "id": "12a3504558e84046845ffe25723b5955",
    "time": "2021-02-06T00:05:37.380Z",
    "type": "completion"
   },
   {
    "code": "#Ask How to put MonthFactor in to calculate VIF\n#cols_4 = ['Unemployment', 'RAV4Queries', 'CPIAll', 'CPIEnergy', 'MonthFactor']\n#VIF(Rav4_train, cols_4)",
    "id": "0027e703f2cb4254bbc19011085b384d",
    "idx": 19,
    "time": "2021-02-06T00:05:38.948Z",
    "type": "execution"
   },
   {
    "id": "0027e703f2cb4254bbc19011085b384d",
    "time": "2021-02-06T00:05:39.132Z",
    "type": "completion"
   },
   {
    "code": "#b\n#i) Describe your new model. What is the regression equation? (Do not simply copy andpaste output  from  Python. How  should  one  interpret  the  coefficients  of  each  of  theMonthFactordummy variables?",
    "id": "315738562fef4e329aa5f6320045dea1",
    "idx": 20,
    "time": "2021-02-06T00:05:40.812Z",
    "type": "execution"
   },
   {
    "id": "315738562fef4e329aa5f6320045dea1",
    "time": "2021-02-06T00:05:40.983Z",
    "type": "completion"
   },
   {
    "code": "import numpy as np\nimport pandas as pd",
    "id": "34d1043c3e354a2f86eea8c3495087f8",
    "idx": 0,
    "time": "2021-02-06T04:11:17.500Z",
    "type": "execution"
   },
   {
    "code": "#Loading data\nRav4 = pd.read_csv('RAV4-142-Spring2021.csv')\nRav4.info()",
    "id": "e69aa2f1812944418b8a95520ff8c4eb",
    "idx": 1,
    "time": "2021-02-06T04:11:17.752Z",
    "type": "execution"
   },
   {
    "id": "34d1043c3e354a2f86eea8c3495087f8",
    "time": "2021-02-06T04:11:18.186Z",
    "type": "completion"
   },
   {
    "code": "Rav4.head()",
    "id": "d2816fd2d3674100856fb6e10dd13b50",
    "idx": 2,
    "time": "2021-02-06T04:11:18.202Z",
    "type": "execution"
   },
   {
    "id": "e69aa2f1812944418b8a95520ff8c4eb",
    "time": "2021-02-06T04:11:18.239Z",
    "type": "completion"
   },
   {
    "code": "# Problem 2\n# a) Start  by  splitting  the  data  into  a  training  set  and  testing  set. The trainingset should contain all observations for 2011 through 2016.  \n#The testing set should have allobservations for 2017 through 2020.\n\nRav4_train = Rav4[(Rav4['Year'] >= 2011) & (Rav4['Year'] <= 2016)]\nRav4_test = Rav4[(Rav4['Year'] >= 2017) & (Rav4['Year'] <= 2020)]\n\nRav4_train.head()",
    "id": "99457845853c4449ad562489c2469164",
    "idx": 3,
    "time": "2021-02-06T04:11:18.393Z",
    "type": "execution"
   },
   {
    "id": "d2816fd2d3674100856fb6e10dd13b50",
    "time": "2021-02-06T04:11:18.431Z",
    "type": "completion"
   },
   {
    "code": "#i) What  is  the  linear  regression  equation  produced  by  your  model,  and  how  should  one interpret the coefficients for the independent variables?  \n#Consider interpretability issues when  writing  down  the  equation  (e.g.,  do  not  just  copy  and  paste  the  output  from Python)",
    "id": "2571e659f5714b8f829500249f0aac93",
    "idx": 4,
    "time": "2021-02-06T04:11:18.540Z",
    "type": "execution"
   },
   {
    "id": "99457845853c4449ad562489c2469164",
    "time": "2021-02-06T04:11:18.590Z",
    "type": "completion"
   },
   {
    "id": "2571e659f5714b8f829500249f0aac93",
    "time": "2021-02-06T04:11:18.726Z",
    "type": "completion"
   },
   {
    "code": "import statsmodels.api as sm\nimport statsmodels.formula.api as smf\n\nols_1 = smf.ols(formula='RAV4Sales ~ Unemployment + RAV4Queries + CPIAll + CPIEnergy ', data = Rav4_train)\nmodel_1 = ols_1.fit()\nprint(model_1.summary())",
    "id": "78bfd1c6ae3343a2ba3e25c882eafb90",
    "idx": 6,
    "time": "2021-02-06T04:11:18.878Z",
    "type": "execution"
   },
   {
    "code": "#ii) How did you select the variables to include in your linear regression model?\nfrom statsmodels.stats.outliers_influence import variance_inflation_factor\n\ndef VIF(df, columns):\n    values = sm.add_constant(df[columns]).values\n    num_columns = len(columns)+1\n    vif = [variance_inflation_factor(values, i) for i in range(num_columns)]\n    return pd.Series(vif[1:], index=columns)",
    "id": "384bd2ee0827410a932b81256403a9fa",
    "idx": 7,
    "time": "2021-02-06T04:11:19.046Z",
    "type": "execution"
   },
   {
    "code": "cols_1 = ['Unemployment', 'RAV4Queries', 'CPIAll', 'CPIEnergy']\nVIF(Rav4_train, cols_1)",
    "id": "96285882da6749278208c900d4073724",
    "idx": 8,
    "time": "2021-02-06T04:11:19.214Z",
    "type": "execution"
   },
   {
    "code": "ols_2 = smf.ols(formula='RAV4Sales ~ RAV4Queries + CPIAll + CPIEnergy ', data = Rav4_train)\nmodel_2 = ols_2.fit()\nprint(model_2.summary())",
    "id": "e325b6e84c04455888afeb94bcec6176",
    "idx": 10,
    "time": "2021-02-06T04:11:19.561Z",
    "type": "execution"
   },
   {
    "code": "cols_2 = ['RAV4Queries', 'CPIAll', 'CPIEnergy']\nVIF(Rav4_train, cols_2)",
    "id": "05f290374a5042098f41fe5959c266ba",
    "idx": 11,
    "time": "2021-02-06T04:11:19.722Z",
    "type": "execution"
   },
   {
    "id": "78bfd1c6ae3343a2ba3e25c882eafb90",
    "time": "2021-02-06T04:11:20.039Z",
    "type": "completion"
   },
   {
    "id": "384bd2ee0827410a932b81256403a9fa",
    "time": "2021-02-06T04:11:20.043Z",
    "type": "completion"
   },
   {
    "code": "#iii) Do the signs of the models coefficients make sense?  Are you reasonably sure that thesigns are correct?",
    "id": "2a38be8720a941d1b1051599746825bf",
    "idx": 13,
    "time": "2021-02-06T04:11:20.083Z",
    "type": "execution"
   },
   {
    "id": "96285882da6749278208c900d4073724",
    "time": "2021-02-06T04:11:20.188Z",
    "type": "completion"
   },
   {
    "id": "e325b6e84c04455888afeb94bcec6176",
    "time": "2021-02-06T04:11:20.190Z",
    "type": "completion"
   },
   {
    "id": "05f290374a5042098f41fe5959c266ba",
    "time": "2021-02-06T04:11:20.191Z",
    "type": "completion"
   },
   {
    "id": "2a38be8720a941d1b1051599746825bf",
    "time": "2021-02-06T04:11:20.254Z",
    "type": "completion"
   },
   {
    "code": "#iv) How well does the model predict training set observations? Can you justify the models performance on the training data with a quantifiable metric?\nols_3 = smf.ols(formula='RAV4Sales ~ CPIAll + CPIEnergy', data = Rav4_train)\nmodel_3 = ols_3.fit()\nprint(model_3.summary())",
    "id": "ceb8d2bab928478f82a9739b772bcbfc",
    "idx": 15,
    "time": "2021-02-06T04:11:20.453Z",
    "type": "execution"
   },
   {
    "code": "cols_3 = ['CPIAll', 'CPIEnergy']\nVIF(Rav4_train, cols_3)",
    "id": "3adc4ac387a142ea87be580d1f8d7bbc",
    "idx": 16,
    "time": "2021-02-06T04:11:20.633Z",
    "type": "execution"
   },
   {
    "id": "ceb8d2bab928478f82a9739b772bcbfc",
    "time": "2021-02-06T04:11:20.659Z",
    "type": "completion"
   },
   {
    "id": "3adc4ac387a142ea87be580d1f8d7bbc",
    "time": "2021-02-06T04:11:20.820Z",
    "type": "completion"
   },
   {
    "code": "#b Construct a new linear regression model using theMonthFactorvariable as an independentvariable, in addition to all four of the variables you used at the start of part(a)\nols_4 = smf.ols(formula='RAV4Sales ~ Unemployment + RAV4Queries + CPIAll + CPIEnergy + MonthFactor', data = Rav4_train)\nmodel_4 = ols_4.fit()\nprint(model_4.summary())",
    "id": "4419553d132f447b866075935cd9f1e7",
    "idx": 18,
    "time": "2021-02-06T04:11:21.514Z",
    "type": "execution"
   },
   {
    "id": "4419553d132f447b866075935cd9f1e7",
    "time": "2021-02-06T04:11:21.765Z",
    "type": "completion"
   },
   {
    "code": "#One Hot Encoding for MonthFactor\n\nall_columns = ['MonthFactor[T.January]', \n               'MonthFactor[T.February]',\n               'MonthFactor[T.March]',\n               'MonthFactor[T.May]',\n               'MonthFactor[T.June]',\n               'MonthFactor[T.July]',\n               'MonthFactor[T.August]\n               \n               \n               \n               \n               \n               \n\nrecords = walmart[all_columns].to_dict(orient='records')\nencoder = DictVectorizer(sparse=False)\nencoded_X = encoder.fit_transform(records)\nencoded_X",
    "id": "f18390a38bfb464f8bf1b5632bc0b3de",
    "idx": 19,
    "time": "2021-02-06T04:11:24.505Z",
    "type": "execution"
   },
   {
    "id": "f18390a38bfb464f8bf1b5632bc0b3de",
    "time": "2021-02-06T04:11:24.719Z",
    "type": "completion"
   },
   {
    "code": "#One Hot Encoding for MonthFactor\n\nall_columns = ['MonthFactor[T.January]', \n               'MonthFactor[T.February]',\n               'MonthFactor[T.March]',\n               'MonthFactor[T.May]',\n               'MonthFactor[T.June]',\n               'MonthFactor[T.July]',\n               'MonthFactor[T.August]',\n               'MonthFactor[T.September]',\n               'MonthFactor[T.October]',\n               'MonthFactor[T.November]',\n               'MonthFactor[T.December]']\n\nrecords = Rav4_train[all_columns].to_dict(orient = 'records')\nencoder = DictVectorizer(sparse = False)\nencoded_x = encoder.fit_transform(records)\nencoded_x\n\n",
    "id": "f18390a38bfb464f8bf1b5632bc0b3de",
    "idx": 19,
    "time": "2021-02-06T04:11:49.432Z",
    "type": "execution"
   },
   {
    "id": "f18390a38bfb464f8bf1b5632bc0b3de",
    "time": "2021-02-06T04:11:49.946Z",
    "type": "completion"
   },
   {
    "code": "Rav4_train['MonthFactor']",
    "id": "9c34d37202da4b6f825aef7c52ec7a7e",
    "idx": 19,
    "time": "2021-02-06T04:20:22.944Z",
    "type": "execution"
   },
   {
    "id": "9c34d37202da4b6f825aef7c52ec7a7e",
    "time": "2021-02-06T04:20:23.133Z",
    "type": "completion"
   },
   {
    "code": "Rav4_train['MonthFactor[T.January]'']",
    "id": "9c34d37202da4b6f825aef7c52ec7a7e",
    "idx": 19,
    "time": "2021-02-06T04:20:57.463Z",
    "type": "execution"
   },
   {
    "id": "9c34d37202da4b6f825aef7c52ec7a7e",
    "time": "2021-02-06T04:20:57.640Z",
    "type": "completion"
   },
   {
    "code": "Rav4_train['MonthFactor[T.January]]",
    "id": "9c34d37202da4b6f825aef7c52ec7a7e",
    "idx": 19,
    "time": "2021-02-06T04:21:01.048Z",
    "type": "execution"
   },
   {
    "id": "9c34d37202da4b6f825aef7c52ec7a7e",
    "time": "2021-02-06T04:21:01.222Z",
    "type": "completion"
   },
   {
    "code": "Rav4_train['MonthFactor[T.January]']",
    "id": "9c34d37202da4b6f825aef7c52ec7a7e",
    "idx": 19,
    "time": "2021-02-06T04:21:04.615Z",
    "type": "execution"
   },
   {
    "id": "9c34d37202da4b6f825aef7c52ec7a7e",
    "time": "2021-02-06T04:21:04.952Z",
    "type": "completion"
   },
   {
    "code": "Rav4_train['MonthFactor[January]']",
    "id": "9c34d37202da4b6f825aef7c52ec7a7e",
    "idx": 19,
    "time": "2021-02-06T04:21:09.960Z",
    "type": "execution"
   },
   {
    "id": "9c34d37202da4b6f825aef7c52ec7a7e",
    "time": "2021-02-06T04:21:10.309Z",
    "type": "completion"
   },
   {
    "code": "Rav4_train['MonthFactor'] == January]",
    "id": "9c34d37202da4b6f825aef7c52ec7a7e",
    "idx": 19,
    "time": "2021-02-06T04:21:49.583Z",
    "type": "execution"
   },
   {
    "id": "9c34d37202da4b6f825aef7c52ec7a7e",
    "time": "2021-02-06T04:21:49.771Z",
    "type": "completion"
   },
   {
    "code": "#Rav4_train = Rav4[(Rav4['Year'] >= 2011) & (Rav4['Year'] <= 2016)]\n\nJan = Rav4_train[(Rav4_train['MonthFactor'] == January)]",
    "id": "9c34d37202da4b6f825aef7c52ec7a7e",
    "idx": 19,
    "time": "2021-02-06T04:25:50.606Z",
    "type": "execution"
   },
   {
    "id": "9c34d37202da4b6f825aef7c52ec7a7e",
    "time": "2021-02-06T04:25:50.820Z",
    "type": "completion"
   },
   {
    "code": "#Rav4_train = Rav4[(Rav4['Year'] >= 2011) & (Rav4['Year'] <= 2016)]\n\nJan = Rav4_train[(Rav4_train['MonthFactor'] == T.January)]",
    "id": "9c34d37202da4b6f825aef7c52ec7a7e",
    "idx": 19,
    "time": "2021-02-06T04:26:02.050Z",
    "type": "execution"
   },
   {
    "id": "9c34d37202da4b6f825aef7c52ec7a7e",
    "time": "2021-02-06T04:26:02.239Z",
    "type": "completion"
   },
   {
    "code": "#Rav4_train = Rav4[(Rav4['Year'] >= 2011) & (Rav4['Year'] <= 2016)]\n\nJan = Rav4_train[(Rav4_train['MonthFactor'] == MonthFactor[T.January])]",
    "id": "9c34d37202da4b6f825aef7c52ec7a7e",
    "idx": 19,
    "time": "2021-02-06T04:26:31.111Z",
    "type": "execution"
   },
   {
    "id": "9c34d37202da4b6f825aef7c52ec7a7e",
    "time": "2021-02-06T04:26:31.292Z",
    "type": "completion"
   },
   {
    "code": "#One Hot Encoding for MonthFactor\n\n\n",
    "id": "f18390a38bfb464f8bf1b5632bc0b3de",
    "idx": 19,
    "time": "2021-02-06T04:29:59.391Z",
    "type": "execution"
   },
   {
    "id": "f18390a38bfb464f8bf1b5632bc0b3de",
    "time": "2021-02-06T04:29:59.585Z",
    "type": "completion"
   },
   {
    "code": "import numpy as np\nimport pandas as pd",
    "id": "712d528826074508bb83d77b6029fb7d",
    "idx": 0,
    "time": "2021-02-07T09:39:23.756Z",
    "type": "execution"
   },
   {
    "code": "#Loading data\nRav4 = pd.read_csv('RAV4-142-Spring2021.csv')\nRav4.info()",
    "id": "5df4abac4c9c472b8a88ae22822a21d5",
    "idx": 1,
    "time": "2021-02-07T09:39:24.298Z",
    "type": "execution"
   },
   {
    "id": "712d528826074508bb83d77b6029fb7d",
    "time": "2021-02-07T09:39:24.397Z",
    "type": "completion"
   },
   {
    "id": "5df4abac4c9c472b8a88ae22822a21d5",
    "time": "2021-02-07T09:39:24.508Z",
    "type": "completion"
   },
   {
    "code": "Rav4.head()",
    "id": "5c6728fec411437fa649f252894505d6",
    "idx": 2,
    "time": "2021-02-07T10:02:52.870Z",
    "type": "execution"
   },
   {
    "id": "5c6728fec411437fa649f252894505d6",
    "time": "2021-02-07T10:02:53.279Z",
    "type": "completion"
   },
   {
    "code": "# Problem 2\n# a) Start  by  splitting  the  data  into  a  training  set  and  testing  set. The trainingset should contain all observations for 2011 through 2016.  \n#The testing set should have allobservations for 2017 through 2020.\n\nRav4_train = Rav4[(Rav4['Year'] >= 2011) & (Rav4['Year'] <= 2016)]\nRav4_test = Rav4[(Rav4['Year'] >= 2017) & (Rav4['Year'] <= 2020)]\n\nRav4_train.head()",
    "id": "078a7af0fa31426083dc6051df05fae9",
    "idx": 3,
    "time": "2021-02-07T10:02:53.856Z",
    "type": "execution"
   },
   {
    "id": "078a7af0fa31426083dc6051df05fae9",
    "time": "2021-02-07T10:02:54.081Z",
    "type": "completion"
   },
   {
    "code": "#i) What  is  the  linear  regression  equation  produced  by  your  model,  and  how  should  one interpret the coefficients for the independent variables?  \n#Consider interpretability issues when  writing  down  the  equation  (e.g.,  do  not  just  copy  and  paste  the  output  from Python)",
    "id": "c479361d73054b408329692629fef490",
    "idx": 4,
    "time": "2021-02-07T10:02:54.581Z",
    "type": "execution"
   },
   {
    "id": "c479361d73054b408329692629fef490",
    "time": "2021-02-07T10:02:54.764Z",
    "type": "completion"
   },
   {
    "code": "import numpy as np\nimport pandas as pd",
    "id": "cbd392e1c44948eba91ab744fef3ba94",
    "idx": 0,
    "time": "2021-02-07T14:55:12.107Z",
    "type": "execution"
   },
   {
    "code": "#Loading data\nRav4 = pd.read_csv('RAV4-142-Spring2021.csv')\nRav4.info()",
    "id": "0aa705a5b4d7496984e1d9e1389c8653",
    "idx": 1,
    "time": "2021-02-07T14:55:12.319Z",
    "type": "execution"
   },
   {
    "code": "Rav4.head()",
    "id": "26f8667ef597404780e5069bd217793b",
    "idx": 2,
    "time": "2021-02-07T14:55:12.544Z",
    "type": "execution"
   },
   {
    "code": "# Problem 2\n# a) Start  by  splitting  the  data  into  a  training  set  and  testing  set. The trainingset should contain all observations for 2011 through 2016.  \n#The testing set should have allobservations for 2017 through 2020.\n\nRav4_train = Rav4[(Rav4['Year'] >= 2011) & (Rav4['Year'] <= 2016)]\nRav4_test = Rav4[(Rav4['Year'] >= 2017) & (Rav4['Year'] <= 2020)]\n\nRav4_train.head()",
    "id": "1aa96623bd4c4bb3b770b2178e0a53b3",
    "idx": 3,
    "time": "2021-02-07T14:55:12.753Z",
    "type": "execution"
   },
   {
    "id": "cbd392e1c44948eba91ab744fef3ba94",
    "time": "2021-02-07T14:55:12.789Z",
    "type": "completion"
   },
   {
    "id": "0aa705a5b4d7496984e1d9e1389c8653",
    "time": "2021-02-07T14:55:12.941Z",
    "type": "completion"
   },
   {
    "code": "#i) What  is  the  linear  regression  equation  produced  by  your  model,  and  how  should  one interpret the coefficients for the independent variables?  \n#Consider interpretability issues when  writing  down  the  equation  (e.g.,  do  not  just  copy  and  paste  the  output  from Python)",
    "id": "1b932183255a4952831063672ddc9b6c",
    "idx": 4,
    "time": "2021-02-07T14:55:12.945Z",
    "type": "execution"
   },
   {
    "id": "26f8667ef597404780e5069bd217793b",
    "time": "2021-02-07T14:55:12.969Z",
    "type": "completion"
   },
   {
    "id": "1aa96623bd4c4bb3b770b2178e0a53b3",
    "time": "2021-02-07T14:55:12.992Z",
    "type": "completion"
   },
   {
    "id": "1b932183255a4952831063672ddc9b6c",
    "time": "2021-02-07T14:55:13.122Z",
    "type": "completion"
   },
   {
    "code": "import statsmodels.api as sm\nimport statsmodels.formula.api as smf\n\nols_1 = smf.ols(formula='RAV4Sales ~ Unemployment + RAV4Queries + CPIAll + CPIEnergy ', data = Rav4_train)\nmodel_1 = ols_1.fit()\nprint(model_1.summary())",
    "id": "77aa60230ccc4db185e7c4257fcf0b42",
    "idx": 6,
    "time": "2021-02-07T14:55:13.428Z",
    "type": "execution"
   },
   {
    "code": "#ii) How did you select the variables to include in your linear regression model?\nfrom statsmodels.stats.outliers_influence import variance_inflation_factor\n\ndef VIF(df, columns):\n    values = sm.add_constant(df[columns]).values\n    num_columns = len(columns)+1\n    vif = [variance_inflation_factor(values, i) for i in range(num_columns)]\n    return pd.Series(vif[1:], index=columns)",
    "id": "5d4aca45c7ee459f8f30a224c1171dc2",
    "idx": 7,
    "time": "2021-02-07T14:55:13.672Z",
    "type": "execution"
   },
   {
    "code": "cols_1 = ['Unemployment', 'RAV4Queries', 'CPIAll', 'CPIEnergy']\nVIF(Rav4_train, cols_1)",
    "id": "7c8191f0b7074ab4a91a26c1bbbb219d",
    "idx": 8,
    "time": "2021-02-07T14:55:13.982Z",
    "type": "execution"
   },
   {
    "id": "77aa60230ccc4db185e7c4257fcf0b42",
    "time": "2021-02-07T14:55:14.561Z",
    "type": "completion"
   },
   {
    "id": "5d4aca45c7ee459f8f30a224c1171dc2",
    "time": "2021-02-07T14:55:14.563Z",
    "type": "completion"
   },
   {
    "id": "7c8191f0b7074ab4a91a26c1bbbb219d",
    "time": "2021-02-07T14:55:14.711Z",
    "type": "completion"
   },
   {
    "code": "ols_2 = smf.ols(formula='RAV4Sales ~ RAV4Queries + CPIAll + CPIEnergy ', data = Rav4_train)\nmodel_2 = ols_2.fit()\nprint(model_2.summary())",
    "id": "f71c9bda6ced42408c8675a53797b387",
    "idx": 10,
    "time": "2021-02-07T14:55:14.828Z",
    "type": "execution"
   },
   {
    "id": "f71c9bda6ced42408c8675a53797b387",
    "time": "2021-02-07T14:55:15.050Z",
    "type": "completion"
   },
   {
    "code": "cols_2 = ['RAV4Queries', 'CPIAll', 'CPIEnergy']\nVIF(Rav4_train, cols_2)",
    "id": "484447ed9e6c439e83ecbb18cfb093b2",
    "idx": 11,
    "time": "2021-02-07T14:55:20.422Z",
    "type": "execution"
   },
   {
    "id": "484447ed9e6c439e83ecbb18cfb093b2",
    "time": "2021-02-07T14:55:20.622Z",
    "type": "completion"
   },
   {
    "code": "#iii) Do the signs of the models coefficients make sense?  Are you reasonably sure that thesigns are correct?",
    "id": "b7b16f6881cc48d183bdf26aa2276116",
    "idx": 13,
    "time": "2021-02-07T14:55:26.079Z",
    "type": "execution"
   },
   {
    "id": "b7b16f6881cc48d183bdf26aa2276116",
    "time": "2021-02-07T14:55:26.268Z",
    "type": "completion"
   },
   {
    "code": "#iv) How well does the model predict training set observations? Can you justify the models performance on the training data with a quantifiable metric?\nols_3 = smf.ols(formula='RAV4Sales ~ CPIAll + CPIEnergy', data = Rav4_train)\nmodel_3 = ols_3.fit()\nprint(model_3.summary())",
    "id": "f02d6336feed43d08f94b92a6e72be6c",
    "idx": 15,
    "time": "2021-02-07T14:55:27.639Z",
    "type": "execution"
   },
   {
    "id": "f02d6336feed43d08f94b92a6e72be6c",
    "time": "2021-02-07T14:55:27.841Z",
    "type": "completion"
   },
   {
    "code": "cols_3 = ['CPIAll', 'CPIEnergy']\nVIF(Rav4_train, cols_3)",
    "id": "47da53b00dfd4f78bc1f888ae7da1c4d",
    "idx": 16,
    "time": "2021-02-07T14:55:29.991Z",
    "type": "execution"
   },
   {
    "id": "47da53b00dfd4f78bc1f888ae7da1c4d",
    "time": "2021-02-07T14:55:30.189Z",
    "type": "completion"
   },
   {
    "code": "#b \n#Construct a new linear regression model using theMonthFactorvariable as an independentvariable, in addition to all four of the variables you used at the start of part(a)\nols_4 = smf.ols(formula='RAV4Sales ~ Unemployment + RAV4Queries + CPIAll + CPIEnergy + MonthFactor', data = Rav4_train)\nmodel_4 = ols_4.fit()\nprint(model_4.summary())",
    "id": "32472eaf28b04f938bd54aae327821e8",
    "idx": 18,
    "time": "2021-02-07T15:49:00.661Z",
    "type": "execution"
   },
   {
    "id": "32472eaf28b04f938bd54aae327821e8",
    "time": "2021-02-07T15:49:00.902Z",
    "type": "completion"
   },
   {
    "code": "sns.set_theme(style=\"darkgrid\")\n# Load an example dataset with long-form data\nfmri = sns.load_dataset(\"fmri\")\n\n# Plot the responses for different events and regions\ng = sns.lineplot(x=\"Year\", y=\"LogAuction\", hue=\"Winery\", data=wine_new)\nplt.legend(bbox_to_anchor=(1.05, 1), loc=2, borderaxespad=0.)",
    "id": "687933826289407f90dc397366255cb0",
    "idx": 20,
    "time": "2021-02-07T15:49:02.365Z",
    "type": "execution"
   },
   {
    "id": "687933826289407f90dc397366255cb0",
    "time": "2021-02-07T15:49:02.842Z",
    "type": "completion"
   },
   {
    "code": "sns.set_theme(style=\"darkgrid\")\n# Load an example dataset with long-form data\n#fmri = sns.load_dataset(\"fmri\")\n\n# Plot the responses for different events and regions\ng = sns.lineplot(x=\"Year\", y=\"RAV4Sales\", hue=\"MonthFactor\", data=Rav4)\nplt.legend(bbox_to_anchor=(1.05, 1), loc=2, borderaxespad=0.)",
    "id": "687933826289407f90dc397366255cb0",
    "idx": 20,
    "time": "2021-02-07T15:51:26.346Z",
    "type": "execution"
   },
   {
    "id": "687933826289407f90dc397366255cb0",
    "time": "2021-02-07T15:51:26.586Z",
    "type": "completion"
   },
   {
    "code": "sns.set_theme(style=\"darkgrid\")\n# Load an example dataset with long-form data\nfmri = sns.load_dataset(\"fmri\")\n\n# Plot the responses for different events and regions\ng = sns.lineplot(x=\"Year\", y=\"RAV4Sales\", hue=\"MonthFactor\", data=Rav4)\nplt.legend(bbox_to_anchor=(1.05, 1), loc=2, borderaxespad=0.)",
    "id": "687933826289407f90dc397366255cb0",
    "idx": 20,
    "time": "2021-02-07T15:51:31.688Z",
    "type": "execution"
   },
   {
    "id": "687933826289407f90dc397366255cb0",
    "time": "2021-02-07T15:51:31.884Z",
    "type": "completion"
   },
   {
    "code": "sns.set_theme(style=\"darkgrid\")\n# Load an example dataset with long-form data\nimport seaborn as sns\nfmri = sns.load_dataset(\"fmri\")\n\n# Plot the responses for different events and regions\ng = sns.lineplot(x=\"Year\", y=\"RAV4Sales\", hue=\"MonthFactor\", data=Rav4)\nplt.legend(bbox_to_anchor=(1.05, 1), loc=2, borderaxespad=0.)",
    "id": "687933826289407f90dc397366255cb0",
    "idx": 20,
    "time": "2021-02-07T15:51:54.373Z",
    "type": "execution"
   },
   {
    "id": "687933826289407f90dc397366255cb0",
    "time": "2021-02-07T15:51:54.566Z",
    "type": "completion"
   },
   {
    "code": "import seaborn as sns\nsns.set_theme(style=\"darkgrid\")\n# Load an example dataset with long-form data\nfmri = sns.load_dataset(\"fmri\")\n\n# Plot the responses for different events and regions\ng = sns.lineplot(x=\"Year\", y=\"RAV4Sales\", hue=\"MonthFactor\", data=Rav4)\nplt.legend(bbox_to_anchor=(1.05, 1), loc=2, borderaxespad=0.)",
    "id": "687933826289407f90dc397366255cb0",
    "idx": 20,
    "time": "2021-02-07T15:52:41.464Z",
    "type": "execution"
   },
   {
    "id": "687933826289407f90dc397366255cb0",
    "time": "2021-02-07T15:52:43.170Z",
    "type": "completion"
   },
   {
    "code": "import seaborn as sns\nimport matplotlib.pyplot as plt\nsns.set_theme(style=\"darkgrid\")\n# Load an example dataset with long-form data\nfmri = sns.load_dataset(\"fmri\")\n\n# Plot the responses for different events and regions\ng = sns.lineplot(x=\"Year\", y=\"RAV4Sales\", hue=\"MonthFactor\", data=Rav4)\nplt.legend(bbox_to_anchor=(1.05, 1), loc=2, borderaxespad=0.)",
    "id": "687933826289407f90dc397366255cb0",
    "idx": 20,
    "time": "2021-02-07T15:52:58.381Z",
    "type": "execution"
   },
   {
    "id": "687933826289407f90dc397366255cb0",
    "time": "2021-02-07T15:52:59.606Z",
    "type": "completion"
   },
   {
    "code": "#Visualization to see how RAV4Sales are on each month\nimport seaborn as sns\nimport matplotlib.pyplot as plt\nsns.set_theme(style=\"darkgrid\")\n# Load an example dataset with long-form data\n#fmri = sns.load_dataset(\"fmri\")\n\n# Plot the responses for different events and regions\ng = sns.lineplot(x=\"Year\", y=\"RAV4Sales\", hue=\"MonthFactor\", data=Rav4)\nplt.legend(bbox_to_anchor=(1.05, 1), loc=2, borderaxespad=0.)",
    "id": "687933826289407f90dc397366255cb0",
    "idx": 20,
    "time": "2021-02-07T15:53:49.906Z",
    "type": "execution"
   },
   {
    "id": "687933826289407f90dc397366255cb0",
    "time": "2021-02-07T15:53:51.119Z",
    "type": "completion"
   },
   {
    "code": "#Visualization to see how RAV4Sales are on each month\nimport seaborn as sns\nimport matplotlib.pyplot as plt\nsns.set_theme(style=\"darkgrid\")\n# Load an example dataset with long-form data\nfmri = sns.load_dataset(\"fmri\")\n\n# Plot the responses for different events and regions\ng = sns.lineplot(x=\"Year\", y=\"RAV4Sales\", hue=\"MonthFactor\", data=Rav4)\nplt.legend(bbox_to_anchor=(1.05, 1), loc=2, borderaxespad=0.)",
    "id": "687933826289407f90dc397366255cb0",
    "idx": 20,
    "time": "2021-02-07T15:54:01.537Z",
    "type": "execution"
   },
   {
    "id": "687933826289407f90dc397366255cb0",
    "time": "2021-02-07T15:54:02.676Z",
    "type": "completion"
   },
   {
    "code": "import seaborn as sns\nimport matplotlib.pyplot as plt\nsns.set_theme(style=\"darkgrid\")\n# Load an example dataset with long-form data\nfmri = sns.load_dataset(\"fmri\")\n\n# Plot the responses for different events and regions\ng = sns.lineplot(x=\"Year\", y=\"RAV4Sales\", hue=\"MonthFactor\", data=Rav4)\nplt.legend(bbox_to_anchor=(1.05, 1), loc=2, borderaxespad=0.)",
    "id": "687933826289407f90dc397366255cb0",
    "idx": 21,
    "time": "2021-02-07T15:56:26.023Z",
    "type": "execution"
   },
   {
    "id": "687933826289407f90dc397366255cb0",
    "time": "2021-02-07T15:56:27.214Z",
    "type": "completion"
   },
   {
    "code": "import seaborn as sns\nimport matplotlib.pyplot as plt\nsns.set_theme(style=\"darkgrid\")\n# Load an example dataset with long-form data\nfmri = sns.load_dataset(\"fmri\")\n\n# Plot the responses for different events and regions\ng = sns.lineplot(x=\"Year\", y=\"RAV4Sales\", hue=\"MonthFactor\", data=Rav4_train)\nplt.legend(bbox_to_anchor=(1.05, 1), loc=2, borderaxespad=0.)",
    "id": "687933826289407f90dc397366255cb0",
    "idx": 21,
    "time": "2021-02-07T15:58:14.366Z",
    "type": "execution"
   },
   {
    "id": "687933826289407f90dc397366255cb0",
    "time": "2021-02-07T15:58:15.635Z",
    "type": "completion"
   },
   {
    "code": "Rav4_train2 = Rav4_train[(Rav4_train['MonthFRactor'] == 'January') | (Rav4_train['MonthFRactor'] == 'February')]\n\ng = sns.lineplot(x=\"Year\", y=\"RAV4Sales\", hue=\"MonthFactor\", data=Rav4_train2).set_title(\"RAV4 Sales for Jan and Feb\")\n\n",
    "id": "492401dc207c4a738538ddd65e03a74a",
    "idx": 22,
    "time": "2021-02-07T16:00:35.570Z",
    "type": "execution"
   },
   {
    "id": "492401dc207c4a738538ddd65e03a74a",
    "time": "2021-02-07T16:00:35.947Z",
    "type": "completion"
   },
   {
    "code": "Rav4_train2 = Rav4_train[(Rav4_train['MonthFactor'] == 'January') | (Rav4_train['MonthFactor'] == 'February')]\n\ng = sns.lineplot(x=\"Year\", y=\"RAV4Sales\", hue=\"MonthFactor\", data=Rav4_train2).set_title(\"RAV4 Sales for Jan and Feb\")\n\n",
    "id": "492401dc207c4a738538ddd65e03a74a",
    "idx": 22,
    "time": "2021-02-07T16:00:46.823Z",
    "type": "execution"
   },
   {
    "id": "492401dc207c4a738538ddd65e03a74a",
    "time": "2021-02-07T16:00:47.635Z",
    "type": "completion"
   },
   {
    "code": "Rav4_train2 = Rav4_train[(Rav4_train['MonthFactor'] == 'January') | (Rav4_train['MonthFactor'] == 'February')]\n\ng = sns.lineplot(x=\"Year\", y=\"RAV4Sales\", hue=\"MonthFactor\", data=Rav4_train2).set_title(\"RAV4 Sales for Jan and Feb\")\nplt.legend(bbox_to_anchor=(1.05, 1), loc=2, borderaxespad=0.)",
    "id": "492401dc207c4a738538ddd65e03a74a",
    "idx": 22,
    "time": "2021-02-07T16:00:59.135Z",
    "type": "execution"
   },
   {
    "id": "492401dc207c4a738538ddd65e03a74a",
    "time": "2021-02-07T16:00:59.875Z",
    "type": "completion"
   },
   {
    "code": "#b \n#Construct a new linear regression model using theMonthFactorvariable as an independentvariable, in addition to all four of the variables you used at the start of part(a)\nols_4 = smf.ols(formula='RAV4Sales ~ MonthFactor + Unemployment + RAV4Queries + CPIAll + CPIEnergy', data = Rav4_train)\nmodel_4 = ols_4.fit()\nprint(model_4.summary())",
    "id": "32472eaf28b04f938bd54aae327821e8",
    "idx": 18,
    "time": "2021-02-07T16:03:05.619Z",
    "type": "execution"
   },
   {
    "id": "32472eaf28b04f938bd54aae327821e8",
    "time": "2021-02-07T16:03:05.860Z",
    "type": "completion"
   },
   {
    "code": "import numpy as np\nimport pandas as pd",
    "id": "c4c65613f88c4dc283d089509c597035",
    "idx": 0,
    "time": "2021-02-09T00:29:12.105Z",
    "type": "execution"
   },
   {
    "code": "#Loading data\nRav4 = pd.read_csv('RAV4-142-Spring2021.csv')\nRav4.info()",
    "id": "8503e140d4b64977b34949ff2f6aee35",
    "idx": 1,
    "time": "2021-02-09T00:29:12.109Z",
    "type": "execution"
   },
   {
    "code": "Rav4.head()",
    "id": "c5fd425170d34cc58daf29ca8ceeb5cd",
    "idx": 2,
    "time": "2021-02-09T00:29:12.112Z",
    "type": "execution"
   },
   {
    "code": "# Problem 2\n# a) Start  by  splitting  the  data  into  a  training  set  and  testing  set. The trainingset should contain all observations for 2011 through 2016.  \n#The testing set should have allobservations for 2017 through 2020.\n\nRav4_train = Rav4[(Rav4['Year'] >= 2011) & (Rav4['Year'] <= 2016)]\nRav4_test = Rav4[(Rav4['Year'] >= 2017) & (Rav4['Year'] <= 2020)]\n\nRav4_train.head()",
    "id": "7d4ab9ae43b8429a9e4ac77ebf78a81d",
    "idx": 3,
    "time": "2021-02-09T00:29:12.113Z",
    "type": "execution"
   },
   {
    "code": "#i) What  is  the  linear  regression  equation  produced  by  your  model,  and  how  should  one interpret the coefficients for the independent variables?  \n#Consider interpretability issues when  writing  down  the  equation  (e.g.,  do  not  just  copy  and  paste  the  output  from Python)",
    "id": "0d55726c81cf444c82aa0c267deb62e1",
    "idx": 4,
    "time": "2021-02-09T00:29:12.116Z",
    "type": "execution"
   },
   {
    "code": "import statsmodels.api as sm\nimport statsmodels.formula.api as smf\n\nols_1 = smf.ols(formula='RAV4Sales ~ Unemployment + RAV4Queries + CPIAll + CPIEnergy ', data = Rav4_train)\nmodel_1 = ols_1.fit()\nprint(model_1.summary())",
    "id": "f7fcbe5ebf2645998e4de98273b7f80c",
    "idx": 6,
    "time": "2021-02-09T00:29:12.117Z",
    "type": "execution"
   },
   {
    "code": "#ii) How did you select the variables to include in your linear regression model?\nfrom statsmodels.stats.outliers_influence import variance_inflation_factor\n\ndef VIF(df, columns):\n    values = sm.add_constant(df[columns]).values\n    num_columns = len(columns)+1\n    vif = [variance_inflation_factor(values, i) for i in range(num_columns)]\n    return pd.Series(vif[1:], index=columns)",
    "id": "c6437f2f1fb641cd83987758428f75b4",
    "idx": 7,
    "time": "2021-02-09T00:29:12.119Z",
    "type": "execution"
   },
   {
    "code": "cols_1 = ['Unemployment', 'RAV4Queries', 'CPIAll', 'CPIEnergy']\nVIF(Rav4_train, cols_1)",
    "id": "b1eecf6225f54f5d8f9fed03c9449248",
    "idx": 8,
    "time": "2021-02-09T00:29:12.120Z",
    "type": "execution"
   },
   {
    "code": "ols_2 = smf.ols(formula='RAV4Sales ~ RAV4Queries + CPIAll + CPIEnergy ', data = Rav4_train)\nmodel_2 = ols_2.fit()\nprint(model_2.summary())",
    "id": "902aad0de05b4b58936427531c6bab08",
    "idx": 10,
    "time": "2021-02-09T00:29:12.122Z",
    "type": "execution"
   },
   {
    "code": "cols_2 = ['RAV4Queries', 'CPIAll', 'CPIEnergy']\nVIF(Rav4_train, cols_2)",
    "id": "110b047848be473e888b0c77c6d3036c",
    "idx": 11,
    "time": "2021-02-09T00:29:12.123Z",
    "type": "execution"
   },
   {
    "code": "#iii) Do the signs of the models coefficients make sense?  Are you reasonably sure that thesigns are correct?",
    "id": "fbfb7b8375c14f7c8798dddfe83daa79",
    "idx": 13,
    "time": "2021-02-09T00:29:12.124Z",
    "type": "execution"
   },
   {
    "code": "#iv) How well does the model predict training set observations? Can you justify the models performance on the training data with a quantifiable metric?\nols_3 = smf.ols(formula='RAV4Sales ~ CPIAll + CPIEnergy', data = Rav4_train)\nmodel_3 = ols_3.fit()\nprint(model_3.summary())",
    "id": "14ef0422dabb46668d41cbf35fd217bd",
    "idx": 15,
    "time": "2021-02-09T00:29:12.126Z",
    "type": "execution"
   },
   {
    "code": "cols_3 = ['CPIAll', 'CPIEnergy']\nVIF(Rav4_train, cols_3)",
    "id": "1bd2479df1644220800cbfcb15ecc15a",
    "idx": 16,
    "time": "2021-02-09T00:29:12.127Z",
    "type": "execution"
   },
   {
    "code": "#b \n#Construct a new linear regression model using theMonthFactorvariable as an independentvariable, in addition to all four of the variables you used at the start of part(a)\nols_4 = smf.ols(formula='RAV4Sales ~ MonthFactor + Unemployment + RAV4Queries + CPIAll + CPIEnergy', data = Rav4_train)\nmodel_4 = ols_4.fit()\nprint(model_4.summary())",
    "id": "81ba1c01c9bc41c6889d2b798f6fc0fd",
    "idx": 18,
    "time": "2021-02-09T00:29:12.128Z",
    "type": "execution"
   },
   {
    "code": "import seaborn as sns\nimport matplotlib.pyplot as plt\nsns.set_theme(style=\"darkgrid\")\n# Load an example dataset with long-form data\nfmri = sns.load_dataset(\"fmri\")\n\n# Plot the responses for different events and regions\ng = sns.lineplot(x=\"Year\", y=\"RAV4Sales\", hue=\"MonthFactor\", data=Rav4_train)\nplt.legend(bbox_to_anchor=(1.05, 1), loc=2, borderaxespad=0.)",
    "id": "ee5aa9a7af0042f994747c24adfacfc0",
    "idx": 21,
    "time": "2021-02-09T00:29:12.130Z",
    "type": "execution"
   },
   {
    "code": "Rav4_train2 = Rav4_train[(Rav4_train['MonthFactor'] == 'January') | (Rav4_train['MonthFactor'] == 'February')]\n\ng = sns.lineplot(x=\"Year\", y=\"RAV4Sales\", hue=\"MonthFactor\", data=Rav4_train2).set_title(\"RAV4 Sales for Jan and Feb\")\nplt.legend(bbox_to_anchor=(1.05, 1), loc=2, borderaxespad=0.)",
    "id": "d17bcb983c5745cf83cc364568f9db2d",
    "idx": 22,
    "time": "2021-02-09T00:29:12.131Z",
    "type": "execution"
   },
   {
    "code": "#b\n#i) Describe your new model. What is the regression equation? (Do not simply copy andpaste output  from  Python. How  should  one  interpret  the  coefficients  of  each  of  theMonthFactordummy variables?",
    "id": "fc82c2b12e3a47728da48577bfa85cad",
    "idx": 23,
    "time": "2021-02-09T00:29:12.132Z",
    "type": "execution"
   },
   {
    "code": "#ii) What is the training set R2 for the new model? Which variables are significant?",
    "id": "4b464e68adac45bcb0e9dba6027c73c0",
    "idx": 25,
    "time": "2021-02-09T00:29:12.133Z",
    "type": "execution"
   },
   {
    "code": "#iii) Do you think adding the independent variableMonthFactorimproves the quality of themodel?  Why or why not?",
    "id": "7adf09a786bb406b8023491eb0acc181",
    "idx": 27,
    "time": "2021-02-09T00:29:12.134Z",
    "type": "execution"
   },
   {
    "code": "#iv) Can you think of a different way that you might use the given data to model seasonality? Do you think your new way would improve on the best model you have constructed sofar? ",
    "id": "6d7c3366fdaf405ab0d306387f13d93e",
    "idx": 29,
    "time": "2021-02-09T00:29:12.136Z",
    "type": "execution"
   },
   {
    "code": "#c) Build a final model using a subset of the independent variables used in parts(a)and(b), providing a brief justification for the variables selected.  What is the training setR2and theOSR2(this is theR2of your model on the test set)?  Do you think your model wouldbe useful to Toyota?  Why or why not?",
    "id": "d2e5df206583495296fc991c7b284976",
    "idx": 31,
    "time": "2021-02-09T00:29:12.138Z",
    "type": "execution"
   },
   {
    "code": "#d) Now, build  a  new  regression  model  with  your  additional  chosen  feature  in  addition  to  thefeatures that you selected in part(c).  Does the new feature add any predictive value?  Justifyyour answer based on the results of your analysis.",
    "id": "5dbf259a85ce4af484f767784ea64c32",
    "idx": 33,
    "time": "2021-02-09T00:29:12.139Z",
    "type": "execution"
   },
   {
    "code": "#e) propose a loss function that accurately models this situation and explain your reasoning.",
    "id": "9729123c695a4f8f9d2655b37815d21c",
    "idx": 35,
    "time": "2021-02-09T00:29:12.140Z",
    "type": "execution"
   },
   {
    "id": "c4c65613f88c4dc283d089509c597035",
    "time": "2021-02-09T00:29:12.659Z",
    "type": "completion"
   },
   {
    "id": "8503e140d4b64977b34949ff2f6aee35",
    "time": "2021-02-09T00:29:12.679Z",
    "type": "completion"
   },
   {
    "id": "c5fd425170d34cc58daf29ca8ceeb5cd",
    "time": "2021-02-09T00:29:12.814Z",
    "type": "completion"
   },
   {
    "id": "7d4ab9ae43b8429a9e4ac77ebf78a81d",
    "time": "2021-02-09T00:29:12.839Z",
    "type": "completion"
   },
   {
    "id": "0d55726c81cf444c82aa0c267deb62e1",
    "time": "2021-02-09T00:29:12.868Z",
    "type": "completion"
   },
   {
    "id": "f7fcbe5ebf2645998e4de98273b7f80c",
    "time": "2021-02-09T00:29:13.520Z",
    "type": "completion"
   },
   {
    "id": "c6437f2f1fb641cd83987758428f75b4",
    "time": "2021-02-09T00:29:13.521Z",
    "type": "completion"
   },
   {
    "id": "b1eecf6225f54f5d8f9fed03c9449248",
    "time": "2021-02-09T00:29:13.676Z",
    "type": "completion"
   },
   {
    "id": "902aad0de05b4b58936427531c6bab08",
    "time": "2021-02-09T00:29:13.679Z",
    "type": "completion"
   },
   {
    "id": "110b047848be473e888b0c77c6d3036c",
    "time": "2021-02-09T00:29:13.680Z",
    "type": "completion"
   },
   {
    "id": "fbfb7b8375c14f7c8798dddfe83daa79",
    "time": "2021-02-09T00:29:13.681Z",
    "type": "completion"
   },
   {
    "id": "14ef0422dabb46668d41cbf35fd217bd",
    "time": "2021-02-09T00:29:13.830Z",
    "type": "completion"
   },
   {
    "id": "1bd2479df1644220800cbfcb15ecc15a",
    "time": "2021-02-09T00:29:13.832Z",
    "type": "completion"
   },
   {
    "id": "81ba1c01c9bc41c6889d2b798f6fc0fd",
    "time": "2021-02-09T00:29:13.979Z",
    "type": "completion"
   },
   {
    "id": "ee5aa9a7af0042f994747c24adfacfc0",
    "time": "2021-02-09T00:29:15.117Z",
    "type": "completion"
   },
   {
    "id": "d17bcb983c5745cf83cc364568f9db2d",
    "time": "2021-02-09T00:29:15.418Z",
    "type": "completion"
   },
   {
    "id": "fc82c2b12e3a47728da48577bfa85cad",
    "time": "2021-02-09T00:29:15.419Z",
    "type": "completion"
   },
   {
    "id": "4b464e68adac45bcb0e9dba6027c73c0",
    "time": "2021-02-09T00:29:15.420Z",
    "type": "completion"
   },
   {
    "id": "7adf09a786bb406b8023491eb0acc181",
    "time": "2021-02-09T00:29:15.423Z",
    "type": "completion"
   },
   {
    "id": "6d7c3366fdaf405ab0d306387f13d93e",
    "time": "2021-02-09T00:29:15.424Z",
    "type": "completion"
   },
   {
    "id": "d2e5df206583495296fc991c7b284976",
    "time": "2021-02-09T00:29:15.425Z",
    "type": "completion"
   },
   {
    "id": "5dbf259a85ce4af484f767784ea64c32",
    "time": "2021-02-09T00:29:15.426Z",
    "type": "completion"
   },
   {
    "id": "9729123c695a4f8f9d2655b37815d21c",
    "time": "2021-02-09T00:29:15.426Z",
    "type": "completion"
   },
   {
    "code": "#ii) What is the training set R^2 for the new model? Which variables are significant?",
    "id": "4b464e68adac45bcb0e9dba6027c73c0",
    "idx": 25,
    "time": "2021-02-09T00:30:06.718Z",
    "type": "execution"
   },
   {
    "id": "4b464e68adac45bcb0e9dba6027c73c0",
    "time": "2021-02-09T00:30:06.897Z",
    "type": "completion"
   },
   {
    "code": "import numpy as np\nimport pandas as pd",
    "id": "c4c65613f88c4dc283d089509c597035",
    "idx": 1,
    "time": "2021-02-09T00:56:59.688Z",
    "type": "execution"
   },
   {
    "id": "c4c65613f88c4dc283d089509c597035",
    "time": "2021-02-09T00:57:00.023Z",
    "type": "completion"
   },
   {
    "code": "#Loading data\nRav4 = pd.read_csv('RAV4-142-Spring2021.csv')\nRav4.info()",
    "id": "8503e140d4b64977b34949ff2f6aee35",
    "idx": 2,
    "time": "2021-02-09T00:57:00.479Z",
    "type": "execution"
   },
   {
    "id": "8503e140d4b64977b34949ff2f6aee35",
    "time": "2021-02-09T00:57:00.803Z",
    "type": "completion"
   },
   {
    "code": "import numpy as np\nimport pandas as pd",
    "id": "c4c65613f88c4dc283d089509c597035",
    "idx": 0,
    "time": "2021-02-09T00:57:16.775Z",
    "type": "execution"
   },
   {
    "id": "c4c65613f88c4dc283d089509c597035",
    "time": "2021-02-09T00:57:16.955Z",
    "type": "completion"
   },
   {
    "code": "#Loading data\nRav4 = pd.read_csv('RAV4-142-Spring2021.csv')\nRav4.info()",
    "id": "8503e140d4b64977b34949ff2f6aee35",
    "idx": 1,
    "time": "2021-02-09T00:57:17.350Z",
    "type": "execution"
   },
   {
    "id": "8503e140d4b64977b34949ff2f6aee35",
    "time": "2021-02-09T00:57:17.541Z",
    "type": "completion"
   },
   {
    "code": "Rav4.head()",
    "id": "c5fd425170d34cc58daf29ca8ceeb5cd",
    "idx": 2,
    "time": "2021-02-09T01:42:43.062Z",
    "type": "execution"
   },
   {
    "id": "c5fd425170d34cc58daf29ca8ceeb5cd",
    "time": "2021-02-09T01:42:43.261Z",
    "type": "completion"
   },
   {
    "code": "# Problem 2\n# a) Start  by  splitting  the  data  into  a  training  set  and  testing  set. The trainingset should contain all observations for 2011 through 2016.  \n#The testing set should have allobservations for 2017 through 2020.\n\nRav4_train = Rav4[(Rav4['Year'] >= 2011) & (Rav4['Year'] <= 2016)]\nRav4_test = Rav4[(Rav4['Year'] >= 2017) & (Rav4['Year'] <= 2020)]\n\nRav4_train.head()",
    "id": "7d4ab9ae43b8429a9e4ac77ebf78a81d",
    "idx": 3,
    "time": "2021-02-09T01:42:45.684Z",
    "type": "execution"
   },
   {
    "id": "7d4ab9ae43b8429a9e4ac77ebf78a81d",
    "time": "2021-02-09T01:42:45.892Z",
    "type": "completion"
   },
   {
    "code": "#i) What  is  the  linear  regression  equation  produced  by  your  model,  and  how  should  one interpret the coefficients for the independent variables?  \n#Consider interpretability issues when  writing  down  the  equation  (e.g.,  do  not  just  copy  and  paste  the  output  from Python)",
    "id": "0d55726c81cf444c82aa0c267deb62e1",
    "idx": 4,
    "time": "2021-02-09T01:42:59.512Z",
    "type": "execution"
   },
   {
    "id": "0d55726c81cf444c82aa0c267deb62e1",
    "time": "2021-02-09T01:42:59.692Z",
    "type": "completion"
   },
   {
    "code": "import statsmodels.api as sm\nimport statsmodels.formula.api as smf\n\nols_1 = smf.ols(formula='RAV4Sales ~ Unemployment + RAV4Queries + CPIAll + CPIEnergy ', data = Rav4_train)\nmodel_1 = ols_1.fit()\nprint(model_1.summary())",
    "id": "f7fcbe5ebf2645998e4de98273b7f80c",
    "idx": 6,
    "time": "2021-02-09T01:43:00.420Z",
    "type": "execution"
   },
   {
    "id": "f7fcbe5ebf2645998e4de98273b7f80c",
    "time": "2021-02-09T01:43:00.626Z",
    "type": "completion"
   },
   {
    "code": "#ii) How did you select the variables to include in your linear regression model?\nfrom statsmodels.stats.outliers_influence import variance_inflation_factor\n\ndef VIF(df, columns):\n    values = sm.add_constant(df[columns]).values\n    num_columns = len(columns)+1\n    vif = [variance_inflation_factor(values, i) for i in range(num_columns)]\n    return pd.Series(vif[1:], index=columns)",
    "id": "c6437f2f1fb641cd83987758428f75b4",
    "idx": 7,
    "time": "2021-02-09T01:43:00.666Z",
    "type": "execution"
   },
   {
    "id": "c6437f2f1fb641cd83987758428f75b4",
    "time": "2021-02-09T01:43:00.843Z",
    "type": "completion"
   },
   {
    "code": "cols_1 = ['Unemployment', 'RAV4Queries', 'CPIAll', 'CPIEnergy']\nVIF(Rav4_train, cols_1)",
    "id": "b1eecf6225f54f5d8f9fed03c9449248",
    "idx": 8,
    "time": "2021-02-09T01:43:00.850Z",
    "type": "execution"
   },
   {
    "id": "b1eecf6225f54f5d8f9fed03c9449248",
    "time": "2021-02-09T01:43:01.065Z",
    "type": "completion"
   },
   {
    "code": "ols_2 = smf.ols(formula='RAV4Sales ~ RAV4Queries + CPIAll + CPIEnergy ', data = Rav4_train)\nmodel_2 = ols_2.fit()\nprint(model_2.summary())",
    "id": "902aad0de05b4b58936427531c6bab08",
    "idx": 10,
    "time": "2021-02-09T01:43:01.220Z",
    "type": "execution"
   },
   {
    "id": "902aad0de05b4b58936427531c6bab08",
    "time": "2021-02-09T01:43:01.429Z",
    "type": "completion"
   },
   {
    "code": "cols_2 = ['RAV4Queries', 'CPIAll', 'CPIEnergy']\nVIF(Rav4_train, cols_2)",
    "id": "110b047848be473e888b0c77c6d3036c",
    "idx": 11,
    "time": "2021-02-09T01:43:01.527Z",
    "type": "execution"
   },
   {
    "id": "110b047848be473e888b0c77c6d3036c",
    "time": "2021-02-09T01:43:01.711Z",
    "type": "completion"
   },
   {
    "code": "#iii) Do the signs of the models coefficients make sense?  Are you reasonably sure that thesigns are correct?",
    "id": "fbfb7b8375c14f7c8798dddfe83daa79",
    "idx": 13,
    "time": "2021-02-09T01:43:02.859Z",
    "type": "execution"
   },
   {
    "id": "fbfb7b8375c14f7c8798dddfe83daa79",
    "time": "2021-02-09T01:43:03.043Z",
    "type": "completion"
   },
   {
    "code": "#iv) How well does the model predict training set observations? Can you justify the models performance on the training data with a quantifiable metric?\nols_3 = smf.ols(formula='RAV4Sales ~ CPIAll + CPIEnergy', data = Rav4_train)\nmodel_3 = ols_3.fit()\nprint(model_3.summary())",
    "id": "14ef0422dabb46668d41cbf35fd217bd",
    "idx": 15,
    "time": "2021-02-09T01:43:04.831Z",
    "type": "execution"
   },
   {
    "id": "14ef0422dabb46668d41cbf35fd217bd",
    "time": "2021-02-09T01:43:05.027Z",
    "type": "completion"
   },
   {
    "code": "cols_3 = ['CPIAll', 'CPIEnergy']\nVIF(Rav4_train, cols_3)",
    "id": "1bd2479df1644220800cbfcb15ecc15a",
    "idx": 16,
    "time": "2021-02-09T01:43:05.611Z",
    "type": "execution"
   },
   {
    "id": "1bd2479df1644220800cbfcb15ecc15a",
    "time": "2021-02-09T01:43:05.792Z",
    "type": "completion"
   },
   {
    "code": "#b \n#Construct a new linear regression model using theMonthFactorvariable as an independentvariable, in addition to all four of the variables you used at the start of part(a)\nols_4 = smf.ols(formula='RAV4Sales ~ MonthFactor + Unemployment + RAV4Queries + CPIAll + CPIEnergy', data = Rav4_train)\nmodel_4 = ols_4.fit()\nprint(model_4.summary())",
    "id": "81ba1c01c9bc41c6889d2b798f6fc0fd",
    "idx": 18,
    "time": "2021-02-09T01:43:06.327Z",
    "type": "execution"
   },
   {
    "id": "81ba1c01c9bc41c6889d2b798f6fc0fd",
    "time": "2021-02-09T01:43:06.542Z",
    "type": "completion"
   },
   {
    "code": "import seaborn as sns\nimport matplotlib.pyplot as plt\nsns.set_theme(style=\"darkgrid\")\n# Load an example dataset with long-form data\nfmri = sns.load_dataset(\"fmri\")\n\n# Plot the responses for different events and regions\ng = sns.lineplot(x=\"Year\", y=\"RAV4Sales\", hue=\"MonthFactor\", data=Rav4_train)\nplt.legend(bbox_to_anchor=(1.05, 1), loc=2, borderaxespad=0.)",
    "id": "ee5aa9a7af0042f994747c24adfacfc0",
    "idx": 21,
    "time": "2021-02-09T01:43:07.587Z",
    "type": "execution"
   },
   {
    "code": "Rav4_train2 = Rav4_train[(Rav4_train['MonthFactor'] == 'January') | (Rav4_train['MonthFactor'] == 'February')]\n\ng = sns.lineplot(x=\"Year\", y=\"RAV4Sales\", hue=\"MonthFactor\", data=Rav4_train2).set_title(\"RAV4 Sales for Jan and Feb\")\nplt.legend(bbox_to_anchor=(1.05, 1), loc=2, borderaxespad=0.)",
    "id": "d17bcb983c5745cf83cc364568f9db2d",
    "idx": 22,
    "time": "2021-02-09T01:43:07.991Z",
    "type": "execution"
   },
   {
    "id": "ee5aa9a7af0042f994747c24adfacfc0",
    "time": "2021-02-09T01:43:09.134Z",
    "type": "completion"
   },
   {
    "id": "d17bcb983c5745cf83cc364568f9db2d",
    "time": "2021-02-09T01:43:09.449Z",
    "type": "completion"
   },
   {
    "code": "#b\n#i) Describe your new model. What is the regression equation? (Do not simply copy andpaste output  from  Python. How  should  one  interpret  the  coefficients  of  each  of  theMonthFactordummy variables?",
    "id": "fc82c2b12e3a47728da48577bfa85cad",
    "idx": 23,
    "time": "2021-02-09T01:43:09.756Z",
    "type": "execution"
   },
   {
    "id": "fc82c2b12e3a47728da48577bfa85cad",
    "time": "2021-02-09T01:43:09.930Z",
    "type": "completion"
   },
   {
    "code": "#ii) What is the training set R^2 for the new model? Which variables are significant?",
    "id": "4b464e68adac45bcb0e9dba6027c73c0",
    "idx": 25,
    "time": "2021-02-09T01:43:11.575Z",
    "type": "execution"
   },
   {
    "id": "4b464e68adac45bcb0e9dba6027c73c0",
    "time": "2021-02-09T01:43:11.755Z",
    "type": "completion"
   },
   {
    "code": "#iii) Do you think adding the independent variableMonthFactorimproves the quality of themodel?  Why or why not?",
    "id": "7adf09a786bb406b8023491eb0acc181",
    "idx": 27,
    "time": "2021-02-09T01:43:13.009Z",
    "type": "execution"
   },
   {
    "id": "7adf09a786bb406b8023491eb0acc181",
    "time": "2021-02-09T01:43:13.191Z",
    "type": "completion"
   },
   {
    "code": "ols_final = smf.ols(formula='RAV4Sales ~ MonthFactor + Unemployment + RAV4Queries + CPIEnergy', data = Rav4_train)\nmodel_final = ols_final.fit()\nprint(model_final.summary())",
    "id": "3ff9a582dda349dc83d94385d0f58c6c",
    "idx": 32,
    "time": "2021-02-09T01:50:10.800Z",
    "type": "execution"
   },
   {
    "id": "3ff9a582dda349dc83d94385d0f58c6c",
    "time": "2021-02-09T01:50:11.019Z",
    "type": "completion"
   },
   {
    "code": "ols_final = smf.ols(formula='RAV4Sales ~ MonthFactor + Unemployment + RAV4Queries + CPIAll+ CPIEnergy', data = Rav4_train)\nmodel_final = ols_final.fit()\nprint(model_final.summary())",
    "id": "36f4fbfe2e79447c9556e24fd26461d6",
    "idx": 32,
    "time": "2021-02-09T01:50:36.206Z",
    "type": "execution"
   },
   {
    "id": "36f4fbfe2e79447c9556e24fd26461d6",
    "time": "2021-02-09T01:50:36.440Z",
    "type": "completion"
   },
   {
    "code": "# Compute out-of-sample R-squared using the test set\ndef OSR2(model, df_train, df_test, dependent_var):   \n    y_test = df_test[dependent_var]\n    y_pred = model.predict(df_test)\n    SSE = np.sum((y_test - y_pred)**2)\n    SST = np.sum((y_test - np.mean(df_train[dependent_var]))**2)    \n    return 1 - SSE/SST\n\nOSR2(ols_final, Rav4_train, Rav4_test, 'RAV4Sales')",
    "id": "71f659ce72c049f9a68973f2ac50e812",
    "idx": 34,
    "time": "2021-02-09T01:54:07.419Z",
    "type": "execution"
   },
   {
    "id": "71f659ce72c049f9a68973f2ac50e812",
    "time": "2021-02-09T01:54:08.522Z",
    "type": "completion"
   },
   {
    "code": "# Compute out-of-sample R-squared using the test set\ndef OSR2(model, df_train, df_test, dependent_var):   \n    y_test = df_test[dependent_var]\n    y_pred = model.predict(df_test)\n    SSE = np.sum((y_test - y_pred)**2)\n    SST = np.sum((y_test - np.mean(df_train[dependent_var]))**2)    \n    return 1 - SSE/SST\n\n#OSR2(ols_final, Rav4_train, Rav4_test, 'RAV4Sales')",
    "id": "71f659ce72c049f9a68973f2ac50e812",
    "idx": 34,
    "time": "2021-02-09T01:54:19.281Z",
    "type": "execution"
   },
   {
    "id": "71f659ce72c049f9a68973f2ac50e812",
    "time": "2021-02-09T01:54:19.457Z",
    "type": "completion"
   },
   {
    "code": "ols_final = smf.ols(formula='RAV4Sales ~ MonthFactor + Unemployment + RAV4Queries + CPIEnergy', data = Rav4_train)\nmodel_final = ols_final.fit()\nprint(model_final.summary())",
    "id": "3ff9a582dda349dc83d94385d0f58c6c",
    "idx": 33,
    "time": "2021-02-09T01:54:23.398Z",
    "type": "execution"
   },
   {
    "id": "3ff9a582dda349dc83d94385d0f58c6c",
    "time": "2021-02-09T01:54:25.148Z",
    "type": "completion"
   },
   {
    "code": "import numpy as np\nimport pandas as pd",
    "id": "c4c65613f88c4dc283d089509c597035",
    "idx": 0,
    "time": "2021-02-09T01:56:33.110Z",
    "type": "execution"
   },
   {
    "code": "#Loading data\nRav4 = pd.read_csv('RAV4-142-Spring2021.csv')\nRav4.info()",
    "id": "8503e140d4b64977b34949ff2f6aee35",
    "idx": 1,
    "time": "2021-02-09T01:56:33.113Z",
    "type": "execution"
   },
   {
    "code": "Rav4.head()",
    "id": "c5fd425170d34cc58daf29ca8ceeb5cd",
    "idx": 2,
    "time": "2021-02-09T01:56:33.115Z",
    "type": "execution"
   },
   {
    "code": "# Problem 2\n# a) Start  by  splitting  the  data  into  a  training  set  and  testing  set. The trainingset should contain all observations for 2011 through 2016.  \n#The testing set should have allobservations for 2017 through 2020.\n\nRav4_train = Rav4[(Rav4['Year'] >= 2011) & (Rav4['Year'] <= 2016)]\nRav4_test = Rav4[(Rav4['Year'] >= 2017) & (Rav4['Year'] <= 2020)]\n\nRav4_train.head()",
    "id": "7d4ab9ae43b8429a9e4ac77ebf78a81d",
    "idx": 3,
    "time": "2021-02-09T01:56:33.116Z",
    "type": "execution"
   },
   {
    "code": "#i) What  is  the  linear  regression  equation  produced  by  your  model,  and  how  should  one interpret the coefficients for the independent variables?  \n#Consider interpretability issues when  writing  down  the  equation  (e.g.,  do  not  just  copy  and  paste  the  output  from Python)",
    "id": "0d55726c81cf444c82aa0c267deb62e1",
    "idx": 4,
    "time": "2021-02-09T01:56:33.117Z",
    "type": "execution"
   },
   {
    "code": "import statsmodels.api as sm\nimport statsmodels.formula.api as smf\n\nols_1 = smf.ols(formula='RAV4Sales ~ Unemployment + RAV4Queries + CPIAll + CPIEnergy ', data = Rav4_train)\nmodel_1 = ols_1.fit()\nprint(model_1.summary())",
    "id": "f7fcbe5ebf2645998e4de98273b7f80c",
    "idx": 6,
    "time": "2021-02-09T01:56:33.118Z",
    "type": "execution"
   },
   {
    "code": "#ii) How did you select the variables to include in your linear regression model?\nfrom statsmodels.stats.outliers_influence import variance_inflation_factor\n\ndef VIF(df, columns):\n    values = sm.add_constant(df[columns]).values\n    num_columns = len(columns)+1\n    vif = [variance_inflation_factor(values, i) for i in range(num_columns)]\n    return pd.Series(vif[1:], index=columns)",
    "id": "c6437f2f1fb641cd83987758428f75b4",
    "idx": 7,
    "time": "2021-02-09T01:56:33.119Z",
    "type": "execution"
   },
   {
    "code": "cols_1 = ['Unemployment', 'RAV4Queries', 'CPIAll', 'CPIEnergy']\nVIF(Rav4_train, cols_1)",
    "id": "b1eecf6225f54f5d8f9fed03c9449248",
    "idx": 8,
    "time": "2021-02-09T01:56:33.120Z",
    "type": "execution"
   },
   {
    "code": "ols_2 = smf.ols(formula='RAV4Sales ~ RAV4Queries + CPIAll + CPIEnergy ', data = Rav4_train)\nmodel_2 = ols_2.fit()\nprint(model_2.summary())",
    "id": "902aad0de05b4b58936427531c6bab08",
    "idx": 10,
    "time": "2021-02-09T01:56:33.121Z",
    "type": "execution"
   },
   {
    "code": "cols_2 = ['RAV4Queries', 'CPIAll', 'CPIEnergy']\nVIF(Rav4_train, cols_2)",
    "id": "110b047848be473e888b0c77c6d3036c",
    "idx": 11,
    "time": "2021-02-09T01:56:33.122Z",
    "type": "execution"
   },
   {
    "code": "#iii) Do the signs of the models coefficients make sense?  Are you reasonably sure that thesigns are correct?",
    "id": "fbfb7b8375c14f7c8798dddfe83daa79",
    "idx": 13,
    "time": "2021-02-09T01:56:33.123Z",
    "type": "execution"
   },
   {
    "code": "#iv) How well does the model predict training set observations? Can you justify the models performance on the training data with a quantifiable metric?\nols_3 = smf.ols(formula='RAV4Sales ~ CPIAll + CPIEnergy', data = Rav4_train)\nmodel_3 = ols_3.fit()\nprint(model_3.summary())",
    "id": "14ef0422dabb46668d41cbf35fd217bd",
    "idx": 15,
    "time": "2021-02-09T01:56:33.124Z",
    "type": "execution"
   },
   {
    "code": "cols_3 = ['CPIAll', 'CPIEnergy']\nVIF(Rav4_train, cols_3)",
    "id": "1bd2479df1644220800cbfcb15ecc15a",
    "idx": 16,
    "time": "2021-02-09T01:56:33.125Z",
    "type": "execution"
   },
   {
    "code": "#b \n#Construct a new linear regression model using theMonthFactorvariable as an independentvariable, in addition to all four of the variables you used at the start of part(a)\nols_4 = smf.ols(formula='RAV4Sales ~ MonthFactor + Unemployment + RAV4Queries + CPIAll + CPIEnergy', data = Rav4_train)\nmodel_4 = ols_4.fit()\nprint(model_4.summary())",
    "id": "81ba1c01c9bc41c6889d2b798f6fc0fd",
    "idx": 18,
    "time": "2021-02-09T01:56:33.126Z",
    "type": "execution"
   },
   {
    "code": "import seaborn as sns\nimport matplotlib.pyplot as plt\nsns.set_theme(style=\"darkgrid\")\n# Load an example dataset with long-form data\nfmri = sns.load_dataset(\"fmri\")\n\n# Plot the responses for different events and regions\ng = sns.lineplot(x=\"Year\", y=\"RAV4Sales\", hue=\"MonthFactor\", data=Rav4_train)\nplt.legend(bbox_to_anchor=(1.05, 1), loc=2, borderaxespad=0.)",
    "id": "ee5aa9a7af0042f994747c24adfacfc0",
    "idx": 21,
    "time": "2021-02-09T01:56:33.127Z",
    "type": "execution"
   },
   {
    "code": "Rav4_train2 = Rav4_train[(Rav4_train['MonthFactor'] == 'January') | (Rav4_train['MonthFactor'] == 'February')]\n\ng = sns.lineplot(x=\"Year\", y=\"RAV4Sales\", hue=\"MonthFactor\", data=Rav4_train2).set_title(\"RAV4 Sales for Jan and Feb\")\nplt.legend(bbox_to_anchor=(1.05, 1), loc=2, borderaxespad=0.)",
    "id": "d17bcb983c5745cf83cc364568f9db2d",
    "idx": 22,
    "time": "2021-02-09T01:56:33.127Z",
    "type": "execution"
   },
   {
    "code": "#b\n#i) Describe your new model. What is the regression equation? (Do not simply copy andpaste output  from  Python. How  should  one  interpret  the  coefficients  of  each  of  theMonthFactordummy variables?",
    "id": "fc82c2b12e3a47728da48577bfa85cad",
    "idx": 23,
    "time": "2021-02-09T01:56:33.128Z",
    "type": "execution"
   },
   {
    "code": "#ii) What is the training set R^2 for the new model? Which variables are significant?",
    "id": "4b464e68adac45bcb0e9dba6027c73c0",
    "idx": 25,
    "time": "2021-02-09T01:56:33.129Z",
    "type": "execution"
   },
   {
    "code": "#iii) Do you think adding the independent variable MonthFactor improves the quality of themodel?  Why or why not?",
    "id": "7adf09a786bb406b8023491eb0acc181",
    "idx": 27,
    "time": "2021-02-09T01:56:33.130Z",
    "type": "execution"
   },
   {
    "code": "#iv) Can you think of a different way that you might use the given data to model seasonality? Do you think your new way would improve on the best model you have constructed sofar? ",
    "id": "6d7c3366fdaf405ab0d306387f13d93e",
    "idx": 29,
    "time": "2021-02-09T01:56:33.131Z",
    "type": "execution"
   },
   {
    "code": "#c) Build a final model using a subset of the independent variables used in parts(a)and(b), providing a brief justification for the variables selected.  What is the training set R2and theOSR2(this is theR2of your model on the test set)?  Do you think your model wouldbe useful to Toyota?  Why or why not?",
    "id": "d2e5df206583495296fc991c7b284976",
    "idx": 31,
    "time": "2021-02-09T01:56:33.132Z",
    "type": "execution"
   },
   {
    "code": "ols_final = smf.ols(formula='RAV4Sales ~ MonthFactor + Unemployment + RAV4Queries + CPIAll + CPIEnergy', data = Rav4_train)\nmodel_final = ols_final.fit()\nprint(model_final.summary())",
    "id": "36f4fbfe2e79447c9556e24fd26461d6",
    "idx": 32,
    "time": "2021-02-09T01:56:33.132Z",
    "type": "execution"
   },
   {
    "code": "ols_final = smf.ols(formula='RAV4Sales ~ MonthFactor + Unemployment + RAV4Queries + CPIEnergy', data = Rav4_train)\nmodel_final = ols_final.fit()\nprint(model_final.summary())",
    "id": "3ff9a582dda349dc83d94385d0f58c6c",
    "idx": 33,
    "time": "2021-02-09T01:56:33.133Z",
    "type": "execution"
   },
   {
    "id": "c4c65613f88c4dc283d089509c597035",
    "time": "2021-02-09T01:56:33.305Z",
    "type": "completion"
   },
   {
    "id": "8503e140d4b64977b34949ff2f6aee35",
    "time": "2021-02-09T01:56:33.460Z",
    "type": "completion"
   },
   {
    "id": "c5fd425170d34cc58daf29ca8ceeb5cd",
    "time": "2021-02-09T01:56:33.488Z",
    "type": "completion"
   },
   {
    "id": "7d4ab9ae43b8429a9e4ac77ebf78a81d",
    "time": "2021-02-09T01:56:33.635Z",
    "type": "completion"
   },
   {
    "id": "0d55726c81cf444c82aa0c267deb62e1",
    "time": "2021-02-09T01:56:33.639Z",
    "type": "completion"
   },
   {
    "id": "f7fcbe5ebf2645998e4de98273b7f80c",
    "time": "2021-02-09T01:56:33.664Z",
    "type": "completion"
   },
   {
    "id": "c6437f2f1fb641cd83987758428f75b4",
    "time": "2021-02-09T01:56:33.776Z",
    "type": "completion"
   },
   {
    "id": "b1eecf6225f54f5d8f9fed03c9449248",
    "time": "2021-02-09T01:56:33.778Z",
    "type": "completion"
   },
   {
    "id": "902aad0de05b4b58936427531c6bab08",
    "time": "2021-02-09T01:56:33.822Z",
    "type": "completion"
   },
   {
    "id": "110b047848be473e888b0c77c6d3036c",
    "time": "2021-02-09T01:56:33.931Z",
    "type": "completion"
   },
   {
    "id": "fbfb7b8375c14f7c8798dddfe83daa79",
    "time": "2021-02-09T01:56:33.932Z",
    "type": "completion"
   },
   {
    "id": "14ef0422dabb46668d41cbf35fd217bd",
    "time": "2021-02-09T01:56:33.971Z",
    "type": "completion"
   },
   {
    "id": "1bd2479df1644220800cbfcb15ecc15a",
    "time": "2021-02-09T01:56:33.983Z",
    "type": "completion"
   },
   {
    "id": "81ba1c01c9bc41c6889d2b798f6fc0fd",
    "time": "2021-02-09T01:56:34.097Z",
    "type": "completion"
   },
   {
    "id": "ee5aa9a7af0042f994747c24adfacfc0",
    "time": "2021-02-09T01:56:34.920Z",
    "type": "completion"
   },
   {
    "id": "d17bcb983c5745cf83cc364568f9db2d",
    "time": "2021-02-09T01:56:35.243Z",
    "type": "completion"
   },
   {
    "id": "fc82c2b12e3a47728da48577bfa85cad",
    "time": "2021-02-09T01:56:35.246Z",
    "type": "completion"
   },
   {
    "id": "4b464e68adac45bcb0e9dba6027c73c0",
    "time": "2021-02-09T01:56:35.250Z",
    "type": "completion"
   },
   {
    "id": "7adf09a786bb406b8023491eb0acc181",
    "time": "2021-02-09T01:56:35.251Z",
    "type": "completion"
   },
   {
    "id": "6d7c3366fdaf405ab0d306387f13d93e",
    "time": "2021-02-09T01:56:35.252Z",
    "type": "completion"
   },
   {
    "id": "d2e5df206583495296fc991c7b284976",
    "time": "2021-02-09T01:56:35.389Z",
    "type": "completion"
   },
   {
    "id": "36f4fbfe2e79447c9556e24fd26461d6",
    "time": "2021-02-09T01:56:35.390Z",
    "type": "completion"
   },
   {
    "id": "3ff9a582dda349dc83d94385d0f58c6c",
    "time": "2021-02-09T01:56:35.392Z",
    "type": "completion"
   },
   {
    "code": "# Compute out-of-sample R-squared using the test set\ndef OSR2(model, df_train, df_test, dependent_var):   \n    y_test = df_test[dependent_var]\n    y_pred = model.predict(df_test)\n    SSE = np.sum((y_test - y_pred)**2)\n    SST = np.sum((y_test - np.mean(df_train[dependent_var]))**2)    \n    return 1 - SSE/SST\n\nOSR2(ols_final, Rav4_train, Rav4_test, 'RAV4Sales')",
    "id": "71f659ce72c049f9a68973f2ac50e812",
    "idx": 34,
    "time": "2021-02-09T01:57:22.997Z",
    "type": "execution"
   },
   {
    "id": "71f659ce72c049f9a68973f2ac50e812",
    "time": "2021-02-09T01:57:23.337Z",
    "type": "completion"
   },
   {
    "code": "# Compute out-of-sample R-squared using the test set\ndef OSR2(model, df_train, df_test, dependent_var):   \n    y_test = df_test[dependent_var]\n    y_pred = model.predict(df_test)\n    SSE = np.sum((y_test - y_pred)**2)\n    SST = np.sum((y_test - np.mean(df_train[dependent_var]))**2)    \n    return 1 - SSE/SST\n",
    "id": "71f659ce72c049f9a68973f2ac50e812",
    "idx": 34,
    "time": "2021-02-09T02:00:50.929Z",
    "type": "execution"
   },
   {
    "id": "71f659ce72c049f9a68973f2ac50e812",
    "time": "2021-02-09T02:00:51.123Z",
    "type": "completion"
   },
   {
    "code": "# Compute out-of-sample R-squared using the test set\ndef OSR2(model, df_train, df_test, dependent_var):   \n    y_test = df_test[dependent_var]\n    y_pred = model.predict(df_test)\n    SSE = np.sum((y_test - y_pred)**2)\n    SST = np.sum((y_test - np.mean(df_train[dependent_var]))**2)    \n    return 1 - SSE/SST\n\nOSR2(model_final, Rav4_train, Rav4_test, 'RAV4Sales')",
    "id": "71f659ce72c049f9a68973f2ac50e812",
    "idx": 34,
    "time": "2021-02-09T02:01:28.920Z",
    "type": "execution"
   },
   {
    "id": "71f659ce72c049f9a68973f2ac50e812",
    "time": "2021-02-09T02:01:29.120Z",
    "type": "completion"
   },
   {
    "code": "ols_final = smf.ols(formula='RAV4Sales ~ MonthFactor + Unemployment + RAV4Queries + CPIEnergy', data = Rav4_train)\nmodel_final = ols_final.fit()\nprint(model_final.summary())",
    "id": "3ff9a582dda349dc83d94385d0f58c6c",
    "idx": 32,
    "time": "2021-02-09T02:02:47.133Z",
    "type": "execution"
   },
   {
    "id": "3ff9a582dda349dc83d94385d0f58c6c",
    "time": "2021-02-09T02:02:47.390Z",
    "type": "completion"
   },
   {
    "code": "# Compute out-of-sample R-squared using the test set\ndef OSR2(model, df_train, df_test, dependent_var):   \n    y_test = df_test[dependent_var]\n    y_pred = model.predict(df_test)\n    SSE = np.sum((y_test - y_pred)**2)\n    SST = np.sum((y_test - np.mean(df_train[dependent_var]))**2)    \n    return 1 - SSE/SST\n\nOSR2(model_final, Rav4_train, Rav4_test, 'RAV4Sales')",
    "id": "71f659ce72c049f9a68973f2ac50e812",
    "idx": 33,
    "time": "2021-02-09T02:02:49.332Z",
    "type": "execution"
   },
   {
    "id": "71f659ce72c049f9a68973f2ac50e812",
    "time": "2021-02-09T02:02:49.528Z",
    "type": "completion"
   },
   {
    "code": "import numpy as np\nimport pandas as pd",
    "id": "8e76bb192cfc4f2cad6d3993bb76b86c",
    "idx": 0,
    "time": "2021-02-09T02:24:39.904Z",
    "type": "execution"
   },
   {
    "id": "8e76bb192cfc4f2cad6d3993bb76b86c",
    "time": "2021-02-09T02:24:40.097Z",
    "type": "completion"
   },
   {
    "code": "#Loading data\nRav4 = pd.read_csv('RAV4-142-Spring2021.csv')\nRav4.info()",
    "id": "a06eccf742934b19948197dc4ff36683",
    "idx": 1,
    "time": "2021-02-09T02:24:41.393Z",
    "type": "execution"
   },
   {
    "code": "Rav4.head()",
    "id": "09e02c84a17a4b9aba7ad73168949cf3",
    "idx": 2,
    "time": "2021-02-09T02:24:41.592Z",
    "type": "execution"
   },
   {
    "id": "a06eccf742934b19948197dc4ff36683",
    "time": "2021-02-09T02:24:41.623Z",
    "type": "completion"
   },
   {
    "code": "# Problem 2\n# a) Start  by  splitting  the  data  into  a  training  set  and  testing  set. The trainingset should contain all observations for 2011 through 2016.  \n#The testing set should have allobservations for 2017 through 2020.\n\nRav4_train = Rav4[(Rav4['Year'] >= 2011) & (Rav4['Year'] <= 2016)]\nRav4_test = Rav4[(Rav4['Year'] >= 2017) & (Rav4['Year'] <= 2020)]\n\nRav4_train.head()",
    "id": "5cdead351fdf4e9c85b806746e868ff8",
    "idx": 3,
    "time": "2021-02-09T02:24:41.758Z",
    "type": "execution"
   },
   {
    "id": "09e02c84a17a4b9aba7ad73168949cf3",
    "time": "2021-02-09T02:24:41.788Z",
    "type": "completion"
   },
   {
    "code": "#i) What  is  the  linear  regression  equation  produced  by  your  model,  and  how  should  one interpret the coefficients for the independent variables?  \n#Consider interpretability issues when  writing  down  the  equation  (e.g.,  do  not  just  copy  and  paste  the  output  from Python)",
    "id": "21c72310da944bee9c1d8ef4d5b9d30a",
    "idx": 4,
    "time": "2021-02-09T02:24:41.909Z",
    "type": "execution"
   },
   {
    "id": "5cdead351fdf4e9c85b806746e868ff8",
    "time": "2021-02-09T02:24:41.942Z",
    "type": "completion"
   },
   {
    "id": "21c72310da944bee9c1d8ef4d5b9d30a",
    "time": "2021-02-09T02:24:42.142Z",
    "type": "completion"
   },
   {
    "code": "import statsmodels.api as sm\nimport statsmodels.formula.api as smf\n\nols_1 = smf.ols(formula='RAV4Sales ~ Unemployment + RAV4Queries + CPIAll + CPIEnergy ', data = Rav4_train)\nmodel_1 = ols_1.fit()\nprint(model_1.summary())",
    "id": "52e97dceb6db44e88fdf41cd71ecb45e",
    "idx": 6,
    "time": "2021-02-09T02:24:42.204Z",
    "type": "execution"
   },
   {
    "id": "52e97dceb6db44e88fdf41cd71ecb45e",
    "time": "2021-02-09T02:24:42.419Z",
    "type": "completion"
   },
   {
    "code": "#ii) How did you select the variables to include in your linear regression model?\nfrom statsmodels.stats.outliers_influence import variance_inflation_factor\n\ndef VIF(df, columns):\n    values = sm.add_constant(df[columns]).values\n    num_columns = len(columns)+1\n    vif = [variance_inflation_factor(values, i) for i in range(num_columns)]\n    return pd.Series(vif[1:], index=columns)",
    "id": "569e9f9abdcc4328be80e1bb7bc216dc",
    "idx": 7,
    "time": "2021-02-09T02:24:42.425Z",
    "type": "execution"
   },
   {
    "code": "cols_1 = ['Unemployment', 'RAV4Queries', 'CPIAll', 'CPIEnergy']\nVIF(Rav4_train, cols_1)",
    "id": "c8e2264cd464499d8d83dd176624cd7a",
    "idx": 8,
    "time": "2021-02-09T02:24:42.595Z",
    "type": "execution"
   },
   {
    "id": "569e9f9abdcc4328be80e1bb7bc216dc",
    "time": "2021-02-09T02:24:42.623Z",
    "type": "completion"
   },
   {
    "id": "c8e2264cd464499d8d83dd176624cd7a",
    "time": "2021-02-09T02:24:42.788Z",
    "type": "completion"
   },
   {
    "code": "ols_2 = smf.ols(formula='RAV4Sales ~ RAV4Queries + CPIAll + CPIEnergy ', data = Rav4_train)\nmodel_2 = ols_2.fit()\nprint(model_2.summary())",
    "id": "08196533e52f4c6f885859bb635117e5",
    "idx": 10,
    "time": "2021-02-09T02:24:42.913Z",
    "type": "execution"
   },
   {
    "code": "cols_2 = ['RAV4Queries', 'CPIAll', 'CPIEnergy']\nVIF(Rav4_train, cols_2)",
    "id": "9b0ce761e1a642fe9684db76eea85a0d",
    "idx": 11,
    "time": "2021-02-09T02:24:43.068Z",
    "type": "execution"
   },
   {
    "id": "08196533e52f4c6f885859bb635117e5",
    "time": "2021-02-09T02:24:43.107Z",
    "type": "completion"
   },
   {
    "id": "9b0ce761e1a642fe9684db76eea85a0d",
    "time": "2021-02-09T02:24:43.255Z",
    "type": "completion"
   },
   {
    "code": "#iii) Do the signs of the models coefficients make sense?  Are you reasonably sure that thesigns are correct?",
    "id": "4c2a0bf3548a40fa8227571bee916b1a",
    "idx": 13,
    "time": "2021-02-09T02:24:43.370Z",
    "type": "execution"
   },
   {
    "id": "4c2a0bf3548a40fa8227571bee916b1a",
    "time": "2021-02-09T02:24:43.548Z",
    "type": "completion"
   },
   {
    "code": "#iv) How well does the model predict training set observations? Can you justify the models performance on the training data with a quantifiable metric?\nols_3 = smf.ols(formula='RAV4Sales ~ CPIAll + CPIEnergy', data = Rav4_train)\nmodel_3 = ols_3.fit()\nprint(model_3.summary())",
    "id": "84dd0e7d637842a5994fe03fbe0f0178",
    "idx": 15,
    "time": "2021-02-09T02:24:43.686Z",
    "type": "execution"
   },
   {
    "code": "cols_3 = ['CPIAll', 'CPIEnergy']\nVIF(Rav4_train, cols_3)",
    "id": "23a7158f2e8144468c6bc4b1a72b33f6",
    "idx": 16,
    "time": "2021-02-09T02:24:43.844Z",
    "type": "execution"
   },
   {
    "id": "84dd0e7d637842a5994fe03fbe0f0178",
    "time": "2021-02-09T02:24:43.881Z",
    "type": "completion"
   },
   {
    "id": "23a7158f2e8144468c6bc4b1a72b33f6",
    "time": "2021-02-09T02:24:44.026Z",
    "type": "completion"
   },
   {
    "code": "#b \n#Construct a new linear regression model using theMonthFactorvariable as an independentvariable, in addition to all four of the variables you used at the start of part(a)\nols_4 = smf.ols(formula='RAV4Sales ~ MonthFactor + Unemployment + RAV4Queries + CPIAll + CPIEnergy', data = Rav4_train)\nmodel_4 = ols_4.fit()\nprint(model_4.summary())",
    "id": "55ef13a8df86486285d072f5c5916c70",
    "idx": 18,
    "time": "2021-02-09T02:24:44.172Z",
    "type": "execution"
   },
   {
    "id": "55ef13a8df86486285d072f5c5916c70",
    "time": "2021-02-09T02:24:44.376Z",
    "type": "completion"
   },
   {
    "code": "import seaborn as sns\nimport matplotlib.pyplot as plt\nsns.set_theme(style=\"darkgrid\")\n# Load an example dataset with long-form data\nfmri = sns.load_dataset(\"fmri\")\n\n# Plot the responses for different events and regions\ng = sns.lineplot(x=\"Year\", y=\"RAV4Sales\", hue=\"MonthFactor\", data=Rav4_train)\nplt.legend(bbox_to_anchor=(1.05, 1), loc=2, borderaxespad=0.)",
    "id": "04b52be9ee004699bfa16d7c89ccf29b",
    "idx": 21,
    "time": "2021-02-09T02:24:44.684Z",
    "type": "execution"
   },
   {
    "code": "Rav4_train2 = Rav4_train[(Rav4_train['MonthFactor'] == 'January') | (Rav4_train['MonthFactor'] == 'February')]\n\ng = sns.lineplot(x=\"Year\", y=\"RAV4Sales\", hue=\"MonthFactor\", data=Rav4_train2).set_title(\"RAV4 Sales for Jan and Feb\")\nplt.legend(bbox_to_anchor=(1.05, 1), loc=2, borderaxespad=0.)",
    "id": "a3f60e95371e4d04b454ac0ce6ccadb9",
    "idx": 22,
    "time": "2021-02-09T02:24:44.844Z",
    "type": "execution"
   },
   {
    "code": "#b\n#i) Describe your new model. What is the regression equation? (Do not simply copy andpaste output  from  Python. How  should  one  interpret  the  coefficients  of  each  of  theMonthFactordummy variables?",
    "id": "c0169e7096114f17a455178d8acc0269",
    "idx": 23,
    "time": "2021-02-09T02:24:45.001Z",
    "type": "execution"
   },
   {
    "code": "#ii) What is the training set R^2 for the new model? Which variables are significant?",
    "id": "9eaa09f885764a638859c8a03f81acbf",
    "idx": 25,
    "time": "2021-02-09T02:24:45.348Z",
    "type": "execution"
   },
   {
    "code": "#iii) Do you think adding the independent variable MonthFactor improves the quality of themodel?  Why or why not?",
    "id": "6f85dd4d1fdd4495820b0a1a01babb9b",
    "idx": 27,
    "time": "2021-02-09T02:24:45.675Z",
    "type": "execution"
   },
   {
    "id": "04b52be9ee004699bfa16d7c89ccf29b",
    "time": "2021-02-09T02:24:46.091Z",
    "type": "completion"
   },
   {
    "code": "#iv) Can you think of a different way that you might use the given data to model seasonality? Do you think your new way would improve on the best model you have constructed sofar? ",
    "id": "4e876a1bc5e148969bbc486574944b4e",
    "idx": 29,
    "time": "2021-02-09T02:24:46.248Z",
    "type": "execution"
   },
   {
    "id": "a3f60e95371e4d04b454ac0ce6ccadb9",
    "time": "2021-02-09T02:24:46.269Z",
    "type": "completion"
   },
   {
    "id": "c0169e7096114f17a455178d8acc0269",
    "time": "2021-02-09T02:24:46.271Z",
    "type": "completion"
   },
   {
    "id": "9eaa09f885764a638859c8a03f81acbf",
    "time": "2021-02-09T02:24:46.413Z",
    "type": "completion"
   },
   {
    "id": "6f85dd4d1fdd4495820b0a1a01babb9b",
    "time": "2021-02-09T02:24:46.414Z",
    "type": "completion"
   },
   {
    "id": "4e876a1bc5e148969bbc486574944b4e",
    "time": "2021-02-09T02:24:46.420Z",
    "type": "completion"
   },
   {
    "code": "#c) Build a final model using a subset of the independent variables used in parts(a)and(b), providing a brief justification for the variables selected.  What is the training set R2and theOSR2(this is theR2of your model on the test set)?  Do you think your model wouldbe useful to Toyota?  Why or why not?",
    "id": "4223d83f3d35495e9691b7d9a50bafcf",
    "idx": 31,
    "time": "2021-02-09T02:24:46.876Z",
    "type": "execution"
   },
   {
    "id": "4223d83f3d35495e9691b7d9a50bafcf",
    "time": "2021-02-09T02:24:47.046Z",
    "type": "completion"
   },
   {
    "code": "ols_final = smf.ols(formula='RAV4Sales ~ MonthFactor + Unemployment + RAV4Queries + CPIEnergy', data = Rav4_train)\nmodel_final = ols_final.fit()\nprint(model_final.summary())",
    "id": "2bf6bf2ae40247b7a0e8d758e04c1838",
    "idx": 32,
    "time": "2021-02-09T02:24:48.233Z",
    "type": "execution"
   },
   {
    "id": "2bf6bf2ae40247b7a0e8d758e04c1838",
    "time": "2021-02-09T02:24:48.444Z",
    "type": "completion"
   },
   {
    "code": "# Compute out-of-sample R-squared using the test set\ndef OSR2(model, df_train, df_test, dependent_var):   \n    y_test = df_test[dependent_var]\n    y_pred = model.predict(df_test)\n    SSE = np.sum((y_test - y_pred)**2)\n    SST = np.sum((y_test - np.mean(df_train[dependent_var]))**2)    \n    return 1 - SSE/SST\n\nOSR2(model_final, Rav4_train, Rav4_test, 'RAV4Sales')",
    "id": "3398ccb04a92411d9935f6be3192b31c",
    "idx": 33,
    "time": "2021-02-09T02:24:48.978Z",
    "type": "execution"
   },
   {
    "id": "3398ccb04a92411d9935f6be3192b31c",
    "time": "2021-02-09T02:24:49.165Z",
    "type": "completion"
   },
   {
    "code": "#Loading data\nUS_gas = pd.read_csv('US Gasoline and Diesel Prices.csv')\nUS_gas.info()",
    "id": "15f3189d43454ca192b3553db1c90fc2",
    "idx": 36,
    "time": "2021-02-09T02:25:46.034Z",
    "type": "execution"
   },
   {
    "id": "15f3189d43454ca192b3553db1c90fc2",
    "time": "2021-02-09T02:25:46.261Z",
    "type": "completion"
   },
   {
    "code": "#Loading data\nUS_gas = pd.read_csv('US Gasoline and Diesel Prices.csv')\nUS_gas.info()\nUS_gas.head()",
    "id": "15f3189d43454ca192b3553db1c90fc2",
    "idx": 36,
    "time": "2021-02-09T02:25:55.041Z",
    "type": "execution"
   },
   {
    "id": "15f3189d43454ca192b3553db1c90fc2",
    "time": "2021-02-09T02:25:55.274Z",
    "type": "completion"
   },
   {
    "code": "#Loading data\nweekly_gas = pd.read_csv('US Gasoline and Diesel Prices.csv')\nweekly_gas.info()\nweekly_gas.head()",
    "id": "15f3189d43454ca192b3553db1c90fc2",
    "idx": 36,
    "time": "2021-02-09T02:27:40.918Z",
    "type": "execution"
   },
   {
    "id": "15f3189d43454ca192b3553db1c90fc2",
    "time": "2021-02-09T02:27:42.002Z",
    "type": "completion"
   },
   {
    "code": "# Rav4_train = Rav4[(Rav4['Year'] >= 2011) & (Rav4['Year'] <= 2016)]\n# Rav4_test = Rav4[(Rav4['Year'] >= 2017) & (Rav4['Year'] <= 2020)]\n\n# Rav4_train.head()\nRav4_train.append(weekly_gas[A1], index = True)",
    "id": "fe83f566dce24aed987c5b49dd417452",
    "idx": 38,
    "time": "2021-02-09T02:33:43.130Z",
    "type": "execution"
   },
   {
    "id": "fe83f566dce24aed987c5b49dd417452",
    "time": "2021-02-09T02:33:43.340Z",
    "type": "completion"
   },
   {
    "code": "# Rav4_train = Rav4[(Rav4['Year'] >= 2011) & (Rav4['Year'] <= 2016)]\n# Rav4_test = Rav4[(Rav4['Year'] >= 2017) & (Rav4['Year'] <= 2020)]\n\n# Rav4_train.head()\nRav4_train.append(weekly_gas[\"A1\"], index = True)",
    "id": "fe83f566dce24aed987c5b49dd417452",
    "idx": 38,
    "time": "2021-02-09T02:33:53.407Z",
    "type": "execution"
   },
   {
    "id": "fe83f566dce24aed987c5b49dd417452",
    "time": "2021-02-09T02:33:53.600Z",
    "type": "completion"
   },
   {
    "code": "# Rav4_train = Rav4[(Rav4['Year'] >= 2011) & (Rav4['Year'] <= 2016)]\n# Rav4_test = Rav4[(Rav4['Year'] >= 2017) & (Rav4['Year'] <= 2020)]\n\n# Rav4_train.head()\nRav4_train.append(weekly_gas[\"A1\"])",
    "id": "fe83f566dce24aed987c5b49dd417452",
    "idx": 38,
    "time": "2021-02-09T02:34:27.195Z",
    "type": "execution"
   },
   {
    "id": "fe83f566dce24aed987c5b49dd417452",
    "time": "2021-02-09T02:34:27.568Z",
    "type": "completion"
   },
   {
    "code": "weekly_gas[\"A1\"]",
    "id": "6c8ea74d96b646a78da32e8a14b0f335",
    "idx": 38,
    "time": "2021-02-09T02:35:20.853Z",
    "type": "execution"
   },
   {
    "id": "6c8ea74d96b646a78da32e8a14b0f335",
    "time": "2021-02-09T02:35:21.046Z",
    "type": "completion"
   },
   {
    "code": "len(Rav4_train)",
    "id": "61b1bdf9a6e841d2a31c7ed0c0715b5e",
    "idx": 40,
    "time": "2021-02-09T02:38:41.361Z",
    "type": "execution"
   },
   {
    "id": "61b1bdf9a6e841d2a31c7ed0c0715b5e",
    "time": "2021-02-09T02:38:41.576Z",
    "type": "completion"
   },
   {
    "code": "len(Rav4_train)\nlen(Rav4_test)",
    "id": "61b1bdf9a6e841d2a31c7ed0c0715b5e",
    "idx": 40,
    "time": "2021-02-09T02:38:58.734Z",
    "type": "execution"
   },
   {
    "id": "61b1bdf9a6e841d2a31c7ed0c0715b5e",
    "time": "2021-02-09T02:38:58.921Z",
    "type": "completion"
   },
   {
    "code": "len(Rav4_train)\nlen(Rav4_test)\nlen(Rav4)",
    "id": "61b1bdf9a6e841d2a31c7ed0c0715b5e",
    "idx": 40,
    "time": "2021-02-09T02:39:03.329Z",
    "type": "execution"
   },
   {
    "id": "61b1bdf9a6e841d2a31c7ed0c0715b5e",
    "time": "2021-02-09T02:39:03.516Z",
    "type": "completion"
   },
   {
    "code": "weekly_gas[,:3]",
    "id": "6c8ea74d96b646a78da32e8a14b0f335",
    "idx": 38,
    "time": "2021-02-09T02:40:30.589Z",
    "type": "execution"
   },
   {
    "id": "6c8ea74d96b646a78da32e8a14b0f335",
    "time": "2021-02-09T02:40:30.799Z",
    "type": "completion"
   },
   {
    "code": "weekly_gas[:3]",
    "id": "6c8ea74d96b646a78da32e8a14b0f335",
    "idx": 38,
    "time": "2021-02-09T02:40:35.326Z",
    "type": "execution"
   },
   {
    "id": "6c8ea74d96b646a78da32e8a14b0f335",
    "time": "2021-02-09T02:40:35.530Z",
    "type": "completion"
   },
   {
    "code": "weekly_gas[.iloc:3]",
    "id": "6c8ea74d96b646a78da32e8a14b0f335",
    "idx": 38,
    "time": "2021-02-09T02:40:41.548Z",
    "type": "execution"
   },
   {
    "id": "6c8ea74d96b646a78da32e8a14b0f335",
    "time": "2021-02-09T02:40:41.728Z",
    "type": "completion"
   },
   {
    "code": "weekly_gas[:,3]",
    "id": "6c8ea74d96b646a78da32e8a14b0f335",
    "idx": 38,
    "time": "2021-02-09T02:41:29.911Z",
    "type": "execution"
   },
   {
    "id": "6c8ea74d96b646a78da32e8a14b0f335",
    "time": "2021-02-09T02:41:30.125Z",
    "type": "completion"
   },
   {
    "code": "weekly_gas.iloc?[:,3]",
    "id": "6c8ea74d96b646a78da32e8a14b0f335",
    "idx": 38,
    "time": "2021-02-09T02:41:37.868Z",
    "type": "execution"
   },
   {
    "id": "6c8ea74d96b646a78da32e8a14b0f335",
    "time": "2021-02-09T02:41:38.054Z",
    "type": "completion"
   },
   {
    "code": "weekly_gas.iloc[:,3]",
    "id": "6c8ea74d96b646a78da32e8a14b0f335",
    "idx": 38,
    "time": "2021-02-09T02:41:40.169Z",
    "type": "execution"
   },
   {
    "id": "6c8ea74d96b646a78da32e8a14b0f335",
    "time": "2021-02-09T02:41:40.347Z",
    "type": "completion"
   },
   {
    "code": "weekly_gas.iloc[:,1]",
    "id": "6c8ea74d96b646a78da32e8a14b0f335",
    "idx": 38,
    "time": "2021-02-09T02:41:53.448Z",
    "type": "execution"
   },
   {
    "id": "6c8ea74d96b646a78da32e8a14b0f335",
    "time": "2021-02-09T02:41:55.974Z",
    "type": "completion"
   },
   {
    "code": "weekly_gas.iloc[:,0,1]",
    "id": "6c8ea74d96b646a78da32e8a14b0f335",
    "idx": 38,
    "time": "2021-02-09T02:42:07.831Z",
    "type": "execution"
   },
   {
    "id": "6c8ea74d96b646a78da32e8a14b0f335",
    "time": "2021-02-09T02:42:08.191Z",
    "type": "completion"
   },
   {
    "code": "weekly_gas.iloc[:,1]",
    "id": "6c8ea74d96b646a78da32e8a14b0f335",
    "idx": 38,
    "time": "2021-02-09T02:42:10.458Z",
    "type": "execution"
   },
   {
    "id": "6c8ea74d96b646a78da32e8a14b0f335",
    "time": "2021-02-09T02:42:10.650Z",
    "type": "completion"
   },
   {
    "code": "weekly_gas.iloc[0,1]",
    "id": "6c8ea74d96b646a78da32e8a14b0f335",
    "idx": 38,
    "time": "2021-02-09T02:42:53.508Z",
    "type": "execution"
   },
   {
    "id": "6c8ea74d96b646a78da32e8a14b0f335",
    "time": "2021-02-09T02:42:54.195Z",
    "type": "completion"
   },
   {
    "code": "weekly_gas.iloc[:,0:2]",
    "id": "6c8ea74d96b646a78da32e8a14b0f335",
    "idx": 38,
    "time": "2021-02-09T02:43:35.226Z",
    "type": "execution"
   },
   {
    "id": "6c8ea74d96b646a78da32e8a14b0f335",
    "time": "2021-02-09T02:43:35.426Z",
    "type": "completion"
   },
   {
    "code": "weekly_gas = weekly_gas.iloc[:,0:2]",
    "id": "6c8ea74d96b646a78da32e8a14b0f335",
    "idx": 38,
    "time": "2021-02-09T02:45:29.458Z",
    "type": "execution"
   },
   {
    "code": "import numpy as np\nimport pandas as pd",
    "id": "5d881bb1b23047ed937654357c91a009",
    "idx": 0,
    "time": "2021-02-09T02:47:22.541Z",
    "type": "execution"
   },
   {
    "code": "#Loading data\nRav4 = pd.read_csv('RAV4-142-Spring2021.csv')\nRav4.info()",
    "id": "13257f59f17f40df836b3dbf91a1fcdb",
    "idx": 1,
    "time": "2021-02-09T02:47:22.545Z",
    "type": "execution"
   },
   {
    "code": "Rav4.head()",
    "id": "b00b36047c4c4159a39144956ae41e8f",
    "idx": 2,
    "time": "2021-02-09T02:47:22.547Z",
    "type": "execution"
   },
   {
    "code": "# Problem 2\n# a) Start  by  splitting  the  data  into  a  training  set  and  testing  set. The trainingset should contain all observations for 2011 through 2016.  \n#The testing set should have allobservations for 2017 through 2020.\n\nRav4_train = Rav4[(Rav4['Year'] >= 2011) & (Rav4['Year'] <= 2016)]\nRav4_test = Rav4[(Rav4['Year'] >= 2017) & (Rav4['Year'] <= 2020)]\n\nRav4_train.head()",
    "id": "de55ea212fe146b3960c8ffc798e4bc6",
    "idx": 3,
    "time": "2021-02-09T02:47:22.548Z",
    "type": "execution"
   },
   {
    "code": "#i) What  is  the  linear  regression  equation  produced  by  your  model,  and  how  should  one interpret the coefficients for the independent variables?  \n#Consider interpretability issues when  writing  down  the  equation  (e.g.,  do  not  just  copy  and  paste  the  output  from Python)",
    "id": "792ac1b0e228454e88659ca830033977",
    "idx": 4,
    "time": "2021-02-09T02:47:22.550Z",
    "type": "execution"
   },
   {
    "code": "import statsmodels.api as sm\nimport statsmodels.formula.api as smf\n\nols_1 = smf.ols(formula='RAV4Sales ~ Unemployment + RAV4Queries + CPIAll + CPIEnergy ', data = Rav4_train)\nmodel_1 = ols_1.fit()\nprint(model_1.summary())",
    "id": "9d2e75f59d36457c9cbfe9da27b693ec",
    "idx": 6,
    "time": "2021-02-09T02:47:22.551Z",
    "type": "execution"
   },
   {
    "code": "#ii) How did you select the variables to include in your linear regression model?\nfrom statsmodels.stats.outliers_influence import variance_inflation_factor\n\ndef VIF(df, columns):\n    values = sm.add_constant(df[columns]).values\n    num_columns = len(columns)+1\n    vif = [variance_inflation_factor(values, i) for i in range(num_columns)]\n    return pd.Series(vif[1:], index=columns)",
    "id": "e2d8e16ff826475bb07b8f2ed1e28645",
    "idx": 7,
    "time": "2021-02-09T02:47:22.552Z",
    "type": "execution"
   },
   {
    "code": "cols_1 = ['Unemployment', 'RAV4Queries', 'CPIAll', 'CPIEnergy']\nVIF(Rav4_train, cols_1)",
    "id": "05f79c7bd5a3481691ed89737a4b92fd",
    "idx": 8,
    "time": "2021-02-09T02:47:22.553Z",
    "type": "execution"
   },
   {
    "code": "ols_2 = smf.ols(formula='RAV4Sales ~ RAV4Queries + CPIAll + CPIEnergy ', data = Rav4_train)\nmodel_2 = ols_2.fit()\nprint(model_2.summary())",
    "id": "f376fbf4b322469c800789158ae11fa7",
    "idx": 10,
    "time": "2021-02-09T02:47:22.555Z",
    "type": "execution"
   },
   {
    "code": "cols_2 = ['RAV4Queries', 'CPIAll', 'CPIEnergy']\nVIF(Rav4_train, cols_2)",
    "id": "21e41a6337964aba99be1239ad223e91",
    "idx": 11,
    "time": "2021-02-09T02:47:22.556Z",
    "type": "execution"
   },
   {
    "code": "#iii) Do the signs of the models coefficients make sense?  Are you reasonably sure that thesigns are correct?",
    "id": "f08a1408d6be499abd89ca13d6ae7167",
    "idx": 13,
    "time": "2021-02-09T02:47:22.557Z",
    "type": "execution"
   },
   {
    "code": "#iv) How well does the model predict training set observations? Can you justify the models performance on the training data with a quantifiable metric?\nols_3 = smf.ols(formula='RAV4Sales ~ CPIAll + CPIEnergy', data = Rav4_train)\nmodel_3 = ols_3.fit()\nprint(model_3.summary())",
    "id": "598ff3a3e526419481ed621883842a29",
    "idx": 15,
    "time": "2021-02-09T02:47:22.558Z",
    "type": "execution"
   },
   {
    "code": "cols_3 = ['CPIAll', 'CPIEnergy']\nVIF(Rav4_train, cols_3)",
    "id": "8cdf5dd1716c40988e2f11fab1cdcbfb",
    "idx": 16,
    "time": "2021-02-09T02:47:22.560Z",
    "type": "execution"
   },
   {
    "code": "#b \n#Construct a new linear regression model using theMonthFactorvariable as an independentvariable, in addition to all four of the variables you used at the start of part(a)\nols_4 = smf.ols(formula='RAV4Sales ~ MonthFactor + Unemployment + RAV4Queries + CPIAll + CPIEnergy', data = Rav4_train)\nmodel_4 = ols_4.fit()\nprint(model_4.summary())",
    "id": "7cb866a897d841668edbe838a1222558",
    "idx": 18,
    "time": "2021-02-09T02:47:22.561Z",
    "type": "execution"
   },
   {
    "code": "import seaborn as sns\nimport matplotlib.pyplot as plt\nsns.set_theme(style=\"darkgrid\")\n# Load an example dataset with long-form data\nfmri = sns.load_dataset(\"fmri\")\n\n# Plot the responses for different events and regions\ng = sns.lineplot(x=\"Year\", y=\"RAV4Sales\", hue=\"MonthFactor\", data=Rav4_train)\nplt.legend(bbox_to_anchor=(1.05, 1), loc=2, borderaxespad=0.)",
    "id": "c51ee64cfd464b6a8001aa7789b9a37b",
    "idx": 21,
    "time": "2021-02-09T02:47:22.562Z",
    "type": "execution"
   },
   {
    "code": "Rav4_train2 = Rav4_train[(Rav4_train['MonthFactor'] == 'January') | (Rav4_train['MonthFactor'] == 'February')]\n\ng = sns.lineplot(x=\"Year\", y=\"RAV4Sales\", hue=\"MonthFactor\", data=Rav4_train2).set_title(\"RAV4 Sales for Jan and Feb\")\nplt.legend(bbox_to_anchor=(1.05, 1), loc=2, borderaxespad=0.)",
    "id": "a2d464afbbe34f5089b37e9c9b065977",
    "idx": 22,
    "time": "2021-02-09T02:47:22.563Z",
    "type": "execution"
   },
   {
    "code": "#b\n#i) Describe your new model. What is the regression equation? (Do not simply copy andpaste output  from  Python. How  should  one  interpret  the  coefficients  of  each  of  theMonthFactordummy variables?",
    "id": "126592ed5e2b4395a7b1cc9be1ec908d",
    "idx": 23,
    "time": "2021-02-09T02:47:22.564Z",
    "type": "execution"
   },
   {
    "code": "#ii) What is the training set R^2 for the new model? Which variables are significant?",
    "id": "55338e7ce0604dc9b6bf99b7ff1d4ef0",
    "idx": 25,
    "time": "2021-02-09T02:47:22.565Z",
    "type": "execution"
   },
   {
    "code": "#iii) Do you think adding the independent variable MonthFactor improves the quality of themodel?  Why or why not?",
    "id": "991142f3a59147b89f91354cc3baf90b",
    "idx": 27,
    "time": "2021-02-09T02:47:22.566Z",
    "type": "execution"
   },
   {
    "code": "#iv) Can you think of a different way that you might use the given data to model seasonality? Do you think your new way would improve on the best model you have constructed sofar? ",
    "id": "1a38aa2c2805446f8895cf2d356618ca",
    "idx": 29,
    "time": "2021-02-09T02:47:22.566Z",
    "type": "execution"
   },
   {
    "code": "#c) Build a final model using a subset of the independent variables used in parts(a)and(b), providing a brief justification for the variables selected.  What is the training set R2and theOSR2(this is theR2of your model on the test set)?  Do you think your model wouldbe useful to Toyota?  Why or why not?",
    "id": "74821759a80845629f9e867e48bd0ce1",
    "idx": 31,
    "time": "2021-02-09T02:47:22.567Z",
    "type": "execution"
   },
   {
    "code": "ols_final = smf.ols(formula='RAV4Sales ~ MonthFactor + Unemployment + RAV4Queries + CPIEnergy', data = Rav4_train)\nmodel_final = ols_final.fit()\nprint(model_final.summary())",
    "id": "8bb450c617124c318107a4ac1454cc99",
    "idx": 32,
    "time": "2021-02-09T02:47:22.569Z",
    "type": "execution"
   },
   {
    "code": "# Compute out-of-sample R-squared using the test set\ndef OSR2(model, df_train, df_test, dependent_var):   \n    y_test = df_test[dependent_var]\n    y_pred = model.predict(df_test)\n    SSE = np.sum((y_test - y_pred)**2)\n    SST = np.sum((y_test - np.mean(df_train[dependent_var]))**2)    \n    return 1 - SSE/SST\n\nOSR2(model_final, Rav4_train, Rav4_test, 'RAV4Sales')",
    "id": "864c146c8e6743e38902aa7d1fd716c3",
    "idx": 33,
    "time": "2021-02-09T02:47:22.570Z",
    "type": "execution"
   },
   {
    "code": "#d) Now, build  a  new  regression  model  with  your  additional  chosen  feature  in  addition  to  thefeatures that you selected in part(c).  Does the new feature add any predictive value?  Justifyyour answer based on the results of your analysis.",
    "id": "522594bd078d4125bacd60a7708ab173",
    "idx": 35,
    "time": "2021-02-09T02:47:22.571Z",
    "type": "execution"
   },
   {
    "code": "#Loading data\nweekly_gas = pd.read_csv('US Gasoline and Diesel Prices.csv')\nweekly_gas.info()\nweekly_gas.head()",
    "id": "9bfb21225cec428c9f4b1c332bba2093",
    "idx": 36,
    "time": "2021-02-09T02:47:22.572Z",
    "type": "execution"
   },
   {
    "code": "weekly_gas = weekly_gas.iloc[:,0:2]",
    "id": "0e6b5b42a98e463c8cee77c612354024",
    "idx": 38,
    "time": "2021-02-09T02:47:22.573Z",
    "type": "execution"
   },
   {
    "code": "# weekly_gas_train = weekly_gas[(weekly_gas['Date'] >= ) & (Rav4['Year'] <= 2016)]\n\n\nRav4_train.append(weekly_gas[\"A1\"])",
    "id": "b8f23924d87140ed8d4e3e328dfe1035",
    "idx": 39,
    "time": "2021-02-09T02:47:22.574Z",
    "type": "execution"
   },
   {
    "code": "#e) propose a loss function that accurately models this situation and explain your reasoning.",
    "id": "81200f4bce3249fd88c64597a56e1695",
    "idx": 41,
    "time": "2021-02-09T02:47:22.576Z",
    "type": "execution"
   },
   {
    "id": "5d881bb1b23047ed937654357c91a009",
    "time": "2021-02-09T02:47:22.734Z",
    "type": "completion"
   },
   {
    "id": "13257f59f17f40df836b3dbf91a1fcdb",
    "time": "2021-02-09T02:47:22.765Z",
    "type": "completion"
   },
   {
    "id": "b00b36047c4c4159a39144956ae41e8f",
    "time": "2021-02-09T02:47:22.919Z",
    "type": "completion"
   },
   {
    "id": "de55ea212fe146b3960c8ffc798e4bc6",
    "time": "2021-02-09T02:47:22.936Z",
    "type": "completion"
   },
   {
    "id": "792ac1b0e228454e88659ca830033977",
    "time": "2021-02-09T02:47:22.937Z",
    "type": "completion"
   },
   {
    "id": "9d2e75f59d36457c9cbfe9da27b693ec",
    "time": "2021-02-09T02:47:22.938Z",
    "type": "completion"
   },
   {
    "id": "e2d8e16ff826475bb07b8f2ed1e28645",
    "time": "2021-02-09T02:47:22.939Z",
    "type": "completion"
   },
   {
    "id": "05f79c7bd5a3481691ed89737a4b92fd",
    "time": "2021-02-09T02:47:23.056Z",
    "type": "completion"
   },
   {
    "id": "f376fbf4b322469c800789158ae11fa7",
    "time": "2021-02-09T02:47:23.057Z",
    "type": "completion"
   },
   {
    "id": "21e41a6337964aba99be1239ad223e91",
    "time": "2021-02-09T02:47:23.063Z",
    "type": "completion"
   },
   {
    "id": "f08a1408d6be499abd89ca13d6ae7167",
    "time": "2021-02-09T02:47:23.063Z",
    "type": "completion"
   },
   {
    "id": "598ff3a3e526419481ed621883842a29",
    "time": "2021-02-09T02:47:23.088Z",
    "type": "completion"
   },
   {
    "id": "8cdf5dd1716c40988e2f11fab1cdcbfb",
    "time": "2021-02-09T02:47:23.094Z",
    "type": "completion"
   },
   {
    "id": "7cb866a897d841668edbe838a1222558",
    "time": "2021-02-09T02:47:23.142Z",
    "type": "completion"
   },
   {
    "id": "c51ee64cfd464b6a8001aa7789b9a37b",
    "time": "2021-02-09T02:47:23.740Z",
    "type": "completion"
   },
   {
    "id": "a2d464afbbe34f5089b37e9c9b065977",
    "time": "2021-02-09T02:47:24.054Z",
    "type": "completion"
   },
   {
    "id": "126592ed5e2b4395a7b1cc9be1ec908d",
    "time": "2021-02-09T02:47:24.057Z",
    "type": "completion"
   },
   {
    "id": "55338e7ce0604dc9b6bf99b7ff1d4ef0",
    "time": "2021-02-09T02:47:24.064Z",
    "type": "completion"
   },
   {
    "id": "991142f3a59147b89f91354cc3baf90b",
    "time": "2021-02-09T02:47:24.086Z",
    "type": "completion"
   },
   {
    "id": "1a38aa2c2805446f8895cf2d356618ca",
    "time": "2021-02-09T02:47:24.107Z",
    "type": "completion"
   },
   {
    "id": "74821759a80845629f9e867e48bd0ce1",
    "time": "2021-02-09T02:47:24.130Z",
    "type": "completion"
   },
   {
    "id": "8bb450c617124c318107a4ac1454cc99",
    "time": "2021-02-09T02:47:24.400Z",
    "type": "completion"
   },
   {
    "id": "864c146c8e6743e38902aa7d1fd716c3",
    "time": "2021-02-09T02:47:24.427Z",
    "type": "completion"
   },
   {
    "id": "522594bd078d4125bacd60a7708ab173",
    "time": "2021-02-09T02:47:24.453Z",
    "type": "completion"
   },
   {
    "id": "9bfb21225cec428c9f4b1c332bba2093",
    "time": "2021-02-09T02:47:24.519Z",
    "type": "completion"
   },
   {
    "id": "0e6b5b42a98e463c8cee77c612354024",
    "time": "2021-02-09T02:47:24.520Z",
    "type": "completion"
   },
   {
    "id": "b8f23924d87140ed8d4e3e328dfe1035",
    "time": "2021-02-09T02:47:24.590Z",
    "type": "completion"
   },
   {
    "id": "81200f4bce3249fd88c64597a56e1695",
    "time": "2021-02-09T02:47:24.598Z",
    "type": "completion"
   },
   {
    "code": "weekly_gas = weekly_gas.iloc[:,0:2]\nweekly_gas.head()",
    "id": "0e6b5b42a98e463c8cee77c612354024",
    "idx": 38,
    "time": "2021-02-09T02:47:31.285Z",
    "type": "execution"
   },
   {
    "id": "0e6b5b42a98e463c8cee77c612354024",
    "time": "2021-02-09T02:47:31.502Z",
    "type": "completion"
   },
   {
    "code": "weekly_gas = weekly_gas.iloc[:,0:2]\n\nweekly_gas['year'] = pd.DatetimeIndex(weekly_gas['Date']).year\nweekly_gas.head()",
    "id": "0e6b5b42a98e463c8cee77c612354024",
    "idx": 38,
    "time": "2021-02-09T02:48:00.145Z",
    "type": "execution"
   },
   {
    "id": "0e6b5b42a98e463c8cee77c612354024",
    "time": "2021-02-09T02:48:00.359Z",
    "type": "completion"
   },
   {
    "code": "weekly_gas = weekly_gas.iloc[:,0:2]\n\n#only get the year\nweekly_gas['year'] = pd.DatetimeIndex(weekly_gas['Date']).year\nweekly_gas.head()\n\nweekly_gas = weekly_gas.iloc[:,1:2]",
    "id": "0e6b5b42a98e463c8cee77c612354024",
    "idx": 38,
    "time": "2021-02-09T02:48:30.390Z",
    "type": "execution"
   },
   {
    "id": "0e6b5b42a98e463c8cee77c612354024",
    "time": "2021-02-09T02:48:30.569Z",
    "type": "completion"
   },
   {
    "code": "weekly_gas = weekly_gas.iloc[:,0:2]\n\n#only get the year\nweekly_gas['year'] = pd.DatetimeIndex(weekly_gas['Date']).year\nweekly_gas = weekly_gas.iloc[:,1:2]\nweekly_gas.head()",
    "id": "0e6b5b42a98e463c8cee77c612354024",
    "idx": 38,
    "time": "2021-02-09T02:48:38.850Z",
    "type": "execution"
   },
   {
    "id": "0e6b5b42a98e463c8cee77c612354024",
    "time": "2021-02-09T02:48:39.234Z",
    "type": "completion"
   },
   {
    "code": "weekly_gas = weekly_gas.iloc[:,0:2]\n\n#only get the year\nweekly_gas['year'] = pd.DatetimeIndex(weekly_gas['Date']).year\nweekly_gas = weekly_gas.iloc[:,0:2]\nweekly_gas.head()",
    "id": "0e6b5b42a98e463c8cee77c612354024",
    "idx": 38,
    "time": "2021-02-09T02:48:45.548Z",
    "type": "execution"
   },
   {
    "id": "0e6b5b42a98e463c8cee77c612354024",
    "time": "2021-02-09T02:48:45.886Z",
    "type": "completion"
   },
   {
    "code": "weekly_gas = weekly_gas.iloc[:,0:2]\n\n#only get the year\nweekly_gas['year'] = pd.DatetimeIndex(weekly_gas['Date']).year\nweekly_gas.head()\n\n",
    "id": "0e6b5b42a98e463c8cee77c612354024",
    "idx": 38,
    "time": "2021-02-09T02:48:57.845Z",
    "type": "execution"
   },
   {
    "id": "0e6b5b42a98e463c8cee77c612354024",
    "time": "2021-02-09T02:48:58.184Z",
    "type": "completion"
   },
   {
    "code": "weekly_gas = weekly_gas.iloc[:,0:2]\nweekly_gas.head()\n\nweekly_gas['year'] = pd.DatetimeIndex(weekly_gas['Date']).year\nweekly_gas.head()",
    "id": "0e6b5b42a98e463c8cee77c612354024",
    "idx": 38,
    "time": "2021-02-09T02:49:19.779Z",
    "type": "execution"
   },
   {
    "id": "0e6b5b42a98e463c8cee77c612354024",
    "time": "2021-02-09T02:49:20.127Z",
    "type": "completion"
   },
   {
    "code": "#Loading data\nweekly_gas = pd.read_csv('US Gasoline and Diesel Prices.csv')\nweekly_gas.info()\nweekly_gas.head()",
    "id": "9bfb21225cec428c9f4b1c332bba2093",
    "idx": 36,
    "time": "2021-02-09T02:49:23.973Z",
    "type": "execution"
   },
   {
    "id": "9bfb21225cec428c9f4b1c332bba2093",
    "time": "2021-02-09T02:49:24.222Z",
    "type": "completion"
   },
   {
    "code": "weekly_gas = weekly_gas.iloc[:,0:2]\nweekly_gas.head()\n\nweekly_gas['year'] = pd.DatetimeIndex(weekly_gas['Date']).year\nweekly_gas.head()",
    "id": "0e6b5b42a98e463c8cee77c612354024",
    "idx": 38,
    "time": "2021-02-09T02:49:25.777Z",
    "type": "execution"
   },
   {
    "id": "0e6b5b42a98e463c8cee77c612354024",
    "time": "2021-02-09T02:49:25.985Z",
    "type": "completion"
   },
   {
    "code": "weekly_gas = weekly_gas.iloc[:,0:2]\n#weekly_gas.head()\n\nweekly_gas['year'] = pd.DatetimeIndex(weekly_gas['Date']).year\nweekly_gas = weekly_gas.iloc[:,1:2]\nweekly_gas.head()\n",
    "id": "0e6b5b42a98e463c8cee77c612354024",
    "idx": 38,
    "time": "2021-02-09T02:49:43.562Z",
    "type": "execution"
   },
   {
    "id": "0e6b5b42a98e463c8cee77c612354024",
    "time": "2021-02-09T02:49:43.749Z",
    "type": "completion"
   },
   {
    "code": "weekly_gas = weekly_gas.iloc[:,0:2]\n#weekly_gas.head()\n\nweekly_gas['year'] = pd.DatetimeIndex(weekly_gas['Date']).year\nweekly_gas = weekly_gas.iloc[:,0:3]\nweekly_gas.head()\n",
    "id": "0e6b5b42a98e463c8cee77c612354024",
    "idx": 38,
    "time": "2021-02-09T02:49:54.633Z",
    "type": "execution"
   },
   {
    "id": "0e6b5b42a98e463c8cee77c612354024",
    "time": "2021-02-09T02:49:54.973Z",
    "type": "completion"
   },
   {
    "code": "#Loading data\nweekly_gas = pd.read_csv('US Gasoline and Diesel Prices.csv')\nweekly_gas.info()\nweekly_gas.head()",
    "id": "9bfb21225cec428c9f4b1c332bba2093",
    "idx": 36,
    "time": "2021-02-09T02:49:58.917Z",
    "type": "execution"
   },
   {
    "id": "9bfb21225cec428c9f4b1c332bba2093",
    "time": "2021-02-09T02:49:59.133Z",
    "type": "completion"
   },
   {
    "code": "weekly_gas = weekly_gas.iloc[:,0:2]\n#weekly_gas.head()\n\nweekly_gas['year'] = pd.DatetimeIndex(weekly_gas['Date']).year\nweekly_gas = weekly_gas.iloc[:,0:2]\nweekly_gas.head()\n",
    "id": "0e6b5b42a98e463c8cee77c612354024",
    "idx": 38,
    "time": "2021-02-09T02:50:03.878Z",
    "type": "execution"
   },
   {
    "id": "0e6b5b42a98e463c8cee77c612354024",
    "time": "2021-02-09T02:50:04.082Z",
    "type": "completion"
   },
   {
    "code": "weekly_gas = weekly_gas.iloc[:,0:2]\n#weekly_gas.head()\n\nweekly_gas['year'] = pd.DatetimeIndex(weekly_gas['Date']).year\nweekly_gas = weekly_gas.iloc[:,0:2]\n#weekly_gas.head()\n",
    "id": "0e6b5b42a98e463c8cee77c612354024",
    "idx": 38,
    "time": "2021-02-09T02:50:14.896Z",
    "type": "execution"
   },
   {
    "id": "0e6b5b42a98e463c8cee77c612354024",
    "time": "2021-02-09T02:50:15.082Z",
    "type": "completion"
   },
   {
    "code": "weekly_gas = weekly_gas.iloc[:,0:2]\n#weekly_gas.head()\n\nweekly_gas['year'] = pd.DatetimeIndex(weekly_gas['Date']).year\n#weekly_gas = weekly_gas.iloc[:,0:2]\nweekly_gas.head()\n",
    "id": "0e6b5b42a98e463c8cee77c612354024",
    "idx": 38,
    "time": "2021-02-09T02:50:32.476Z",
    "type": "execution"
   },
   {
    "id": "0e6b5b42a98e463c8cee77c612354024",
    "time": "2021-02-09T02:50:32.685Z",
    "type": "completion"
   },
   {
    "code": "weekly_gas = weekly_gas.iloc[:,0:2]\n#weekly_gas.head()\n\nweekly_gas['Year'] = pd.DatetimeIndex(weekly_gas['Date']).year\n#weekly_gas = weekly_gas.iloc[:,0:2]\nweekly_gas = weekly_gas[['Year', 'A1']]\nweekly_gas.head()\n",
    "id": "0e6b5b42a98e463c8cee77c612354024",
    "idx": 38,
    "time": "2021-02-09T02:52:19.529Z",
    "type": "execution"
   },
   {
    "id": "0e6b5b42a98e463c8cee77c612354024",
    "time": "2021-02-09T02:52:19.736Z",
    "type": "completion"
   },
   {
    "code": "weekly_gas = weekly_gas.iloc[:,0:2]\n#weekly_gas.head()\n\nweekly_gas['Year'] = pd.DatetimeIndex(weekly_gas['Date']).year\nweekly_gas = weekly_gas[['Year', 'A1']]\nweekly_gas.()\n",
    "id": "0e6b5b42a98e463c8cee77c612354024",
    "idx": 38,
    "time": "2021-02-09T02:52:33.983Z",
    "type": "execution"
   },
   {
    "id": "0e6b5b42a98e463c8cee77c612354024",
    "time": "2021-02-09T02:52:34.175Z",
    "type": "completion"
   },
   {
    "code": "weekly_gas = weekly_gas.iloc[:,0:2]\n#weekly_gas.head()\n\nweekly_gas['Year'] = pd.DatetimeIndex(weekly_gas['Date']).year\nweekly_gas = weekly_gas[['Year', 'A1']]\nweekly_gas.(30)\n",
    "id": "0e6b5b42a98e463c8cee77c612354024",
    "idx": 38,
    "time": "2021-02-09T02:52:36.774Z",
    "type": "execution"
   },
   {
    "id": "0e6b5b42a98e463c8cee77c612354024",
    "time": "2021-02-09T02:52:36.953Z",
    "type": "completion"
   },
   {
    "code": "weekly_gas = weekly_gas.iloc[:,0:2]\n#weekly_gas.head()\n\nweekly_gas['Year'] = pd.DatetimeIndex(weekly_gas['Date']).year\nweekly_gas = weekly_gas[['Year', 'A1']]\nweekly_gas.head(30)\n",
    "id": "0e6b5b42a98e463c8cee77c612354024",
    "idx": 38,
    "time": "2021-02-09T02:52:40.530Z",
    "type": "execution"
   },
   {
    "id": "0e6b5b42a98e463c8cee77c612354024",
    "time": "2021-02-09T02:52:40.874Z",
    "type": "completion"
   },
   {
    "code": "weekly_gas = weekly_gas.iloc[:,0:2]\n#weekly_gas.head()\n\nweekly_gas['Year'] = pd.DatetimeIndex(weekly_gas['Date']).year\nweekly_gas = weekly_gas[['Year', 'A1']]\nweekly_gas\n",
    "id": "0e6b5b42a98e463c8cee77c612354024",
    "idx": 38,
    "time": "2021-02-09T02:52:47.808Z",
    "type": "execution"
   },
   {
    "id": "0e6b5b42a98e463c8cee77c612354024",
    "time": "2021-02-09T02:52:48.160Z",
    "type": "completion"
   },
   {
    "code": "weekly_gas = weekly_gas.iloc[:,0:2]\n#weekly_gas.head()\n\nweekly_gas['Year'] = pd.DatetimeIndex(weekly_gas['Date']).year\nweekly_gas = weekly_gas[['Year', 'A1']]\nweekly_gas()",
    "id": "0e6b5b42a98e463c8cee77c612354024",
    "idx": 38,
    "time": "2021-02-09T02:52:53.671Z",
    "type": "execution"
   },
   {
    "id": "0e6b5b42a98e463c8cee77c612354024",
    "time": "2021-02-09T02:52:54.023Z",
    "type": "completion"
   },
   {
    "code": "weekly_gas = weekly_gas.iloc[:,0:2]\n#weekly_gas.head()\n\nweekly_gas['Year'] = pd.DatetimeIndex(weekly_gas['Date']).year\nweekly_gas = weekly_gas[['Year', 'A1']]\n#weekly_gas()",
    "id": "0e6b5b42a98e463c8cee77c612354024",
    "idx": 38,
    "time": "2021-02-09T02:53:02.622Z",
    "type": "execution"
   },
   {
    "id": "0e6b5b42a98e463c8cee77c612354024",
    "time": "2021-02-09T02:53:02.971Z",
    "type": "completion"
   },
   {
    "code": "weekly_gas = weekly_gas.iloc[:,0:2]\n#weekly_gas.head()\n\nweekly_gas['Year'] = pd.DatetimeIndex(weekly_gas['Date']).year\nweekly_gas = weekly_gas[['Year', 'A1', 'Date']]\n#weekly_gas()",
    "id": "0e6b5b42a98e463c8cee77c612354024",
    "idx": 38,
    "time": "2021-02-09T02:53:12.092Z",
    "type": "execution"
   },
   {
    "id": "0e6b5b42a98e463c8cee77c612354024",
    "time": "2021-02-09T02:53:12.435Z",
    "type": "completion"
   },
   {
    "code": "#Loading data\nweekly_gas = pd.read_csv('US Gasoline and Diesel Prices.csv')\nweekly_gas.info()\nweekly_gas.head()",
    "id": "9bfb21225cec428c9f4b1c332bba2093",
    "idx": 36,
    "time": "2021-02-09T02:53:19.510Z",
    "type": "execution"
   },
   {
    "id": "9bfb21225cec428c9f4b1c332bba2093",
    "time": "2021-02-09T02:53:19.754Z",
    "type": "completion"
   },
   {
    "code": "weekly_gas = weekly_gas.iloc[:,0:2]\n#weekly_gas.head()\n\nweekly_gas['Year'] = pd.DatetimeIndex(weekly_gas['Date']).year\nweekly_gas = weekly_gas[['Year', 'A1', 'Date']]\n",
    "id": "0e6b5b42a98e463c8cee77c612354024",
    "idx": 38,
    "time": "2021-02-09T02:53:21.430Z",
    "type": "execution"
   },
   {
    "id": "0e6b5b42a98e463c8cee77c612354024",
    "time": "2021-02-09T02:53:21.620Z",
    "type": "completion"
   },
   {
    "code": "weekly_gas = weekly_gas.iloc[:,0:2]\n#weekly_gas.head()\n\nweekly_gas['Year'] = pd.DatetimeIndex(weekly_gas['Date']).year\nweekly_gas = weekly_gas[['Year', 'A1', 'Date']]\nweekly_gas.head()",
    "id": "0e6b5b42a98e463c8cee77c612354024",
    "idx": 38,
    "time": "2021-02-09T02:53:29.214Z",
    "type": "execution"
   },
   {
    "id": "0e6b5b42a98e463c8cee77c612354024",
    "time": "2021-02-09T02:53:29.581Z",
    "type": "completion"
   },
   {
    "code": "weekly_gas = weekly_gas.iloc[:,0:2]\n#weekly_gas.head()\n\nweekly_gas['Year'] = pd.DatetimeIndex(weekly_gas['Date']).year\n#weekly_gas = weekly_gas[['Year', 'A1', 'Date']]\nweekly_gas.head()",
    "id": "0e6b5b42a98e463c8cee77c612354024",
    "idx": 38,
    "time": "2021-02-09T02:53:52.657Z",
    "type": "execution"
   },
   {
    "id": "0e6b5b42a98e463c8cee77c612354024",
    "time": "2021-02-09T02:53:53.010Z",
    "type": "completion"
   },
   {
    "code": "#Loading data\nweekly_gas = pd.read_csv('US Gasoline and Diesel Prices.csv')\nweekly_gas.info()\nweekly_gas.head()",
    "id": "9bfb21225cec428c9f4b1c332bba2093",
    "idx": 36,
    "time": "2021-02-09T02:53:57.975Z",
    "type": "execution"
   },
   {
    "id": "9bfb21225cec428c9f4b1c332bba2093",
    "time": "2021-02-09T02:53:58.226Z",
    "type": "completion"
   },
   {
    "code": "weekly_gas = weekly_gas.iloc[:,0:2]\n#weekly_gas.head()\n\nweekly_gas['Year'] = pd.DatetimeIndex(weekly_gas['Date']).year\n#weekly_gas = weekly_gas[['Year', 'A1', 'Date']]\nweekly_gas.head()",
    "id": "0e6b5b42a98e463c8cee77c612354024",
    "idx": 38,
    "time": "2021-02-09T02:53:59.664Z",
    "type": "execution"
   },
   {
    "id": "0e6b5b42a98e463c8cee77c612354024",
    "time": "2021-02-09T02:54:00.254Z",
    "type": "completion"
   },
   {
    "code": "weekly_gas['Year'] = pd.DatetimeIndex(weekly_gas['Date']).year\nweekly_gas = weekly_gas.iloc[:,0:2]\n#weekly_gas['Year'] = pd.DatetimeIndex(weekly_gas['Date']).year\n#weekly_gas = weekly_gas[['Year', 'A1', 'Date']]\nweekly_gas.head()",
    "id": "0e6b5b42a98e463c8cee77c612354024",
    "idx": 38,
    "time": "2021-02-09T02:54:25.268Z",
    "type": "execution"
   },
   {
    "id": "0e6b5b42a98e463c8cee77c612354024",
    "time": "2021-02-09T02:54:25.522Z",
    "type": "completion"
   },
   {
    "code": "weekly_gas = weekly_gas.iloc[:,0:2]\nweekly_gas['Year'] = pd.DatetimeIndex(weekly_gas['Date']).year\n#weekly_gas = weekly_gas[['Year', 'A1', 'Date']]\nweekly_gas.head()",
    "id": "0e6b5b42a98e463c8cee77c612354024",
    "idx": 38,
    "time": "2021-02-09T02:54:52.592Z",
    "type": "execution"
   },
   {
    "id": "0e6b5b42a98e463c8cee77c612354024",
    "time": "2021-02-09T02:54:52.789Z",
    "type": "completion"
   },
   {
    "code": "weekly_gas = weekly_gas.iloc[:,0:2]\nweekly_gas['Year'] = pd.DatetimeIndex(weekly_gas['Date']).year\n#weekly_gas = weekly_gas[['Year', 'A1', 'Date']]\nweekly_gas.drop(['Date'])\nweekly_gas.head()",
    "id": "0e6b5b42a98e463c8cee77c612354024",
    "idx": 38,
    "time": "2021-02-09T02:55:57.727Z",
    "type": "execution"
   },
   {
    "id": "0e6b5b42a98e463c8cee77c612354024",
    "time": "2021-02-09T02:55:58.168Z",
    "type": "completion"
   },
   {
    "code": "weekly_gas = weekly_gas.iloc[:,0:2]\nweekly_gas['Year'] = pd.DatetimeIndex(weekly_gas['Date']).year\nweekly_gas.head()",
    "id": "0e6b5b42a98e463c8cee77c612354024",
    "idx": 38,
    "time": "2021-02-09T02:56:15.285Z",
    "type": "execution"
   },
   {
    "id": "0e6b5b42a98e463c8cee77c612354024",
    "time": "2021-02-09T02:56:15.476Z",
    "type": "completion"
   },
   {
    "code": "weekly_gas = weekly_gas.iloc[:,0:2]\nweekly_gas['Year'] = pd.DatetimeIndex(weekly_gas['Date']).year\nweekly_gas.head()\nweekly_gas = weekly_gas.iloc[:,1:2]",
    "id": "0e6b5b42a98e463c8cee77c612354024",
    "idx": 38,
    "time": "2021-02-09T02:56:52.783Z",
    "type": "execution"
   },
   {
    "id": "0e6b5b42a98e463c8cee77c612354024",
    "time": "2021-02-09T02:56:52.969Z",
    "type": "completion"
   },
   {
    "code": "weekly_gas = weekly_gas.iloc[:,0:2]\nweekly_gas['Year'] = pd.DatetimeIndex(weekly_gas['Date']).year\n#weekly_gas.head()\nweekly_gas = weekly_gas.iloc[:,1:2]\nweekly_gas.head()",
    "id": "0e6b5b42a98e463c8cee77c612354024",
    "idx": 38,
    "time": "2021-02-09T02:57:02.321Z",
    "type": "execution"
   },
   {
    "id": "0e6b5b42a98e463c8cee77c612354024",
    "time": "2021-02-09T02:57:02.808Z",
    "type": "completion"
   },
   {
    "code": "#d) Now, build  a  new  regression  model  with  your  additional  chosen  feature  in  addition  to  thefeatures that you selected in part(c).  Does the new feature add any predictive value?  Justifyyour answer based on the results of your analysis.",
    "id": "522594bd078d4125bacd60a7708ab173",
    "idx": 35,
    "time": "2021-02-09T02:57:08.140Z",
    "type": "execution"
   },
   {
    "id": "522594bd078d4125bacd60a7708ab173",
    "time": "2021-02-09T02:57:08.757Z",
    "type": "completion"
   },
   {
    "code": "#Loading data\nweekly_gas = pd.read_csv('US Gasoline and Diesel Prices.csv')\nweekly_gas.info()\nweekly_gas.head()",
    "id": "9bfb21225cec428c9f4b1c332bba2093",
    "idx": 36,
    "time": "2021-02-09T02:57:08.784Z",
    "type": "execution"
   },
   {
    "id": "9bfb21225cec428c9f4b1c332bba2093",
    "time": "2021-02-09T02:57:09.015Z",
    "type": "completion"
   },
   {
    "code": "weekly_gas = weekly_gas.iloc[:,0:2]\nweekly_gas['Year'] = pd.DatetimeIndex(weekly_gas['Date']).year\n#weekly_gas.head()\nweekly_gas = weekly_gas.iloc[:,1:2]\nweekly_gas.head()",
    "id": "0e6b5b42a98e463c8cee77c612354024",
    "idx": 38,
    "time": "2021-02-09T02:57:10.265Z",
    "type": "execution"
   },
   {
    "id": "0e6b5b42a98e463c8cee77c612354024",
    "time": "2021-02-09T02:57:10.462Z",
    "type": "completion"
   },
   {
    "code": "weekly_gas = weekly_gas.iloc[:,0:2]\nweekly_gas['Year'] = pd.DatetimeIndex(weekly_gas['Date']).year\n#weekly_gas.head()\nweekly_gas = weekly_gas.iloc[:,0:1]\nweekly_gas.head()",
    "id": "0e6b5b42a98e463c8cee77c612354024",
    "idx": 38,
    "time": "2021-02-09T02:57:19.935Z",
    "type": "execution"
   },
   {
    "id": "0e6b5b42a98e463c8cee77c612354024",
    "time": "2021-02-09T02:57:20.310Z",
    "type": "completion"
   },
   {
    "code": "#Loading data\nweekly_gas = pd.read_csv('US Gasoline and Diesel Prices.csv')\nweekly_gas.info()\nweekly_gas.head()",
    "id": "9bfb21225cec428c9f4b1c332bba2093",
    "idx": 36,
    "time": "2021-02-09T02:57:23.005Z",
    "type": "execution"
   },
   {
    "id": "9bfb21225cec428c9f4b1c332bba2093",
    "time": "2021-02-09T02:57:23.246Z",
    "type": "completion"
   },
   {
    "code": "weekly_gas = weekly_gas.iloc[:,0:2]\nweekly_gas['Year'] = pd.DatetimeIndex(weekly_gas['Date']).year\n#weekly_gas.head()\nweekly_gas = weekly_gas.iloc[:,0:1]\nweekly_gas.head()",
    "id": "0e6b5b42a98e463c8cee77c612354024",
    "idx": 38,
    "time": "2021-02-09T02:57:24.578Z",
    "type": "execution"
   },
   {
    "id": "0e6b5b42a98e463c8cee77c612354024",
    "time": "2021-02-09T02:57:24.772Z",
    "type": "completion"
   },
   {
    "code": "weekly_gas = weekly_gas.iloc[:,0:2]\nweekly_gas['Year'] = pd.DatetimeIndex(weekly_gas['Date']).year\n#weekly_gas.head()\nweekly_gas = weekly_gas.iloc[:,0:2]\nweekly_gas.head()",
    "id": "0e6b5b42a98e463c8cee77c612354024",
    "idx": 38,
    "time": "2021-02-09T02:57:29.019Z",
    "type": "execution"
   },
   {
    "id": "0e6b5b42a98e463c8cee77c612354024",
    "time": "2021-02-09T02:57:29.207Z",
    "type": "completion"
   },
   {
    "code": "weekly_gas = weekly_gas.iloc[:,0:2]\nweekly_gas['Year'] = pd.DatetimeIndex(weekly_gas['Date']).year\n#weekly_gas.head()\nweekly_gas = weekly_gas.iloc[:,0:3]\nweekly_gas.head()",
    "id": "0e6b5b42a98e463c8cee77c612354024",
    "idx": 38,
    "time": "2021-02-09T02:57:32.781Z",
    "type": "execution"
   },
   {
    "id": "0e6b5b42a98e463c8cee77c612354024",
    "time": "2021-02-09T02:57:32.997Z",
    "type": "completion"
   },
   {
    "code": "weekly_gas = weekly_gas.iloc[:,0:2]\nweekly_gas['Year'] = pd.DatetimeIndex(weekly_gas['Date']).year\nweekly_gas.head()",
    "id": "0e6b5b42a98e463c8cee77c612354024",
    "idx": 38,
    "time": "2021-02-09T02:57:42.320Z",
    "type": "execution"
   },
   {
    "id": "0e6b5b42a98e463c8cee77c612354024",
    "time": "2021-02-09T02:57:42.524Z",
    "type": "completion"
   },
   {
    "code": "#Loading data\nweekly_gas = pd.read_csv('US Gasoline and Diesel Prices.csv')\nweekly_gas.info()\nweekly_gas.head()",
    "id": "9bfb21225cec428c9f4b1c332bba2093",
    "idx": 36,
    "time": "2021-02-09T02:57:47.735Z",
    "type": "execution"
   },
   {
    "id": "9bfb21225cec428c9f4b1c332bba2093",
    "time": "2021-02-09T02:57:47.971Z",
    "type": "completion"
   },
   {
    "code": "weekly_gas = weekly_gas.iloc[:,0:2]\nweekly_gas['Year'] = pd.DatetimeIndex(weekly_gas['Date']).year\nweekly_gas.head()",
    "id": "0e6b5b42a98e463c8cee77c612354024",
    "idx": 38,
    "time": "2021-02-09T02:57:49.192Z",
    "type": "execution"
   },
   {
    "id": "0e6b5b42a98e463c8cee77c612354024",
    "time": "2021-02-09T02:57:49.395Z",
    "type": "completion"
   },
   {
    "code": "weekly_gas = weekly_gas.iloc[:,0:2]\nweekly_gas['Year'] = pd.DatetimeIndex(weekly_gas['Date']).year\nweekly_gas.head()\nweekly_gas.info()",
    "id": "0e6b5b42a98e463c8cee77c612354024",
    "idx": 38,
    "time": "2021-02-09T02:58:13.851Z",
    "type": "execution"
   },
   {
    "id": "0e6b5b42a98e463c8cee77c612354024",
    "time": "2021-02-09T02:58:14.063Z",
    "type": "completion"
   },
   {
    "code": "weekly_gas = weekly_gas.iloc[:,0:2]\nweekly_gas['Year'] = pd.DatetimeIndex(weekly_gas['Date']).year\nweekly_gas_1 = weekly_gas.iloc[1:2]\nweekly_gas.head()\n#weekly_gas.info()",
    "id": "0e6b5b42a98e463c8cee77c612354024",
    "idx": 38,
    "time": "2021-02-09T03:00:50.468Z",
    "type": "execution"
   },
   {
    "id": "0e6b5b42a98e463c8cee77c612354024",
    "time": "2021-02-09T03:00:50.680Z",
    "type": "completion"
   },
   {
    "code": "weekly_gas = weekly_gas.iloc[:,0:2]\nweekly_gas['Year'] = pd.DatetimeIndex(weekly_gas['Date']).year\nweekly_gas_1 = weekly_gas.iloc[1:2]\nweekly_gas_1.head()\n#weekly_gas.info()",
    "id": "0e6b5b42a98e463c8cee77c612354024",
    "idx": 38,
    "time": "2021-02-09T03:00:56.145Z",
    "type": "execution"
   },
   {
    "id": "0e6b5b42a98e463c8cee77c612354024",
    "time": "2021-02-09T03:00:56.376Z",
    "type": "completion"
   },
   {
    "code": "weekly_gas = weekly_gas.iloc[:,0:2]\nweekly_gas['Year'] = pd.DatetimeIndex(weekly_gas['Date']).year\nweekly_gas_1 = weekly_gas.iloc[2:3]\nweekly_gas_1.head()\n#weekly_gas.info()",
    "id": "0e6b5b42a98e463c8cee77c612354024",
    "idx": 38,
    "time": "2021-02-09T03:01:14.263Z",
    "type": "execution"
   },
   {
    "id": "0e6b5b42a98e463c8cee77c612354024",
    "time": "2021-02-09T03:01:14.459Z",
    "type": "completion"
   },
   {
    "code": "weekly_gas = weekly_gas.iloc[:,0:2]\nweekly_gas['Year'] = pd.DatetimeIndex(weekly_gas['Date']).year\nweekly_gas_1 = weekly_gas.loc[2:3]\nweekly_gas_1.head()\n#weekly_gas.info()",
    "id": "0e6b5b42a98e463c8cee77c612354024",
    "idx": 38,
    "time": "2021-02-09T03:01:17.875Z",
    "type": "execution"
   },
   {
    "id": "0e6b5b42a98e463c8cee77c612354024",
    "time": "2021-02-09T03:01:18.057Z",
    "type": "completion"
   },
   {
    "code": "weekly_gas = weekly_gas.iloc[:,0:2]\nweekly_gas['Year'] = pd.DatetimeIndex(weekly_gas['Date']).year\nweekly_gas_1 = weekly_gas.iloc[1:3]\nweekly_gas_1.head()\n#weekly_gas.info()",
    "id": "0e6b5b42a98e463c8cee77c612354024",
    "idx": 38,
    "time": "2021-02-09T03:01:26.761Z",
    "type": "execution"
   },
   {
    "id": "0e6b5b42a98e463c8cee77c612354024",
    "time": "2021-02-09T03:01:26.950Z",
    "type": "completion"
   },
   {
    "code": "weekly_gas = weekly_gas.iloc[:,0:2]\nweekly_gas['Year'] = pd.DatetimeIndex(weekly_gas['Date']).year\nweekly_gas_1 = weekly_gas.iloc[2:3]\nweekly_gas_1.head()\n#weekly_gas.info()",
    "id": "0e6b5b42a98e463c8cee77c612354024",
    "idx": 38,
    "time": "2021-02-09T03:01:35.924Z",
    "type": "execution"
   },
   {
    "id": "0e6b5b42a98e463c8cee77c612354024",
    "time": "2021-02-09T03:01:36.111Z",
    "type": "completion"
   },
   {
    "code": "weekly_gas = weekly_gas.iloc[:,0:2]\nweekly_gas['Year'] = pd.DatetimeIndex(weekly_gas['Date']).year\nweekly_gas_1 = weekly_gas.iloc[2:]\nweekly_gas_1.head()\n#weekly_gas.info()",
    "id": "0e6b5b42a98e463c8cee77c612354024",
    "idx": 38,
    "time": "2021-02-09T03:01:41.368Z",
    "type": "execution"
   },
   {
    "id": "0e6b5b42a98e463c8cee77c612354024",
    "time": "2021-02-09T03:01:41.567Z",
    "type": "completion"
   },
   {
    "code": "#Loading data\nweekly_gas = pd.read_csv('US Gasoline and Diesel Prices.csv')\n#weekly_gas.info()",
    "id": "9bfb21225cec428c9f4b1c332bba2093",
    "idx": 36,
    "time": "2021-02-09T03:09:50.624Z",
    "type": "execution"
   },
   {
    "id": "9bfb21225cec428c9f4b1c332bba2093",
    "time": "2021-02-09T03:09:51.554Z",
    "type": "completion"
   },
   {
    "code": "# weekly_gas_train = weekly_gas[(weekly_gas['Date'] >= ) & (Rav4['Year'] <= 2016)]\n\n\nRav4_train.append(weekly_gas_1[\"A1\"])",
    "id": "b8f23924d87140ed8d4e3e328dfe1035",
    "idx": 39,
    "time": "2021-02-09T04:02:59.693Z",
    "type": "execution"
   },
   {
    "id": "b8f23924d87140ed8d4e3e328dfe1035",
    "time": "2021-02-09T04:03:00.035Z",
    "type": "completion"
   },
   {
    "code": "# weekly_gas_train = weekly_gas[(weekly_gas['Date'] >= ) & (Rav4['Year'] <= 2016)]\n\n\nRav4_train.add(weekly_gas_1[\"A1\"])",
    "id": "b8f23924d87140ed8d4e3e328dfe1035",
    "idx": 39,
    "time": "2021-02-09T04:03:09.101Z",
    "type": "execution"
   },
   {
    "id": "b8f23924d87140ed8d4e3e328dfe1035",
    "time": "2021-02-09T04:03:12.526Z",
    "type": "completion"
   },
   {
    "code": "import numpy as np\nimport pandas as pd",
    "id": "22dde0d66c15420e95d65405e65da2d7",
    "idx": 0,
    "time": "2021-02-09T06:02:54.995Z",
    "type": "execution"
   },
   {
    "code": "#Loading data\nRav4 = pd.read_csv('RAV4-142-Spring2021.csv')\nRav4.info()",
    "id": "cd709cd1c4084b2d8229f63dabf0bb1b",
    "idx": 1,
    "time": "2021-02-09T06:02:55.001Z",
    "type": "execution"
   },
   {
    "code": "Rav4.head()",
    "id": "cd48fdbb450d4ec58af01ae607441880",
    "idx": 2,
    "time": "2021-02-09T06:02:55.003Z",
    "type": "execution"
   },
   {
    "code": "# Problem 2\n# a) Start  by  splitting  the  data  into  a  training  set  and  testing  set. The trainingset should contain all observations for 2011 through 2016.  \n#The testing set should have allobservations for 2017 through 2020.\n\nRav4_train = Rav4[(Rav4['Year'] >= 2011) & (Rav4['Year'] <= 2016)]\nRav4_test = Rav4[(Rav4['Year'] >= 2017) & (Rav4['Year'] <= 2020)]\n\nRav4_train.head()",
    "id": "af08544dce4a4452887589a0344ab96e",
    "idx": 3,
    "time": "2021-02-09T06:02:55.005Z",
    "type": "execution"
   },
   {
    "code": "#i) What  is  the  linear  regression  equation  produced  by  your  model,  and  how  should  one interpret the coefficients for the independent variables?  \n#Consider interpretability issues when  writing  down  the  equation  (e.g.,  do  not  just  copy  and  paste  the  output  from Python)",
    "id": "f5afd7c7797645e89a20a5dfc4663539",
    "idx": 4,
    "time": "2021-02-09T06:02:55.007Z",
    "type": "execution"
   },
   {
    "code": "import statsmodels.api as sm\nimport statsmodels.formula.api as smf\n\nols_1 = smf.ols(formula='RAV4Sales ~ Unemployment + RAV4Queries + CPIAll + CPIEnergy ', data = Rav4_train)\nmodel_1 = ols_1.fit()\nprint(model_1.summary())",
    "id": "d610c19d200644a3a379f09f2105e4b7",
    "idx": 6,
    "time": "2021-02-09T06:02:55.010Z",
    "type": "execution"
   },
   {
    "code": "#ii) How did you select the variables to include in your linear regression model?\nfrom statsmodels.stats.outliers_influence import variance_inflation_factor\n\ndef VIF(df, columns):\n    values = sm.add_constant(df[columns]).values\n    num_columns = len(columns)+1\n    vif = [variance_inflation_factor(values, i) for i in range(num_columns)]\n    return pd.Series(vif[1:], index=columns)",
    "id": "c2af413cb01d43cf976dc701a5cba47f",
    "idx": 7,
    "time": "2021-02-09T06:02:55.011Z",
    "type": "execution"
   },
   {
    "code": "cols_1 = ['Unemployment', 'RAV4Queries', 'CPIAll', 'CPIEnergy']\nVIF(Rav4_train, cols_1)",
    "id": "36aa7e4367d043ab824d5f98495c6833",
    "idx": 8,
    "time": "2021-02-09T06:02:55.013Z",
    "type": "execution"
   },
   {
    "code": "ols_2 = smf.ols(formula='RAV4Sales ~ RAV4Queries + CPIAll + CPIEnergy ', data = Rav4_train)\nmodel_2 = ols_2.fit()\nprint(model_2.summary())",
    "id": "94f50b4e89504dc8ab72bae147147871",
    "idx": 10,
    "time": "2021-02-09T06:02:55.015Z",
    "type": "execution"
   },
   {
    "code": "cols_2 = ['RAV4Queries', 'CPIAll', 'CPIEnergy']\nVIF(Rav4_train, cols_2)",
    "id": "d893ee3eaffa4d7789a585486da98426",
    "idx": 11,
    "time": "2021-02-09T06:02:55.016Z",
    "type": "execution"
   },
   {
    "code": "#iii) Do the signs of the models coefficients make sense?  Are you reasonably sure that thesigns are correct?",
    "id": "4eb123d554a44ba8851ae3997c464395",
    "idx": 13,
    "time": "2021-02-09T06:02:55.018Z",
    "type": "execution"
   },
   {
    "code": "#iv) How well does the model predict training set observations? Can you justify the models performance on the training data with a quantifiable metric?\nols_3 = smf.ols(formula='RAV4Sales ~ CPIAll + CPIEnergy', data = Rav4_train)\nmodel_3 = ols_3.fit()\nprint(model_3.summary())",
    "id": "bee6e134f852441e8315260d2580e0fa",
    "idx": 15,
    "time": "2021-02-09T06:02:55.019Z",
    "type": "execution"
   },
   {
    "code": "cols_3 = ['CPIAll', 'CPIEnergy']\nVIF(Rav4_train, cols_3)",
    "id": "427dc5c0336c4a3cbe7ffdf46a219070",
    "idx": 16,
    "time": "2021-02-09T06:02:55.020Z",
    "type": "execution"
   },
   {
    "code": "#b \n#Construct a new linear regression model using theMonthFactorvariable as an independentvariable, in addition to all four of the variables you used at the start of part(a)\nols_4 = smf.ols(formula='RAV4Sales ~ MonthFactor + Unemployment + RAV4Queries + CPIAll + CPIEnergy', data = Rav4_train)\nmodel_4 = ols_4.fit()\nprint(model_4.summary())",
    "id": "3f83b8b7c8d441a69e1b94049fb26e22",
    "idx": 18,
    "time": "2021-02-09T06:02:55.022Z",
    "type": "execution"
   },
   {
    "code": "import seaborn as sns\nimport matplotlib.pyplot as plt\nsns.set_theme(style=\"darkgrid\")\n# Load an example dataset with long-form data\nfmri = sns.load_dataset(\"fmri\")\n\n# Plot the responses for different events and regions\ng = sns.lineplot(x=\"Year\", y=\"RAV4Sales\", hue=\"MonthFactor\", data=Rav4_train)\nplt.legend(bbox_to_anchor=(1.05, 1), loc=2, borderaxespad=0.)",
    "id": "a7375834cadf4fd489aa7f83bcb23b85",
    "idx": 21,
    "time": "2021-02-09T06:02:55.023Z",
    "type": "execution"
   },
   {
    "code": "Rav4_train2 = Rav4_train[(Rav4_train['MonthFactor'] == 'January') | (Rav4_train['MonthFactor'] == 'February')]\n\ng = sns.lineplot(x=\"Year\", y=\"RAV4Sales\", hue=\"MonthFactor\", data=Rav4_train2).set_title(\"RAV4 Sales for Jan and Feb\")\nplt.legend(bbox_to_anchor=(1.05, 1), loc=2, borderaxespad=0.)",
    "id": "9c5b0a1f85ab41728301547348feb613",
    "idx": 22,
    "time": "2021-02-09T06:02:55.024Z",
    "type": "execution"
   },
   {
    "code": "#b\n#i) Describe your new model. What is the regression equation? (Do not simply copy andpaste output  from  Python. How  should  one  interpret  the  coefficients  of  each  of  theMonthFactordummy variables?",
    "id": "b8d68c737e4445e88444d46208e5d27a",
    "idx": 23,
    "time": "2021-02-09T06:02:55.026Z",
    "type": "execution"
   },
   {
    "code": "#ii) What is the training set R^2 for the new model? Which variables are significant?",
    "id": "88a60cedb6714b6a9ede770ddefffd55",
    "idx": 25,
    "time": "2021-02-09T06:02:55.027Z",
    "type": "execution"
   },
   {
    "code": "#iii) Do you think adding the independent variable MonthFactor improves the quality of themodel?  Why or why not?",
    "id": "7dcc44fa607e4c5fba3d3a89f1506909",
    "idx": 27,
    "time": "2021-02-09T06:02:55.028Z",
    "type": "execution"
   },
   {
    "code": "#iv) Can you think of a different way that you might use the given data to model seasonality? Do you think your new way would improve on the best model you have constructed sofar? ",
    "id": "3507b2fcb59049b286f0d3f10cff2456",
    "idx": 29,
    "time": "2021-02-09T06:02:55.030Z",
    "type": "execution"
   },
   {
    "code": "#c) Build a final model using a subset of the independent variables used in parts(a)and(b), providing a brief justification for the variables selected.  What is the training set R2and theOSR2(this is theR2of your model on the test set)?  Do you think your model wouldbe useful to Toyota?  Why or why not?",
    "id": "0ff39e381c0b4eb8982b2e8bdba236f9",
    "idx": 31,
    "time": "2021-02-09T06:02:55.031Z",
    "type": "execution"
   },
   {
    "code": "ols_final = smf.ols(formula='RAV4Sales ~ MonthFactor + Unemployment + RAV4Queries + CPIEnergy', data = Rav4_train)\nmodel_final = ols_final.fit()\nprint(model_final.summary())",
    "id": "b22216cf269e4a5e8c9095748dfafdf3",
    "idx": 32,
    "time": "2021-02-09T06:02:55.032Z",
    "type": "execution"
   },
   {
    "code": "# Compute out-of-sample R-squared using the test set\ndef OSR2(model, df_train, df_test, dependent_var):   \n    y_test = df_test[dependent_var]\n    y_pred = model.predict(df_test)\n    SSE = np.sum((y_test - y_pred)**2)\n    SST = np.sum((y_test - np.mean(df_train[dependent_var]))**2)    \n    return 1 - SSE/SST\n\nOSR2(model_final, Rav4_train, Rav4_test, 'RAV4Sales')",
    "id": "7669c6485fd947c9ab1f0ebb5d617969",
    "idx": 33,
    "time": "2021-02-09T06:02:55.033Z",
    "type": "execution"
   },
   {
    "code": "#d) Now, build  a  new  regression  model  with  your  additional  chosen  feature  in  addition  to  thefeatures that you selected in part(c).  Does the new feature add any predictive value?  Justifyyour answer based on the results of your analysis.",
    "id": "009cd72600de4571a05e744a8332111d",
    "idx": 35,
    "time": "2021-02-09T06:02:55.034Z",
    "type": "execution"
   },
   {
    "code": "#Loading data\nweekly_gas = pd.read_csv('US Gasoline and Diesel Prices.csv')\n#weekly_gas.info()",
    "id": "dc947b1f2e7949ad962d7e0d56fb96a0",
    "idx": 36,
    "time": "2021-02-09T06:02:55.035Z",
    "type": "execution"
   },
   {
    "code": "weekly_gas = weekly_gas.iloc[:,0:2]\nweekly_gas['Year'] = pd.DatetimeIndex(weekly_gas['Date']).year\nweekly_gas_1 = weekly_gas.iloc[2:]\nweekly_gas_1.head()\n#weekly_gas.info()",
    "id": "ba411608a57044328ae16bad05947cd5",
    "idx": 38,
    "time": "2021-02-09T06:02:55.036Z",
    "type": "execution"
   },
   {
    "code": "# weekly_gas_train = weekly_gas[(weekly_gas['Date'] >= ) & (Rav4['Year'] <= 2016)]\n\nRav4_train",
    "id": "f04c27adfbda4a5d901a2eb75000134c",
    "idx": 39,
    "time": "2021-02-09T06:02:55.038Z",
    "type": "execution"
   },
   {
    "code": "#e) propose a loss function that accurately models this situation and explain your reasoning.",
    "id": "13d2f871c66049a48b0c7ffdd887fb12",
    "idx": 41,
    "time": "2021-02-09T06:02:55.039Z",
    "type": "execution"
   },
   {
    "id": "22dde0d66c15420e95d65405e65da2d7",
    "time": "2021-02-09T06:02:55.615Z",
    "type": "completion"
   },
   {
    "id": "cd709cd1c4084b2d8229f63dabf0bb1b",
    "time": "2021-02-09T06:02:55.645Z",
    "type": "completion"
   },
   {
    "id": "cd48fdbb450d4ec58af01ae607441880",
    "time": "2021-02-09T06:02:55.781Z",
    "type": "completion"
   },
   {
    "id": "af08544dce4a4452887589a0344ab96e",
    "time": "2021-02-09T06:02:55.816Z",
    "type": "completion"
   },
   {
    "id": "f5afd7c7797645e89a20a5dfc4663539",
    "time": "2021-02-09T06:02:55.825Z",
    "type": "completion"
   },
   {
    "id": "d610c19d200644a3a379f09f2105e4b7",
    "time": "2021-02-09T06:02:56.523Z",
    "type": "completion"
   },
   {
    "id": "c2af413cb01d43cf976dc701a5cba47f",
    "time": "2021-02-09T06:02:56.524Z",
    "type": "completion"
   },
   {
    "id": "36aa7e4367d043ab824d5f98495c6833",
    "time": "2021-02-09T06:02:56.696Z",
    "type": "completion"
   },
   {
    "id": "94f50b4e89504dc8ab72bae147147871",
    "time": "2021-02-09T06:02:56.698Z",
    "type": "completion"
   },
   {
    "id": "d893ee3eaffa4d7789a585486da98426",
    "time": "2021-02-09T06:02:56.703Z",
    "type": "completion"
   },
   {
    "id": "4eb123d554a44ba8851ae3997c464395",
    "time": "2021-02-09T06:02:56.704Z",
    "type": "completion"
   },
   {
    "id": "bee6e134f852441e8315260d2580e0fa",
    "time": "2021-02-09T06:02:56.855Z",
    "type": "completion"
   },
   {
    "id": "427dc5c0336c4a3cbe7ffdf46a219070",
    "time": "2021-02-09T06:02:56.856Z",
    "type": "completion"
   },
   {
    "id": "3f83b8b7c8d441a69e1b94049fb26e22",
    "time": "2021-02-09T06:02:57.016Z",
    "type": "completion"
   },
   {
    "id": "a7375834cadf4fd489aa7f83bcb23b85",
    "time": "2021-02-09T06:02:58.355Z",
    "type": "completion"
   },
   {
    "id": "9c5b0a1f85ab41728301547348feb613",
    "time": "2021-02-09T06:02:58.673Z",
    "type": "completion"
   },
   {
    "id": "b8d68c737e4445e88444d46208e5d27a",
    "time": "2021-02-09T06:02:58.679Z",
    "type": "completion"
   },
   {
    "id": "88a60cedb6714b6a9ede770ddefffd55",
    "time": "2021-02-09T06:02:58.680Z",
    "type": "completion"
   },
   {
    "id": "7dcc44fa607e4c5fba3d3a89f1506909",
    "time": "2021-02-09T06:02:58.681Z",
    "type": "completion"
   },
   {
    "id": "3507b2fcb59049b286f0d3f10cff2456",
    "time": "2021-02-09T06:02:58.681Z",
    "type": "completion"
   },
   {
    "id": "0ff39e381c0b4eb8982b2e8bdba236f9",
    "time": "2021-02-09T06:02:58.682Z",
    "type": "completion"
   },
   {
    "id": "b22216cf269e4a5e8c9095748dfafdf3",
    "time": "2021-02-09T06:02:58.844Z",
    "type": "completion"
   },
   {
    "id": "7669c6485fd947c9ab1f0ebb5d617969",
    "time": "2021-02-09T06:02:58.845Z",
    "type": "completion"
   },
   {
    "id": "009cd72600de4571a05e744a8332111d",
    "time": "2021-02-09T06:02:58.846Z",
    "type": "completion"
   },
   {
    "id": "dc947b1f2e7949ad962d7e0d56fb96a0",
    "time": "2021-02-09T06:02:58.846Z",
    "type": "completion"
   },
   {
    "id": "ba411608a57044328ae16bad05947cd5",
    "time": "2021-02-09T06:02:58.848Z",
    "type": "completion"
   },
   {
    "id": "f04c27adfbda4a5d901a2eb75000134c",
    "time": "2021-02-09T06:02:58.939Z",
    "type": "completion"
   },
   {
    "id": "13d2f871c66049a48b0c7ffdd887fb12",
    "time": "2021-02-09T06:02:58.940Z",
    "type": "completion"
   },
   {
    "code": "weekly_gas = weekly_gas.iloc[:,0:2]\nweekly_gas['Year'] = pd.DatetimeIndex(weekly_gas['Date']).year\nweekly_gas_1 = weekly_gas.iloc[2:]\nweekly_gas_1.head()\nlen(weekly_gas_1)",
    "id": "ba411608a57044328ae16bad05947cd5",
    "idx": 38,
    "time": "2021-02-09T06:03:45.981Z",
    "type": "execution"
   },
   {
    "id": "ba411608a57044328ae16bad05947cd5",
    "time": "2021-02-09T06:03:46.180Z",
    "type": "completion"
   },
   {
    "code": "weekly_gas = weekly_gas.iloc[:,0:2]\nweekly_gas['Year'] = pd.DatetimeIndex(weekly_gas['Date']).year\nweekly_gas_1 = weekly_gas.iloc[2:]\nweekly_gas_1.head()",
    "id": "ba411608a57044328ae16bad05947cd5",
    "idx": 38,
    "time": "2021-02-09T06:04:14.989Z",
    "type": "execution"
   },
   {
    "id": "ba411608a57044328ae16bad05947cd5",
    "time": "2021-02-09T06:04:15.183Z",
    "type": "completion"
   },
   {
    "code": "weekly_gas_train = weekly_gas_1[(weekly_gas['Year'] >= 2011 ) & (weely_gas_1['Year'] <= 2016)]\n\nweekly_gas_train.head()",
    "id": "f04c27adfbda4a5d901a2eb75000134c",
    "idx": 39,
    "time": "2021-02-09T06:05:03.639Z",
    "type": "execution"
   },
   {
    "id": "f04c27adfbda4a5d901a2eb75000134c",
    "time": "2021-02-09T06:05:03.993Z",
    "type": "completion"
   },
   {
    "code": "weekly_gas_train = weekly_gas_1[(weekly_gas['Year'] >= 2011 ) & (weekly_gas_1['Year'] <= 2016)]\n\nweekly_gas_train.head()",
    "id": "f04c27adfbda4a5d901a2eb75000134c",
    "idx": 39,
    "time": "2021-02-09T06:05:14.181Z",
    "type": "execution"
   },
   {
    "id": "f04c27adfbda4a5d901a2eb75000134c",
    "time": "2021-02-09T06:05:14.405Z",
    "type": "completion"
   },
   {
    "code": "weekly_gas_train = weekly_gas_1[(weekly_gas['Year'] >= 2011 ) & (weekly_gas_1['Year'] <= 2016)]\n\nprint(weekly_gas_train)",
    "id": "f04c27adfbda4a5d901a2eb75000134c",
    "idx": 39,
    "time": "2021-02-09T06:06:42.690Z",
    "type": "execution"
   },
   {
    "id": "f04c27adfbda4a5d901a2eb75000134c",
    "time": "2021-02-09T06:06:42.945Z",
    "type": "completion"
   },
   {
    "code": "del weekly_gas_1['Date']",
    "id": "3335a107d90742dc8bffe42f66ce0c1d",
    "idx": 39,
    "time": "2021-02-09T06:08:06.683Z",
    "type": "execution"
   },
   {
    "id": "3335a107d90742dc8bffe42f66ce0c1d",
    "time": "2021-02-09T06:08:06.873Z",
    "type": "completion"
   },
   {
    "code": "weekly_gas_train = weekly_gas_1[(weekly_gas['Year'] >= 2011 ) & (weekly_gas_1['Year'] <= 2016)]\n\nprint(weekly_gas_train)",
    "id": "f04c27adfbda4a5d901a2eb75000134c",
    "idx": 40,
    "time": "2021-02-09T06:08:08.930Z",
    "type": "execution"
   },
   {
    "id": "f04c27adfbda4a5d901a2eb75000134c",
    "time": "2021-02-09T06:08:09.116Z",
    "type": "completion"
   },
   {
    "code": "weekly_gas = weekly_gas.iloc[:,0:2]\nweekly_gas['Year'] = pd.DatetimeIndex(weekly_gas['Date']).year\nweekly_gas_1 = weekly_gas.iloc[2:]\ndel weekly_gas_1['Date']\nweekly_gas_1.head()",
    "id": "ba411608a57044328ae16bad05947cd5",
    "idx": 38,
    "time": "2021-02-09T06:08:21.546Z",
    "type": "execution"
   },
   {
    "id": "ba411608a57044328ae16bad05947cd5",
    "time": "2021-02-09T06:08:21.734Z",
    "type": "completion"
   },
   {
    "code": "#Parse only the Year from the Date column \nweekly_gas = weekly_gas.iloc[:,0:2]\nweekly_gas['Year'] = pd.DatetimeIndex(weekly_gas['Date']).year\nweekly_gas_1 = weekly_gas.iloc[2:]\ndel weekly_gas_1['Date']\nweekly_gas_1.head()",
    "id": "ba411608a57044328ae16bad05947cd5",
    "idx": 38,
    "time": "2021-02-09T06:09:01.375Z",
    "type": "execution"
   },
   {
    "id": "ba411608a57044328ae16bad05947cd5",
    "time": "2021-02-09T06:09:01.576Z",
    "type": "completion"
   },
   {
    "code": "#Make the constraints to be the same as our Rav4 train which is 2011 through 2016\nweekly_gas_train = weekly_gas_1[(weekly_gas['Year'] >= 2011 ) & (weekly_gas_1['Year'] <= 2016)]",
    "id": "f04c27adfbda4a5d901a2eb75000134c",
    "idx": 39,
    "time": "2021-02-09T06:09:40.312Z",
    "type": "execution"
   },
   {
    "id": "f04c27adfbda4a5d901a2eb75000134c",
    "time": "2021-02-09T06:09:40.509Z",
    "type": "completion"
   },
   {
    "code": "#Make the constraints to be the same as our Rav4 train which is 2011 through 2016\nweekly_gas_train = weekly_gas_1[(weekly_gas['Year'] >= 2011 ) & (weekly_gas_1['Year'] <= 2016)]\nlen(weekly_gas_train)",
    "id": "f04c27adfbda4a5d901a2eb75000134c",
    "idx": 39,
    "time": "2021-02-09T06:14:48.172Z",
    "type": "execution"
   },
   {
    "id": "f04c27adfbda4a5d901a2eb75000134c",
    "time": "2021-02-09T06:14:48.382Z",
    "type": "completion"
   },
   {
    "code": "#Make the constraints to be the same as our Rav4 train which is 2011 through 2016\nweekly_gas_train = weekly_gas_1[(weekly_gas['Year'] >= 2011 ) & (weekly_gas_1['Year'] <= 2016)]\nlen(weekly_gas_train)\nlen(Rav4_train)",
    "id": "f04c27adfbda4a5d901a2eb75000134c",
    "idx": 39,
    "time": "2021-02-09T06:15:02.993Z",
    "type": "execution"
   },
   {
    "id": "f04c27adfbda4a5d901a2eb75000134c",
    "time": "2021-02-09T06:15:03.177Z",
    "type": "completion"
   },
   {
    "code": "#Make the constraints to be the same as our Rav4 train which is 2011 through 2016\nweekly_gas_train = weekly_gas_1[(weekly_gas['Year'] >= 2011 ) & (weekly_gas_1['Year'] <= 2016)]",
    "id": "f04c27adfbda4a5d901a2eb75000134c",
    "idx": 39,
    "time": "2021-02-09T06:15:08.109Z",
    "type": "execution"
   },
   {
    "id": "f04c27adfbda4a5d901a2eb75000134c",
    "time": "2021-02-09T06:15:08.303Z",
    "type": "completion"
   },
   {
    "code": "#Make the constraints to be the same as our Rav4 train which is 2011 through 2016\nweekly_gas_train = weekly_gas_1[(weekly_gas['Year'] >= 2011 ) & (weekly_gas_1['Year'] <= 2016)]\nweekly_gas_train.sample(72)",
    "id": "f04c27adfbda4a5d901a2eb75000134c",
    "idx": 39,
    "time": "2021-02-09T06:17:30.459Z",
    "type": "execution"
   },
   {
    "id": "f04c27adfbda4a5d901a2eb75000134c",
    "time": "2021-02-09T06:17:30.701Z",
    "type": "completion"
   },
   {
    "code": "#Make the constraints to be the same as our Rav4 train which is 2011 through 2016\nweekly_gas_train = weekly_gas_1[(weekly_gas['Year'] >= 2011 ) & (weekly_gas_1['Year'] <= 2016)]\nweekly_gas_train = weekly_gas_train.sample(72)",
    "id": "f04c27adfbda4a5d901a2eb75000134c",
    "idx": 39,
    "time": "2021-02-09T06:17:42.172Z",
    "type": "execution"
   },
   {
    "id": "f04c27adfbda4a5d901a2eb75000134c",
    "time": "2021-02-09T06:17:42.353Z",
    "type": "completion"
   },
   {
    "code": "#Make the constraints to be the same as our Rav4 train which is 2011 through 2016\nweekly_gas_train = weekly_gas_1[(weekly_gas['Year'] >= 2011 ) & (weekly_gas_1['Year'] <= 2016)]\nweekly_gas_train = weekly_gas_train.sample(72)\nweekly_gas_train",
    "id": "f04c27adfbda4a5d901a2eb75000134c",
    "idx": 39,
    "time": "2021-02-09T06:17:51.810Z",
    "type": "execution"
   },
   {
    "id": "f04c27adfbda4a5d901a2eb75000134c",
    "time": "2021-02-09T06:17:52.019Z",
    "type": "completion"
   },
   {
    "code": "#Make the constraints to be the same as our Rav4 train which is 2011 through 2016\nweekly_gas_train = weekly_gas_1[(weekly_gas['Year'] >= 2011 ) & (weekly_gas_1['Year'] <= 2016)]\n\n#Randomnly select 72 outputs as our Rav4 train also has 72 outputs\nweekly_gas_train = weekly_gas_train.sample(72)",
    "id": "f04c27adfbda4a5d901a2eb75000134c",
    "idx": 39,
    "time": "2021-02-09T06:18:26.968Z",
    "type": "execution"
   },
   {
    "id": "f04c27adfbda4a5d901a2eb75000134c",
    "time": "2021-02-09T06:18:27.158Z",
    "type": "completion"
   },
   {
    "code": "result = pd.concat([Rav4_train, weekly_gas_train], axis=1)",
    "id": "a6154dddfb36407793a22c25b48c1c0d",
    "idx": 40,
    "time": "2021-02-09T06:20:10.930Z",
    "type": "execution"
   },
   {
    "id": "a6154dddfb36407793a22c25b48c1c0d",
    "time": "2021-02-09T06:20:11.129Z",
    "type": "completion"
   },
   {
    "code": "result = pd.concat([Rav4_train, weekly_gas_train], axis=1)\nresult.head()",
    "id": "a6154dddfb36407793a22c25b48c1c0d",
    "idx": 40,
    "time": "2021-02-09T06:20:15.373Z",
    "type": "execution"
   },
   {
    "id": "a6154dddfb36407793a22c25b48c1c0d",
    "time": "2021-02-09T06:20:15.599Z",
    "type": "completion"
   },
   {
    "code": "weekly_gas_train.info()",
    "id": "4b4303569c174030804350671b877df0",
    "idx": 40,
    "time": "2021-02-09T06:20:47.393Z",
    "type": "execution"
   },
   {
    "id": "4b4303569c174030804350671b877df0",
    "time": "2021-02-09T06:20:47.596Z",
    "type": "completion"
   },
   {
    "code": "Rav4_train.info()",
    "id": "8d5709b86a83476ebe1944f3d7406a84",
    "idx": 41,
    "time": "2021-02-09T06:21:01.671Z",
    "type": "execution"
   },
   {
    "id": "8d5709b86a83476ebe1944f3d7406a84",
    "time": "2021-02-09T06:21:06.258Z",
    "type": "completion"
   },
   {
    "code": "Rav4_train.info()",
    "id": "8d5709b86a83476ebe1944f3d7406a84",
    "idx": 41,
    "time": "2021-02-09T06:21:06.394Z",
    "type": "execution"
   },
   {
    "id": "8d5709b86a83476ebe1944f3d7406a84",
    "time": "2021-02-09T06:21:07.140Z",
    "type": "completion"
   },
   {
    "code": "result = pd.concat([Rav4_train, weekly_gas_train], axis=1)\nresult.head()",
    "id": "a6154dddfb36407793a22c25b48c1c0d",
    "idx": 42,
    "time": "2021-02-09T06:21:07.382Z",
    "type": "execution"
   },
   {
    "id": "a6154dddfb36407793a22c25b48c1c0d",
    "time": "2021-02-09T06:21:07.639Z",
    "type": "completion"
   },
   {
    "code": "result = pd.concat([Rav4_train, weekly_gas_train], axis=1)\nresult.sample(50)",
    "id": "a6154dddfb36407793a22c25b48c1c0d",
    "idx": 41,
    "time": "2021-02-09T06:21:58.865Z",
    "type": "execution"
   },
   {
    "id": "a6154dddfb36407793a22c25b48c1c0d",
    "time": "2021-02-09T06:21:59.309Z",
    "type": "completion"
   },
   {
    "code": "Rav4_train_final = pd.concat([Rav4_train, weekly_gas_train], axis=1)\nRav4_train_final.sample(50)",
    "id": "a6154dddfb36407793a22c25b48c1c0d",
    "idx": 41,
    "time": "2021-02-09T06:22:47.429Z",
    "type": "execution"
   },
   {
    "id": "a6154dddfb36407793a22c25b48c1c0d",
    "time": "2021-02-09T06:22:47.866Z",
    "type": "completion"
   },
   {
    "code": "#Link the A1 Values to our Rav4_train dataset\nRav4_train_final = Rav4_train.append(weekly_gas_train, ignore_index = True, sort = False)\n#Rav4_train_final = pd.concat([Rav4_train, weekly_gas_train], axis=1)\n#Rav4_train_final.sample(50)",
    "id": "a6154dddfb36407793a22c25b48c1c0d",
    "idx": 40,
    "time": "2021-02-09T06:28:24.158Z",
    "type": "execution"
   },
   {
    "id": "a6154dddfb36407793a22c25b48c1c0d",
    "time": "2021-02-09T06:28:24.475Z",
    "type": "completion"
   },
   {
    "code": "#Link the A1 Values to our Rav4_train dataset\nRav4_train_final = Rav4_train.append(weekly_gas_train, ignore_index = True, sort = False)\n#Rav4_train_final = pd.concat([Rav4_train, weekly_gas_train], axis=1)\nRav4_train_final.sample(50)",
    "id": "a6154dddfb36407793a22c25b48c1c0d",
    "idx": 40,
    "time": "2021-02-09T06:28:28.863Z",
    "type": "execution"
   },
   {
    "id": "a6154dddfb36407793a22c25b48c1c0d",
    "time": "2021-02-09T06:28:29.319Z",
    "type": "completion"
   },
   {
    "code": "import numpy as np\nimport pandas as pd",
    "id": "3cc2e4dd9f714a7f830b946114556ab7",
    "idx": 0,
    "time": "2021-02-09T11:01:21.910Z",
    "type": "execution"
   },
   {
    "code": "#Loading data\nRav4 = pd.read_csv('RAV4-142-Spring2021.csv')\nRav4.info()",
    "id": "82573c5d5640428d8938c5170b2b4039",
    "idx": 1,
    "time": "2021-02-09T11:01:21.915Z",
    "type": "execution"
   },
   {
    "code": "Rav4.head()",
    "id": "99352c1a4a73477480231c91c4f116db",
    "idx": 2,
    "time": "2021-02-09T11:01:21.917Z",
    "type": "execution"
   },
   {
    "code": "# Problem 2\n# a) Start  by  splitting  the  data  into  a  training  set  and  testing  set. The trainingset should contain all observations for 2011 through 2016.  \n#The testing set should have allobservations for 2017 through 2020.\n\nRav4_train = Rav4[(Rav4['Year'] >= 2011) & (Rav4['Year'] <= 2016)]\nRav4_test = Rav4[(Rav4['Year'] >= 2017) & (Rav4['Year'] <= 2020)]\n\nRav4_train.head()",
    "id": "d108a1822ccc46a28c97048b2481b3b4",
    "idx": 3,
    "time": "2021-02-09T11:01:21.919Z",
    "type": "execution"
   },
   {
    "code": "#i) What  is  the  linear  regression  equation  produced  by  your  model,  and  how  should  one interpret the coefficients for the independent variables?  \n#Consider interpretability issues when  writing  down  the  equation  (e.g.,  do  not  just  copy  and  paste  the  output  from Python)",
    "id": "9b7b926e099f475e814756034ad9cc95",
    "idx": 4,
    "time": "2021-02-09T11:01:21.921Z",
    "type": "execution"
   },
   {
    "code": "import statsmodels.api as sm\nimport statsmodels.formula.api as smf\n\nols_1 = smf.ols(formula='RAV4Sales ~ Unemployment + RAV4Queries + CPIAll + CPIEnergy ', data = Rav4_train)\nmodel_1 = ols_1.fit()\nprint(model_1.summary())",
    "id": "c985d12836314d9bb8d67d426c061853",
    "idx": 6,
    "time": "2021-02-09T11:01:21.923Z",
    "type": "execution"
   },
   {
    "code": "#ii) How did you select the variables to include in your linear regression model?\nfrom statsmodels.stats.outliers_influence import variance_inflation_factor\n\ndef VIF(df, columns):\n    values = sm.add_constant(df[columns]).values\n    num_columns = len(columns)+1\n    vif = [variance_inflation_factor(values, i) for i in range(num_columns)]\n    return pd.Series(vif[1:], index=columns)",
    "id": "07af50daf30945e5881fc07ff7438b0b",
    "idx": 7,
    "time": "2021-02-09T11:01:21.924Z",
    "type": "execution"
   },
   {
    "code": "cols_1 = ['Unemployment', 'RAV4Queries', 'CPIAll', 'CPIEnergy']\nVIF(Rav4_train, cols_1)",
    "id": "a90a9190c969470eb91de2d8a6204e61",
    "idx": 8,
    "time": "2021-02-09T11:01:21.926Z",
    "type": "execution"
   },
   {
    "code": "ols_2 = smf.ols(formula='RAV4Sales ~ RAV4Queries + CPIAll + CPIEnergy ', data = Rav4_train)\nmodel_2 = ols_2.fit()\nprint(model_2.summary())",
    "id": "b064c53583b849df8939df8473179d19",
    "idx": 10,
    "time": "2021-02-09T11:01:21.928Z",
    "type": "execution"
   },
   {
    "code": "cols_2 = ['RAV4Queries', 'CPIAll', 'CPIEnergy']\nVIF(Rav4_train, cols_2)",
    "id": "039dd4ebf74343498eaa4764248fab73",
    "idx": 11,
    "time": "2021-02-09T11:01:21.930Z",
    "type": "execution"
   },
   {
    "code": "#iii) Do the signs of the models coefficients make sense?  Are you reasonably sure that thesigns are correct?",
    "id": "94450aabbfb54f9284ec1416ad7cc2fe",
    "idx": 13,
    "time": "2021-02-09T11:01:21.931Z",
    "type": "execution"
   },
   {
    "code": "#iv) How well does the model predict training set observations? Can you justify the models performance on the training data with a quantifiable metric?\nols_3 = smf.ols(formula='RAV4Sales ~ CPIAll + CPIEnergy', data = Rav4_train)\nmodel_3 = ols_3.fit()\nprint(model_3.summary())",
    "id": "ce6e2cd5889b412b8e6f6b790a0684a5",
    "idx": 15,
    "time": "2021-02-09T11:01:21.932Z",
    "type": "execution"
   },
   {
    "code": "cols_3 = ['CPIAll', 'CPIEnergy']\nVIF(Rav4_train, cols_3)",
    "id": "62f7f6339a4b4c8788c7fda1e298609b",
    "idx": 16,
    "time": "2021-02-09T11:01:21.933Z",
    "type": "execution"
   },
   {
    "code": "#b \n#Construct a new linear regression model using theMonthFactorvariable as an independentvariable, in addition to all four of the variables you used at the start of part(a)\nols_4 = smf.ols(formula='RAV4Sales ~ MonthFactor + Unemployment + RAV4Queries + CPIAll + CPIEnergy', data = Rav4_train)\nmodel_4 = ols_4.fit()\nprint(model_4.summary())",
    "id": "2708128cb67c4d72a394e4505e8ee2df",
    "idx": 18,
    "time": "2021-02-09T11:01:21.934Z",
    "type": "execution"
   },
   {
    "code": "import seaborn as sns\nimport matplotlib.pyplot as plt\nsns.set_theme(style=\"darkgrid\")\n# Load an example dataset with long-form data\nfmri = sns.load_dataset(\"fmri\")\n\n# Plot the responses for different events and regions\ng = sns.lineplot(x=\"Year\", y=\"RAV4Sales\", hue=\"MonthFactor\", data=Rav4_train)\nplt.legend(bbox_to_anchor=(1.05, 1), loc=2, borderaxespad=0.)",
    "id": "e8af1ac3bc844b2881c545416350c7a7",
    "idx": 21,
    "time": "2021-02-09T11:01:21.936Z",
    "type": "execution"
   },
   {
    "code": "Rav4_train2 = Rav4_train[(Rav4_train['MonthFactor'] == 'January') | (Rav4_train['MonthFactor'] == 'February')]\n\ng = sns.lineplot(x=\"Year\", y=\"RAV4Sales\", hue=\"MonthFactor\", data=Rav4_train2).set_title(\"RAV4 Sales for Jan and Feb\")\nplt.legend(bbox_to_anchor=(1.05, 1), loc=2, borderaxespad=0.)",
    "id": "e239a3804a6f4d43819133db05d539ac",
    "idx": 22,
    "time": "2021-02-09T11:01:21.937Z",
    "type": "execution"
   },
   {
    "code": "#b\n#i) Describe your new model. What is the regression equation? (Do not simply copy andpaste output  from  Python. How  should  one  interpret  the  coefficients  of  each  of  theMonthFactordummy variables?",
    "id": "6a38a2decf4d4b968fa1a5248af7c5e4",
    "idx": 23,
    "time": "2021-02-09T11:01:21.938Z",
    "type": "execution"
   },
   {
    "code": "#ii) What is the training set R^2 for the new model? Which variables are significant?",
    "id": "15bd14c56887458f82773e72896679d1",
    "idx": 25,
    "time": "2021-02-09T11:01:21.939Z",
    "type": "execution"
   },
   {
    "code": "#iii) Do you think adding the independent variable MonthFactor improves the quality of themodel?  Why or why not?",
    "id": "33d6fa8981a04de4baa79ffd304208ba",
    "idx": 27,
    "time": "2021-02-09T11:01:21.941Z",
    "type": "execution"
   },
   {
    "code": "#iv) Can you think of a different way that you might use the given data to model seasonality? Do you think your new way would improve on the best model you have constructed sofar? ",
    "id": "b4c3052cd8a2460fb0529287e0f3b79e",
    "idx": 29,
    "time": "2021-02-09T11:01:21.942Z",
    "type": "execution"
   },
   {
    "code": "#c) Build a final model using a subset of the independent variables used in parts(a)and(b), providing a brief justification for the variables selected.  What is the training set R2and theOSR2(this is theR2of your model on the test set)?  Do you think your model wouldbe useful to Toyota?  Why or why not?",
    "id": "d61f5cd5b18a467e8146adbffe4eeb3e",
    "idx": 31,
    "time": "2021-02-09T11:01:21.944Z",
    "type": "execution"
   },
   {
    "code": "ols_final = smf.ols(formula='RAV4Sales ~ MonthFactor + Unemployment + RAV4Queries + CPIEnergy', data = Rav4_train)\nmodel_final = ols_final.fit()\nprint(model_final.summary())",
    "id": "2e0d091f9c2e4eeba186dea1f16ee12a",
    "idx": 32,
    "time": "2021-02-09T11:01:21.945Z",
    "type": "execution"
   },
   {
    "code": "# Compute out-of-sample R-squared using the test set\ndef OSR2(model, df_train, df_test, dependent_var):   \n    y_test = df_test[dependent_var]\n    y_pred = model.predict(df_test)\n    SSE = np.sum((y_test - y_pred)**2)\n    SST = np.sum((y_test - np.mean(df_train[dependent_var]))**2)    \n    return 1 - SSE/SST\n\nOSR2(model_final, Rav4_train, Rav4_test, 'RAV4Sales')",
    "id": "3399adb1ac6c4e8286b6fbcf8bb0567f",
    "idx": 33,
    "time": "2021-02-09T11:01:21.945Z",
    "type": "execution"
   },
   {
    "code": "#d) Now, build  a  new  regression  model  with  your  additional  chosen  feature  in  addition  to  thefeatures that you selected in part(c).  Does the new feature add any predictive value?  Justifyyour answer based on the results of your analysis.",
    "id": "f0d34c88859d438a88714b6d981d568b",
    "idx": 35,
    "time": "2021-02-09T11:01:21.946Z",
    "type": "execution"
   },
   {
    "code": "#Loading data\nweekly_gas = pd.read_csv('US Gasoline and Diesel Prices.csv')\n#weekly_gas.info()",
    "id": "b0cad3517a894475a4c700e0c0b11b94",
    "idx": 36,
    "time": "2021-02-09T11:01:21.947Z",
    "type": "execution"
   },
   {
    "code": "#Parse only the Year from the Date column \nweekly_gas = weekly_gas.iloc[:,0:2]\nweekly_gas['Year'] = pd.DatetimeIndex(weekly_gas['Date']).year\nweekly_gas_1 = weekly_gas.iloc[2:]\ndel weekly_gas_1['Date']\nweekly_gas_1.head()",
    "id": "45b338e670be41e7b552530558d402c9",
    "idx": 38,
    "time": "2021-02-09T11:01:21.948Z",
    "type": "execution"
   },
   {
    "code": "#Make the constraints to be the same as our Rav4 train which is 2011 through 2016\nweekly_gas_train = weekly_gas_1[(weekly_gas['Year'] >= 2011 ) & (weekly_gas_1['Year'] <= 2016)]\n\n#Randomnly select 72 outputs as our Rav4 train also has 72 outputs\nweekly_gas_train = weekly_gas_train.sample(72)",
    "id": "dd9e9a34e2ab414fbc7fcfdc7a234ade",
    "idx": 39,
    "time": "2021-02-09T11:01:21.949Z",
    "type": "execution"
   },
   {
    "code": "#Link the A1 Values to our Rav4_train dataset\nRav4_train_final = Rav4_train.append(weekly_gas_train, ignore_index = True, sort = False)\n#Rav4_train_final = pd.concat([Rav4_train, weekly_gas_train], axis=1)\nRav4_train_final.sample(50)",
    "id": "6a5011ec09684c2c86da061d988e9248",
    "idx": 40,
    "time": "2021-02-09T11:01:21.951Z",
    "type": "execution"
   },
   {
    "code": "#e) propose a loss function that accurately models this situation and explain your reasoning.",
    "id": "661edcbfee4e400f9cec3c267e67e093",
    "idx": 41,
    "time": "2021-02-09T11:01:21.952Z",
    "type": "execution"
   },
   {
    "id": "3cc2e4dd9f714a7f830b946114556ab7",
    "time": "2021-02-09T11:01:22.506Z",
    "type": "completion"
   },
   {
    "id": "82573c5d5640428d8938c5170b2b4039",
    "time": "2021-02-09T11:01:22.534Z",
    "type": "completion"
   },
   {
    "id": "99352c1a4a73477480231c91c4f116db",
    "time": "2021-02-09T11:01:22.669Z",
    "type": "completion"
   },
   {
    "id": "d108a1822ccc46a28c97048b2481b3b4",
    "time": "2021-02-09T11:01:22.671Z",
    "type": "completion"
   },
   {
    "id": "9b7b926e099f475e814756034ad9cc95",
    "time": "2021-02-09T11:01:22.691Z",
    "type": "completion"
   },
   {
    "id": "c985d12836314d9bb8d67d426c061853",
    "time": "2021-02-09T11:01:23.500Z",
    "type": "completion"
   },
   {
    "id": "07af50daf30945e5881fc07ff7438b0b",
    "time": "2021-02-09T11:01:23.502Z",
    "type": "completion"
   },
   {
    "id": "a90a9190c969470eb91de2d8a6204e61",
    "time": "2021-02-09T11:01:23.503Z",
    "type": "completion"
   },
   {
    "id": "b064c53583b849df8939df8473179d19",
    "time": "2021-02-09T11:01:23.657Z",
    "type": "completion"
   },
   {
    "id": "039dd4ebf74343498eaa4764248fab73",
    "time": "2021-02-09T11:01:23.659Z",
    "type": "completion"
   },
   {
    "id": "94450aabbfb54f9284ec1416ad7cc2fe",
    "time": "2021-02-09T11:01:23.659Z",
    "type": "completion"
   },
   {
    "id": "ce6e2cd5889b412b8e6f6b790a0684a5",
    "time": "2021-02-09T11:01:23.661Z",
    "type": "completion"
   },
   {
    "id": "62f7f6339a4b4c8788c7fda1e298609b",
    "time": "2021-02-09T11:01:23.663Z",
    "type": "completion"
   },
   {
    "id": "2708128cb67c4d72a394e4505e8ee2df",
    "time": "2021-02-09T11:01:23.664Z",
    "type": "completion"
   },
   {
    "id": "e8af1ac3bc844b2881c545416350c7a7",
    "time": "2021-02-09T11:01:24.790Z",
    "type": "completion"
   },
   {
    "id": "e239a3804a6f4d43819133db05d539ac",
    "time": "2021-02-09T11:01:24.962Z",
    "type": "completion"
   },
   {
    "id": "6a38a2decf4d4b968fa1a5248af7c5e4",
    "time": "2021-02-09T11:01:24.963Z",
    "type": "completion"
   },
   {
    "id": "15bd14c56887458f82773e72896679d1",
    "time": "2021-02-09T11:01:24.964Z",
    "type": "completion"
   },
   {
    "id": "33d6fa8981a04de4baa79ffd304208ba",
    "time": "2021-02-09T11:01:24.971Z",
    "type": "completion"
   },
   {
    "id": "b4c3052cd8a2460fb0529287e0f3b79e",
    "time": "2021-02-09T11:01:24.982Z",
    "type": "completion"
   },
   {
    "id": "d61f5cd5b18a467e8146adbffe4eeb3e",
    "time": "2021-02-09T11:01:25.002Z",
    "type": "completion"
   },
   {
    "id": "2e0d091f9c2e4eeba186dea1f16ee12a",
    "time": "2021-02-09T11:01:25.080Z",
    "type": "completion"
   },
   {
    "id": "3399adb1ac6c4e8286b6fbcf8bb0567f",
    "time": "2021-02-09T11:01:25.087Z",
    "type": "completion"
   },
   {
    "id": "f0d34c88859d438a88714b6d981d568b",
    "time": "2021-02-09T11:01:25.105Z",
    "type": "completion"
   },
   {
    "id": "b0cad3517a894475a4c700e0c0b11b94",
    "time": "2021-02-09T11:01:25.147Z",
    "type": "completion"
   },
   {
    "id": "45b338e670be41e7b552530558d402c9",
    "time": "2021-02-09T11:01:25.174Z",
    "type": "completion"
   },
   {
    "id": "dd9e9a34e2ab414fbc7fcfdc7a234ade",
    "time": "2021-02-09T11:01:25.184Z",
    "type": "completion"
   },
   {
    "id": "6a5011ec09684c2c86da061d988e9248",
    "time": "2021-02-09T11:01:25.254Z",
    "type": "completion"
   },
   {
    "id": "661edcbfee4e400f9cec3c267e67e093",
    "time": "2021-02-09T11:01:25.257Z",
    "type": "completion"
   },
   {
    "code": "Rav4_train.sample(50)",
    "id": "d7476024694943fa93524297e35fd433",
    "idx": 41,
    "time": "2021-02-09T11:02:03.867Z",
    "type": "execution"
   },
   {
    "id": "d7476024694943fa93524297e35fd433",
    "time": "2021-02-09T11:02:04.282Z",
    "type": "completion"
   },
   {
    "code": "#Link the A1 Values to our Rav4_train dataset\n#Rav4_train_final = Rav4_train.append(weekly_gas_train, ignore_index = True, sort = False)\nRav4_train_final = pd.concat([Rav4_train, weekly_gas_train], axis=1)\nRav4_train_final.sample(50)",
    "id": "6a5011ec09684c2c86da061d988e9248",
    "idx": 40,
    "time": "2021-02-09T11:02:28.120Z",
    "type": "execution"
   },
   {
    "id": "6a5011ec09684c2c86da061d988e9248",
    "time": "2021-02-09T11:02:28.683Z",
    "type": "completion"
   },
   {
    "code": "#Link the A1 Values to our Rav4_train dataset\nRav4_train_final = Rav4_train.append(weekly_gas_train, ignore_index = True, sort = False)\n#Rav4_train_final = pd.concat([Rav4_train, weekly_gas_train], axis=1)\n#Rav4_train_final.sample(50)",
    "id": "6a5011ec09684c2c86da061d988e9248",
    "idx": 40,
    "time": "2021-02-09T11:03:57.637Z",
    "type": "execution"
   },
   {
    "id": "6a5011ec09684c2c86da061d988e9248",
    "time": "2021-02-09T11:03:57.822Z",
    "type": "completion"
   },
   {
    "code": "#Link the A1 Values to our Rav4_train dataset\nRav4_train_final = Rav4_train.append(weekly_gas_train, ignore_index = True, sort = False)\n#Rav4_train_final = pd.concat([Rav4_train, weekly_gas_train], axis=1)\n#Rav4_train_final.sample(50)",
    "id": "6a5011ec09684c2c86da061d988e9248",
    "idx": 40,
    "time": "2021-02-09T11:04:03.804Z",
    "type": "execution"
   },
   {
    "id": "6a5011ec09684c2c86da061d988e9248",
    "time": "2021-02-09T11:04:03.997Z",
    "type": "completion"
   },
   {
    "code": "#Parse only the Year from the Date column \nweekly_gas = weekly_gas.iloc[:,0:2]\nweekly_gas['Year'] = pd.DatetimeIndex(weekly_gas['Date']).year\nweekly_gas_1 = weekly_gas.iloc[2:]\ndel weekly_gas_1['Date']",
    "id": "45b338e670be41e7b552530558d402c9",
    "idx": 38,
    "time": "2021-02-09T11:04:11.084Z",
    "type": "execution"
   },
   {
    "id": "45b338e670be41e7b552530558d402c9",
    "time": "2021-02-09T11:04:11.273Z",
    "type": "completion"
   },
   {
    "code": "ols_new = smf.ols(formula='RAV4Sales ~ MonthFactor + Unemployment + RAV4Queries + CPIEnergy', data = Rav4_train_final)\nmodel_new = ols_new.fit()\nprint(model_new.summary())",
    "id": "d7476024694943fa93524297e35fd433",
    "idx": 41,
    "time": "2021-02-09T11:05:13.426Z",
    "type": "execution"
   },
   {
    "id": "d7476024694943fa93524297e35fd433",
    "time": "2021-02-09T11:05:13.963Z",
    "type": "completion"
   },
   {
    "code": "n = Rav4_train(Rav4_train['MonthFactor'] == 'January')\nn.head()",
    "id": "e207d4482d584e89b09c5391b470f480",
    "idx": 23,
    "time": "2021-02-09T11:06:44.190Z",
    "type": "execution"
   },
   {
    "id": "e207d4482d584e89b09c5391b470f480",
    "time": "2021-02-09T11:06:44.552Z",
    "type": "completion"
   },
   {
    "code": "n = Rav4_train[(Rav4_train['MonthFactor'] == 'January')]\nn.head()",
    "id": "e207d4482d584e89b09c5391b470f480",
    "idx": 23,
    "time": "2021-02-09T11:06:56.183Z",
    "type": "execution"
   },
   {
    "id": "e207d4482d584e89b09c5391b470f480",
    "time": "2021-02-09T11:06:56.404Z",
    "type": "completion"
   },
   {
    "code": "#Using Dummy Variables for our MonthFactors\n\ndf = pd.DataFrame({'MonthFactor': ['January', 'February']})\n\npd.get_dummies(df[\"MonthFactor\"],prefix='MonthFactor',drop_first=True)\n\ndf = pd.concat([df,pd.get_dummies(df['MonthFactor'], prefix='MonthFactor')],axis=1)\n\n",
    "id": "88a367fef53c437b8ead07204c532e3a",
    "idx": 23,
    "time": "2021-02-09T11:16:04.863Z",
    "type": "execution"
   },
   {
    "id": "88a367fef53c437b8ead07204c532e3a",
    "time": "2021-02-09T11:16:05.094Z",
    "type": "completion"
   },
   {
    "code": "#Using Dummy Variables for our MonthFactors\n\ndf = pd.DataFrame({'MonthFactor': ['January', 'February']})\n\npd.get_dummies(df[\"MonthFactor\"],prefix='MonthFactor',drop_first=True)\n\ndf = pd.concat([df,pd.get_dummies(df['MonthFactor'], prefix='MonthFactor')],axis=1)\ndf.head()\n",
    "id": "88a367fef53c437b8ead07204c532e3a",
    "idx": 23,
    "time": "2021-02-09T11:16:08.166Z",
    "type": "execution"
   },
   {
    "id": "88a367fef53c437b8ead07204c532e3a",
    "time": "2021-02-09T11:16:08.743Z",
    "type": "completion"
   },
   {
    "code": "#Using Dummy Variables for our MonthFactors\n\n# Rav4_train.get_dummies\nRav4_dummy = pd.DataFrame({'MonthFactor': ['January', 'February']})\n\nRav4_dummy.get_dummies(Rav4_train[\"MonthFactor\"],prefix='MonthFactor',drop_first=True)\n\nRav4_dummy = pd.concat([Rav4_train,pd.get_dummies(df['MonthFactor'], prefix='MonthFactor')],axis=1)\nRav4_dummy.head()\n",
    "id": "88a367fef53c437b8ead07204c532e3a",
    "idx": 23,
    "time": "2021-02-09T11:19:39.116Z",
    "type": "execution"
   },
   {
    "id": "88a367fef53c437b8ead07204c532e3a",
    "time": "2021-02-09T11:19:39.545Z",
    "type": "completion"
   },
   {
    "code": "#Using Dummy Variables for our MonthFactors\n\n# Rav4_train.get_dummies\nRav4_dummy = pd.DataFrame({'MonthFactor': ['January', 'February']})\n\nRav4_dummy.get_dummies(Rav4_train[\"MonthFactor\"],prefix='MonthFactor',drop_first=True)\n\nRav4_dummy = pd.concat([Rav4_train,pd.get_dummies(Rav4_train['MonthFactor'], prefix='MonthFactor')],axis=1)\nRav4_dummy.head()\n",
    "id": "88a367fef53c437b8ead07204c532e3a",
    "idx": 23,
    "time": "2021-02-09T11:20:13.250Z",
    "type": "execution"
   },
   {
    "id": "88a367fef53c437b8ead07204c532e3a",
    "time": "2021-02-09T11:20:13.600Z",
    "type": "completion"
   },
   {
    "code": "#Using Dummy Variables for our MonthFactors\n\n#Rav4_train.get_dummies()\ndf.MonthFactor\n",
    "id": "88a367fef53c437b8ead07204c532e3a",
    "idx": 23,
    "time": "2021-02-09T11:20:56.499Z",
    "type": "execution"
   },
   {
    "id": "88a367fef53c437b8ead07204c532e3a",
    "time": "2021-02-09T11:20:56.737Z",
    "type": "completion"
   },
   {
    "code": "Rav4_train2 = Rav4_train[(Rav4_train['MonthFactor'] == 'January') | (Rav4_train['MonthFactor'] == 'February')]\n\ng = sns.lineplot(x=\"Year\", y=\"RAV4Sales\", hue=\"MonthFactor\", data=Rav4_train2).set_title(\"RAV4 Sales for Jan and Feb\")\nplt.legend(bbox_to_anchor=(1.05, 1), loc=2, borderaxespad=0.)",
    "id": "e239a3804a6f4d43819133db05d539ac",
    "idx": 22,
    "time": "2021-02-09T11:21:14.388Z",
    "type": "execution"
   },
   {
    "id": "e239a3804a6f4d43819133db05d539ac",
    "time": "2021-02-09T11:21:15.256Z",
    "type": "completion"
   },
   {
    "code": "#Using Dummy Variables for our MonthFactors\n\n#Rav4_train.get_dummies()\ndf.MonthFactor\n",
    "id": "88a367fef53c437b8ead07204c532e3a",
    "idx": 23,
    "time": "2021-02-09T11:21:15.979Z",
    "type": "execution"
   },
   {
    "id": "88a367fef53c437b8ead07204c532e3a",
    "time": "2021-02-09T11:21:16.168Z",
    "type": "completion"
   },
   {
    "code": "#Using Dummy Variables for our MonthFactors\n\n#Rav4_train.get_dummies()\ndf.MonthFactor\n",
    "id": "88a367fef53c437b8ead07204c532e3a",
    "idx": 23,
    "time": "2021-02-09T11:21:33.748Z",
    "type": "execution"
   },
   {
    "id": "88a367fef53c437b8ead07204c532e3a",
    "time": "2021-02-09T11:21:33.960Z",
    "type": "completion"
   },
   {
    "code": "import numpy as np\nimport pandas as pd",
    "id": "3cc2e4dd9f714a7f830b946114556ab7",
    "idx": 0,
    "time": "2021-02-09T11:21:41.220Z",
    "type": "execution"
   },
   {
    "code": "#Loading data\nRav4 = pd.read_csv('RAV4-142-Spring2021.csv')\nRav4.info()",
    "id": "82573c5d5640428d8938c5170b2b4039",
    "idx": 1,
    "time": "2021-02-09T11:21:41.222Z",
    "type": "execution"
   },
   {
    "code": "Rav4.head()",
    "id": "99352c1a4a73477480231c91c4f116db",
    "idx": 2,
    "time": "2021-02-09T11:21:41.224Z",
    "type": "execution"
   },
   {
    "code": "# Problem 2\n# a) Start  by  splitting  the  data  into  a  training  set  and  testing  set. The trainingset should contain all observations for 2011 through 2016.  \n#The testing set should have allobservations for 2017 through 2020.\n\nRav4_train = Rav4[(Rav4['Year'] >= 2011) & (Rav4['Year'] <= 2016)]\nRav4_test = Rav4[(Rav4['Year'] >= 2017) & (Rav4['Year'] <= 2020)]\n\nRav4_train.head()",
    "id": "d108a1822ccc46a28c97048b2481b3b4",
    "idx": 3,
    "time": "2021-02-09T11:21:41.225Z",
    "type": "execution"
   },
   {
    "code": "#i) What  is  the  linear  regression  equation  produced  by  your  model,  and  how  should  one interpret the coefficients for the independent variables?  \n#Consider interpretability issues when  writing  down  the  equation  (e.g.,  do  not  just  copy  and  paste  the  output  from Python)",
    "id": "9b7b926e099f475e814756034ad9cc95",
    "idx": 4,
    "time": "2021-02-09T11:21:41.227Z",
    "type": "execution"
   },
   {
    "code": "import statsmodels.api as sm\nimport statsmodels.formula.api as smf\n\nols_1 = smf.ols(formula='RAV4Sales ~ Unemployment + RAV4Queries + CPIAll + CPIEnergy ', data = Rav4_train)\nmodel_1 = ols_1.fit()\nprint(model_1.summary())",
    "id": "c985d12836314d9bb8d67d426c061853",
    "idx": 6,
    "time": "2021-02-09T11:21:41.228Z",
    "type": "execution"
   },
   {
    "code": "#ii) How did you select the variables to include in your linear regression model?\nfrom statsmodels.stats.outliers_influence import variance_inflation_factor\n\ndef VIF(df, columns):\n    values = sm.add_constant(df[columns]).values\n    num_columns = len(columns)+1\n    vif = [variance_inflation_factor(values, i) for i in range(num_columns)]\n    return pd.Series(vif[1:], index=columns)",
    "id": "07af50daf30945e5881fc07ff7438b0b",
    "idx": 7,
    "time": "2021-02-09T11:21:41.230Z",
    "type": "execution"
   },
   {
    "code": "cols_1 = ['Unemployment', 'RAV4Queries', 'CPIAll', 'CPIEnergy']\nVIF(Rav4_train, cols_1)",
    "id": "a90a9190c969470eb91de2d8a6204e61",
    "idx": 8,
    "time": "2021-02-09T11:21:41.231Z",
    "type": "execution"
   },
   {
    "code": "ols_2 = smf.ols(formula='RAV4Sales ~ RAV4Queries + CPIAll + CPIEnergy ', data = Rav4_train)\nmodel_2 = ols_2.fit()\nprint(model_2.summary())",
    "id": "b064c53583b849df8939df8473179d19",
    "idx": 10,
    "time": "2021-02-09T11:21:41.233Z",
    "type": "execution"
   },
   {
    "code": "cols_2 = ['RAV4Queries', 'CPIAll', 'CPIEnergy']\nVIF(Rav4_train, cols_2)",
    "id": "039dd4ebf74343498eaa4764248fab73",
    "idx": 11,
    "time": "2021-02-09T11:21:41.234Z",
    "type": "execution"
   },
   {
    "code": "#iii) Do the signs of the models coefficients make sense?  Are you reasonably sure that thesigns are correct?",
    "id": "94450aabbfb54f9284ec1416ad7cc2fe",
    "idx": 13,
    "time": "2021-02-09T11:21:41.235Z",
    "type": "execution"
   },
   {
    "code": "#iv) How well does the model predict training set observations? Can you justify the models performance on the training data with a quantifiable metric?\nols_3 = smf.ols(formula='RAV4Sales ~ CPIAll + CPIEnergy', data = Rav4_train)\nmodel_3 = ols_3.fit()\nprint(model_3.summary())",
    "id": "ce6e2cd5889b412b8e6f6b790a0684a5",
    "idx": 15,
    "time": "2021-02-09T11:21:41.237Z",
    "type": "execution"
   },
   {
    "code": "cols_3 = ['CPIAll', 'CPIEnergy']\nVIF(Rav4_train, cols_3)",
    "id": "62f7f6339a4b4c8788c7fda1e298609b",
    "idx": 16,
    "time": "2021-02-09T11:21:41.238Z",
    "type": "execution"
   },
   {
    "code": "#b \n#Construct a new linear regression model using theMonthFactorvariable as an independentvariable, in addition to all four of the variables you used at the start of part(a)\nols_4 = smf.ols(formula='RAV4Sales ~ MonthFactor + Unemployment + RAV4Queries + CPIAll + CPIEnergy', data = Rav4_train)\nmodel_4 = ols_4.fit()\nprint(model_4.summary())",
    "id": "2708128cb67c4d72a394e4505e8ee2df",
    "idx": 18,
    "time": "2021-02-09T11:21:41.239Z",
    "type": "execution"
   },
   {
    "code": "import seaborn as sns\nimport matplotlib.pyplot as plt\nsns.set_theme(style=\"darkgrid\")\n# Load an example dataset with long-form data\nfmri = sns.load_dataset(\"fmri\")\n\n# Plot the responses for different events and regions\ng = sns.lineplot(x=\"Year\", y=\"RAV4Sales\", hue=\"MonthFactor\", data=Rav4_train)\nplt.legend(bbox_to_anchor=(1.05, 1), loc=2, borderaxespad=0.)",
    "id": "e8af1ac3bc844b2881c545416350c7a7",
    "idx": 21,
    "time": "2021-02-09T11:21:41.241Z",
    "type": "execution"
   },
   {
    "code": "#Rav4_train2 = Rav4_train[(Rav4_train['MonthFactor'] == 'January') | (Rav4_train['MonthFactor'] == 'February')]\n\ng = sns.lineplot(x=\"Year\", y=\"RAV4Sales\", hue=\"MonthFactor\", data=Rav4_train2).set_title(\"RAV4 Sales for Jan and Feb\")\nplt.legend(bbox_to_anchor=(1.05, 1), loc=2, borderaxespad=0.)",
    "id": "e239a3804a6f4d43819133db05d539ac",
    "idx": 22,
    "time": "2021-02-09T11:21:41.242Z",
    "type": "execution"
   },
   {
    "code": "#Using Dummy Variables for our MonthFactors\n\n#Rav4_train.get_dummies()\ndf.MonthFactor\n",
    "id": "88a367fef53c437b8ead07204c532e3a",
    "idx": 23,
    "time": "2021-02-09T11:21:41.243Z",
    "type": "execution"
   },
   {
    "code": "Rav4_train_Jan = Rav4_train[(Rav4_train['MonthFactor'] == 'January')]\nRav4_train_Feb = Rav4_train[(Rav4_train['MonthFactor'] == 'February')]\n",
    "id": "e207d4482d584e89b09c5391b470f480",
    "idx": 24,
    "time": "2021-02-09T11:21:41.246Z",
    "type": "execution"
   },
   {
    "code": "#b\n#i) Describe your new model. What is the regression equation? (Do not simply copy andpaste output  from  Python. How  should  one  interpret  the  coefficients  of  each  of  theMonthFactordummy variables?",
    "id": "6a38a2decf4d4b968fa1a5248af7c5e4",
    "idx": 25,
    "time": "2021-02-09T11:21:41.247Z",
    "type": "execution"
   },
   {
    "code": "#ii) What is the training set R^2 for the new model? Which variables are significant?",
    "id": "15bd14c56887458f82773e72896679d1",
    "idx": 27,
    "time": "2021-02-09T11:21:41.248Z",
    "type": "execution"
   },
   {
    "code": "#iii) Do you think adding the independent variable MonthFactor improves the quality of themodel?  Why or why not?",
    "id": "33d6fa8981a04de4baa79ffd304208ba",
    "idx": 29,
    "time": "2021-02-09T11:21:41.249Z",
    "type": "execution"
   },
   {
    "code": "#iv) Can you think of a different way that you might use the given data to model seasonality? Do you think your new way would improve on the best model you have constructed sofar? ",
    "id": "b4c3052cd8a2460fb0529287e0f3b79e",
    "idx": 31,
    "time": "2021-02-09T11:21:41.250Z",
    "type": "execution"
   },
   {
    "code": "#c) Build a final model using a subset of the independent variables used in parts(a)and(b), providing a brief justification for the variables selected.  What is the training set R2and theOSR2(this is theR2of your model on the test set)?  Do you think your model wouldbe useful to Toyota?  Why or why not?",
    "id": "d61f5cd5b18a467e8146adbffe4eeb3e",
    "idx": 33,
    "time": "2021-02-09T11:21:41.251Z",
    "type": "execution"
   },
   {
    "code": "ols_final = smf.ols(formula='RAV4Sales ~ MonthFactor + Unemployment + RAV4Queries + CPIEnergy', data = Rav4_train)\nmodel_final = ols_final.fit()\nprint(model_final.summary())",
    "id": "2e0d091f9c2e4eeba186dea1f16ee12a",
    "idx": 34,
    "time": "2021-02-09T11:21:41.252Z",
    "type": "execution"
   },
   {
    "code": "# Compute out-of-sample R-squared using the test set\ndef OSR2(model, df_train, df_test, dependent_var):   \n    y_test = df_test[dependent_var]\n    y_pred = model.predict(df_test)\n    SSE = np.sum((y_test - y_pred)**2)\n    SST = np.sum((y_test - np.mean(df_train[dependent_var]))**2)    \n    return 1 - SSE/SST\n\nOSR2(model_final, Rav4_train, Rav4_test, 'RAV4Sales')",
    "id": "3399adb1ac6c4e8286b6fbcf8bb0567f",
    "idx": 35,
    "time": "2021-02-09T11:21:41.253Z",
    "type": "execution"
   },
   {
    "code": "#d) Now, build  a  new  regression  model  with  your  additional  chosen  feature  in  addition  to  thefeatures that you selected in part(c).  Does the new feature add any predictive value?  Justifyyour answer based on the results of your analysis.",
    "id": "f0d34c88859d438a88714b6d981d568b",
    "idx": 37,
    "time": "2021-02-09T11:21:41.254Z",
    "type": "execution"
   },
   {
    "code": "#Loading data\nweekly_gas = pd.read_csv('US Gasoline and Diesel Prices.csv')\n#weekly_gas.info()",
    "id": "b0cad3517a894475a4c700e0c0b11b94",
    "idx": 38,
    "time": "2021-02-09T11:21:41.255Z",
    "type": "execution"
   },
   {
    "code": "#Parse only the Year from the Date column \nweekly_gas = weekly_gas.iloc[:,0:2]\nweekly_gas['Year'] = pd.DatetimeIndex(weekly_gas['Date']).year\nweekly_gas_1 = weekly_gas.iloc[2:]\ndel weekly_gas_1['Date']",
    "id": "45b338e670be41e7b552530558d402c9",
    "idx": 40,
    "time": "2021-02-09T11:21:41.256Z",
    "type": "execution"
   },
   {
    "code": "#Make the constraints to be the same as our Rav4 train which is 2011 through 2016\nweekly_gas_train = weekly_gas_1[(weekly_gas['Year'] >= 2011 ) & (weekly_gas_1['Year'] <= 2016)]\n\n#Randomnly select 72 outputs as our Rav4 train also has 72 outputs\nweekly_gas_train = weekly_gas_train.sample(72)",
    "id": "dd9e9a34e2ab414fbc7fcfdc7a234ade",
    "idx": 41,
    "time": "2021-02-09T11:21:41.257Z",
    "type": "execution"
   },
   {
    "code": "#Link the A1 Values to our Rav4_train dataset\nRav4_train_final = Rav4_train.append(weekly_gas_train, ignore_index = True, sort = False)\n#Rav4_train_final = pd.concat([Rav4_train, weekly_gas_train], axis=1)\n#Rav4_train_final.sample(50)",
    "id": "6a5011ec09684c2c86da061d988e9248",
    "idx": 42,
    "time": "2021-02-09T11:21:41.258Z",
    "type": "execution"
   },
   {
    "code": "ols_new = smf.ols(formula='RAV4Sales ~ MonthFactor + Unemployment + RAV4Queries + CPIEnergy', data = Rav4_train_final)\nmodel_new = ols_new.fit()\nprint(model_new.summary())",
    "id": "d7476024694943fa93524297e35fd433",
    "idx": 43,
    "time": "2021-02-09T11:21:41.259Z",
    "type": "execution"
   },
   {
    "code": "#e) propose a loss function that accurately models this situation and explain your reasoning.",
    "id": "661edcbfee4e400f9cec3c267e67e093",
    "idx": 44,
    "time": "2021-02-09T11:21:41.259Z",
    "type": "execution"
   },
   {
    "id": "3cc2e4dd9f714a7f830b946114556ab7",
    "time": "2021-02-09T11:21:41.405Z",
    "type": "completion"
   },
   {
    "id": "82573c5d5640428d8938c5170b2b4039",
    "time": "2021-02-09T11:21:41.451Z",
    "type": "completion"
   },
   {
    "id": "99352c1a4a73477480231c91c4f116db",
    "time": "2021-02-09T11:21:41.578Z",
    "type": "completion"
   },
   {
    "id": "d108a1822ccc46a28c97048b2481b3b4",
    "time": "2021-02-09T11:21:41.900Z",
    "type": "completion"
   },
   {
    "id": "9b7b926e099f475e814756034ad9cc95",
    "time": "2021-02-09T11:21:41.902Z",
    "type": "completion"
   },
   {
    "id": "c985d12836314d9bb8d67d426c061853",
    "time": "2021-02-09T11:21:41.904Z",
    "type": "completion"
   },
   {
    "id": "07af50daf30945e5881fc07ff7438b0b",
    "time": "2021-02-09T11:21:41.909Z",
    "type": "completion"
   },
   {
    "id": "a90a9190c969470eb91de2d8a6204e61",
    "time": "2021-02-09T11:21:41.910Z",
    "type": "completion"
   },
   {
    "id": "b064c53583b849df8939df8473179d19",
    "time": "2021-02-09T11:21:41.946Z",
    "type": "completion"
   },
   {
    "id": "039dd4ebf74343498eaa4764248fab73",
    "time": "2021-02-09T11:21:42.061Z",
    "type": "completion"
   },
   {
    "id": "94450aabbfb54f9284ec1416ad7cc2fe",
    "time": "2021-02-09T11:21:42.093Z",
    "type": "completion"
   },
   {
    "id": "ce6e2cd5889b412b8e6f6b790a0684a5",
    "time": "2021-02-09T11:21:42.221Z",
    "type": "completion"
   },
   {
    "id": "62f7f6339a4b4c8788c7fda1e298609b",
    "time": "2021-02-09T11:21:42.255Z",
    "type": "completion"
   },
   {
    "id": "2708128cb67c4d72a394e4505e8ee2df",
    "time": "2021-02-09T11:21:42.265Z",
    "type": "completion"
   },
   {
    "id": "e8af1ac3bc844b2881c545416350c7a7",
    "time": "2021-02-09T11:21:43.091Z",
    "type": "completion"
   },
   {
    "id": "e239a3804a6f4d43819133db05d539ac",
    "time": "2021-02-09T11:21:43.521Z",
    "type": "completion"
   },
   {
    "id": "88a367fef53c437b8ead07204c532e3a",
    "time": "2021-02-09T11:21:43.560Z",
    "type": "completion"
   },
   {
    "id": "e207d4482d584e89b09c5391b470f480",
    "time": "2021-02-09T11:21:43.561Z",
    "type": "completion"
   },
   {
    "id": "6a38a2decf4d4b968fa1a5248af7c5e4",
    "time": "2021-02-09T11:21:43.562Z",
    "type": "completion"
   },
   {
    "id": "15bd14c56887458f82773e72896679d1",
    "time": "2021-02-09T11:21:43.562Z",
    "type": "completion"
   },
   {
    "id": "33d6fa8981a04de4baa79ffd304208ba",
    "time": "2021-02-09T11:21:43.563Z",
    "type": "completion"
   },
   {
    "id": "b4c3052cd8a2460fb0529287e0f3b79e",
    "time": "2021-02-09T11:21:43.680Z",
    "type": "completion"
   },
   {
    "id": "d61f5cd5b18a467e8146adbffe4eeb3e",
    "time": "2021-02-09T11:21:43.714Z",
    "type": "completion"
   },
   {
    "id": "2e0d091f9c2e4eeba186dea1f16ee12a",
    "time": "2021-02-09T11:21:43.717Z",
    "type": "completion"
   },
   {
    "id": "3399adb1ac6c4e8286b6fbcf8bb0567f",
    "time": "2021-02-09T11:21:43.720Z",
    "type": "completion"
   },
   {
    "id": "f0d34c88859d438a88714b6d981d568b",
    "time": "2021-02-09T11:21:43.837Z",
    "type": "completion"
   },
   {
    "id": "b0cad3517a894475a4c700e0c0b11b94",
    "time": "2021-02-09T11:21:43.875Z",
    "type": "completion"
   },
   {
    "id": "45b338e670be41e7b552530558d402c9",
    "time": "2021-02-09T11:21:43.876Z",
    "type": "completion"
   },
   {
    "id": "dd9e9a34e2ab414fbc7fcfdc7a234ade",
    "time": "2021-02-09T11:21:43.880Z",
    "type": "completion"
   },
   {
    "id": "6a5011ec09684c2c86da061d988e9248",
    "time": "2021-02-09T11:21:43.881Z",
    "type": "completion"
   },
   {
    "id": "d7476024694943fa93524297e35fd433",
    "time": "2021-02-09T11:21:44.035Z",
    "type": "completion"
   },
   {
    "id": "661edcbfee4e400f9cec3c267e67e093",
    "time": "2021-02-09T11:21:44.036Z",
    "type": "completion"
   },
   {
    "code": "#Using Dummy Variables for our MonthFactors\n\n#Rav4_train.get_dummies()\ndf.MonthFactor\n",
    "id": "88a367fef53c437b8ead07204c532e3a",
    "idx": 23,
    "time": "2021-02-09T11:22:09.046Z",
    "type": "execution"
   },
   {
    "id": "88a367fef53c437b8ead07204c532e3a",
    "time": "2021-02-09T11:22:09.238Z",
    "type": "completion"
   },
   {
    "code": "#Using Dummy Variables for our MonthFactors\n\nfrom sklearn.feature_extraction import DictVectorizer\n\nall_columns = ['MonthFactor', 'Year', 'RAV4Sales', 'Unemployment', \n               'RAV4Queries', 'CPIAll','CPIEnergy']\n\nrecords = Rav4_train[all_columns].to_dict(orient='records')\nencoder = DictVectorizer(sparse=False)\nencoded_X = encoder.fit_transform(records)\nencoded_X\n",
    "id": "88a367fef53c437b8ead07204c532e3a",
    "idx": 23,
    "time": "2021-02-09T11:27:09.381Z",
    "type": "execution"
   },
   {
    "id": "88a367fef53c437b8ead07204c532e3a",
    "time": "2021-02-09T11:27:09.984Z",
    "type": "completion"
   },
   {
    "code": "pd.DataFrame(data=encoded_X, columns=encoder.feature_names_)",
    "id": "112db8892c264e42ac374dfa2c5b3596",
    "idx": 24,
    "time": "2021-02-09T11:27:24.288Z",
    "type": "execution"
   },
   {
    "id": "112db8892c264e42ac374dfa2c5b3596",
    "time": "2021-02-09T11:27:24.650Z",
    "type": "completion"
   },
   {
    "code": "#To get a better sense of the transformed data, we display it with the column names\nRav4_train_mf = pd.DataFrame(data=encoded_X, columns=encoder.feature_names_)",
    "id": "112db8892c264e42ac374dfa2c5b3596",
    "idx": 24,
    "time": "2021-02-09T11:32:13.652Z",
    "type": "execution"
   },
   {
    "id": "112db8892c264e42ac374dfa2c5b3596",
    "time": "2021-02-09T11:32:13.860Z",
    "type": "completion"
   },
   {
    "code": "#To get a better sense of the transformed data, we display it with the column names\nRav4_train_mf = pd.DataFrame(data=encoded_X, columns=encoder.feature_names_)\nRav4_train_mf.head()",
    "id": "112db8892c264e42ac374dfa2c5b3596",
    "idx": 24,
    "time": "2021-02-09T11:32:22.200Z",
    "type": "execution"
   },
   {
    "id": "112db8892c264e42ac374dfa2c5b3596",
    "time": "2021-02-09T11:32:22.443Z",
    "type": "completion"
   },
   {
    "code": "ols_5 = smf.ols(formula='RAV4Sales ~ MonthFactor=January + Unemployment + RAV4Queries + CPIAll + CPIEnergy', data = Rav4_train_mf)\nmodel_5 = ols_5.fit()\nprint(model_5.summary())\n",
    "id": "e207d4482d584e89b09c5391b470f480",
    "idx": 25,
    "time": "2021-02-09T11:32:41.978Z",
    "type": "execution"
   },
   {
    "id": "e207d4482d584e89b09c5391b470f480",
    "time": "2021-02-09T11:32:42.754Z",
    "type": "completion"
   },
   {
    "code": "ols_5 = smf.ols(formula='RAV4Sales ~ January + Unemployment + RAV4Queries + CPIAll + CPIEnergy', data = Rav4_train_mf)\nmodel_5 = ols_5.fit()\nprint(model_5.summary())\n",
    "id": "e207d4482d584e89b09c5391b470f480",
    "idx": 25,
    "time": "2021-02-09T11:32:53.570Z",
    "type": "execution"
   },
   {
    "id": "e207d4482d584e89b09c5391b470f480",
    "time": "2021-02-09T11:32:54.406Z",
    "type": "completion"
   },
   {
    "code": "#To get a better sense of the transformed data, we display it with the column names\nRav4_train_mf = pd.DataFrame(data=encoded_X, columns=encoder.feature_names_)\nRav4_train_mf.info()",
    "id": "112db8892c264e42ac374dfa2c5b3596",
    "idx": 24,
    "time": "2021-02-09T11:33:19.806Z",
    "type": "execution"
   },
   {
    "id": "112db8892c264e42ac374dfa2c5b3596",
    "time": "2021-02-09T11:33:20.554Z",
    "type": "completion"
   },
   {
    "code": "ols_5 = smf.ols(formula='RAV4Sales ~ MonthFactor=April + Unemployment + RAV4Queries + CPIAll + CPIEnergy', data = Rav4_train_mf)\nmodel_5 = ols_5.fit()\nprint(model_5.summary())\n",
    "id": "e207d4482d584e89b09c5391b470f480",
    "idx": 25,
    "time": "2021-02-09T11:33:32.056Z",
    "type": "execution"
   },
   {
    "id": "e207d4482d584e89b09c5391b470f480",
    "time": "2021-02-09T11:33:32.929Z",
    "type": "completion"
   },
   {
    "code": "#To get a better sense of the transformed data, we display it with the column names\nRav4_train_mf = pd.DataFrame(data=encoded_X, columns=encoder.feature_names_)\nRav4_train_mf['MonthFactor=April']",
    "id": "112db8892c264e42ac374dfa2c5b3596",
    "idx": 24,
    "time": "2021-02-09T11:34:10.337Z",
    "type": "execution"
   },
   {
    "id": "112db8892c264e42ac374dfa2c5b3596",
    "time": "2021-02-09T11:34:10.531Z",
    "type": "completion"
   },
   {
    "code": "#To get a better sense of the transformed data, we display it with the column names\nRav4_train_mf = pd.DataFrame(data=encoded_X, columns=encoder.feature_names_)\nRav4_train_mf['MonthFactor=April']\nRav4_train_mf['Unemployment']",
    "id": "112db8892c264e42ac374dfa2c5b3596",
    "idx": 24,
    "time": "2021-02-09T11:34:28.801Z",
    "type": "execution"
   },
   {
    "id": "112db8892c264e42ac374dfa2c5b3596",
    "time": "2021-02-09T11:34:29.832Z",
    "type": "completion"
   },
   {
    "code": "#To get a better sense of the transformed data, we display it with the column names\nRav4_train_mf = pd.DataFrame(data=encoded_X, columns=encoder.feature_names_)\nRav4_train_mf.head()",
    "id": "112db8892c264e42ac374dfa2c5b3596",
    "idx": 24,
    "time": "2021-02-09T11:40:14.673Z",
    "type": "execution"
   },
   {
    "id": "112db8892c264e42ac374dfa2c5b3596",
    "time": "2021-02-09T11:40:16.196Z",
    "type": "completion"
   },
   {
    "code": "#To get a better sense of the transformed data, we display it with the column names\nRav4_train_mf = pd.DataFrame(data=encoded_X, columns=encoder.feature_names_)\nRav4_train_mf.rename(columns={\"MonthFactor=April\": \"April\"})\nRav4_train_mf.head()",
    "id": "112db8892c264e42ac374dfa2c5b3596",
    "idx": 24,
    "time": "2021-02-09T11:41:57.142Z",
    "type": "execution"
   },
   {
    "id": "112db8892c264e42ac374dfa2c5b3596",
    "time": "2021-02-09T11:41:57.687Z",
    "type": "completion"
   },
   {
    "code": "#Using One hot encoding to use specific MonthFactors\nfrom sklearn.feature_extraction import DictVectorizer\n\nall_columns = ['MonthFactor', 'Year', 'RAV4Sales', 'Unemployment', \n               'RAV4Queries', 'CPIAll','CPIEnergy']\n\nrecords = Rav4_train[all_columns].to_dict(orient='records')\nencoder = DictVectorizer(sparse=False)\nencoded_X = encoder.fit_transform(records)\nencoded_X",
    "id": "88a367fef53c437b8ead07204c532e3a",
    "idx": 23,
    "time": "2021-02-09T11:42:26.353Z",
    "type": "execution"
   },
   {
    "id": "88a367fef53c437b8ead07204c532e3a",
    "time": "2021-02-09T11:42:26.561Z",
    "type": "completion"
   },
   {
    "code": "#To get a better sense of the transformed data, we display it with the column names\nRav4_train_mf = pd.DataFrame(data=encoded_X, columns=encoder.feature_names_)\nRav4_train_mf.rename(columns={\"MonthFactor=April\": \"April\"})\nRav4_train_mf.head()",
    "id": "112db8892c264e42ac374dfa2c5b3596",
    "idx": 24,
    "time": "2021-02-09T11:42:27.622Z",
    "type": "execution"
   },
   {
    "id": "112db8892c264e42ac374dfa2c5b3596",
    "time": "2021-02-09T11:42:28.016Z",
    "type": "completion"
   },
   {
    "code": "#To get a better sense of the transformed data, we display it with the column names\nRav4_train_mf = pd.DataFrame(data=encoded_X, columns=encoder.feature_names_)\nhello = Rav4_train_mf.rename(columns={\"MonthFactor=April\": \"April\"})\nhello.head()",
    "id": "112db8892c264e42ac374dfa2c5b3596",
    "idx": 24,
    "time": "2021-02-09T11:42:39.715Z",
    "type": "execution"
   },
   {
    "id": "112db8892c264e42ac374dfa2c5b3596",
    "time": "2021-02-09T11:42:40.107Z",
    "type": "completion"
   },
   {
    "code": "#To get a better sense of the transformed data, we display it with the column names\nRav4_train_mf = pd.DataFrame(data=encoded_X, columns=encoder.feature_names_)\nRav4_train_mf2 = Rav4_train_mf.rename(columns={\"MonthFactor=January\": \"Jan\",\n                                               \"MonthFactor=February\": \"Feb\",\n                                               \"MonthFactor=March\": \"Mar\",\n                                               \"MonthFactor=April\": \"Apr\",\n                                               \"MonthFactor=May\": \"May\",\n                                               \"MonthFactor=June\": \"Jun\",\n                                               \"MonthFactor=July\": \"Jul\",\n                                               \"MonthFactor=August\": \"Aug\",\n                                               \"MonthFactor=September\": \"Sep\",\n                                               \"MonthFactor=October\": \"Oct\",\n                                               \"MonthFactor=November\": \"Nov\",\n                                               \"MonthFactor=December\": \"Dec\"})\nRav4-train_mf2.head()",
    "id": "112db8892c264e42ac374dfa2c5b3596",
    "idx": 24,
    "time": "2021-02-09T11:45:36.948Z",
    "type": "execution"
   },
   {
    "id": "112db8892c264e42ac374dfa2c5b3596",
    "time": "2021-02-09T11:45:37.316Z",
    "type": "completion"
   },
   {
    "code": "#To get a better sense of the transformed data, we display it with the column names\nRav4_train_mf = pd.DataFrame(data=encoded_X, columns=encoder.feature_names_)\nRav4_train_mf2 = Rav4_train_mf.rename(columns={\"MonthFactor=January\": \"Jan\",\n                                               \"MonthFactor=February\": \"Feb\",\n                                               \"MonthFactor=March\": \"Mar\",\n                                               \"MonthFactor=April\": \"Apr\",\n                                               \"MonthFactor=May\": \"May\",\n                                               \"MonthFactor=June\": \"Jun\",\n                                               \"MonthFactor=July\": \"Jul\",\n                                               \"MonthFactor=August\": \"Aug\",\n                                               \"MonthFactor=September\": \"Sep\",\n                                               \"MonthFactor=October\": \"Oct\",\n                                               \"MonthFactor=November\": \"Nov\",\n                                               \"MonthFactor=December\": \"Dec\"})\nRav4_train_mf2.head()",
    "id": "112db8892c264e42ac374dfa2c5b3596",
    "idx": 24,
    "time": "2021-02-09T11:45:48.092Z",
    "type": "execution"
   },
   {
    "id": "112db8892c264e42ac374dfa2c5b3596",
    "time": "2021-02-09T11:45:48.510Z",
    "type": "completion"
   },
   {
    "code": "ols_5 = smf.ols(formula='RAV4Sales ~ April + Unemployment + RAV4Queries + CPIAll + CPIEnergy', data = Rav4_train_mf)\nmodel_5 = ols_5.fit()\nprint(model_5.summary())\n",
    "id": "e207d4482d584e89b09c5391b470f480",
    "idx": 25,
    "time": "2021-02-09T11:46:18.973Z",
    "type": "execution"
   },
   {
    "id": "e207d4482d584e89b09c5391b470f480",
    "time": "2021-02-09T11:46:19.699Z",
    "type": "completion"
   },
   {
    "code": "ols_5 = smf.ols(formula='RAV4Sales ~ April + Unemployment + RAV4Queries + CPIAll + CPIEnergy', data = Rav4_train_mf, eval_env=2)\nmodel_5 = ols_5.fit()\nprint(model_5.summary())\n",
    "id": "e207d4482d584e89b09c5391b470f480",
    "idx": 25,
    "time": "2021-02-09T11:50:07.716Z",
    "type": "execution"
   },
   {
    "id": "e207d4482d584e89b09c5391b470f480",
    "time": "2021-02-09T11:50:08.381Z",
    "type": "completion"
   },
   {
    "code": "ols_5 = smf.ols(formula='RAV4Sales ~ April + Unemployment + RAV4Queries + CPIAll + CPIEnergy', data = Rav4_train_mf)\nmodel_5 = ols_5.fit()\nprint(model_5.summary())\n",
    "id": "e207d4482d584e89b09c5391b470f480",
    "idx": 25,
    "time": "2021-02-09T11:50:13.863Z",
    "type": "execution"
   },
   {
    "id": "e207d4482d584e89b09c5391b470f480",
    "time": "2021-02-09T11:50:14.409Z",
    "type": "completion"
   },
   {
    "code": "#Using One hot encoding to use specific MonthFactors\nfrom sklearn.feature_extraction import DictVectorizer\n\nall_columns = ['MonthFactor', 'Year', 'RAV4Sales', 'Unemployment', \n               'RAV4Queries', 'CPIAll','CPIEnergy']\n\nrecords = Rav4_train[all_columns].to_dict(orient='records')\nencoder = DictVectorizer(sparse=False)\nencoded_X = encoder.fit_transform(records)\nencoded_X",
    "id": "88a367fef53c437b8ead07204c532e3a",
    "idx": 23,
    "time": "2021-02-09T11:50:49.715Z",
    "type": "execution"
   },
   {
    "id": "88a367fef53c437b8ead07204c532e3a",
    "time": "2021-02-09T11:50:49.913Z",
    "type": "completion"
   },
   {
    "code": "#To get a better sense of the transformed data, we display it with the column names\nRav4_train_mf = pd.DataFrame(data=encoded_X, columns=encoder.feature_names_)\nRav4_train_mf2 = Rav4_train_mf.rename(columns={\"MonthFactor=January\": \"Jan\",\n                                               \"MonthFactor=February\": \"Feb\",\n                                               \"MonthFactor=March\": \"Mar\",\n                                               \"MonthFactor=April\": \"Apr\",\n                                               \"MonthFactor=May\": \"May\",\n                                               \"MonthFactor=June\": \"Jun\",\n                                               \"MonthFactor=July\": \"Jul\",\n                                               \"MonthFactor=August\": \"Aug\",\n                                               \"MonthFactor=September\": \"Sep\",\n                                               \"MonthFactor=October\": \"Oct\",\n                                               \"MonthFactor=November\": \"Nov\",\n                                               \"MonthFactor=December\": \"Dec\"})\nRav4_train_mf2.head()",
    "id": "112db8892c264e42ac374dfa2c5b3596",
    "idx": 24,
    "time": "2021-02-09T11:50:50.791Z",
    "type": "execution"
   },
   {
    "code": "ols_5 = smf.ols(formula='RAV4Sales ~ April + Unemployment + RAV4Queries + CPIAll + CPIEnergy', data = Rav4_train_mf)\nmodel_5 = ols_5.fit()\nprint(model_5.summary())\n",
    "id": "e207d4482d584e89b09c5391b470f480",
    "idx": 25,
    "time": "2021-02-09T11:50:51.643Z",
    "type": "execution"
   },
   {
    "id": "112db8892c264e42ac374dfa2c5b3596",
    "time": "2021-02-09T11:50:51.915Z",
    "type": "completion"
   },
   {
    "id": "e207d4482d584e89b09c5391b470f480",
    "time": "2021-02-09T11:50:53.414Z",
    "type": "completion"
   },
   {
    "code": "ols_5 = smf.ols(formula='RAV4Sales ~ April + Unemployment + RAV4Queries + CPIAll + CPIEnergy', data = Rav4_train_mf2)\nmodel_5 = ols_5.fit()\nprint(model_5.summary())\n",
    "id": "e207d4482d584e89b09c5391b470f480",
    "idx": 25,
    "time": "2021-02-09T11:59:32.109Z",
    "type": "execution"
   },
   {
    "id": "e207d4482d584e89b09c5391b470f480",
    "time": "2021-02-09T11:59:32.850Z",
    "type": "completion"
   },
   {
    "code": "ols_5 = smf.ols(formula='RAV4Sales ~ Apr + Unemployment + RAV4Queries + CPIAll + CPIEnergy', data = Rav4_train_mf2)\nmodel_5 = ols_5.fit()\nprint(model_5.summary())\n",
    "id": "e207d4482d584e89b09c5391b470f480",
    "idx": 25,
    "time": "2021-02-09T12:00:17.655Z",
    "type": "execution"
   },
   {
    "id": "e207d4482d584e89b09c5391b470f480",
    "time": "2021-02-09T12:00:17.889Z",
    "type": "completion"
   },
   {
    "code": "ols_5 = smf.ols(formula='RAV4Sales ~ Jan + Feb + Unemployment + RAV4Queries + CPIAll + CPIEnergy', data = Rav4_train_mf2)\nmodel_5 = ols_5.fit()\nprint(model_5.summary())\n",
    "id": "e207d4482d584e89b09c5391b470f480",
    "idx": 25,
    "time": "2021-02-09T12:02:05.004Z",
    "type": "execution"
   },
   {
    "id": "e207d4482d584e89b09c5391b470f480",
    "time": "2021-02-09T12:02:05.238Z",
    "type": "completion"
   },
   {
    "code": "Rav4_train2 = Rav4_train[(Rav4_train['MonthFactor'] == 'January') | (Rav4_train['MonthFactor'] == 'February')]\ng = sns.lineplot(x=\"Year\", y=\"RAV4Sales\", hue=\"MonthFactor\", data=Rav4_train2).set_title(\"RAV4 Sales for Jan and Feb\")\nplt.legend(bbox_to_anchor=(1.05, 1), loc=2, borderaxespad=0.)",
    "id": "e239a3804a6f4d43819133db05d539ac",
    "idx": 22,
    "time": "2021-02-09T12:05:29.885Z",
    "type": "execution"
   },
   {
    "id": "e239a3804a6f4d43819133db05d539ac",
    "time": "2021-02-09T12:05:31.134Z",
    "type": "completion"
   },
   {
    "code": "#Using One hot encoding to use specific MonthFactors\nfrom sklearn.feature_extraction import DictVectorizer\nall_columns = ['MonthFactor', 'Year', 'RAV4Sales', 'Unemployment', \n               'RAV4Queries', 'CPIAll','CPIEnergy']\n\nrecords = Rav4_train[all_columns].to_dict(orient='records')\nencoder = DictVectorizer(sparse=False)\nencoded_X = encoder.fit_transform(records)\nencoded_X",
    "id": "88a367fef53c437b8ead07204c532e3a",
    "idx": 23,
    "time": "2021-02-09T12:05:35.048Z",
    "type": "execution"
   },
   {
    "id": "88a367fef53c437b8ead07204c532e3a",
    "time": "2021-02-09T12:05:35.244Z",
    "type": "completion"
   },
   {
    "code": "#To get a better sense of the transformed data, we display it with the column names\nRav4_train_mf = pd.DataFrame(data=encoded_X, columns=encoder.feature_names_)\nRav4_train_mf2 = Rav4_train_mf.rename(columns={\"MonthFactor=January\": \"Jan\",\n                                               \"MonthFactor=February\": \"Feb\",\n                                               \"MonthFactor=March\": \"Mar\",\n                                               \"MonthFactor=April\": \"Apr\",\n                                               \"MonthFactor=May\": \"May\",\n                                               \"MonthFactor=June\": \"Jun\",\n                                               \"MonthFactor=July\": \"Jul\",\n                                               \"MonthFactor=August\": \"Aug\",\n                                               \"MonthFactor=September\": \"Sep\",\n                                               \"MonthFactor=October\": \"Oct\",\n                                               \"MonthFactor=November\": \"Nov\",\n                                               \"MonthFactor=December\": \"Dec\"})\nRav4_train_mf2.head()",
    "id": "112db8892c264e42ac374dfa2c5b3596",
    "idx": 24,
    "time": "2021-02-09T12:05:39.234Z",
    "type": "execution"
   },
   {
    "id": "112db8892c264e42ac374dfa2c5b3596",
    "time": "2021-02-09T12:05:39.643Z",
    "type": "completion"
   },
   {
    "code": "#\nols_5 = smf.ols(formula='RAV4Sales ~ Feb + Unemployment + RAV4Queries + CPIAll + CPIEnergy', data = Rav4_train_mf2)\nmodel_5 = ols_5.fit()\nprint(model_5.summary())",
    "id": "e207d4482d584e89b09c5391b470f480",
    "idx": 25,
    "time": "2021-02-09T12:05:46.722Z",
    "type": "execution"
   },
   {
    "id": "e207d4482d584e89b09c5391b470f480",
    "time": "2021-02-09T12:05:47.082Z",
    "type": "completion"
   },
   {
    "code": "#Adding Jan and Feb as a feature to our new model\nols_5 = smf.ols(formula='RAV4Sales ~ Jan + Feb + Unemployment + RAV4Queries + CPIAll + CPIEnergy', data = Rav4_train_mf2)\nmodel_5 = ols_5.fit()\nprint(model_5.summary())",
    "id": "e207d4482d584e89b09c5391b470f480",
    "idx": 25,
    "time": "2021-02-09T12:08:00.027Z",
    "type": "execution"
   },
   {
    "id": "e207d4482d584e89b09c5391b470f480",
    "time": "2021-02-09T12:08:00.254Z",
    "type": "completion"
   },
   {
    "code": "cols_5 = ['Jan', 'Feb', 'Unemployment','RAV4Queries', 'CPIAll', 'CPIEnergy']\nVIF(Rav4_train_mf2, cols_5)",
    "id": "a23e510e5a6749e69eb0ca42b412c909",
    "idx": 26,
    "time": "2021-02-09T12:09:05.823Z",
    "type": "execution"
   },
   {
    "id": "a23e510e5a6749e69eb0ca42b412c909",
    "time": "2021-02-09T12:09:06.618Z",
    "type": "completion"
   },
   {
    "code": "#b \n#Construct a new linear regression model using theMonthFactorvariable as an independentvariable, in addition to all four of the variables you used at the start of part(a)\n#Adding Jan and Feb as a feature to our new model\nols_4 = smf.ols(formula='RAV4Sales ~ Jan + Feb + Unemployment + RAV4Queries + CPIAll + CPIEnergy', data = Rav4_train_mf2)\nmodel_4 = ols_4.fit()\nprint(model_4.summary())",
    "id": "e207d4482d584e89b09c5391b470f480",
    "idx": 23,
    "time": "2021-02-09T12:15:14.032Z",
    "type": "execution"
   },
   {
    "id": "e207d4482d584e89b09c5391b470f480",
    "time": "2021-02-09T12:15:14.396Z",
    "type": "completion"
   },
   {
    "code": "cols_4 = ['Jan', 'Feb', 'Unemployment','RAV4Queries', 'CPIAll', 'CPIEnergy']\nVIF(Rav4_train_mf2, cols_4)",
    "id": "a23e510e5a6749e69eb0ca42b412c909",
    "idx": 24,
    "time": "2021-02-09T12:15:25.732Z",
    "type": "execution"
   },
   {
    "id": "a23e510e5a6749e69eb0ca42b412c909",
    "time": "2021-02-09T12:15:25.936Z",
    "type": "completion"
   },
   {
    "code": "#b \n#Construct a new linear regression model using theMonthFactorvariable as an independentvariable, in addition to all four of the variables you used at the start of part(a)\n#Adding Jan and Feb as a feature to our new model\nols_4 = smf.ols(formula='RAV4Sales ~ MonthFactor + Unemployment + RAV4Queries + CPIAll + CPIEnergy', data = Rav4_train_mf2)\nmodel_4 = ols_4.fit()\nprint(model_4.summary())",
    "id": "e207d4482d584e89b09c5391b470f480",
    "idx": 23,
    "time": "2021-02-09T12:16:44.831Z",
    "type": "execution"
   },
   {
    "id": "e207d4482d584e89b09c5391b470f480",
    "time": "2021-02-09T12:16:45.547Z",
    "type": "completion"
   },
   {
    "code": "#b \n#Construct a new linear regression model using theMonthFactorvariable as an independentvariable, in addition to all four of the variables you used at the start of part(a)\n#Adding Jan and Feb as a feature to our new model\nols_4 = smf.ols(formula='RAV4Sales ~ MonthFactor + Unemployment + RAV4Queries + CPIAll + CPIEnergy', data = Rav4_train_mf)\nmodel_4 = ols_4.fit()\nprint(model_4.summary())",
    "id": "e207d4482d584e89b09c5391b470f480",
    "idx": 23,
    "time": "2021-02-09T12:16:54.664Z",
    "type": "execution"
   },
   {
    "id": "e207d4482d584e89b09c5391b470f480",
    "time": "2021-02-09T12:16:55.366Z",
    "type": "completion"
   },
   {
    "code": "#b \n#Construct a new linear regression model using theMonthFactorvariable as an independentvariable, in addition to all four of the variables you used at the start of part(a)\n#Adding Jan and Feb as a feature to our new model\nols_4 = smf.ols(formula='RAV4Sales ~ MonthFactor + Unemployment + RAV4Queries + CPIAll + CPIEnergy', data = Rav4_train)\nmodel_4 = ols_4.fit()\nprint(model_4.summary())",
    "id": "e207d4482d584e89b09c5391b470f480",
    "idx": 23,
    "time": "2021-02-09T12:17:20.695Z",
    "type": "execution"
   },
   {
    "id": "e207d4482d584e89b09c5391b470f480",
    "time": "2021-02-09T12:17:22.159Z",
    "type": "completion"
   },
   {
    "code": "ols_2 = smf.ols(formula='RAV4Sales ~ RAV4Queries + CPIAll + CPIEnergy ', data = Rav4_train)\nmodel_2 = ols_2.fit()\nprint(model_2.summary())",
    "id": "b064c53583b849df8939df8473179d19",
    "idx": 10,
    "time": "2021-02-09T12:44:13.053Z",
    "type": "execution"
   },
   {
    "id": "b064c53583b849df8939df8473179d19",
    "time": "2021-02-09T12:44:13.282Z",
    "type": "completion"
   },
   {
    "code": "cols_2 = ['RAV4Queries', 'CPIAll', 'CPIEnergy']\nVIF(Rav4_train, cols_2)",
    "id": "039dd4ebf74343498eaa4764248fab73",
    "idx": 11,
    "time": "2021-02-09T12:44:15.659Z",
    "type": "execution"
   },
   {
    "id": "039dd4ebf74343498eaa4764248fab73",
    "time": "2021-02-09T12:44:15.879Z",
    "type": "completion"
   },
   {
    "code": "#Plot the sales of RAV4 versus Year, by different months\nimport seaborn as sns\nimport matplotlib.pyplot as plt\nsns.set_theme(style=\"darkgrid\")\n# Load an example dataset with long-form data\nfmri = sns.load_dataset(\"fmri\")\n\n# Plot the responses for different events and regions\ng = sns.lineplot(x=\"Year\", y=\"RAV4Sales\", hue=\"MonthFactor\", data=Rav4_train)\nplt.legend(bbox_to_anchor=(1.05, 1), loc=2, borderaxespad=0.)",
    "id": "e8af1ac3bc844b2881c545416350c7a7",
    "idx": 18,
    "time": "2021-02-09T12:45:51.046Z",
    "type": "execution"
   },
   {
    "code": "Rav4_train2 = Rav4_train[(Rav4_train['MonthFactor'] == 'January') | (Rav4_train['MonthFactor'] == 'February')]\ng = sns.lineplot(x=\"Year\", y=\"RAV4Sales\", hue=\"MonthFactor\", data=Rav4_train2).set_title(\"RAV4 Sales for Jan and Feb\")\nplt.legend(bbox_to_anchor=(1.05, 1), loc=2, borderaxespad=0.)",
    "id": "e239a3804a6f4d43819133db05d539ac",
    "idx": 19,
    "time": "2021-02-09T12:45:51.710Z",
    "type": "execution"
   },
   {
    "id": "e8af1ac3bc844b2881c545416350c7a7",
    "time": "2021-02-09T12:45:53.411Z",
    "type": "completion"
   },
   {
    "id": "e239a3804a6f4d43819133db05d539ac",
    "time": "2021-02-09T12:45:53.727Z",
    "type": "completion"
   },
   {
    "code": "#Using One hot encoding to use specific MonthFactors\nfrom sklearn.feature_extraction import DictVectorizer\nall_columns = ['MonthFactor', 'Year', 'RAV4Sales', 'Unemployment', \n               'RAV4Queries', 'CPIAll','CPIEnergy']\n\nrecords = Rav4_train[all_columns].to_dict(orient='records')\nencoder = DictVectorizer(sparse=False)\nencoded_X = encoder.fit_transform(records)\nencoded_X",
    "id": "88a367fef53c437b8ead07204c532e3a",
    "idx": 20,
    "time": "2021-02-09T12:45:58.051Z",
    "type": "execution"
   },
   {
    "id": "88a367fef53c437b8ead07204c532e3a",
    "time": "2021-02-09T12:45:58.280Z",
    "type": "completion"
   },
   {
    "code": "#b \n#Construct a new linear regression model using theMonthFactorvariable as an independentvariable, in addition to all four of the variables you used at the start of part(a)\nols_4 = smf.ols(formula='RAV4Sales ~ MonthFactor + Unemployment + RAV4Queries + CPIAll + CPIEnergy', data = Rav4_train)\nmodel_4 = ols_4.fit()\nprint(model_4.summary())",
    "id": "e207d4482d584e89b09c5391b470f480",
    "idx": 22,
    "time": "2021-02-09T12:47:57.132Z",
    "type": "execution"
   },
   {
    "id": "e207d4482d584e89b09c5391b470f480",
    "time": "2021-02-09T12:47:57.542Z",
    "type": "completion"
   },
   {
    "code": "cols_4 = ['Jan', 'Feb', 'CPIAll', 'CPIEnergy']\nVIF(Rav4_train_mf2, cols_4)",
    "id": "a23e510e5a6749e69eb0ca42b412c909",
    "idx": 24,
    "time": "2021-02-09T12:48:37.693Z",
    "type": "execution"
   },
   {
    "id": "a23e510e5a6749e69eb0ca42b412c909",
    "time": "2021-02-09T12:48:37.894Z",
    "type": "completion"
   },
   {
    "code": "cols_4 = ['Jan', 'Feb', 'Unemployment','RAV4Queries', 'CPIAll', 'CPIEnergy']\nVIF(Rav4_train_mf2, cols_4)",
    "id": "a23e510e5a6749e69eb0ca42b412c909",
    "idx": 24,
    "time": "2021-02-09T12:49:13.718Z",
    "type": "execution"
   },
   {
    "id": "a23e510e5a6749e69eb0ca42b412c909",
    "time": "2021-02-09T12:49:14.402Z",
    "type": "completion"
   },
   {
    "code": "ols_final = smf.ols(formula='RAV4Sales ~ Jan + Feb + CPIAll + CPIEnergy', data = Rav4_train_mf2)\nmodel_final = ols_final.fit()\nprint(model_final.summary())",
    "id": "2e0d091f9c2e4eeba186dea1f16ee12a",
    "idx": 34,
    "time": "2021-02-09T12:52:12.828Z",
    "type": "execution"
   },
   {
    "id": "2e0d091f9c2e4eeba186dea1f16ee12a",
    "time": "2021-02-09T12:52:13.064Z",
    "type": "completion"
   },
   {
    "code": "# Compute out-of-sample R-squared using the test set\ndef OSR2(model, df_train, df_test, dependent_var):   \n    y_test = df_test[dependent_var]\n    y_pred = model.predict(df_test)\n    SSE = np.sum((y_test - y_pred)**2)\n    SST = np.sum((y_test - np.mean(df_train[dependent_var]))**2)    \n    return 1 - SSE/SST\n\nOSR2(model_final, Rav4_train, Rav4_test, 'RAV4Sales')",
    "id": "3399adb1ac6c4e8286b6fbcf8bb0567f",
    "idx": 35,
    "time": "2021-02-09T12:52:27.104Z",
    "type": "execution"
   },
   {
    "id": "3399adb1ac6c4e8286b6fbcf8bb0567f",
    "time": "2021-02-09T12:52:27.651Z",
    "type": "completion"
   },
   {
    "code": "# Compute out-of-sample R-squared using the test set\ndef OSR2(model, df_train, df_test, dependent_var):   \n    y_test = df_test[dependent_var]\n    y_pred = model.predict(df_test)\n    SSE = np.sum((y_test - y_pred)**2)\n    SST = np.sum((y_test - np.mean(df_train[dependent_var]))**2)    \n    return 1 - SSE/SST\n\nOSR2(model_final, Rav4_train_mf2, Rav4_test, 'RAV4Sales')",
    "id": "3399adb1ac6c4e8286b6fbcf8bb0567f",
    "idx": 35,
    "time": "2021-02-09T12:52:45.603Z",
    "type": "execution"
   },
   {
    "id": "3399adb1ac6c4e8286b6fbcf8bb0567f",
    "time": "2021-02-09T12:52:46.144Z",
    "type": "completion"
   },
   {
    "code": "# Compute out-of-sample R-squared using the test set\ndef OSR2(model, df_train, df_test, dependent_var):   \n    y_test = df_test[dependent_var]\n    y_pred = model.predict(df_test)\n    SSE = np.sum((y_test - y_pred)**2)\n    SST = np.sum((y_test - np.mean(df_train[dependent_var]))**2)    \n    return 1 - SSE/SST\n\nOSR2(model_final, Rav4_train, Rav4_test, 'RAV4Sales')",
    "id": "3399adb1ac6c4e8286b6fbcf8bb0567f",
    "idx": 35,
    "time": "2021-02-09T12:53:00.636Z",
    "type": "execution"
   },
   {
    "id": "3399adb1ac6c4e8286b6fbcf8bb0567f",
    "time": "2021-02-09T12:53:01.186Z",
    "type": "completion"
   },
   {
    "code": "# Compute out-of-sample R-squared using the test set\ndef OSR2(model, df_train, df_test, dependent_var):   \n    y_test = df_test[dependent_var]\n    y_pred = model.predict(df_test)\n    SSE = np.sum((y_test - y_pred)**2)\n    SST = np.sum((y_test - np.mean(df_train[dependent_var]))**2)    \n    return 1 - SSE/SST\n\nOSR2(model_final, Rav4_train_mf2, Rav4_test, 'RAV4Sales')",
    "id": "3399adb1ac6c4e8286b6fbcf8bb0567f",
    "idx": 35,
    "time": "2021-02-09T12:53:30.724Z",
    "type": "execution"
   },
   {
    "id": "3399adb1ac6c4e8286b6fbcf8bb0567f",
    "time": "2021-02-09T12:53:31.289Z",
    "type": "completion"
   },
   {
    "code": "ols_final = smf.ols(formula='RAV4Sales ~ Jan + Feb + CPIAll + CPIEnergy', data = Rav4_train_mf2)\nmodel_final = ols_final.fit()\nprint(model_final.summary())",
    "id": "2e0d091f9c2e4eeba186dea1f16ee12a",
    "idx": 34,
    "time": "2021-02-09T12:53:33.193Z",
    "type": "execution"
   },
   {
    "id": "2e0d091f9c2e4eeba186dea1f16ee12a",
    "time": "2021-02-09T12:53:33.404Z",
    "type": "completion"
   },
   {
    "code": "# Compute out-of-sample R-squared using the test set\ndef OSR2(model, df_train, df_test, dependent_var):   \n    y_test = df_test[dependent_var]\n    y_pred = model.predict(df_test)\n    SSE = np.sum((y_test - y_pred)**2)\n    SST = np.sum((y_test - np.mean(df_train[dependent_var]))**2)    \n    return 1 - SSE/SST\n\nOSR2(model_final, Rav4_train_mf2, Rav4_test, 'RAV4Sales')",
    "id": "3399adb1ac6c4e8286b6fbcf8bb0567f",
    "idx": 35,
    "time": "2021-02-09T12:53:34.023Z",
    "type": "execution"
   },
   {
    "id": "3399adb1ac6c4e8286b6fbcf8bb0567f",
    "time": "2021-02-09T12:53:34.528Z",
    "type": "completion"
   },
   {
    "code": "ols_final = smf.ols(formula='RAV4Sales ~ Jan + Feb + CPIAll + CPIEnergy', data = Rav4_train)\nmodel_final = ols_final.fit()\nprint(model_final.summary())",
    "id": "2e0d091f9c2e4eeba186dea1f16ee12a",
    "idx": 34,
    "time": "2021-02-09T12:54:25.977Z",
    "type": "execution"
   },
   {
    "id": "2e0d091f9c2e4eeba186dea1f16ee12a",
    "time": "2021-02-09T12:54:26.517Z",
    "type": "completion"
   },
   {
    "code": "ols_final = smf.ols(formula='RAV4Sales ~ Jan + Feb + CPIAll + CPIEnergy', data = Rav4_train_mf2)\nmodel_final = ols_final.fit()\nprint(model_final.summary())",
    "id": "2e0d091f9c2e4eeba186dea1f16ee12a",
    "idx": 34,
    "time": "2021-02-09T12:54:34.129Z",
    "type": "execution"
   },
   {
    "id": "2e0d091f9c2e4eeba186dea1f16ee12a",
    "time": "2021-02-09T12:54:34.352Z",
    "type": "completion"
   },
   {
    "code": "import numpy as np\nimport pandas as pd",
    "id": "3cc2e4dd9f714a7f830b946114556ab7",
    "idx": 0,
    "time": "2021-02-09T12:54:38.715Z",
    "type": "execution"
   },
   {
    "code": "#Loading data\nRav4 = pd.read_csv('RAV4-142-Spring2021.csv')\nRav4.info()",
    "id": "82573c5d5640428d8938c5170b2b4039",
    "idx": 1,
    "time": "2021-02-09T12:54:38.716Z",
    "type": "execution"
   },
   {
    "code": "Rav4.head()",
    "id": "99352c1a4a73477480231c91c4f116db",
    "idx": 2,
    "time": "2021-02-09T12:54:38.718Z",
    "type": "execution"
   },
   {
    "code": "# Problem 2\n# a) Start  by  splitting  the  data  into  a  training  set  and  testing  set. The trainingset should contain all observations for 2011 through 2016.  \n#The testing set should have allobservations for 2017 through 2020.\n\nRav4_train = Rav4[(Rav4['Year'] >= 2011) & (Rav4['Year'] <= 2016)]\nRav4_test = Rav4[(Rav4['Year'] >= 2017) & (Rav4['Year'] <= 2020)]\n\nRav4_train.head()",
    "id": "d108a1822ccc46a28c97048b2481b3b4",
    "idx": 3,
    "time": "2021-02-09T12:54:38.721Z",
    "type": "execution"
   },
   {
    "code": "#i) What  is  the  linear  regression  equation  produced  by  your  model,  and  how  should  one interpret the coefficients for the independent variables?  \n#Consider interpretability issues when  writing  down  the  equation  (e.g.,  do  not  just  copy  and  paste  the  output  from Python)",
    "id": "9b7b926e099f475e814756034ad9cc95",
    "idx": 4,
    "time": "2021-02-09T12:54:38.722Z",
    "type": "execution"
   },
   {
    "code": "import statsmodels.api as sm\nimport statsmodels.formula.api as smf\n\nols_1 = smf.ols(formula='RAV4Sales ~ Unemployment + RAV4Queries + CPIAll + CPIEnergy ', data = Rav4_train)\nmodel_1 = ols_1.fit()\nprint(model_1.summary())",
    "id": "c985d12836314d9bb8d67d426c061853",
    "idx": 6,
    "time": "2021-02-09T12:54:38.724Z",
    "type": "execution"
   },
   {
    "code": "#ii) How did you select the variables to include in your linear regression model?\nfrom statsmodels.stats.outliers_influence import variance_inflation_factor\n\ndef VIF(df, columns):\n    values = sm.add_constant(df[columns]).values\n    num_columns = len(columns)+1\n    vif = [variance_inflation_factor(values, i) for i in range(num_columns)]\n    return pd.Series(vif[1:], index=columns)",
    "id": "07af50daf30945e5881fc07ff7438b0b",
    "idx": 7,
    "time": "2021-02-09T12:54:38.725Z",
    "type": "execution"
   },
   {
    "code": "cols_1 = ['Unemployment', 'RAV4Queries', 'CPIAll', 'CPIEnergy']\nVIF(Rav4_train, cols_1)",
    "id": "a90a9190c969470eb91de2d8a6204e61",
    "idx": 8,
    "time": "2021-02-09T12:54:38.726Z",
    "type": "execution"
   },
   {
    "code": "ols_2 = smf.ols(formula='RAV4Sales ~ RAV4Queries + CPIAll + CPIEnergy ', data = Rav4_train)\nmodel_2 = ols_2.fit()\nprint(model_2.summary())",
    "id": "b064c53583b849df8939df8473179d19",
    "idx": 10,
    "time": "2021-02-09T12:54:38.727Z",
    "type": "execution"
   },
   {
    "code": "cols_2 = ['RAV4Queries', 'CPIAll', 'CPIEnergy']\nVIF(Rav4_train, cols_2)",
    "id": "039dd4ebf74343498eaa4764248fab73",
    "idx": 11,
    "time": "2021-02-09T12:54:38.729Z",
    "type": "execution"
   },
   {
    "code": "#iii) Do the signs of the models coefficients make sense?  Are you reasonably sure that thesigns are correct?",
    "id": "94450aabbfb54f9284ec1416ad7cc2fe",
    "idx": 13,
    "time": "2021-02-09T12:54:38.730Z",
    "type": "execution"
   },
   {
    "code": "#iv) How well does the model predict training set observations? Can you justify the models performance on the training data with a quantifiable metric?\nols_3 = smf.ols(formula='RAV4Sales ~ CPIAll + CPIEnergy', data = Rav4_train)\nmodel_3 = ols_3.fit()\nprint(model_3.summary())",
    "id": "ce6e2cd5889b412b8e6f6b790a0684a5",
    "idx": 15,
    "time": "2021-02-09T12:54:38.732Z",
    "type": "execution"
   },
   {
    "code": "cols_3 = ['CPIAll', 'CPIEnergy']\nVIF(Rav4_train, cols_3)",
    "id": "62f7f6339a4b4c8788c7fda1e298609b",
    "idx": 16,
    "time": "2021-02-09T12:54:38.733Z",
    "type": "execution"
   },
   {
    "code": "#Plot the sales of RAV4 versus Year, by different months\nimport seaborn as sns\nimport matplotlib.pyplot as plt\nsns.set_theme(style=\"darkgrid\")\n# Load an example dataset with long-form data\nfmri = sns.load_dataset(\"fmri\")\n\n# Plot the responses for different events and regions\ng = sns.lineplot(x=\"Year\", y=\"RAV4Sales\", hue=\"MonthFactor\", data=Rav4_train)\nplt.legend(bbox_to_anchor=(1.05, 1), loc=2, borderaxespad=0.)",
    "id": "e8af1ac3bc844b2881c545416350c7a7",
    "idx": 18,
    "time": "2021-02-09T12:54:38.734Z",
    "type": "execution"
   },
   {
    "code": "Rav4_train2 = Rav4_train[(Rav4_train['MonthFactor'] == 'January') | (Rav4_train['MonthFactor'] == 'February')]\ng = sns.lineplot(x=\"Year\", y=\"RAV4Sales\", hue=\"MonthFactor\", data=Rav4_train2).set_title(\"RAV4 Sales for Jan and Feb\")\nplt.legend(bbox_to_anchor=(1.05, 1), loc=2, borderaxespad=0.)",
    "id": "e239a3804a6f4d43819133db05d539ac",
    "idx": 19,
    "time": "2021-02-09T12:54:38.736Z",
    "type": "execution"
   },
   {
    "code": "#Using One hot encoding to use specific MonthFactors\nfrom sklearn.feature_extraction import DictVectorizer\nall_columns = ['MonthFactor', 'Year', 'RAV4Sales', 'Unemployment', \n               'RAV4Queries', 'CPIAll','CPIEnergy']\n\nrecords = Rav4_train[all_columns].to_dict(orient='records')\nencoder = DictVectorizer(sparse=False)\nencoded_X = encoder.fit_transform(records)\nencoded_X",
    "id": "88a367fef53c437b8ead07204c532e3a",
    "idx": 20,
    "time": "2021-02-09T12:54:38.737Z",
    "type": "execution"
   },
   {
    "code": "#To get a better sense of the transformed data, we display it with the column names\nRav4_train_mf = pd.DataFrame(data=encoded_X, columns=encoder.feature_names_)\nRav4_train_mf2 = Rav4_train_mf.rename(columns={\"MonthFactor=January\": \"Jan\",\n                                               \"MonthFactor=February\": \"Feb\",\n                                               \"MonthFactor=March\": \"Mar\",\n                                               \"MonthFactor=April\": \"Apr\",\n                                               \"MonthFactor=May\": \"May\",\n                                               \"MonthFactor=June\": \"Jun\",\n                                               \"MonthFactor=July\": \"Jul\",\n                                               \"MonthFactor=August\": \"Aug\",\n                                               \"MonthFactor=September\": \"Sep\",\n                                               \"MonthFactor=October\": \"Oct\",\n                                               \"MonthFactor=November\": \"Nov\",\n                                               \"MonthFactor=December\": \"Dec\"})\nRav4_train_mf2.head()",
    "id": "112db8892c264e42ac374dfa2c5b3596",
    "idx": 21,
    "time": "2021-02-09T12:54:38.738Z",
    "type": "execution"
   },
   {
    "code": "#b \n#Construct a new linear regression model using theMonthFactorvariable as an independentvariable, in addition to all four of the variables you used at the start of part(a)\nols_4 = smf.ols(formula='RAV4Sales ~ MonthFactor + Unemployment + RAV4Queries + CPIAll + CPIEnergy', data = Rav4_train)\nmodel_4 = ols_4.fit()\nprint(model_4.summary())",
    "id": "e207d4482d584e89b09c5391b470f480",
    "idx": 22,
    "time": "2021-02-09T12:54:38.739Z",
    "type": "execution"
   },
   {
    "code": "cols_4 = ['Jan', 'Feb', 'Unemployment','RAV4Queries', 'CPIAll', 'CPIEnergy']\nVIF(Rav4_train_mf2, cols_4)",
    "id": "a23e510e5a6749e69eb0ca42b412c909",
    "idx": 24,
    "time": "2021-02-09T12:54:38.741Z",
    "type": "execution"
   },
   {
    "code": "#b\n#i) Describe your new model. What is the regression equation? (Do not simply copy andpaste output  from  Python. How  should  one  interpret  the  coefficients  of  each  of  theMonthFactordummy variables?",
    "id": "6a38a2decf4d4b968fa1a5248af7c5e4",
    "idx": 25,
    "time": "2021-02-09T12:54:38.742Z",
    "type": "execution"
   },
   {
    "code": "#ii) What is the training set R^2 for the new model? Which variables are significant?",
    "id": "15bd14c56887458f82773e72896679d1",
    "idx": 27,
    "time": "2021-02-09T12:54:38.743Z",
    "type": "execution"
   },
   {
    "code": "#iii) Do you think adding the independent variable MonthFactor improves the quality of themodel?  Why or why not?",
    "id": "33d6fa8981a04de4baa79ffd304208ba",
    "idx": 29,
    "time": "2021-02-09T12:54:38.744Z",
    "type": "execution"
   },
   {
    "code": "#iv) Can you think of a different way that you might use the given data to model seasonality? Do you think your new way would improve on the best model you have constructed sofar? ",
    "id": "b4c3052cd8a2460fb0529287e0f3b79e",
    "idx": 31,
    "time": "2021-02-09T12:54:38.745Z",
    "type": "execution"
   },
   {
    "code": "#c) Build a final model using a subset of the independent variables used in parts(a)and(b), providing a brief justification for the variables selected.  What is the training set R2and theOSR2(this is theR2of your model on the test set)?  Do you think your model wouldbe useful to Toyota?  Why or why not?",
    "id": "d61f5cd5b18a467e8146adbffe4eeb3e",
    "idx": 33,
    "time": "2021-02-09T12:54:38.746Z",
    "type": "execution"
   },
   {
    "code": "ols_final = smf.ols(formula='RAV4Sales ~ Jan + Feb + CPIAll + CPIEnergy', data = Rav4_train_mf2)\nmodel_final = ols_final.fit()\nprint(model_final.summary())",
    "id": "2e0d091f9c2e4eeba186dea1f16ee12a",
    "idx": 34,
    "time": "2021-02-09T12:54:38.747Z",
    "type": "execution"
   },
   {
    "code": "# Compute out-of-sample R-squared using the test set\ndef OSR2(model, df_train, df_test, dependent_var):   \n    y_test = df_test[dependent_var]\n    y_pred = model.predict(df_test)\n    SSE = np.sum((y_test - y_pred)**2)\n    SST = np.sum((y_test - np.mean(df_train[dependent_var]))**2)    \n    return 1 - SSE/SST\n\nOSR2(model_final, Rav4_train, Rav4_test, 'RAV4Sales')",
    "id": "3399adb1ac6c4e8286b6fbcf8bb0567f",
    "idx": 35,
    "time": "2021-02-09T12:54:38.749Z",
    "type": "execution"
   },
   {
    "code": "#d) Now, build  a  new  regression  model  with  your  additional  chosen  feature  in  addition  to  thefeatures that you selected in part(c).  Does the new feature add any predictive value?  Justifyyour answer based on the results of your analysis.",
    "id": "f0d34c88859d438a88714b6d981d568b",
    "idx": 37,
    "time": "2021-02-09T12:54:38.750Z",
    "type": "execution"
   },
   {
    "code": "#Loading data\nweekly_gas = pd.read_csv('US Gasoline and Diesel Prices.csv')\n#weekly_gas.info()",
    "id": "b0cad3517a894475a4c700e0c0b11b94",
    "idx": 38,
    "time": "2021-02-09T12:54:38.751Z",
    "type": "execution"
   },
   {
    "code": "#Parse only the Year from the Date column \nweekly_gas = weekly_gas.iloc[:,0:2]\nweekly_gas['Year'] = pd.DatetimeIndex(weekly_gas['Date']).year\nweekly_gas_1 = weekly_gas.iloc[2:]\ndel weekly_gas_1['Date']",
    "id": "45b338e670be41e7b552530558d402c9",
    "idx": 40,
    "time": "2021-02-09T12:54:38.752Z",
    "type": "execution"
   },
   {
    "code": "#Make the constraints to be the same as our Rav4 train which is 2011 through 2016\nweekly_gas_train = weekly_gas_1[(weekly_gas['Year'] >= 2011 ) & (weekly_gas_1['Year'] <= 2016)]\n\n#Randomnly select 72 outputs as our Rav4 train also has 72 outputs\nweekly_gas_train = weekly_gas_train.sample(72)",
    "id": "dd9e9a34e2ab414fbc7fcfdc7a234ade",
    "idx": 41,
    "time": "2021-02-09T12:54:38.753Z",
    "type": "execution"
   },
   {
    "code": "#Link the A1 Values to our Rav4_train dataset\nRav4_train_final = Rav4_train.append(weekly_gas_train, ignore_index = True, sort = False)\n#Rav4_train_final = pd.concat([Rav4_train, weekly_gas_train], axis=1)\n#Rav4_train_final.sample(50)",
    "id": "6a5011ec09684c2c86da061d988e9248",
    "idx": 42,
    "time": "2021-02-09T12:54:38.754Z",
    "type": "execution"
   },
   {
    "code": "ols_new = smf.ols(formula='RAV4Sales ~ MonthFactor + Unemployment + RAV4Queries + CPIEnergy', data = Rav4_train_final)\nmodel_new = ols_new.fit()\nprint(model_new.summary())",
    "id": "d7476024694943fa93524297e35fd433",
    "idx": 43,
    "time": "2021-02-09T12:54:38.755Z",
    "type": "execution"
   },
   {
    "code": "#e) propose a loss function that accurately models this situation and explain your reasoning.",
    "id": "661edcbfee4e400f9cec3c267e67e093",
    "idx": 44,
    "time": "2021-02-09T12:54:38.755Z",
    "type": "execution"
   },
   {
    "id": "3cc2e4dd9f714a7f830b946114556ab7",
    "time": "2021-02-09T12:54:38.906Z",
    "type": "completion"
   },
   {
    "id": "82573c5d5640428d8938c5170b2b4039",
    "time": "2021-02-09T12:54:38.954Z",
    "type": "completion"
   },
   {
    "id": "99352c1a4a73477480231c91c4f116db",
    "time": "2021-02-09T12:54:39.082Z",
    "type": "completion"
   },
   {
    "id": "d108a1822ccc46a28c97048b2481b3b4",
    "time": "2021-02-09T12:54:39.086Z",
    "type": "completion"
   },
   {
    "id": "9b7b926e099f475e814756034ad9cc95",
    "time": "2021-02-09T12:54:39.119Z",
    "type": "completion"
   },
   {
    "id": "c985d12836314d9bb8d67d426c061853",
    "time": "2021-02-09T12:54:39.247Z",
    "type": "completion"
   },
   {
    "id": "07af50daf30945e5881fc07ff7438b0b",
    "time": "2021-02-09T12:54:39.254Z",
    "type": "completion"
   },
   {
    "id": "a90a9190c969470eb91de2d8a6204e61",
    "time": "2021-02-09T12:54:39.255Z",
    "type": "completion"
   },
   {
    "id": "b064c53583b849df8939df8473179d19",
    "time": "2021-02-09T12:54:39.298Z",
    "type": "completion"
   },
   {
    "id": "039dd4ebf74343498eaa4764248fab73",
    "time": "2021-02-09T12:54:39.299Z",
    "type": "completion"
   },
   {
    "id": "94450aabbfb54f9284ec1416ad7cc2fe",
    "time": "2021-02-09T12:54:39.414Z",
    "type": "completion"
   },
   {
    "id": "ce6e2cd5889b412b8e6f6b790a0684a5",
    "time": "2021-02-09T12:54:39.415Z",
    "type": "completion"
   },
   {
    "id": "62f7f6339a4b4c8788c7fda1e298609b",
    "time": "2021-02-09T12:54:39.416Z",
    "type": "completion"
   },
   {
    "id": "e8af1ac3bc844b2881c545416350c7a7",
    "time": "2021-02-09T12:54:40.409Z",
    "type": "completion"
   },
   {
    "id": "e239a3804a6f4d43819133db05d539ac",
    "time": "2021-02-09T12:54:40.591Z",
    "type": "completion"
   },
   {
    "id": "88a367fef53c437b8ead07204c532e3a",
    "time": "2021-02-09T12:54:40.593Z",
    "type": "completion"
   },
   {
    "id": "112db8892c264e42ac374dfa2c5b3596",
    "time": "2021-02-09T12:54:40.596Z",
    "type": "completion"
   },
   {
    "id": "e207d4482d584e89b09c5391b470f480",
    "time": "2021-02-09T12:54:40.735Z",
    "type": "completion"
   },
   {
    "id": "a23e510e5a6749e69eb0ca42b412c909",
    "time": "2021-02-09T12:54:40.739Z",
    "type": "completion"
   },
   {
    "id": "6a38a2decf4d4b968fa1a5248af7c5e4",
    "time": "2021-02-09T12:54:40.740Z",
    "type": "completion"
   },
   {
    "id": "15bd14c56887458f82773e72896679d1",
    "time": "2021-02-09T12:54:40.740Z",
    "type": "completion"
   },
   {
    "id": "33d6fa8981a04de4baa79ffd304208ba",
    "time": "2021-02-09T12:54:40.741Z",
    "type": "completion"
   },
   {
    "id": "b4c3052cd8a2460fb0529287e0f3b79e",
    "time": "2021-02-09T12:54:40.742Z",
    "type": "completion"
   },
   {
    "id": "d61f5cd5b18a467e8146adbffe4eeb3e",
    "time": "2021-02-09T12:54:40.742Z",
    "type": "completion"
   },
   {
    "id": "2e0d091f9c2e4eeba186dea1f16ee12a",
    "time": "2021-02-09T12:54:40.886Z",
    "type": "completion"
   },
   {
    "id": "3399adb1ac6c4e8286b6fbcf8bb0567f",
    "time": "2021-02-09T12:54:41.067Z",
    "type": "completion"
   },
   {
    "id": "f0d34c88859d438a88714b6d981d568b",
    "time": "2021-02-09T12:54:41.069Z",
    "type": "completion"
   },
   {
    "id": "b0cad3517a894475a4c700e0c0b11b94",
    "time": "2021-02-09T12:54:41.210Z",
    "type": "completion"
   },
   {
    "id": "45b338e670be41e7b552530558d402c9",
    "time": "2021-02-09T12:54:41.212Z",
    "type": "completion"
   },
   {
    "id": "dd9e9a34e2ab414fbc7fcfdc7a234ade",
    "time": "2021-02-09T12:54:41.213Z",
    "type": "completion"
   },
   {
    "id": "6a5011ec09684c2c86da061d988e9248",
    "time": "2021-02-09T12:54:41.213Z",
    "type": "completion"
   },
   {
    "id": "d7476024694943fa93524297e35fd433",
    "time": "2021-02-09T12:54:41.213Z",
    "type": "completion"
   },
   {
    "id": "661edcbfee4e400f9cec3c267e67e093",
    "time": "2021-02-09T12:54:41.214Z",
    "type": "completion"
   },
   {
    "code": "ols_final = smf.ols(formula='RAV4Sales ~ Jan + CPIAll + CPIEnergy', data = Rav4_train_mf2)\nmodel_final = ols_final.fit()\nprint(model_final.summary())",
    "id": "2e0d091f9c2e4eeba186dea1f16ee12a",
    "idx": 34,
    "time": "2021-02-09T12:55:11.380Z",
    "type": "execution"
   },
   {
    "id": "2e0d091f9c2e4eeba186dea1f16ee12a",
    "time": "2021-02-09T12:55:11.595Z",
    "type": "completion"
   },
   {
    "code": "# Compute out-of-sample R-squared using the test set\ndef OSR2(model, df_train, df_test, dependent_var):   \n    y_test = df_test[dependent_var]\n    y_pred = model.predict(df_test)\n    SSE = np.sum((y_test - y_pred)**2)\n    SST = np.sum((y_test - np.mean(df_train[dependent_var]))**2)    \n    return 1 - SSE/SST\n\nOSR2(model_final, Rav4_train, Rav4_test, 'RAV4Sales')",
    "id": "3399adb1ac6c4e8286b6fbcf8bb0567f",
    "idx": 35,
    "time": "2021-02-09T12:55:13.346Z",
    "type": "execution"
   },
   {
    "id": "3399adb1ac6c4e8286b6fbcf8bb0567f",
    "time": "2021-02-09T12:55:13.725Z",
    "type": "completion"
   },
   {
    "code": "ols_final = smf.ols(formula='RAV4Sales ~ MonthFactor + CPIAll + CPIEnergy', data = Rav4_train)\nmodel_final = ols_final.fit()\nprint(model_final.summary())",
    "id": "2e0d091f9c2e4eeba186dea1f16ee12a",
    "idx": 34,
    "time": "2021-02-09T12:55:53.494Z",
    "type": "execution"
   },
   {
    "id": "2e0d091f9c2e4eeba186dea1f16ee12a",
    "time": "2021-02-09T12:55:53.721Z",
    "type": "completion"
   },
   {
    "code": "# Compute out-of-sample R-squared using the test set\ndef OSR2(model, df_train, df_test, dependent_var):   \n    y_test = df_test[dependent_var]\n    y_pred = model.predict(df_test)\n    SSE = np.sum((y_test - y_pred)**2)\n    SST = np.sum((y_test - np.mean(df_train[dependent_var]))**2)    \n    return 1 - SSE/SST\n\nOSR2(model_final, Rav4_train, Rav4_test, 'RAV4Sales')",
    "id": "3399adb1ac6c4e8286b6fbcf8bb0567f",
    "idx": 35,
    "time": "2021-02-09T12:55:56.425Z",
    "type": "execution"
   },
   {
    "id": "3399adb1ac6c4e8286b6fbcf8bb0567f",
    "time": "2021-02-09T12:55:56.623Z",
    "type": "completion"
   },
   {
    "code": "ols_5 = smf.ols(formula='RAV4Sales ~ Jan + Feb + CPIAll + CPIEnergy', data = Rav4_train_mf2)\nmodel_5 = ols_5.fit()\nprint(model_5.summary())",
    "id": "206f6d5b743e4ac494c50609651f066d",
    "idx": 24,
    "time": "2021-02-09T12:56:42.538Z",
    "type": "execution"
   },
   {
    "id": "206f6d5b743e4ac494c50609651f066d",
    "time": "2021-02-09T12:56:42.787Z",
    "type": "completion"
   },
   {
    "code": "cols_5 = ['Jan', 'Feb', 'CPIAll', 'CPIEnergy']\nVIF(Rav4_train_mf2, cols_5)",
    "id": "a23e510e5a6749e69eb0ca42b412c909",
    "idx": 25,
    "time": "2021-02-09T12:57:03.957Z",
    "type": "execution"
   },
   {
    "id": "a23e510e5a6749e69eb0ca42b412c909",
    "time": "2021-02-09T12:57:04.170Z",
    "type": "completion"
   },
   {
    "code": "ols_5 = smf.ols(formula='RAV4Sales ~ Jan + Feb + CPIAll + CPIEnergy', data = Rav4_train_mf2)\nmodel_5 = ols_5.fit()\nprint(model_5.summary())",
    "id": "206f6d5b743e4ac494c50609651f066d",
    "idx": 24,
    "time": "2021-02-09T13:03:39.449Z",
    "type": "execution"
   },
   {
    "id": "206f6d5b743e4ac494c50609651f066d",
    "time": "2021-02-09T13:03:39.666Z",
    "type": "completion"
   },
   {
    "code": "cols_5 = ['Jan', 'Feb', 'CPIAll', 'CPIEnergy']\nVIF(Rav4_train_mf2, cols_5)",
    "id": "a23e510e5a6749e69eb0ca42b412c909",
    "idx": 25,
    "time": "2021-02-09T13:03:47.170Z",
    "type": "execution"
   },
   {
    "id": "a23e510e5a6749e69eb0ca42b412c909",
    "time": "2021-02-09T13:03:47.383Z",
    "type": "completion"
   },
   {
    "code": "#d) Now, build  a  new  regression  model  with  your  additional  chosen  feature  in  addition  to  thefeatures that you selected in part(c).  Does the new feature add any predictive value?  Justifyyour answer based on the results of your analysis.",
    "id": "f0d34c88859d438a88714b6d981d568b",
    "idx": 38,
    "time": "2021-02-09T13:05:15.276Z",
    "type": "execution"
   },
   {
    "id": "f0d34c88859d438a88714b6d981d568b",
    "time": "2021-02-09T13:05:15.472Z",
    "type": "completion"
   },
   {
    "code": "#Loading data\nweekly_gas = pd.read_csv('US Gasoline and Diesel Prices.csv')\n#weekly_gas.info()",
    "id": "b0cad3517a894475a4c700e0c0b11b94",
    "idx": 39,
    "time": "2021-02-09T13:05:15.846Z",
    "type": "execution"
   },
   {
    "id": "b0cad3517a894475a4c700e0c0b11b94",
    "time": "2021-02-09T13:05:16.033Z",
    "type": "completion"
   },
   {
    "code": "#Parse only the Year from the Date column \nweekly_gas = weekly_gas.iloc[:,0:2]\nweekly_gas['Year'] = pd.DatetimeIndex(weekly_gas['Date']).year\nweekly_gas_1 = weekly_gas.iloc[2:]\ndel weekly_gas_1['Date']",
    "id": "45b338e670be41e7b552530558d402c9",
    "idx": 41,
    "time": "2021-02-09T13:05:17.922Z",
    "type": "execution"
   },
   {
    "id": "45b338e670be41e7b552530558d402c9",
    "time": "2021-02-09T13:05:18.112Z",
    "type": "completion"
   },
   {
    "code": "#Make the constraints to be the same as our Rav4 train which is 2011 through 2016\nweekly_gas_train = weekly_gas_1[(weekly_gas['Year'] >= 2011 ) & (weekly_gas_1['Year'] <= 2016)]\n\n#Randomnly select 72 outputs as our Rav4 train also has 72 outputs\nweekly_gas_train = weekly_gas_train.sample(72)",
    "id": "dd9e9a34e2ab414fbc7fcfdc7a234ade",
    "idx": 42,
    "time": "2021-02-09T13:05:18.867Z",
    "type": "execution"
   },
   {
    "id": "dd9e9a34e2ab414fbc7fcfdc7a234ade",
    "time": "2021-02-09T13:05:20.031Z",
    "type": "completion"
   },
   {
    "code": "#Link the A1 Values to our Rav4_train dataset\nRav4_train_final = Rav4_train.append(weekly_gas_train, ignore_index = True, sort = False)\n#Rav4_train_final = pd.concat([Rav4_train, weekly_gas_train], axis=1)\nRav4_train_final.sample(50)",
    "id": "6a5011ec09684c2c86da061d988e9248",
    "idx": 43,
    "time": "2021-02-09T13:05:31.137Z",
    "type": "execution"
   },
   {
    "id": "6a5011ec09684c2c86da061d988e9248",
    "time": "2021-02-09T13:05:31.569Z",
    "type": "completion"
   },
   {
    "code": "#Link the A1 Values to our Rav4_train dataset\nRav4_train_final = Rav4_train_mf2.append(weekly_gas_train, ignore_index = True, sort = False)\n#Rav4_train_final = pd.concat([Rav4_train, weekly_gas_train], axis=1)\n#Rav4_train_final.sample(50)",
    "id": "6a5011ec09684c2c86da061d988e9248",
    "idx": 43,
    "time": "2021-02-09T13:07:04.216Z",
    "type": "execution"
   },
   {
    "id": "6a5011ec09684c2c86da061d988e9248",
    "time": "2021-02-09T13:07:04.412Z",
    "type": "completion"
   },
   {
    "code": "#Link the A1 Values to our Rav4_train dataset\nRav4_train_final = Rav4_train_mf2.append(weekly_gas_train, ignore_index = True, sort = False)\n#Rav4_train_final = pd.concat([Rav4_train, weekly_gas_train], axis=1)\nRav4_train_final.sample(50)",
    "id": "6a5011ec09684c2c86da061d988e9248",
    "idx": 43,
    "time": "2021-02-09T13:07:07.006Z",
    "type": "execution"
   },
   {
    "id": "6a5011ec09684c2c86da061d988e9248",
    "time": "2021-02-09T13:07:07.503Z",
    "type": "completion"
   },
   {
    "code": "#Link the A1 Values to our Rav4_train dataset\nRav4_train_final = Rav4_train.append(weekly_gas_train, ignore_index = True, sort = False)\n#Rav4_train_final = pd.concat([Rav4_train, weekly_gas_train], axis=1)\nRav4_train_final.sample(50)",
    "id": "6a5011ec09684c2c86da061d988e9248",
    "idx": 43,
    "time": "2021-02-09T13:07:25.000Z",
    "type": "execution"
   },
   {
    "id": "6a5011ec09684c2c86da061d988e9248",
    "time": "2021-02-09T13:07:25.431Z",
    "type": "completion"
   },
   {
    "code": "#Link the A1 Values to our Rav4_train dataset\nRav4_train_final = Rav4_train.append(weekly_gas_train, ignore_index = True, sort = False)\n#Rav4_train_final = pd.concat([Rav4_train, weekly_gas_train], axis=1)\n#Rav4_train_final.sample(50)",
    "id": "6a5011ec09684c2c86da061d988e9248",
    "idx": 43,
    "time": "2021-02-09T13:07:28.765Z",
    "type": "execution"
   },
   {
    "id": "6a5011ec09684c2c86da061d988e9248",
    "time": "2021-02-09T13:07:28.945Z",
    "type": "completion"
   },
   {
    "code": "ols_new = smf.ols(formula='RAV4Sales ~ A1 + MonthFactor + CPIAll + CPIEnergy', data = Rav4_train_final)\nmodel_new = ols_new.fit()\nprint(model_new.summary())",
    "id": "d7476024694943fa93524297e35fd433",
    "idx": 44,
    "time": "2021-02-09T13:07:33.309Z",
    "type": "execution"
   },
   {
    "id": "d7476024694943fa93524297e35fd433",
    "time": "2021-02-09T13:07:33.863Z",
    "type": "completion"
   },
   {
    "code": "#Make the constraints to be the same as our Rav4 train which is 2011 through 2016\nweekly_gas_train = weekly_gas_1[(weekly_gas['Year'] >= 2011 ) & (weekly_gas_1['Year'] <= 2016)]\n\n#Randomnly select 72 outputs as our Rav4 train also has 72 outputs\nweekly_gas_train.sample(50)\n#weekly_gas_train = weekly_gas_train.sample(72)",
    "id": "dd9e9a34e2ab414fbc7fcfdc7a234ade",
    "idx": 42,
    "time": "2021-02-09T13:10:43.626Z",
    "type": "execution"
   },
   {
    "id": "dd9e9a34e2ab414fbc7fcfdc7a234ade",
    "time": "2021-02-09T13:10:43.847Z",
    "type": "completion"
   },
   {
    "code": "#Link the A1 Values to our Rav4_train dataset\nRav4_train_final = Rav4_train.append(weekly_gas_train, ignore_index = True, sort = False)\n#Rav4_train_final = pd.concat([Rav4_train, weekly_gas_train], axis=1)\n#Rav4_train_final.sample(50)",
    "id": "6a5011ec09684c2c86da061d988e9248",
    "idx": 43,
    "time": "2021-02-09T13:10:57.905Z",
    "type": "execution"
   },
   {
    "id": "6a5011ec09684c2c86da061d988e9248",
    "time": "2021-02-09T13:10:58.099Z",
    "type": "completion"
   },
   {
    "code": "ols_new = smf.ols(formula='RAV4Sales ~ A1 + MonthFactor + CPIAll + CPIEnergy', data = Rav4_train_final)\nmodel_new = ols_new.fit()\nprint(model_new.summary())",
    "id": "d7476024694943fa93524297e35fd433",
    "idx": 44,
    "time": "2021-02-09T13:10:59.831Z",
    "type": "execution"
   },
   {
    "id": "d7476024694943fa93524297e35fd433",
    "time": "2021-02-09T13:11:00.256Z",
    "type": "completion"
   },
   {
    "code": "#Link the A1 Values to our Rav4_train dataset\nRav4_train_final = Rav4_train.append(weekly_gas_train)\n#Rav4_train_final = Rav4_train.append(weekly_gas_train, ignore_index = True, sort = False)\n#Rav4_train_final = pd.concat([Rav4_train, weekly_gas_train], axis=1)\n#Rav4_train_final.sample(50)",
    "id": "6a5011ec09684c2c86da061d988e9248",
    "idx": 43,
    "time": "2021-02-09T13:12:53.271Z",
    "type": "execution"
   },
   {
    "id": "6a5011ec09684c2c86da061d988e9248",
    "time": "2021-02-09T13:12:53.463Z",
    "type": "completion"
   },
   {
    "code": "ols_new = smf.ols(formula='RAV4Sales ~ A1 + MonthFactor + CPIAll + CPIEnergy', data = Rav4_train_final)\nmodel_new = ols_new.fit()\nprint(model_new.summary())",
    "id": "d7476024694943fa93524297e35fd433",
    "idx": 44,
    "time": "2021-02-09T13:12:54.980Z",
    "type": "execution"
   },
   {
    "id": "d7476024694943fa93524297e35fd433",
    "time": "2021-02-09T13:12:55.417Z",
    "type": "completion"
   },
   {
    "code": "#Link the A1 Values to our Rav4_train dataset\nRav4_train_final = Rav4_train.append(weekly_gas_train)\n#Rav4_train_final = Rav4_train.append(weekly_gas_train, ignore_index = True, sort = False)\n#Rav4_train_final = pd.concat([Rav4_train, weekly_gas_train], axis=1)\nRav4_train_final.sample(50)",
    "id": "6a5011ec09684c2c86da061d988e9248",
    "idx": 43,
    "time": "2021-02-09T13:14:00.379Z",
    "type": "execution"
   },
   {
    "id": "6a5011ec09684c2c86da061d988e9248",
    "time": "2021-02-09T13:14:00.830Z",
    "type": "completion"
   },
   {
    "code": "#Link the A1 Values to our Rav4_train dataset\nRav4_train_final = Rav4_train.append(weekly_gas_train)\n#Rav4_train_final = Rav4_train.append(weekly_gas_train, ignore_index = True, sort = False)\n#Rav4_train_final = pd.concat([Rav4_train, weekly_gas_train], axis=1)\nRav4_train_final.sample(50)\n\nRav4_train['A1'] = pd.Series(Rav4_train_final['A1'])\nprint Rav4_train\n\n#df1['column_name'] = df2['column_name'].values",
    "id": "6a5011ec09684c2c86da061d988e9248",
    "idx": 43,
    "time": "2021-02-09T13:17:22.752Z",
    "type": "execution"
   },
   {
    "id": "6a5011ec09684c2c86da061d988e9248",
    "time": "2021-02-09T13:17:22.933Z",
    "type": "completion"
   },
   {
    "code": "#Link the A1 Values to our Rav4_train dataset\nRav4_train_final = Rav4_train.append(weekly_gas_train)\n#Rav4_train_final = Rav4_train.append(weekly_gas_train, ignore_index = True, sort = False)\n#Rav4_train_final = pd.concat([Rav4_train, weekly_gas_train], axis=1)\nRav4_train_final.sample(50)\n\nRav4_train['A1'] = pd.Series(Rav4_train_final['A1'])\nprint(Rav4_train)\n\n#df1['column_name'] = df2['column_name'].values",
    "id": "6a5011ec09684c2c86da061d988e9248",
    "idx": 43,
    "time": "2021-02-09T13:17:31.385Z",
    "type": "execution"
   },
   {
    "id": "6a5011ec09684c2c86da061d988e9248",
    "time": "2021-02-09T13:17:31.608Z",
    "type": "completion"
   },
   {
    "code": "ols_new = smf.ols(formula='RAV4Sales ~ A1 + MonthFactor + CPIAll + CPIEnergy', data = Rav4_train_final)\nmodel_new = ols_new.fit()\nprint(model_new.summary())",
    "id": "d7476024694943fa93524297e35fd433",
    "idx": 44,
    "time": "2021-02-09T13:17:46.288Z",
    "type": "execution"
   },
   {
    "id": "d7476024694943fa93524297e35fd433",
    "time": "2021-02-09T13:17:46.692Z",
    "type": "completion"
   },
   {
    "code": "ols_new = smf.ols(formula='RAV4Sales ~ A1 + MonthFactor + CPIAll + CPIEnergy', data = Rav4_train)\nmodel_new = ols_new.fit()\nprint(model_new.summary())",
    "id": "d7476024694943fa93524297e35fd433",
    "idx": 44,
    "time": "2021-02-09T13:18:00.050Z",
    "type": "execution"
   },
   {
    "id": "d7476024694943fa93524297e35fd433",
    "time": "2021-02-09T13:18:00.455Z",
    "type": "completion"
   },
   {
    "code": "ols_new = smf.ols(formula='RAV4Sales ~ A1 + MonthFactor + CPIAll + CPIEnergy', data = Rav4_train_final)\nmodel_new = ols_new.fit()\nprint(model_new.summary())",
    "id": "d7476024694943fa93524297e35fd433",
    "idx": 44,
    "time": "2021-02-09T13:18:03.985Z",
    "type": "execution"
   },
   {
    "id": "d7476024694943fa93524297e35fd433",
    "time": "2021-02-09T13:18:04.419Z",
    "type": "completion"
   },
   {
    "code": "concat([weekly_gas_train, Rav4_train], ignore_index=True)",
    "id": "893af383a45944e5951b4b8f1219a881",
    "idx": 43,
    "time": "2021-02-09T13:23:17.539Z",
    "type": "execution"
   },
   {
    "id": "893af383a45944e5951b4b8f1219a881",
    "time": "2021-02-09T13:23:17.760Z",
    "type": "completion"
   },
   {
    "code": "a = concat([weekly_gas_train, Rav4_train], ignore_index=True)",
    "id": "893af383a45944e5951b4b8f1219a881",
    "idx": 43,
    "time": "2021-02-09T13:23:45.704Z",
    "type": "execution"
   },
   {
    "id": "893af383a45944e5951b4b8f1219a881",
    "time": "2021-02-09T13:23:45.912Z",
    "type": "completion"
   },
   {
    "code": "#Make the constraints to be the same as our Rav4 train which is 2011 through 2016\nweekly_gas_train = weekly_gas_1[(weekly_gas['Year'] >= 2011 ) & (weekly_gas_1['Year'] <= 2016)]\n\n#Randomnly select 72 outputs as our Rav4 train also has 72 outputs\nweekly_gas_train.sample(50)\n",
    "id": "dd9e9a34e2ab414fbc7fcfdc7a234ade",
    "idx": 42,
    "time": "2021-02-09T13:24:29.304Z",
    "type": "execution"
   },
   {
    "id": "dd9e9a34e2ab414fbc7fcfdc7a234ade",
    "time": "2021-02-09T13:24:29.547Z",
    "type": "completion"
   },
   {
    "code": "ols_new = smf.ols(formula='RAV4Sales ~ A1 + MonthFactor + CPIAll + CPIEnergy', data = Rav4_train_final)\nmodel_new = ols_new.fit()\n#print(model_new.summary())",
    "id": "d7476024694943fa93524297e35fd433",
    "idx": 45,
    "time": "2021-02-09T13:24:55.466Z",
    "type": "execution"
   },
   {
    "id": "d7476024694943fa93524297e35fd433",
    "time": "2021-02-09T13:24:55.907Z",
    "type": "completion"
   },
   {
    "code": "#Make the constraints to be the same as our Rav4 train which is 2011 through 2016\nweekly_gas_train = weekly_gas_1[(weekly_gas['Year'] >= 2011 ) & (weekly_gas_1['Year'] <= 2016)]\n\n#Randomnly select 72 outputs as our Rav4 train also has 72 outputs\ndel weekly_gas_train['Year']\n",
    "id": "dd9e9a34e2ab414fbc7fcfdc7a234ade",
    "idx": 42,
    "time": "2021-02-09T13:25:34.133Z",
    "type": "execution"
   },
   {
    "id": "dd9e9a34e2ab414fbc7fcfdc7a234ade",
    "time": "2021-02-09T13:25:34.329Z",
    "type": "completion"
   },
   {
    "code": "#Make the constraints to be the same as our Rav4 train which is 2011 through 2016\nweekly_gas_train = weekly_gas_1[(weekly_gas['Year'] >= 2011 ) & (weekly_gas_1['Year'] <= 2016)]\n\n#Randomnly select 72 outputs as our Rav4 train also has 72 outputs\ndel weekly_gas_train['Year']\nweekly_gas_train.head()\n",
    "id": "dd9e9a34e2ab414fbc7fcfdc7a234ade",
    "idx": 42,
    "time": "2021-02-09T13:25:41.896Z",
    "type": "execution"
   },
   {
    "id": "dd9e9a34e2ab414fbc7fcfdc7a234ade",
    "time": "2021-02-09T13:25:42.113Z",
    "type": "completion"
   },
   {
    "code": "#Loading data\nweekly_gas = pd.read_csv('US Gasoline and Diesel Prices.csv', index = False)\n#weekly_gas.info()",
    "id": "b0cad3517a894475a4c700e0c0b11b94",
    "idx": 39,
    "time": "2021-02-09T13:26:57.203Z",
    "type": "execution"
   },
   {
    "id": "b0cad3517a894475a4c700e0c0b11b94",
    "time": "2021-02-09T13:26:57.412Z",
    "type": "completion"
   },
   {
    "code": "#Loading data\nweekly_gas = pd.read_csv('US Gasoline and Diesel Prices.csv')\n#weekly_gas.info()",
    "id": "b0cad3517a894475a4c700e0c0b11b94",
    "idx": 39,
    "time": "2021-02-09T13:27:21.325Z",
    "type": "execution"
   },
   {
    "id": "b0cad3517a894475a4c700e0c0b11b94",
    "time": "2021-02-09T13:27:21.522Z",
    "type": "completion"
   },
   {
    "code": "#Make the constraints to be the same as our Rav4 train which is 2011 through 2016\nweekly_gas_train = weekly_gas_1[(weekly_gas['Year'] >= 2011 ) & (weekly_gas_1['Year'] <= 2016)]\n\n#Randomnly select 72 outputs as our Rav4 train also has 72 outputs\ndel weekly_gas_train['Year']\nweekly_gas_train.reset_index(drop=True, inplace=True)\n",
    "id": "dd9e9a34e2ab414fbc7fcfdc7a234ade",
    "idx": 42,
    "time": "2021-02-09T13:27:58.450Z",
    "type": "execution"
   },
   {
    "id": "dd9e9a34e2ab414fbc7fcfdc7a234ade",
    "time": "2021-02-09T13:27:58.782Z",
    "type": "completion"
   },
   {
    "code": "#Make the constraints to be the same as our Rav4 train which is 2011 through 2016\nweekly_gas_train = weekly_gas_1[(weekly_gas['Year'] >= 2011 ) & (weekly_gas_1['Year'] <= 2016)]\n\n#Randomnly select 72 outputs as our Rav4 train also has 72 outputs\ndel weekly_gas_train['Year']\nweekly_gas_train.reset_index(drop=True, inplace=True)\n",
    "id": "dd9e9a34e2ab414fbc7fcfdc7a234ade",
    "idx": 42,
    "time": "2021-02-09T13:28:10.138Z",
    "type": "execution"
   },
   {
    "id": "dd9e9a34e2ab414fbc7fcfdc7a234ade",
    "time": "2021-02-09T13:28:10.484Z",
    "type": "completion"
   },
   {
    "code": "#Make the constraints to be the same as our Rav4 train which is 2011 through 2016\nweekly_gas_train = weekly_gas_1[(weekly_gas['Year'] >= 2011 ) & (weekly_gas_1['Year'] <= 2016)]\n\n#Randomnly select 72 outputs as our Rav4 train also has 72 outputs\n#del weekly_gas_train['Year']\nweekly_gas_train.reset_index(drop=True, inplace=True)\n",
    "id": "dd9e9a34e2ab414fbc7fcfdc7a234ade",
    "idx": 42,
    "time": "2021-02-09T13:28:14.833Z",
    "type": "execution"
   },
   {
    "id": "dd9e9a34e2ab414fbc7fcfdc7a234ade",
    "time": "2021-02-09T13:28:15.174Z",
    "type": "completion"
   },
   {
    "code": "#Make the constraints to be the same as our Rav4 train which is 2011 through 2016\nweekly_gas_train = weekly_gas_1[(weekly_gas['Year'] >= 2011 ) & (weekly_gas_1['Year'] <= 2016)]\n\n#Randomnly select 72 outputs as our Rav4 train also has 72 outputs\ndel weekly_gas_train['Year']\n#weekly_gas_train.reset_index(drop=True, inplace=True)\n",
    "id": "dd9e9a34e2ab414fbc7fcfdc7a234ade",
    "idx": 42,
    "time": "2021-02-09T13:28:22.693Z",
    "type": "execution"
   },
   {
    "id": "dd9e9a34e2ab414fbc7fcfdc7a234ade",
    "time": "2021-02-09T13:28:23.051Z",
    "type": "completion"
   },
   {
    "code": "#Parse only the Year from the Date column \nweekly_gas = weekly_gas.iloc[:,0:2]\nweekly_gas['Year'] = pd.DatetimeIndex(weekly_gas['Date']).year\nweekly_gas_1 = weekly_gas.iloc[2:]\ndel weekly_gas_1['Date']",
    "id": "45b338e670be41e7b552530558d402c9",
    "idx": 41,
    "time": "2021-02-09T13:28:25.202Z",
    "type": "execution"
   },
   {
    "id": "45b338e670be41e7b552530558d402c9",
    "time": "2021-02-09T13:28:25.396Z",
    "type": "completion"
   },
   {
    "code": "#Loading data\nweekly_gas = pd.read_csv('US Gasoline and Diesel Prices.csv')\n#weekly_gas.info()",
    "id": "b0cad3517a894475a4c700e0c0b11b94",
    "idx": 39,
    "time": "2021-02-09T13:28:29.502Z",
    "type": "execution"
   },
   {
    "id": "b0cad3517a894475a4c700e0c0b11b94",
    "time": "2021-02-09T13:28:29.689Z",
    "type": "completion"
   },
   {
    "code": "#Parse only the Year from the Date column \nweekly_gas = weekly_gas.iloc[:,0:2]\nweekly_gas['Year'] = pd.DatetimeIndex(weekly_gas['Date']).year\nweekly_gas_1 = weekly_gas.iloc[2:]\ndel weekly_gas_1['Date']",
    "id": "45b338e670be41e7b552530558d402c9",
    "idx": 41,
    "time": "2021-02-09T13:28:30.927Z",
    "type": "execution"
   },
   {
    "id": "45b338e670be41e7b552530558d402c9",
    "time": "2021-02-09T13:28:31.115Z",
    "type": "completion"
   },
   {
    "code": "#Make the constraints to be the same as our Rav4 train which is 2011 through 2016\nweekly_gas_train = weekly_gas_1[(weekly_gas['Year'] >= 2011 ) & (weekly_gas_1['Year'] <= 2016)]\n\n#Randomnly select 72 outputs as our Rav4 train also has 72 outputs\ndel weekly_gas_train['Year']\n#weekly_gas_train.reset_index(drop=True, inplace=True)\n",
    "id": "dd9e9a34e2ab414fbc7fcfdc7a234ade",
    "idx": 42,
    "time": "2021-02-09T13:28:31.655Z",
    "type": "execution"
   },
   {
    "id": "dd9e9a34e2ab414fbc7fcfdc7a234ade",
    "time": "2021-02-09T13:28:31.851Z",
    "type": "completion"
   },
   {
    "code": "#Make the constraints to be the same as our Rav4 train which is 2011 through 2016\nweekly_gas_train = weekly_gas_1[(weekly_gas['Year'] >= 2011 ) & (weekly_gas_1['Year'] <= 2016)]\n\n#Randomnly select 72 outputs as our Rav4 train also has 72 outputs\ndel weekly_gas_train['Year']\nweekly_gas_train.reset_index(drop=True, inplace=True)\n",
    "id": "dd9e9a34e2ab414fbc7fcfdc7a234ade",
    "idx": 42,
    "time": "2021-02-09T13:28:36.173Z",
    "type": "execution"
   },
   {
    "id": "dd9e9a34e2ab414fbc7fcfdc7a234ade",
    "time": "2021-02-09T13:28:36.364Z",
    "type": "completion"
   },
   {
    "code": "#Make the constraints to be the same as our Rav4 train which is 2011 through 2016\nweekly_gas_train = weekly_gas_1[(weekly_gas['Year'] >= 2011 ) & (weekly_gas_1['Year'] <= 2016)]\n\n#Randomnly select 72 outputs as our Rav4 train also has 72 outputs\ndel weekly_gas_train['Year']\nweekly_gas_train.reset_index(drop=True, inplace=True)\nweekly_gas_train.head()\n",
    "id": "dd9e9a34e2ab414fbc7fcfdc7a234ade",
    "idx": 42,
    "time": "2021-02-09T13:28:45.877Z",
    "type": "execution"
   },
   {
    "id": "dd9e9a34e2ab414fbc7fcfdc7a234ade",
    "time": "2021-02-09T13:28:46.067Z",
    "type": "completion"
   },
   {
    "code": "#Make the constraints to be the same as our Rav4 train which is 2011 through 2016\nweekly_gas_train = weekly_gas_1[(weekly_gas['Year'] >= 2011 ) & (weekly_gas_1['Year'] <= 2016)]\n\n#Randomnly select 72 outputs as our Rav4 train also has 72 outputs\ndel weekly_gas_train['Year']\nweekly_gas_train.reset_index(drop=True, inplace=True)\nweekly_gas_train.inf()",
    "id": "dd9e9a34e2ab414fbc7fcfdc7a234ade",
    "idx": 42,
    "time": "2021-02-09T13:29:06.896Z",
    "type": "execution"
   },
   {
    "id": "dd9e9a34e2ab414fbc7fcfdc7a234ade",
    "time": "2021-02-09T13:29:07.138Z",
    "type": "completion"
   },
   {
    "code": "#Make the constraints to be the same as our Rav4 train which is 2011 through 2016\nweekly_gas_train = weekly_gas_1[(weekly_gas['Year'] >= 2011 ) & (weekly_gas_1['Year'] <= 2016)]\n\n#Randomnly select 72 outputs as our Rav4 train also has 72 outputs\ndel weekly_gas_train['Year']\nweekly_gas_train.reset_index(drop=True, inplace=True)\nweekly_gas_train.inf0()",
    "id": "dd9e9a34e2ab414fbc7fcfdc7a234ade",
    "idx": 42,
    "time": "2021-02-09T13:29:09.916Z",
    "type": "execution"
   },
   {
    "id": "dd9e9a34e2ab414fbc7fcfdc7a234ade",
    "time": "2021-02-09T13:29:10.139Z",
    "type": "completion"
   },
   {
    "code": "#Make the constraints to be the same as our Rav4 train which is 2011 through 2016\nweekly_gas_train = weekly_gas_1[(weekly_gas['Year'] >= 2011 ) & (weekly_gas_1['Year'] <= 2016)]\n\n#Randomnly select 72 outputs as our Rav4 train also has 72 outputs\ndel weekly_gas_train['Year']\nweekly_gas_train.reset_index(drop=True, inplace=True)\nweekly_gas_train.info()",
    "id": "dd9e9a34e2ab414fbc7fcfdc7a234ade",
    "idx": 42,
    "time": "2021-02-09T13:29:12.290Z",
    "type": "execution"
   },
   {
    "id": "dd9e9a34e2ab414fbc7fcfdc7a234ade",
    "time": "2021-02-09T13:29:12.521Z",
    "type": "completion"
   },
   {
    "code": "#Make the constraints to be the same as our Rav4 train which is 2011 through 2016\nweekly_gas_train = weekly_gas_1[(weekly_gas['Year'] >= 2011 ) & (weekly_gas_1['Year'] <= 2016)]\n\n#Randomnly select 72 outputs as our Rav4 train also has 72 outputs\ndel weekly_gas_train['Year']\nweekly_gas_train.reset_index(drop=True, inplace=True)",
    "id": "dd9e9a34e2ab414fbc7fcfdc7a234ade",
    "idx": 42,
    "time": "2021-02-09T13:29:38.981Z",
    "type": "execution"
   },
   {
    "id": "dd9e9a34e2ab414fbc7fcfdc7a234ade",
    "time": "2021-02-09T13:29:39.181Z",
    "type": "completion"
   },
   {
    "code": "a = concat([weekly_gas_train, Rav4_train], ignore_index=True)",
    "id": "893af383a45944e5951b4b8f1219a881",
    "idx": 43,
    "time": "2021-02-09T13:30:02.203Z",
    "type": "execution"
   },
   {
    "id": "893af383a45944e5951b4b8f1219a881",
    "time": "2021-02-09T13:30:02.410Z",
    "type": "completion"
   },
   {
    "code": "#Make the constraints to be the same as our Rav4 train which is 2011 through 2016\nweekly_gas_train = weekly_gas_1[(weekly_gas['Year'] >= 2011 ) & (weekly_gas_1['Year'] <= 2016)]\n\n#Randomnly select 72 outputs as our Rav4 train also has 72 outputs\ndel weekly_gas_train['Year']\n#weekly_gas_train.reset_index(drop=True, inplace=True)",
    "id": "dd9e9a34e2ab414fbc7fcfdc7a234ade",
    "idx": 42,
    "time": "2021-02-09T13:31:35.578Z",
    "type": "execution"
   },
   {
    "id": "dd9e9a34e2ab414fbc7fcfdc7a234ade",
    "time": "2021-02-09T13:31:35.782Z",
    "type": "completion"
   },
   {
    "code": "#Make the constraints to be the same as our Rav4 train which is 2011 through 2016\nweekly_gas_train = weekly_gas_1[(weekly_gas['Year'] >= 2011 ) & (weekly_gas_1['Year'] <= 2016)]\n\n#Randomnly select 72 outputs as our Rav4 train also has 72 outputs\n#del weekly_gas_train['Year']\n#weekly_gas_train.reset_index(drop=True, inplace=True)",
    "id": "dd9e9a34e2ab414fbc7fcfdc7a234ade",
    "idx": 42,
    "time": "2021-02-09T13:32:37.627Z",
    "type": "execution"
   },
   {
    "id": "dd9e9a34e2ab414fbc7fcfdc7a234ade",
    "time": "2021-02-09T13:32:37.827Z",
    "type": "completion"
   },
   {
    "code": "#Link the A1 Values to our Rav4_train dataset\nRav4_train_final = Rav4_train.append(weekly_gas_train)\n#Rav4_train_final = Rav4_train.append(weekly_gas_train, ignore_index = True, sort = False)\n#Rav4_train_final = pd.concat([Rav4_train, weekly_gas_train], axis=1)\nRav4_train_final.sample(50)\n",
    "id": "6a5011ec09684c2c86da061d988e9248",
    "idx": 44,
    "time": "2021-02-09T13:32:40.490Z",
    "type": "execution"
   },
   {
    "id": "6a5011ec09684c2c86da061d988e9248",
    "time": "2021-02-09T13:32:40.925Z",
    "type": "completion"
   },
   {
    "code": "#Link the A1 Values to our Rav4_train dataset\nRav4_train_final = Rav4_train.append(weekly_gas_1)\n#Rav4_train_final = Rav4_train.append(weekly_gas_train, ignore_index = True, sort = False)\n#Rav4_train_final = pd.concat([Rav4_train, weekly_gas_train], axis=1)\nRav4_train_final.sample(50)\n",
    "id": "6a5011ec09684c2c86da061d988e9248",
    "idx": 44,
    "time": "2021-02-09T13:34:04.936Z",
    "type": "execution"
   },
   {
    "id": "6a5011ec09684c2c86da061d988e9248",
    "time": "2021-02-09T13:34:05.420Z",
    "type": "completion"
   },
   {
    "code": "#Make the constraints to be the same as our Rav4 train which is 2011 through 2016\nweekly_gas_train = weekly_gas_1[(weekly_gas['Year'] >= 2011 ) & (weekly_gas_1['Year'] <= 2016)]\n\n#Randomnly select 72 outputs as our Rav4 train also has 72 outputs\n#del weekly_gas_train['Year']\n#weekly_gas_train.reset_index(drop=True, inplace=True)",
    "id": "dd9e9a34e2ab414fbc7fcfdc7a234ade",
    "idx": 42,
    "time": "2021-02-09T13:34:21.041Z",
    "type": "execution"
   },
   {
    "id": "dd9e9a34e2ab414fbc7fcfdc7a234ade",
    "time": "2021-02-09T13:34:21.233Z",
    "type": "completion"
   },
   {
    "code": "a = merge(Rav4_train, weekly_gas_train)",
    "id": "893af383a45944e5951b4b8f1219a881",
    "idx": 43,
    "time": "2021-02-09T13:36:09.689Z",
    "type": "execution"
   },
   {
    "id": "893af383a45944e5951b4b8f1219a881",
    "time": "2021-02-09T13:36:09.889Z",
    "type": "completion"
   },
   {
    "code": "\nRav4_train.merge(weekly_gas_train)",
    "id": "893af383a45944e5951b4b8f1219a881",
    "idx": 43,
    "time": "2021-02-09T13:37:40.799Z",
    "type": "execution"
   },
   {
    "id": "893af383a45944e5951b4b8f1219a881",
    "time": "2021-02-09T13:37:41.449Z",
    "type": "completion"
   },
   {
    "code": "\na = Rav4_train.merge(weekly_gas_train)\na.head()",
    "id": "893af383a45944e5951b4b8f1219a881",
    "idx": 43,
    "time": "2021-02-09T13:37:50.193Z",
    "type": "execution"
   },
   {
    "id": "893af383a45944e5951b4b8f1219a881",
    "time": "2021-02-09T13:37:50.397Z",
    "type": "completion"
   },
   {
    "code": "new_data = merge(Rav4_train, weekly_gas_train by=\"Year\")\n\n#a = Rav4_train.merge(weekly_gas_train)\n#a.head()",
    "id": "893af383a45944e5951b4b8f1219a881",
    "idx": 43,
    "time": "2021-02-09T13:43:47.580Z",
    "type": "execution"
   },
   {
    "id": "893af383a45944e5951b4b8f1219a881",
    "time": "2021-02-09T13:43:47.774Z",
    "type": "completion"
   },
   {
    "code": "#Make the constraints to be the same as our Rav4 train which is 2011 through 2016\nweekly_gas_train = weekly_gas_1[(weekly_gas['Year'] >= 2011 ) & (weekly_gas_1['Year'] <= 2016)]\n\n#Randomnly select 72 outputs as our Rav4 train also has 72 outputs\n#del weekly_gas_train['Year']\n\nRav4_train[\"A1\"] = weekly_gas_train.head(72)",
    "id": "dd9e9a34e2ab414fbc7fcfdc7a234ade",
    "idx": 42,
    "time": "2021-02-09T13:46:31.772Z",
    "type": "execution"
   },
   {
    "id": "dd9e9a34e2ab414fbc7fcfdc7a234ade",
    "time": "2021-02-09T13:46:31.988Z",
    "type": "completion"
   },
   {
    "code": "#Make the constraints to be the same as our Rav4 train which is 2011 through 2016\nweekly_gas_train = weekly_gas_1[(weekly_gas['Year'] >= 2011 ) & (weekly_gas_1['Year'] <= 2016)]\n\n#Randomnly select 72 outputs as our Rav4 train also has 72 outputs\n#del weekly_gas_train['Year']\n\nRav4_train[\"A1\"] = weekly_gas_train.head(72)\nRav4_train.head()",
    "id": "dd9e9a34e2ab414fbc7fcfdc7a234ade",
    "idx": 42,
    "time": "2021-02-09T13:46:43.295Z",
    "type": "execution"
   },
   {
    "id": "dd9e9a34e2ab414fbc7fcfdc7a234ade",
    "time": "2021-02-09T13:46:43.545Z",
    "type": "completion"
   },
   {
    "code": "#Make the constraints to be the same as our Rav4 train which is 2011 through 2016\nweekly_gas_train = weekly_gas_1[(weekly_gas['Year'] >= 2011 ) & (weekly_gas_1['Year'] <= 2016)]\n\n#Randomnly select 72 outputs as our Rav4 train also has 72 outputs\n#del weekly_gas_train['Year']\n\nRav4_train[\"A1\"] = weekly_gas_train.head(72)\nprint(Rav4_train)",
    "id": "dd9e9a34e2ab414fbc7fcfdc7a234ade",
    "idx": 42,
    "time": "2021-02-09T13:47:08.582Z",
    "type": "execution"
   },
   {
    "id": "dd9e9a34e2ab414fbc7fcfdc7a234ade",
    "time": "2021-02-09T13:47:08.802Z",
    "type": "completion"
   },
   {
    "code": "#Make the constraints to be the same as our Rav4 train which is 2011 through 2016\nweekly_gas_train = weekly_gas_1[(weekly_gas['Year'] >= 2011 ) & (weekly_gas_1['Year'] <= 2016)]\n\n#Randomnly select 72 outputs as our Rav4 train also has 72 outputs\n#del weekly_gas_train['Year']\n\nRav4_train[\"A1\"] = weekly_gas_train[\"A1\"]\nprint(Rav4_train)",
    "id": "dd9e9a34e2ab414fbc7fcfdc7a234ade",
    "idx": 42,
    "time": "2021-02-09T13:47:23.857Z",
    "type": "execution"
   },
   {
    "id": "dd9e9a34e2ab414fbc7fcfdc7a234ade",
    "time": "2021-02-09T13:47:24.073Z",
    "type": "completion"
   },
   {
    "code": "#Make the constraints to be the same as our Rav4 train which is 2011 through 2016\nweekly_gas_train = weekly_gas_1[(weekly_gas['Year'] >= 2011 ) & (weekly_gas_1['Year'] <= 2016)]\nweekly_gas_train.head()\n#Randomnly select 72 outputs as our Rav4 train also has 72 outputs\n#del weekly_gas_train['Year']\n\n#Rav4_train[\"A1\"] = weekly_gas_train[\"A1\"]\n#print(Rav4_train)",
    "id": "dd9e9a34e2ab414fbc7fcfdc7a234ade",
    "idx": 42,
    "time": "2021-02-09T13:49:13.804Z",
    "type": "execution"
   },
   {
    "id": "dd9e9a34e2ab414fbc7fcfdc7a234ade",
    "time": "2021-02-09T13:49:14.016Z",
    "type": "completion"
   },
   {
    "code": "#Make the constraints to be the same as our Rav4 train which is 2011 through 2016\nweekly_gas_train = weekly_gas_1[(weekly_gas['Year'] >= 2011 ) & (weekly_gas_1['Year'] <= 2016)]\ndel weekly_gas_train['Year']\nweekly_gas_train.head()\n#Randomnly select 72 outputs as our Rav4 train also has 72 outputs\n#del weekly_gas_train['Year']\n\n#Rav4_train[\"A1\"] = weekly_gas_train[\"A1\"]\n#print(Rav4_train)",
    "id": "dd9e9a34e2ab414fbc7fcfdc7a234ade",
    "idx": 42,
    "time": "2021-02-09T13:49:37.421Z",
    "type": "execution"
   },
   {
    "id": "dd9e9a34e2ab414fbc7fcfdc7a234ade",
    "time": "2021-02-09T13:49:37.631Z",
    "type": "completion"
   },
   {
    "code": "#Make the constraints to be the same as our Rav4 train which is 2011 through 2016\nweekly_gas_train = weekly_gas_1[(weekly_gas['Year'] >= 2011 ) & (weekly_gas_1['Year'] <= 2016)]\ndel weekly_gas_train['Year']\nweekly_gas_train.head()\n#Randomnly select 72 outputs as our Rav4 train also has 72 outputs\n#del weekly_gas_train['Year']\n\nweekly_gas_train = weekly_gas_train.sample(72)\n#Rav4_train[\"A1\"] = weekly_gas_train[\"A1\"]\n#print(Rav4_train)",
    "id": "dd9e9a34e2ab414fbc7fcfdc7a234ade",
    "idx": 42,
    "time": "2021-02-09T13:50:05.252Z",
    "type": "execution"
   },
   {
    "id": "dd9e9a34e2ab414fbc7fcfdc7a234ade",
    "time": "2021-02-09T13:50:05.431Z",
    "type": "completion"
   },
   {
    "code": "#Link the A1 Values to our Rav4_train dataset\nRav4_train_final = Rav4_train.append(weekly_gas_train)\n#Rav4_train_final = Rav4_train.append(weekly_gas_train, ignore_index = True, sort = False)\n#Rav4_train_final = pd.concat([Rav4_train, weekly_gas_train], axis=1)\nRav4_train_final.sample(50)\n",
    "id": "6a5011ec09684c2c86da061d988e9248",
    "idx": 44,
    "time": "2021-02-09T13:56:21.080Z",
    "type": "execution"
   },
   {
    "id": "6a5011ec09684c2c86da061d988e9248",
    "time": "2021-02-09T13:56:21.575Z",
    "type": "completion"
   },
   {
    "code": "ols_new = smf.ols(formula='RAV4Sales ~ A1 + MonthFactor + CPIAll + CPIEnergy', data = Rav4_train_final)\nmodel_new = ols_new.fit()\n#print(model_new.summary())",
    "id": "d7476024694943fa93524297e35fd433",
    "idx": 45,
    "time": "2021-02-09T13:57:45.753Z",
    "type": "execution"
   },
   {
    "id": "d7476024694943fa93524297e35fd433",
    "time": "2021-02-09T13:57:46.381Z",
    "type": "completion"
   },
   {
    "code": "#Make the constraints to be the same as our Rav4 train which is 2011 through 2016\nweekly_gas_train = weekly_gas_1[(weekly_gas['Year'] >= 2011 ) & (weekly_gas_1['Year'] <= 2016)]\ndel weekly_gas_train['Year']\nweekly_gas_train.head()\n#Randomnly select 72 outputs as our Rav4 train also has 72 outputs\nweekly_gas_train = weekly_gas_train.sample(72)\nRav4_train[\"A1\"] = weekly_gas_train[\"A1\"].tolist()",
    "id": "3969d0a36f19424e8872525e5ff90a88",
    "idx": 42,
    "time": "2021-02-09T14:20:07.791Z",
    "type": "execution"
   },
   {
    "id": "3969d0a36f19424e8872525e5ff90a88",
    "time": "2021-02-09T14:20:08.002Z",
    "type": "completion"
   },
   {
    "code": "#Link the A1 Values to our Rav4_train dataset\n#Rav4_train_final = Rav4_train.append(weekly_gas_train)\n#Rav4_train_final = Rav4_train.append(weekly_gas_train, ignore_index = True, sort = False)\n#Rav4_train_final = pd.concat([Rav4_train, weekly_gas_train], axis=1)\n#Rav4_train_final.sample(50)\n",
    "id": "0c7d55ff94e8428391df8a11f9646ad6",
    "idx": 43,
    "time": "2021-02-09T14:20:19.287Z",
    "type": "execution"
   },
   {
    "id": "0c7d55ff94e8428391df8a11f9646ad6",
    "time": "2021-02-09T14:20:19.462Z",
    "type": "completion"
   },
   {
    "code": "ols_new = smf.ols(formula='RAV4Sales ~ A1 + MonthFactor + CPIAll + CPIEnergy', data = Rav4_train)\nmodel_new = ols_new.fit()\n#print(model_new.summary())",
    "id": "04bc0b58f88d4b0791c8c4ee0d49f25d",
    "idx": 44,
    "time": "2021-02-09T14:20:21.560Z",
    "type": "execution"
   },
   {
    "id": "04bc0b58f88d4b0791c8c4ee0d49f25d",
    "time": "2021-02-09T14:20:23.173Z",
    "type": "completion"
   },
   {
    "code": "ols_new = smf.ols(formula='RAV4Sales ~ A1 + MonthFactor + CPIAll + CPIEnergy', data = Rav4_train)\nmodel_new = ols_new.fit()\nprint(model_new.summary())",
    "id": "04bc0b58f88d4b0791c8c4ee0d49f25d",
    "idx": 44,
    "time": "2021-02-09T14:20:25.864Z",
    "type": "execution"
   },
   {
    "id": "04bc0b58f88d4b0791c8c4ee0d49f25d",
    "time": "2021-02-09T14:20:26.072Z",
    "type": "completion"
   },
   {
    "code": "print(Rav4_train)",
    "id": "2a110ecf92b04ae1baf4be354909aa6b",
    "idx": 43,
    "time": "2021-02-09T14:21:26.523Z",
    "type": "execution"
   },
   {
    "id": "2a110ecf92b04ae1baf4be354909aa6b",
    "time": "2021-02-09T14:21:26.727Z",
    "type": "completion"
   },
   {
    "code": "Rav_train.sample(50)",
    "id": "2a110ecf92b04ae1baf4be354909aa6b",
    "idx": 43,
    "time": "2021-02-09T14:21:43.311Z",
    "type": "execution"
   },
   {
    "id": "2a110ecf92b04ae1baf4be354909aa6b",
    "time": "2021-02-09T14:21:43.527Z",
    "type": "completion"
   },
   {
    "code": "#Loading data\nweekly_gas = pd.read_csv('US Gasoline and Diesel Prices.csv')",
    "id": "6b054983b4cc4f179a10213c1cfa956a",
    "idx": 39,
    "time": "2021-02-09T14:21:58.308Z",
    "type": "execution"
   },
   {
    "id": "6b054983b4cc4f179a10213c1cfa956a",
    "time": "2021-02-09T14:21:58.497Z",
    "type": "completion"
   },
   {
    "code": "Rav_train",
    "id": "2a110ecf92b04ae1baf4be354909aa6b",
    "idx": 43,
    "time": "2021-02-09T14:22:10.280Z",
    "type": "execution"
   },
   {
    "id": "2a110ecf92b04ae1baf4be354909aa6b",
    "time": "2021-02-09T14:22:10.468Z",
    "type": "completion"
   },
   {
    "code": "Rav_train.head()",
    "id": "2a110ecf92b04ae1baf4be354909aa6b",
    "idx": 43,
    "time": "2021-02-09T14:22:24.542Z",
    "type": "execution"
   },
   {
    "id": "2a110ecf92b04ae1baf4be354909aa6b",
    "time": "2021-02-09T14:22:24.773Z",
    "type": "completion"
   },
   {
    "code": "#Parse only the Year from the Date column \nweekly_gas = weekly_gas.iloc[:,0:2]\nweekly_gas['Year'] = pd.DatetimeIndex(weekly_gas['Date']).year\nweekly_gas_1 = weekly_gas.iloc[2:]\ndel weekly_gas_1['Date']\n",
    "id": "209014649a7b496cae7ffbb981f98854",
    "idx": 41,
    "time": "2021-02-09T14:22:28.838Z",
    "type": "execution"
   },
   {
    "id": "209014649a7b496cae7ffbb981f98854",
    "time": "2021-02-09T14:22:29.015Z",
    "type": "completion"
   },
   {
    "code": "#Make the constraints to be the same as our Rav4 train which is 2011 through 2016\nweekly_gas_train = weekly_gas_1[(weekly_gas['Year'] >= 2011 ) & (weekly_gas_1['Year'] <= 2016)]\ndel weekly_gas_train['Year']\nweekly_gas_train.head()\n#Randomnly select 72 outputs as our Rav4 train also has 72 outputs\nweekly_gas_train = weekly_gas_train.sample(72)\nRav4_train[\"A1\"] = weekly_gas_train[\"A1\"].tolist()",
    "id": "3969d0a36f19424e8872525e5ff90a88",
    "idx": 42,
    "time": "2021-02-09T14:22:29.739Z",
    "type": "execution"
   },
   {
    "id": "3969d0a36f19424e8872525e5ff90a88",
    "time": "2021-02-09T14:22:29.942Z",
    "type": "completion"
   },
   {
    "code": "Rav_train.head()",
    "id": "2a110ecf92b04ae1baf4be354909aa6b",
    "idx": 43,
    "time": "2021-02-09T14:22:30.885Z",
    "type": "execution"
   },
   {
    "id": "2a110ecf92b04ae1baf4be354909aa6b",
    "time": "2021-02-09T14:22:31.090Z",
    "type": "completion"
   },
   {
    "code": "Rav4_train.head()",
    "id": "2a110ecf92b04ae1baf4be354909aa6b",
    "idx": 43,
    "time": "2021-02-09T14:22:36.161Z",
    "type": "execution"
   },
   {
    "id": "2a110ecf92b04ae1baf4be354909aa6b",
    "time": "2021-02-09T14:22:36.405Z",
    "type": "completion"
   },
   {
    "code": "#Parse only the Year from the Date column \nweekly_gas = weekly_gas.iloc[:,0:2]\nweekly_gas['Year'] = pd.DatetimeIndex(weekly_gas['Date']).year\nweekly_gas_1 = weekly_gas.iloc[2:]\ndel weekly_gas_1['Date']",
    "id": "209014649a7b496cae7ffbb981f98854",
    "idx": 41,
    "time": "2021-02-09T14:23:11.112Z",
    "type": "execution"
   },
   {
    "id": "209014649a7b496cae7ffbb981f98854",
    "time": "2021-02-09T14:23:11.283Z",
    "type": "completion"
   },
   {
    "code": "cols_final = [A1, CPIAll, CPIEnergy]\nVIF(Rav4_train_mf2, cols_final)",
    "id": "cec12004f80244878b93aa1b2bbd0857",
    "idx": 44,
    "time": "2021-02-09T14:27:14.780Z",
    "type": "execution"
   },
   {
    "id": "cec12004f80244878b93aa1b2bbd0857",
    "time": "2021-02-09T14:27:14.985Z",
    "type": "completion"
   },
   {
    "code": "cols_final = [A1, CPIAll, CPIEnergy]\nVIF(Rav4_train, cols_final)",
    "id": "cec12004f80244878b93aa1b2bbd0857",
    "idx": 44,
    "time": "2021-02-09T14:27:34.569Z",
    "type": "execution"
   },
   {
    "id": "cec12004f80244878b93aa1b2bbd0857",
    "time": "2021-02-09T14:27:34.770Z",
    "type": "completion"
   },
   {
    "code": "cols_final = ['A1', 'CPIAll', 'CPIEnergy']\nVIF(Rav4_train, cols_final)",
    "id": "cec12004f80244878b93aa1b2bbd0857",
    "idx": 44,
    "time": "2021-02-09T14:27:54.348Z",
    "type": "execution"
   },
   {
    "id": "cec12004f80244878b93aa1b2bbd0857",
    "time": "2021-02-09T14:27:54.555Z",
    "type": "completion"
   },
   {
    "code": "#Make the constraints to be the same as our Rav4 train which is 2011 through 2016\nweekly_gas_train = weekly_gas_1[(weekly_gas['Year'] >= 2011 ) & (weekly_gas_1['Year'] <= 2016)]\ndel weekly_gas_train['Year']\nweekly_gas_train.head()\n#Randomnly select 72 outputs as our Rav4 train also has 72 outputs\nweekly_gas_train = weekly_gas_train.sample(72)\nRav4_train_mf2[\"A1\"] = weekly_gas_train[\"A1\"].tolist()",
    "id": "3969d0a36f19424e8872525e5ff90a88",
    "idx": 42,
    "time": "2021-02-09T14:30:17.316Z",
    "type": "execution"
   },
   {
    "id": "3969d0a36f19424e8872525e5ff90a88",
    "time": "2021-02-09T14:30:17.520Z",
    "type": "completion"
   },
   {
    "code": "ols_new = smf.ols(formula='RAV4Sales ~ A1 + MonthFactor + CPIAll + CPIEnergy', data = Rav4_train_mf2)\nmodel_new = ols_new.fit()\nprint(model_new.summary())",
    "id": "04bc0b58f88d4b0791c8c4ee0d49f25d",
    "idx": 43,
    "time": "2021-02-09T14:30:20.029Z",
    "type": "execution"
   },
   {
    "id": "04bc0b58f88d4b0791c8c4ee0d49f25d",
    "time": "2021-02-09T14:30:20.570Z",
    "type": "completion"
   },
   {
    "code": "ols_new = smf.ols(formula='RAV4Sales ~ A1 + MonthFactor + CPIAll + CPIEnergy', data = Rav4_train)\nmodel_new = ols_new.fit()\nprint(model_new.summary())",
    "id": "04bc0b58f88d4b0791c8c4ee0d49f25d",
    "idx": 43,
    "time": "2021-02-09T14:30:40.085Z",
    "type": "execution"
   },
   {
    "id": "04bc0b58f88d4b0791c8c4ee0d49f25d",
    "time": "2021-02-09T14:30:40.363Z",
    "type": "completion"
   },
   {
    "code": "#Make the constraints to be the same as our Rav4 train which is 2011 through 2016\nweekly_gas_train = weekly_gas_1[(weekly_gas['Year'] >= 2011 ) & (weekly_gas_1['Year'] <= 2016)]\ndel weekly_gas_train['Year']\nweekly_gas_train.head()\n#Randomnly select 72 outputs as our Rav4 train also has 72 outputs\nweekly_gas_train = weekly_gas_train.sample(72)\nRav4_train[\"A1\"] = weekly_gas_train[\"A1\"].tolist()",
    "id": "3969d0a36f19424e8872525e5ff90a88",
    "idx": 42,
    "time": "2021-02-09T14:30:43.738Z",
    "type": "execution"
   },
   {
    "id": "3969d0a36f19424e8872525e5ff90a88",
    "time": "2021-02-09T14:30:43.939Z",
    "type": "completion"
   },
   {
    "code": "ols_new = smf.ols(formula='RAV4Sales ~ A1 + MonthFactor + CPIAll + CPIEnergy', data = Rav4_train)\nmodel_new = ols_new.fit()\nprint(model_new.summary())",
    "id": "04bc0b58f88d4b0791c8c4ee0d49f25d",
    "idx": 43,
    "time": "2021-02-09T14:30:45.283Z",
    "type": "execution"
   },
   {
    "id": "04bc0b58f88d4b0791c8c4ee0d49f25d",
    "time": "2021-02-09T14:30:45.500Z",
    "type": "completion"
   },
   {
    "code": "cols_final = ['A1', 'CPIAll', 'CPIEnergy']\nVIF(Rav4_train, cols_final)",
    "id": "cec12004f80244878b93aa1b2bbd0857",
    "idx": 44,
    "time": "2021-02-09T14:30:46.705Z",
    "type": "execution"
   },
   {
    "id": "cec12004f80244878b93aa1b2bbd0857",
    "time": "2021-02-09T14:30:46.897Z",
    "type": "completion"
   },
   {
    "code": "#Make the constraints to be the same as our Rav4 train which is 2011 through 2016\nweekly_gas_train = weekly_gas_1[(weekly_gas['Year'] >= 2011 ) & (weekly_gas_1['Year'] <= 2016)]\ndel weekly_gas_train['Year']\nweekly_gas_train.head()\n#Randomnly select 72 outputs as our Rav4 train also has 72 outputs\nweekly_gas_train = weekly_gas_train.sample(72)\nRav4_train[\"A1\"] = weekly_gas_train[\"A1\"].tolist()\n\n#rename column A1 to Gas Prices\nRav4_train= Rav4_train.rename(columns={\"A1\": \"Gas Prices\")})",
    "id": "3969d0a36f19424e8872525e5ff90a88",
    "idx": 42,
    "time": "2021-02-09T14:34:18.304Z",
    "type": "execution"
   },
   {
    "id": "3969d0a36f19424e8872525e5ff90a88",
    "time": "2021-02-09T14:34:18.521Z",
    "type": "completion"
   },
   {
    "code": "#Make the constraints to be the same as our Rav4 train which is 2011 through 2016\nweekly_gas_train = weekly_gas_1[(weekly_gas['Year'] >= 2011 ) & (weekly_gas_1['Year'] <= 2016)]\ndel weekly_gas_train['Year']\nweekly_gas_train.head()\n#Randomnly select 72 outputs as our Rav4 train also has 72 outputs\nweekly_gas_train = weekly_gas_train.sample(72)\nRav4_train[\"A1\"] = weekly_gas_train[\"A1\"].tolist()\n\n#rename column A1 to Gas Prices\nRav4_train= Rav4_train.rename(columns={\"A1\": \"Gas Prices\"})",
    "id": "3969d0a36f19424e8872525e5ff90a88",
    "idx": 42,
    "time": "2021-02-09T14:34:25.756Z",
    "type": "execution"
   },
   {
    "id": "3969d0a36f19424e8872525e5ff90a88",
    "time": "2021-02-09T14:34:25.960Z",
    "type": "completion"
   },
   {
    "code": "ols_new = smf.ols(formula='RAV4Sales ~ Gas Prices + MonthFactor + CPIAll + CPIEnergy', data = Rav4_train)\nmodel_new = ols_new.fit()\nprint(model_new.summary())",
    "id": "04bc0b58f88d4b0791c8c4ee0d49f25d",
    "idx": 43,
    "time": "2021-02-09T14:34:31.753Z",
    "type": "execution"
   },
   {
    "id": "04bc0b58f88d4b0791c8c4ee0d49f25d",
    "time": "2021-02-09T14:34:31.957Z",
    "type": "completion"
   },
   {
    "code": "#Make the constraints to be the same as our Rav4 train which is 2011 through 2016\nweekly_gas_train = weekly_gas_1[(weekly_gas['Year'] >= 2011 ) & (weekly_gas_1['Year'] <= 2016)]\ndel weekly_gas_train['Year']\nweekly_gas_train.head()\n#Randomnly select 72 outputs as our Rav4 train also has 72 outputs\nweekly_gas_train = weekly_gas_train.sample(72)\nRav4_train[\"A1\"] = weekly_gas_train[\"A1\"].tolist()\n\n#rename column A1 to Gas Prices\nRav4_train= Rav4_train.rename(columns={\"A1\": \"GasPrices\"})",
    "id": "3969d0a36f19424e8872525e5ff90a88",
    "idx": 42,
    "time": "2021-02-09T14:34:42.361Z",
    "type": "execution"
   },
   {
    "id": "3969d0a36f19424e8872525e5ff90a88",
    "time": "2021-02-09T14:34:42.569Z",
    "type": "completion"
   },
   {
    "code": "ols_new = smf.ols(formula='RAV4Sales ~ GasPrices + MonthFactor + CPIAll + CPIEnergy', data = Rav4_train)\nmodel_new = ols_new.fit()\nprint(model_new.summary())",
    "id": "04bc0b58f88d4b0791c8c4ee0d49f25d",
    "idx": 43,
    "time": "2021-02-09T14:34:44.569Z",
    "type": "execution"
   },
   {
    "id": "04bc0b58f88d4b0791c8c4ee0d49f25d",
    "time": "2021-02-09T14:34:44.789Z",
    "type": "completion"
   },
   {
    "code": "cols_final = ['GasPrices', 'CPIAll', 'CPIEnergy']\nVIF(Rav4_train, cols_final)",
    "id": "cec12004f80244878b93aa1b2bbd0857",
    "idx": 44,
    "time": "2021-02-09T14:35:06.091Z",
    "type": "execution"
   },
   {
    "id": "cec12004f80244878b93aa1b2bbd0857",
    "time": "2021-02-09T14:35:06.292Z",
    "type": "completion"
   },
   {
    "code": "cols_55 =['MonthFactor', 'CPIAll', 'CPIEnergy']\nVIF(Rav4_train, cols_55)",
    "id": "274e3f0dd43040549d8d66c28d426fe0",
    "idx": 25,
    "time": "2021-02-10T06:30:49.972Z",
    "type": "execution"
   },
   {
    "id": "274e3f0dd43040549d8d66c28d426fe0",
    "time": "2021-02-10T06:30:50.257Z",
    "type": "completion"
   },
   {
    "code": "OSR2(ols_5, Rav4_train_mf2, Rav4_test, 'RAV4Sales')",
    "id": "765f12a7df924ed5a05f2dfd4309ff8a",
    "idx": 37,
    "time": "2021-02-10T07:07:49.163Z",
    "type": "execution"
   },
   {
    "id": "765f12a7df924ed5a05f2dfd4309ff8a",
    "time": "2021-02-10T07:07:49.355Z",
    "type": "completion"
   },
   {
    "code": "# Compute out-of-sample R-squared using the test set\ndef OSR2(model, df_train, df_test, dependent_var):   \n    y_test = df_test[dependent_var]\n    y_pred = model.predict(df_test)\n    SSE = np.sum((y_test - y_pred)**2)\n    SST = np.sum((y_test - np.mean(df_train[dependent_var]))**2)    \n    return 1 - SSE/SST\n\nOSR2(model_final, Rav4_train, Rav4_test, 'RAV4Sales')",
    "id": "c804f9abdcb94e918834dcf7e514190a",
    "idx": 36,
    "time": "2021-02-10T07:07:52.506Z",
    "type": "execution"
   },
   {
    "id": "c804f9abdcb94e918834dcf7e514190a",
    "time": "2021-02-10T07:07:52.683Z",
    "type": "completion"
   },
   {
    "code": "import numpy as np\nimport pandas as pd",
    "id": "e6d674de16d64a9f896eea51c82ad60c",
    "idx": 0,
    "time": "2021-02-10T07:07:55.950Z",
    "type": "execution"
   },
   {
    "code": "#Loading data\nRav4 = pd.read_csv('RAV4-142-Spring2021.csv')\nRav4.info()",
    "id": "9f3e0fe80fad4724843b26a87b4bad96",
    "idx": 1,
    "time": "2021-02-10T07:07:56.153Z",
    "type": "execution"
   },
   {
    "code": "Rav4.head()",
    "id": "fc0f47a23c2546a18bd80f1bebc18ff2",
    "idx": 2,
    "time": "2021-02-10T07:07:56.345Z",
    "type": "execution"
   },
   {
    "code": "# Problem 2\n# a) Start  by  splitting  the  data  into  a  training  set  and  testing  set. The trainingset should contain all observations for 2011 through 2016.  \n#The testing set should have allobservations for 2017 through 2020.\n\nRav4_train = Rav4[(Rav4['Year'] >= 2011) & (Rav4['Year'] <= 2016)]\nRav4_test = Rav4[(Rav4['Year'] >= 2017) & (Rav4['Year'] <= 2020)]\n\nRav4_train.head()",
    "id": "74569a8be57c4ac6896f34742b95d852",
    "idx": 3,
    "time": "2021-02-10T07:07:56.470Z",
    "type": "execution"
   },
   {
    "id": "e6d674de16d64a9f896eea51c82ad60c",
    "time": "2021-02-10T07:07:56.515Z",
    "type": "completion"
   },
   {
    "id": "9f3e0fe80fad4724843b26a87b4bad96",
    "time": "2021-02-10T07:07:56.532Z",
    "type": "completion"
   },
   {
    "code": "#i) What  is  the  linear  regression  equation  produced  by  your  model,  and  how  should  one interpret the coefficients for the independent variables?  \n#Consider interpretability issues when  writing  down  the  equation  (e.g.,  do  not  just  copy  and  paste  the  output  from Python)",
    "id": "c0187d83472c46129426dc7bf7037d9b",
    "idx": 4,
    "time": "2021-02-10T07:07:56.644Z",
    "type": "execution"
   },
   {
    "id": "fc0f47a23c2546a18bd80f1bebc18ff2",
    "time": "2021-02-10T07:07:56.689Z",
    "type": "completion"
   },
   {
    "id": "74569a8be57c4ac6896f34742b95d852",
    "time": "2021-02-10T07:07:56.691Z",
    "type": "completion"
   },
   {
    "id": "c0187d83472c46129426dc7bf7037d9b",
    "time": "2021-02-10T07:07:56.813Z",
    "type": "completion"
   },
   {
    "code": "import statsmodels.api as sm\nimport statsmodels.formula.api as smf\n\nols_1 = smf.ols(formula='RAV4Sales ~ Unemployment + RAV4Queries + CPIAll + CPIEnergy ', data = Rav4_train)\nmodel_1 = ols_1.fit()\nprint(model_1.summary())",
    "id": "cb297c688a854ac78fa5e2d058cce714",
    "idx": 6,
    "time": "2021-02-10T07:07:57.100Z",
    "type": "execution"
   },
   {
    "code": "#ii) How did you select the variables to include in your linear regression model?\nfrom statsmodels.stats.outliers_influence import variance_inflation_factor\n\ndef VIF(df, columns):\n    values = sm.add_constant(df[columns]).values\n    num_columns = len(columns)+1\n    vif = [variance_inflation_factor(values, i) for i in range(num_columns)]\n    return pd.Series(vif[1:], index=columns)",
    "id": "602650a568e14aedab34dae09b95bec1",
    "idx": 7,
    "time": "2021-02-10T07:07:57.261Z",
    "type": "execution"
   },
   {
    "code": "cols_1 = ['Unemployment', 'RAV4Queries', 'CPIAll', 'CPIEnergy']\nVIF(Rav4_train, cols_1)",
    "id": "2f0dec460fba46b98c0ab0c2f374b688",
    "idx": 8,
    "time": "2021-02-10T07:07:57.433Z",
    "type": "execution"
   },
   {
    "code": "ols_2 = smf.ols(formula='RAV4Sales ~ RAV4Queries + CPIAll + CPIEnergy ', data = Rav4_train)\nmodel_2 = ols_2.fit()\nprint(model_2.summary())",
    "id": "e382762d484a4b4386f3528c35dc6505",
    "idx": 10,
    "time": "2021-02-10T07:07:57.795Z",
    "type": "execution"
   },
   {
    "id": "cb297c688a854ac78fa5e2d058cce714",
    "time": "2021-02-10T07:07:58.022Z",
    "type": "completion"
   },
   {
    "id": "602650a568e14aedab34dae09b95bec1",
    "time": "2021-02-10T07:07:58.027Z",
    "type": "completion"
   },
   {
    "code": "cols_2 = ['RAV4Queries', 'CPIAll', 'CPIEnergy']\nVIF(Rav4_train, cols_2)",
    "id": "a1eeab16e4424ff29be8b62f6271fd02",
    "idx": 11,
    "time": "2021-02-10T07:07:58.056Z",
    "type": "execution"
   },
   {
    "id": "2f0dec460fba46b98c0ab0c2f374b688",
    "time": "2021-02-10T07:07:58.154Z",
    "type": "completion"
   },
   {
    "id": "e382762d484a4b4386f3528c35dc6505",
    "time": "2021-02-10T07:07:58.155Z",
    "type": "completion"
   },
   {
    "id": "a1eeab16e4424ff29be8b62f6271fd02",
    "time": "2021-02-10T07:07:58.240Z",
    "type": "completion"
   },
   {
    "code": "#iii) Do the signs of the models coefficients make sense?  Are you reasonably sure that thesigns are correct?",
    "id": "b4455f94812f469589ea4bf42539b71b",
    "idx": 13,
    "time": "2021-02-10T07:07:58.501Z",
    "type": "execution"
   },
   {
    "id": "b4455f94812f469589ea4bf42539b71b",
    "time": "2021-02-10T07:07:58.673Z",
    "type": "completion"
   },
   {
    "code": "#iv) How well does the model predict training set observations? Can you justify the models performance on the training data with a quantifiable metric?\nols_3 = smf.ols(formula='RAV4Sales ~ CPIAll + CPIEnergy', data = Rav4_train)\nmodel_3 = ols_3.fit()\nprint(model_3.summary())",
    "id": "c59d7b33641b4e2c85a7fe73cc427d52",
    "idx": 15,
    "time": "2021-02-10T07:07:58.886Z",
    "type": "execution"
   },
   {
    "id": "c59d7b33641b4e2c85a7fe73cc427d52",
    "time": "2021-02-10T07:07:59.078Z",
    "type": "completion"
   },
   {
    "code": "cols_3 = ['CPIAll', 'CPIEnergy']\nVIF(Rav4_train, cols_3)",
    "id": "60c9b30cc9ee47a189e1c769d90c7e70",
    "idx": 16,
    "time": "2021-02-10T07:07:59.098Z",
    "type": "execution"
   },
   {
    "id": "60c9b30cc9ee47a189e1c769d90c7e70",
    "time": "2021-02-10T07:07:59.279Z",
    "type": "completion"
   },
   {
    "code": "#Plot the sales of RAV4 versus Year, by different months\nimport seaborn as sns\nimport matplotlib.pyplot as plt\nsns.set_theme(style=\"darkgrid\")\n# Load an example dataset with long-form data\nfmri = sns.load_dataset(\"fmri\")\n\n# Plot the responses for different events and regions\ng = sns.lineplot(x=\"Year\", y=\"RAV4Sales\", hue=\"MonthFactor\", data=Rav4_train)\nplt.legend(bbox_to_anchor=(1.05, 1), loc=2, borderaxespad=0.)",
    "id": "3d7f1bb7f7554311bd89aaffc603ea8d",
    "idx": 18,
    "time": "2021-02-10T07:07:59.535Z",
    "type": "execution"
   },
   {
    "code": "Rav4_train2 = Rav4_train[(Rav4_train['MonthFactor'] == 'January') | (Rav4_train['MonthFactor'] == 'February')]\ng = sns.lineplot(x=\"Year\", y=\"RAV4Sales\", hue=\"MonthFactor\", data=Rav4_train2).set_title(\"RAV4 Sales for Jan and Feb\")\nplt.legend(bbox_to_anchor=(1.05, 1), loc=2, borderaxespad=0.)",
    "id": "0c5f83ef1b204697b00c8c01ceee220f",
    "idx": 19,
    "time": "2021-02-10T07:07:59.752Z",
    "type": "execution"
   },
   {
    "code": "#Using One hot encoding to use specific MonthFactors\nfrom sklearn.feature_extraction import DictVectorizer\nall_columns = ['MonthFactor', 'Year', 'RAV4Sales', 'Unemployment', \n               'RAV4Queries', 'CPIAll','CPIEnergy']\n\nrecords = Rav4_train[all_columns].to_dict(orient='records')\nencoder = DictVectorizer(sparse=False)\nencoded_X = encoder.fit_transform(records)\nencoded_X",
    "id": "ed8e1c9f59ae4bb28a320981f56d9d36",
    "idx": 20,
    "time": "2021-02-10T07:07:59.939Z",
    "type": "execution"
   },
   {
    "code": "#To get a better sense of the transformed data, we display it with the column names\nRav4_train_mf = pd.DataFrame(data=encoded_X, columns=encoder.feature_names_)\nRav4_train_mf2 = Rav4_train_mf.rename(columns={\"MonthFactor=January\": \"Jan\",\n                                               \"MonthFactor=February\": \"Feb\",\n                                               \"MonthFactor=March\": \"Mar\",\n                                               \"MonthFactor=April\": \"Apr\",\n                                               \"MonthFactor=May\": \"May\",\n                                               \"MonthFactor=June\": \"Jun\",\n                                               \"MonthFactor=July\": \"Jul\",\n                                               \"MonthFactor=August\": \"Aug\",\n                                               \"MonthFactor=September\": \"Sep\",\n                                               \"MonthFactor=October\": \"Oct\",\n                                               \"MonthFactor=November\": \"Nov\",\n                                               \"MonthFactor=December\": \"Dec\"})\nRav4_train_mf2.head()",
    "id": "ae9695519c224f8a8c29cc238782735a",
    "idx": 21,
    "time": "2021-02-10T07:08:00.175Z",
    "type": "execution"
   },
   {
    "code": "#b \n#Construct a new linear regression model using theMonthFactorvariable as an independentvariable, in addition to all four of the variables you used at the start of part(a)\nols_4 = smf.ols(formula='RAV4Sales ~ MonthFactor + Unemployment + RAV4Queries + CPIAll + CPIEnergy', data = Rav4_train)\nmodel_4 = ols_4.fit()\nprint(model_4.summary())",
    "id": "4ecf25f203bc4c398669df57ec502902",
    "idx": 22,
    "time": "2021-02-10T07:08:00.543Z",
    "type": "execution"
   },
   {
    "id": "3d7f1bb7f7554311bd89aaffc603ea8d",
    "time": "2021-02-10T07:08:01.028Z",
    "type": "completion"
   },
   {
    "id": "0c5f83ef1b204697b00c8c01ceee220f",
    "time": "2021-02-10T07:08:01.202Z",
    "type": "completion"
   },
   {
    "code": "ols_5 = smf.ols(formula='RAV4Sales ~ Jan + Feb + CPIAll + CPIEnergy', data = Rav4_train_mf2)\nmodel_5 = ols_5.fit()\nprint(model_5.summary())",
    "id": "119ab3db10834abe8a0cc958fc025451",
    "idx": 24,
    "time": "2021-02-10T07:08:01.386Z",
    "type": "execution"
   },
   {
    "id": "ed8e1c9f59ae4bb28a320981f56d9d36",
    "time": "2021-02-10T07:08:01.495Z",
    "type": "completion"
   },
   {
    "id": "ae9695519c224f8a8c29cc238782735a",
    "time": "2021-02-10T07:08:01.531Z",
    "type": "completion"
   },
   {
    "id": "4ecf25f203bc4c398669df57ec502902",
    "time": "2021-02-10T07:08:01.582Z",
    "type": "completion"
   },
   {
    "id": "119ab3db10834abe8a0cc958fc025451",
    "time": "2021-02-10T07:08:01.624Z",
    "type": "completion"
   },
   {
    "code": "cols_5 = ['Jan', 'Feb', 'CPIAll', 'CPIEnergy']\nVIF(Rav4_train_mf2, cols_5)",
    "id": "91ce347663d549f7871d2a06b26bea2c",
    "idx": 25,
    "time": "2021-02-10T07:08:01.835Z",
    "type": "execution"
   },
   {
    "id": "91ce347663d549f7871d2a06b26bea2c",
    "time": "2021-02-10T07:08:02.035Z",
    "type": "completion"
   },
   {
    "code": "#b\n#i) Describe your new model. What is the regression equation? (Do not simply copy andpaste output  from  Python. How  should  one  interpret  the  coefficients  of  each  of  theMonthFactordummy variables?",
    "id": "7abe145699d94359b6dd7a595f25a5de",
    "idx": 26,
    "time": "2021-02-10T07:08:03.113Z",
    "type": "execution"
   },
   {
    "id": "7abe145699d94359b6dd7a595f25a5de",
    "time": "2021-02-10T07:08:03.295Z",
    "type": "completion"
   },
   {
    "code": "#ii) What is the training set R^2 for the new model? Which variables are significant?",
    "id": "f6007838a6fe4821905c4e004e0824d6",
    "idx": 28,
    "time": "2021-02-10T07:08:04.050Z",
    "type": "execution"
   },
   {
    "id": "f6007838a6fe4821905c4e004e0824d6",
    "time": "2021-02-10T07:08:04.224Z",
    "type": "completion"
   },
   {
    "code": "#iii) Do you think adding the independent variable MonthFactor improves the quality of themodel?  Why or why not?",
    "id": "ae9e23152e4e4de9b2905e1a355f4859",
    "idx": 30,
    "time": "2021-02-10T07:08:04.499Z",
    "type": "execution"
   },
   {
    "id": "ae9e23152e4e4de9b2905e1a355f4859",
    "time": "2021-02-10T07:08:04.683Z",
    "type": "completion"
   },
   {
    "code": "#iv) Can you think of a different way that you might use the given data to model seasonality? Do you think your new way would improve on the best model you have constructed sofar? ",
    "id": "841d55781e6d4e8d89f824c9407ae63c",
    "idx": 32,
    "time": "2021-02-10T07:08:05.013Z",
    "type": "execution"
   },
   {
    "id": "841d55781e6d4e8d89f824c9407ae63c",
    "time": "2021-02-10T07:08:05.184Z",
    "type": "completion"
   },
   {
    "code": "#c) Build a final model using a subset of the independent variables used in parts(a)and(b), providing a brief justification for the variables selected.  What is the training set R2and theOSR2(this is theR2of your model on the test set)?  Do you think your model wouldbe useful to Toyota?  Why or why not?",
    "id": "4aeca0e38702434f8bc84beffada0b20",
    "idx": 34,
    "time": "2021-02-10T07:08:05.918Z",
    "type": "execution"
   },
   {
    "id": "4aeca0e38702434f8bc84beffada0b20",
    "time": "2021-02-10T07:08:06.105Z",
    "type": "completion"
   },
   {
    "code": "ols_final = smf.ols(formula='RAV4Sales ~ MonthFactor + CPIAll + CPIEnergy', data = Rav4_train)\nmodel_final = ols_final.fit()\nprint(model_final.summary())",
    "id": "554cef5f655d41008bb3d0932d3183d2",
    "idx": 35,
    "time": "2021-02-10T07:08:06.160Z",
    "type": "execution"
   },
   {
    "id": "554cef5f655d41008bb3d0932d3183d2",
    "time": "2021-02-10T07:08:06.365Z",
    "type": "completion"
   },
   {
    "code": "# Compute out-of-sample R-squared using the test set\ndef OSR2(model, df_train, df_test, dependent_var):   \n    y_test = df_test[dependent_var]\n    y_pred = model.predict(df_test)\n    SSE = np.sum((y_test - y_pred)**2)\n    SST = np.sum((y_test - np.mean(df_train[dependent_var]))**2)    \n    return 1 - SSE/SST\n\nOSR2(model_final, Rav4_train, Rav4_test, 'RAV4Sales')",
    "id": "c804f9abdcb94e918834dcf7e514190a",
    "idx": 36,
    "time": "2021-02-10T07:08:06.991Z",
    "type": "execution"
   },
   {
    "id": "c804f9abdcb94e918834dcf7e514190a",
    "time": "2021-02-10T07:08:07.179Z",
    "type": "completion"
   },
   {
    "code": "OSR2(ols_5, Rav4_train_mf2, Rav4_test, 'RAV4Sales')",
    "id": "765f12a7df924ed5a05f2dfd4309ff8a",
    "idx": 37,
    "time": "2021-02-10T07:08:07.855Z",
    "type": "execution"
   },
   {
    "id": "765f12a7df924ed5a05f2dfd4309ff8a",
    "time": "2021-02-10T07:08:08.176Z",
    "type": "completion"
   },
   {
    "code": "OSR2(ols_5, Rav4_train, Rav4_test, 'RAV4Sales')",
    "id": "765f12a7df924ed5a05f2dfd4309ff8a",
    "idx": 37,
    "time": "2021-02-10T07:08:31.020Z",
    "type": "execution"
   },
   {
    "id": "765f12a7df924ed5a05f2dfd4309ff8a",
    "time": "2021-02-10T07:08:31.367Z",
    "type": "completion"
   },
   {
    "code": "#To get a better sense of the transformed data, we display it with the column names\nRav4_train_mf = pd.DataFrame(data=encoded_X, columns=encoder.feature_names_)\nRav4_train_mf22 = Rav4_train_mf.rename(columns={\"MonthFactor=January\": \"Jan\",\n                                               \"MonthFactor=February\": \"Feb\",\n                                               \"MonthFactor=March\": \"Mar\",\n                                               \"MonthFactor=April\": \"Apr\",\n                                               \"MonthFactor=May\": \"May\",\n                                               \"MonthFactor=June\": \"Jun\",\n                                               \"MonthFactor=July\": \"Jul\",\n                                               \"MonthFactor=August\": \"Aug\",\n                                               \"MonthFactor=September\": \"Sep\",\n                                               \"MonthFactor=October\": \"Oct\",\n                                               \"MonthFactor=November\": \"Nov\",\n                                               \"MonthFactor=December\": \"Dec\"})\nRav4_train_mf22.head()",
    "id": "ae9695519c224f8a8c29cc238782735a",
    "idx": 21,
    "time": "2021-02-10T07:11:27.082Z",
    "type": "execution"
   },
   {
    "id": "ae9695519c224f8a8c29cc238782735a",
    "time": "2021-02-10T07:11:27.284Z",
    "type": "completion"
   },
   {
    "code": "Rav4_train_mf2 = Rav4_train_mf22[(Rav4_train_mf22['Year'] >= 2011) & (Rav4_train_mf22['Year'] <= 2016)]\nRav4_test_2 = Rav4_train_mf22[(Rav4_train_mf22['Year'] >= 2017) & (Rav4_train_mf22['Year'] <= 2020)]\n",
    "id": "0b5e88bc738d4e3086e1424f746fbc91",
    "idx": 22,
    "time": "2021-02-10T07:11:28.454Z",
    "type": "execution"
   },
   {
    "id": "0b5e88bc738d4e3086e1424f746fbc91",
    "time": "2021-02-10T07:11:28.628Z",
    "type": "completion"
   },
   {
    "code": "OSR2(ols_5, Rav4_train_mf2, Rav4_test_2, 'RAV4Sales')",
    "id": "765f12a7df924ed5a05f2dfd4309ff8a",
    "idx": 38,
    "time": "2021-02-10T07:11:54.830Z",
    "type": "execution"
   },
   {
    "id": "765f12a7df924ed5a05f2dfd4309ff8a",
    "time": "2021-02-10T07:11:55.158Z",
    "type": "completion"
   },
   {
    "code": "# Compute out-of-sample R-squared using the test set\ndef OSR2(model, df_train, df_test, dependent_var):   \n    y_test = df_test[dependent_var]\n    y_pred = model.predict(df_test)\n    SSE = np.sum((y_test - y_pred)**2)\n    SST = np.sum((y_test - np.mean(df_train[dependent_var]))**2)    \n    return 1 - SSE/SST\n\nOSR2(model_final, Rav4_train, Rav4_test, 'RAV4Sales')",
    "id": "c804f9abdcb94e918834dcf7e514190a",
    "idx": 37,
    "time": "2021-02-10T07:12:08.675Z",
    "type": "execution"
   },
   {
    "id": "c804f9abdcb94e918834dcf7e514190a",
    "time": "2021-02-10T07:12:08.867Z",
    "type": "completion"
   },
   {
    "code": "OSR2(ols_5, Rav4_train_mf2, Rav4_test_2, 'RAV4Sales')",
    "id": "765f12a7df924ed5a05f2dfd4309ff8a",
    "idx": 38,
    "time": "2021-02-10T07:12:09.443Z",
    "type": "execution"
   },
   {
    "id": "765f12a7df924ed5a05f2dfd4309ff8a",
    "time": "2021-02-10T07:12:09.758Z",
    "type": "completion"
   },
   {
    "code": "# Problem 2\n# a) Start  by  splitting  the  data  into  a  training  set  and  testing  set. The trainingset should contain all observations for 2011 through 2016.  \n#The testing set should have allobservations for 2017 through 2020.\n\nRav4_train = Rav4[(Rav4['Year'] >= 2011) & (Rav4['Year'] <= 2016)]\nRav4_test = Rav4[(Rav4['Year'] >= 2017) & (Rav4['Year'] <= 2020)]\n\nRav4_train.head()\nRav4_train.info()",
    "id": "74569a8be57c4ac6896f34742b95d852",
    "idx": 3,
    "time": "2021-02-10T07:13:36.589Z",
    "type": "execution"
   },
   {
    "id": "74569a8be57c4ac6896f34742b95d852",
    "time": "2021-02-10T07:13:36.793Z",
    "type": "completion"
   },
   {
    "code": "# Problem 2\n# a) Start  by  splitting  the  data  into  a  training  set  and  testing  set. The trainingset should contain all observations for 2011 through 2016.  \n#The testing set should have allobservations for 2017 through 2020.\n\nRav4_train = Rav4[(Rav4['Year'] >= 2011) & (Rav4['Year'] <= 2016)]\nRav4_test = Rav4[(Rav4['Year'] >= 2017) & (Rav4['Year'] <= 2020)]\n\nRav4_train.head()",
    "id": "74569a8be57c4ac6896f34742b95d852",
    "idx": 3,
    "time": "2021-02-10T07:13:41.946Z",
    "type": "execution"
   },
   {
    "id": "74569a8be57c4ac6896f34742b95d852",
    "time": "2021-02-10T07:13:42.135Z",
    "type": "completion"
   },
   {
    "code": "Rav4_train_mf2 = Rav4_train_mf22[(Rav4_train_mf22['Year'] >= 2011) & (Rav4_train_mf22['Year'] <= 2016)]\nRav4_test_2 = Rav4_train_mf22[(Rav4_train_mf22['Year'] >= 2017) & (Rav4_train_mf22['Year'] <= 2020)]\nRav4_train_mf2.head()",
    "id": "0b5e88bc738d4e3086e1424f746fbc91",
    "idx": 22,
    "time": "2021-02-10T07:13:59.822Z",
    "type": "execution"
   },
   {
    "id": "0b5e88bc738d4e3086e1424f746fbc91",
    "time": "2021-02-10T07:14:00.050Z",
    "type": "completion"
   },
   {
    "code": "Rav4_train_mf2 = Rav4_train_mf22[(Rav4_train_mf22['Year'] >= 2011) & (Rav4_train_mf22['Year'] <= 2016)]\nRav4_test_2 = Rav4_train_mf22[(Rav4_train_mf22['Year'] >= 2017) & (Rav4_train_mf22['Year'] <= 2020)]\nRav4_train_mf2.info()",
    "id": "0b5e88bc738d4e3086e1424f746fbc91",
    "idx": 22,
    "time": "2021-02-10T07:14:04.698Z",
    "type": "execution"
   },
   {
    "id": "0b5e88bc738d4e3086e1424f746fbc91",
    "time": "2021-02-10T07:14:04.888Z",
    "type": "completion"
   },
   {
    "code": "Rav4_train_mf2 = Rav4_train_mf22[(Rav4_train_mf22['Year'] >= 2011) & (Rav4_train_mf22['Year'] <= 2016)]\nRav4_test_2 = Rav4_train_mf22[(Rav4_train_mf22['Year'] >= 2017) & (Rav4_train_mf22['Year'] <= 2020)]\nRav4_test_2.info()",
    "id": "0b5e88bc738d4e3086e1424f746fbc91",
    "idx": 22,
    "time": "2021-02-10T07:14:21.883Z",
    "type": "execution"
   },
   {
    "id": "0b5e88bc738d4e3086e1424f746fbc91",
    "time": "2021-02-10T07:14:22.071Z",
    "type": "completion"
   },
   {
    "code": "# Problem 2\n# a) Start  by  splitting  the  data  into  a  training  set  and  testing  set. The trainingset should contain all observations for 2011 through 2016.  \n#The testing set should have allobservations for 2017 through 2020.\n\nRav4_train = Rav4[(Rav4['Year'] >= 2011) & (Rav4['Year'] <= 2016)]\nRav4_test = Rav4[(Rav4['Year'] >= 2017) & (Rav4['Year'] <= 2020)]\n\nRav4_test.info()",
    "id": "74569a8be57c4ac6896f34742b95d852",
    "idx": 3,
    "time": "2021-02-10T07:14:35.685Z",
    "type": "execution"
   },
   {
    "id": "74569a8be57c4ac6896f34742b95d852",
    "time": "2021-02-10T07:14:35.870Z",
    "type": "completion"
   },
   {
    "code": "#OSR2(ols_5, Rav4_train_mf2, Rav4_test, 'RAV4Sales')",
    "id": "765f12a7df924ed5a05f2dfd4309ff8a",
    "idx": 38,
    "time": "2021-02-10T07:15:46.816Z",
    "type": "execution"
   },
   {
    "code": "OSR2(ols_5, Rav4_train_mf2, Rav4_test, 'RAV4Sales')",
    "id": "765f12a7df924ed5a05f2dfd4309ff8a",
    "idx": 38,
    "time": "2021-02-10T07:15:51.406Z",
    "type": "execution"
   },
   {
    "code": "# Compute out-of-sample R-squared using the test set\ndef OSR2(model, df_train, df_test, dependent_var):   \n    y_test = df_test[dependent_var]\n    y_pred = model.predict(df_test)\n    SSE = np.sum((y_test - y_pred)**2)\n    SST = np.sum((y_test - np.mean(df_train[dependent_var]))**2)    \n    return 1 - SSE/SST\n\nOSR2(model_final, Rav4_train, Rav4_test, 'RAV4Sales')",
    "id": "c804f9abdcb94e918834dcf7e514190a",
    "idx": 37,
    "time": "2021-02-10T07:15:54.682Z",
    "type": "execution"
   },
   {
    "code": "OSR2(ols_5, Rav4_train_mf2, Rav4_test, 'RAV4Sales')",
    "id": "765f12a7df924ed5a05f2dfd4309ff8a",
    "idx": 38,
    "time": "2021-02-10T07:15:56.220Z",
    "type": "execution"
   },
   {
    "code": "ols_final = smf.ols(formula='RAV4Sales ~ MonthFactor + CPIAll + CPIEnergy', data = Rav4_train)\nmodel_final = ols_final.fit()\nprint(model_final.summary())",
    "id": "554cef5f655d41008bb3d0932d3183d2",
    "idx": 36,
    "time": "2021-02-10T07:16:02.837Z",
    "type": "execution"
   },
   {
    "id": "c804f9abdcb94e918834dcf7e514190a",
    "time": "2021-02-10T07:16:04.469Z",
    "type": "completion"
   },
   {
    "id": "765f12a7df924ed5a05f2dfd4309ff8a",
    "time": "2021-02-10T07:16:04.470Z",
    "type": "completion"
   },
   {
    "id": "765f12a7df924ed5a05f2dfd4309ff8a",
    "time": "2021-02-10T07:16:04.470Z",
    "type": "completion"
   },
   {
    "id": "765f12a7df924ed5a05f2dfd4309ff8a",
    "time": "2021-02-10T07:16:04.470Z",
    "type": "completion"
   },
   {
    "id": "554cef5f655d41008bb3d0932d3183d2",
    "time": "2021-02-10T07:16:04.471Z",
    "type": "completion"
   },
   {
    "code": "import numpy as np\nimport pandas as pd",
    "id": "e6d674de16d64a9f896eea51c82ad60c",
    "idx": 0,
    "time": "2021-02-10T07:17:07.203Z",
    "type": "execution"
   },
   {
    "code": "#Loading data\nRav4 = pd.read_csv('RAV4-142-Spring2021.csv')\nRav4.info()",
    "id": "9f3e0fe80fad4724843b26a87b4bad96",
    "idx": 1,
    "time": "2021-02-10T07:17:07.883Z",
    "type": "execution"
   },
   {
    "id": "e6d674de16d64a9f896eea51c82ad60c",
    "time": "2021-02-10T07:18:16.135Z",
    "type": "completion"
   },
   {
    "id": "9f3e0fe80fad4724843b26a87b4bad96",
    "time": "2021-02-10T07:18:16.178Z",
    "type": "completion"
   },
   {
    "code": "Rav4.head()",
    "id": "fc0f47a23c2546a18bd80f1bebc18ff2",
    "idx": 2,
    "time": "2021-02-10T07:19:58.987Z",
    "type": "execution"
   },
   {
    "id": "fc0f47a23c2546a18bd80f1bebc18ff2",
    "time": "2021-02-10T07:19:59.208Z",
    "type": "completion"
   },
   {
    "code": "# Problem 2\n# a) Start  by  splitting  the  data  into  a  training  set  and  testing  set. The trainingset should contain all observations for 2011 through 2016.  \n#The testing set should have allobservations for 2017 through 2020.\n\nRav4_train = Rav4[(Rav4['Year'] >= 2011) & (Rav4['Year'] <= 2016)]\nRav4_test = Rav4[(Rav4['Year'] >= 2017) & (Rav4['Year'] <= 2020)]\n\n#Rav4_test.info()",
    "id": "74569a8be57c4ac6896f34742b95d852",
    "idx": 3,
    "time": "2021-02-10T07:20:01.082Z",
    "type": "execution"
   },
   {
    "id": "74569a8be57c4ac6896f34742b95d852",
    "time": "2021-02-10T07:20:01.268Z",
    "type": "completion"
   },
   {
    "code": "#i) What  is  the  linear  regression  equation  produced  by  your  model,  and  how  should  one interpret the coefficients for the independent variables?  \n#Consider interpretability issues when  writing  down  the  equation  (e.g.,  do  not  just  copy  and  paste  the  output  from Python)",
    "id": "c0187d83472c46129426dc7bf7037d9b",
    "idx": 4,
    "time": "2021-02-10T07:20:01.500Z",
    "type": "execution"
   },
   {
    "id": "c0187d83472c46129426dc7bf7037d9b",
    "time": "2021-02-10T07:20:01.688Z",
    "type": "completion"
   },
   {
    "code": "# Problem 2\n# a) Start  by  splitting  the  data  into  a  training  set  and  testing  set. The trainingset should contain all observations for 2011 through 2016.  \n#The testing set should have allobservations for 2017 through 2020.\n\nRav4_train = Rav4[(Rav4['Year'] >= 2011) & (Rav4['Year'] <= 2016)]\nRav4_test = Rav4[(Rav4['Year'] >= 2017) & (Rav4['Year'] <= 2020)]",
    "id": "74569a8be57c4ac6896f34742b95d852",
    "idx": 3,
    "time": "2021-02-10T07:20:06.263Z",
    "type": "execution"
   },
   {
    "id": "74569a8be57c4ac6896f34742b95d852",
    "time": "2021-02-10T07:20:06.439Z",
    "type": "completion"
   },
   {
    "code": "#i) What  is  the  linear  regression  equation  produced  by  your  model,  and  how  should  one interpret the coefficients for the independent variables?  \n#Consider interpretability issues when  writing  down  the  equation  (e.g.,  do  not  just  copy  and  paste  the  output  from Python)",
    "id": "c0187d83472c46129426dc7bf7037d9b",
    "idx": 4,
    "time": "2021-02-10T07:20:06.978Z",
    "type": "execution"
   },
   {
    "id": "c0187d83472c46129426dc7bf7037d9b",
    "time": "2021-02-10T07:20:07.155Z",
    "type": "completion"
   },
   {
    "code": "import statsmodels.api as sm\nimport statsmodels.formula.api as smf\n\nols_1 = smf.ols(formula='RAV4Sales ~ Unemployment + RAV4Queries + CPIAll + CPIEnergy ', data = Rav4_train)\nmodel_1 = ols_1.fit()\nprint(model_1.summary())",
    "id": "cb297c688a854ac78fa5e2d058cce714",
    "idx": 6,
    "time": "2021-02-10T07:20:07.718Z",
    "type": "execution"
   },
   {
    "id": "cb297c688a854ac78fa5e2d058cce714",
    "time": "2021-02-10T07:20:07.957Z",
    "type": "completion"
   },
   {
    "code": "#ii) How did you select the variables to include in your linear regression model?\nfrom statsmodels.stats.outliers_influence import variance_inflation_factor\n\ndef VIF(df, columns):\n    values = sm.add_constant(df[columns]).values\n    num_columns = len(columns)+1\n    vif = [variance_inflation_factor(values, i) for i in range(num_columns)]\n    return pd.Series(vif[1:], index=columns)",
    "id": "602650a568e14aedab34dae09b95bec1",
    "idx": 7,
    "time": "2021-02-10T07:20:14.527Z",
    "type": "execution"
   },
   {
    "id": "602650a568e14aedab34dae09b95bec1",
    "time": "2021-02-10T07:20:14.710Z",
    "type": "completion"
   },
   {
    "code": "cols_1 = ['Unemployment', 'RAV4Queries', 'CPIAll', 'CPIEnergy']\nVIF(Rav4_train, cols_1)",
    "id": "2f0dec460fba46b98c0ab0c2f374b688",
    "idx": 8,
    "time": "2021-02-10T07:20:15.818Z",
    "type": "execution"
   },
   {
    "id": "2f0dec460fba46b98c0ab0c2f374b688",
    "time": "2021-02-10T07:20:16.023Z",
    "type": "completion"
   },
   {
    "code": "ols_2 = smf.ols(formula='RAV4Sales ~ RAV4Queries + CPIAll + CPIEnergy ', data = Rav4_train)\nmodel_2 = ols_2.fit()\nprint(model_2.summary())",
    "id": "e382762d484a4b4386f3528c35dc6505",
    "idx": 10,
    "time": "2021-02-10T07:20:20.343Z",
    "type": "execution"
   },
   {
    "id": "e382762d484a4b4386f3528c35dc6505",
    "time": "2021-02-10T07:20:20.551Z",
    "type": "completion"
   },
   {
    "code": "cols_2 = ['RAV4Queries', 'CPIAll', 'CPIEnergy']\nVIF(Rav4_train, cols_2)",
    "id": "a1eeab16e4424ff29be8b62f6271fd02",
    "idx": 11,
    "time": "2021-02-10T07:20:28.817Z",
    "type": "execution"
   },
   {
    "id": "a1eeab16e4424ff29be8b62f6271fd02",
    "time": "2021-02-10T07:20:29.011Z",
    "type": "completion"
   },
   {
    "code": "#iii) Do the signs of the models coefficients make sense?  Are you reasonably sure that thesigns are correct?",
    "id": "b4455f94812f469589ea4bf42539b71b",
    "idx": 13,
    "time": "2021-02-10T07:20:33.151Z",
    "type": "execution"
   },
   {
    "id": "b4455f94812f469589ea4bf42539b71b",
    "time": "2021-02-10T07:20:33.327Z",
    "type": "completion"
   },
   {
    "code": "#iv) How well does the model predict training set observations? Can you justify the models performance on the training data with a quantifiable metric?\nols_3 = smf.ols(formula='RAV4Sales ~ CPIAll + CPIEnergy', data = Rav4_train)\nmodel_3 = ols_3.fit()\nprint(model_3.summary())",
    "id": "c59d7b33641b4e2c85a7fe73cc427d52",
    "idx": 15,
    "time": "2021-02-10T07:20:34.525Z",
    "type": "execution"
   },
   {
    "id": "c59d7b33641b4e2c85a7fe73cc427d52",
    "time": "2021-02-10T07:20:34.722Z",
    "type": "completion"
   },
   {
    "code": "cols_3 = ['CPIAll', 'CPIEnergy']\nVIF(Rav4_train, cols_3)",
    "id": "60c9b30cc9ee47a189e1c769d90c7e70",
    "idx": 16,
    "time": "2021-02-10T07:20:42.638Z",
    "type": "execution"
   },
   {
    "id": "60c9b30cc9ee47a189e1c769d90c7e70",
    "time": "2021-02-10T07:20:42.842Z",
    "type": "completion"
   },
   {
    "code": "#iv) How well does the model predict training set observations? Can you justify the models performance on the training data with a quantifiable metric?\nols_3 = smf.ols(formula='RAV4Sales ~ Unemployment + CPIAll + CPIEnergy', data = Rav4_train)\nmodel_3 = ols_3.fit()\nprint(model_3.summary())",
    "id": "c59d7b33641b4e2c85a7fe73cc427d52",
    "idx": 15,
    "time": "2021-02-10T07:20:53.521Z",
    "type": "execution"
   },
   {
    "id": "c59d7b33641b4e2c85a7fe73cc427d52",
    "time": "2021-02-10T07:20:53.743Z",
    "type": "completion"
   },
   {
    "code": "cols_3 = ['Unemployment','CPIAll', 'CPIEnergy']\nVIF(Rav4_train, cols_3)",
    "id": "60c9b30cc9ee47a189e1c769d90c7e70",
    "idx": 16,
    "time": "2021-02-10T07:21:05.705Z",
    "type": "execution"
   },
   {
    "id": "60c9b30cc9ee47a189e1c769d90c7e70",
    "time": "2021-02-10T07:21:05.916Z",
    "type": "completion"
   },
   {
    "code": "#iv) How well does the model predict training set observations? Can you justify the models performance on the training data with a quantifiable metric?\nols_3 = smf.ols(formula='RAV4Sales ~ CPIAll + CPIEnergy', data = Rav4_train)\nmodel_3 = ols_3.fit()\nprint(model_3.summary())",
    "id": "c59d7b33641b4e2c85a7fe73cc427d52",
    "idx": 15,
    "time": "2021-02-10T07:21:27.866Z",
    "type": "execution"
   },
   {
    "id": "c59d7b33641b4e2c85a7fe73cc427d52",
    "time": "2021-02-10T07:21:28.070Z",
    "type": "completion"
   },
   {
    "code": "cols_3 = ['CPIAll', 'CPIEnergy']\nVIF(Rav4_train, cols_3)",
    "id": "60c9b30cc9ee47a189e1c769d90c7e70",
    "idx": 16,
    "time": "2021-02-10T07:21:30.872Z",
    "type": "execution"
   },
   {
    "id": "60c9b30cc9ee47a189e1c769d90c7e70",
    "time": "2021-02-10T07:21:31.063Z",
    "type": "completion"
   },
   {
    "code": "#Plot the sales of RAV4 versus Year, by different months\nimport seaborn as sns\nimport matplotlib.pyplot as plt\nsns.set_theme(style=\"darkgrid\")\n# Load an example dataset with long-form data\nfmri = sns.load_dataset(\"fmri\")\n\n# Plot the responses for different events and regions\ng = sns.lineplot(x=\"Year\", y=\"RAV4Sales\", hue=\"MonthFactor\", data=Rav4_train)\nplt.legend(bbox_to_anchor=(1.05, 1), loc=2, borderaxespad=0.)",
    "id": "3d7f1bb7f7554311bd89aaffc603ea8d",
    "idx": 18,
    "time": "2021-02-10T07:21:34.244Z",
    "type": "execution"
   },
   {
    "code": "Rav4_train2 = Rav4_train[(Rav4_train['MonthFactor'] == 'January') | (Rav4_train['MonthFactor'] == 'February')]\ng = sns.lineplot(x=\"Year\", y=\"RAV4Sales\", hue=\"MonthFactor\", data=Rav4_train2).set_title(\"RAV4 Sales for Jan and Feb\")\nplt.legend(bbox_to_anchor=(1.05, 1), loc=2, borderaxespad=0.)",
    "id": "0c5f83ef1b204697b00c8c01ceee220f",
    "idx": 19,
    "time": "2021-02-10T07:21:35.011Z",
    "type": "execution"
   },
   {
    "id": "3d7f1bb7f7554311bd89aaffc603ea8d",
    "time": "2021-02-10T07:21:35.527Z",
    "type": "completion"
   },
   {
    "id": "0c5f83ef1b204697b00c8c01ceee220f",
    "time": "2021-02-10T07:21:35.837Z",
    "type": "completion"
   },
   {
    "code": "#Using One hot encoding to use specific MonthFactors\nfrom sklearn.feature_extraction import DictVectorizer\nall_columns = ['MonthFactor', 'Year', 'RAV4Sales', 'Unemployment', \n               'RAV4Queries', 'CPIAll','CPIEnergy']\n\nrecords = Rav4_train[all_columns].to_dict(orient='records')\nencoder = DictVectorizer(sparse=False)\nencoded_X = encoder.fit_transform(records)\nencoded_X",
    "id": "ed8e1c9f59ae4bb28a320981f56d9d36",
    "idx": 20,
    "time": "2021-02-10T07:21:37.515Z",
    "type": "execution"
   },
   {
    "id": "ed8e1c9f59ae4bb28a320981f56d9d36",
    "time": "2021-02-10T07:21:37.709Z",
    "type": "completion"
   },
   {
    "code": "#To get a better sense of the transformed data, we display it with the column names\nRav4_train_mf = pd.DataFrame(data=encoded_X, columns=encoder.feature_names_)\nRav4_train_mf22 = Rav4_train_mf.rename(columns={\"MonthFactor=January\": \"Jan\",\n                                               \"MonthFactor=February\": \"Feb\",\n                                               \"MonthFactor=March\": \"Mar\",\n                                               \"MonthFactor=April\": \"Apr\",\n                                               \"MonthFactor=May\": \"May\",\n                                               \"MonthFactor=June\": \"Jun\",\n                                               \"MonthFactor=July\": \"Jul\",\n                                               \"MonthFactor=August\": \"Aug\",\n                                               \"MonthFactor=September\": \"Sep\",\n                                               \"MonthFactor=October\": \"Oct\",\n                                               \"MonthFactor=November\": \"Nov\",\n                                               \"MonthFactor=December\": \"Dec\"})\nRav4_train_mf22.head()",
    "id": "ae9695519c224f8a8c29cc238782735a",
    "idx": 21,
    "time": "2021-02-10T07:21:39.595Z",
    "type": "execution"
   },
   {
    "id": "ae9695519c224f8a8c29cc238782735a",
    "time": "2021-02-10T07:21:39.815Z",
    "type": "completion"
   },
   {
    "code": "Rav4_train_mf2 = Rav4_train_mf22[(Rav4_train_mf22['Year'] >= 2011) & (Rav4_train_mf22['Year'] <= 2016)]\n#Rav4_test_2 = Rav4_train_mf22[(Rav4_train_mf22['Year'] >= 2017) & (Rav4_train_mf22['Year'] <= 2020)]\n#Rav4_test_2.info()",
    "id": "0b5e88bc738d4e3086e1424f746fbc91",
    "idx": 22,
    "time": "2021-02-10T07:21:42.247Z",
    "type": "execution"
   },
   {
    "id": "0b5e88bc738d4e3086e1424f746fbc91",
    "time": "2021-02-10T07:21:42.427Z",
    "type": "completion"
   },
   {
    "code": "ols_5 = smf.ols(formula='RAV4Sales ~ Jan + Feb + CPIAll + CPIEnergy', data = Rav4_train_mf2)\nmodel_5 = ols_5.fit()\nprint(model_5.summary())",
    "id": "119ab3db10834abe8a0cc958fc025451",
    "idx": 25,
    "time": "2021-02-10T07:22:10.357Z",
    "type": "execution"
   },
   {
    "id": "119ab3db10834abe8a0cc958fc025451",
    "time": "2021-02-10T07:22:10.586Z",
    "type": "completion"
   },
   {
    "code": "ols_5 = smf.ols(formula='RAV4Sales ~ Jan + Feb + CPIAll + CPIEnergy', data = Rav4_train_mf2)\nmodel_5 = ols_5.fit()\nprint(model_5.summary())",
    "id": "119ab3db10834abe8a0cc958fc025451",
    "idx": 25,
    "time": "2021-02-10T07:22:14.272Z",
    "type": "execution"
   },
   {
    "id": "119ab3db10834abe8a0cc958fc025451",
    "time": "2021-02-10T07:22:14.481Z",
    "type": "completion"
   },
   {
    "code": "cols_5 = ['Jan', 'Feb', 'CPIAll', 'CPIEnergy']\nVIF(Rav4_train_mf2, cols_5)",
    "id": "91ce347663d549f7871d2a06b26bea2c",
    "idx": 26,
    "time": "2021-02-10T07:22:18.327Z",
    "type": "execution"
   },
   {
    "id": "91ce347663d549f7871d2a06b26bea2c",
    "time": "2021-02-10T07:22:18.518Z",
    "type": "completion"
   },
   {
    "code": "ols_final = smf.ols(formula='RAV4Sales ~ MonthFactor + CPIAll + CPIEnergy', data = Rav4_train)\nmodel_final = ols_final.fit()\nprint(model_final.summary())",
    "id": "554cef5f655d41008bb3d0932d3183d2",
    "idx": 36,
    "time": "2021-02-10T07:22:28.929Z",
    "type": "execution"
   },
   {
    "id": "554cef5f655d41008bb3d0932d3183d2",
    "time": "2021-02-10T07:22:29.137Z",
    "type": "completion"
   },
   {
    "code": "# Compute out-of-sample R-squared using the test set\ndef OSR2(model, df_train, df_test, dependent_var):   \n    y_test = df_test[dependent_var]\n    y_pred = model.predict(df_test)\n    SSE = np.sum((y_test - y_pred)**2)\n    SST = np.sum((y_test - np.mean(df_train[dependent_var]))**2)    \n    return 1 - SSE/SST\n\nOSR2(model_final, Rav4_train, Rav4_test, 'RAV4Sales')",
    "id": "c804f9abdcb94e918834dcf7e514190a",
    "idx": 37,
    "time": "2021-02-10T07:22:57.500Z",
    "type": "execution"
   },
   {
    "id": "c804f9abdcb94e918834dcf7e514190a",
    "time": "2021-02-10T07:22:57.704Z",
    "type": "completion"
   },
   {
    "code": "OSR2(ols_5, Rav4_train_mf2, Rav4_test, 'RAV4Sales')",
    "id": "765f12a7df924ed5a05f2dfd4309ff8a",
    "idx": 38,
    "time": "2021-02-10T07:22:58.595Z",
    "type": "execution"
   },
   {
    "id": "765f12a7df924ed5a05f2dfd4309ff8a",
    "time": "2021-02-10T07:22:58.924Z",
    "type": "completion"
   },
   {
    "code": "Rav4_train_mf2 = Rav4_train_mf22[(Rav4_train_mf22['Year'] >= 2011) & (Rav4_train_mf22['Year'] <= 2016)]",
    "id": "7d02a8869f6c44cd877e69f357d9a8c1",
    "idx": 22,
    "time": "2021-02-11T05:30:01.559Z",
    "type": "execution"
   },
   {
    "id": "7d02a8869f6c44cd877e69f357d9a8c1",
    "time": "2021-02-11T05:30:02.152Z",
    "type": "completion"
   },
   {
    "code": "import numpy as np\nimport pandas as pd",
    "id": "38c9c363a85d46c4868718973821f0a2",
    "idx": 0,
    "time": "2021-02-11T05:30:08.254Z",
    "type": "execution"
   },
   {
    "code": "#Loading data\nRav4 = pd.read_csv('RAV4-142-Spring2021.csv')\nRav4.info()",
    "id": "1a0bdff07d804214a7216c43e35f679a",
    "idx": 1,
    "time": "2021-02-11T05:30:08.517Z",
    "type": "execution"
   },
   {
    "code": "Rav4.head()",
    "id": "fb15c577af5448d28a1ae1504c0b8f4b",
    "idx": 2,
    "time": "2021-02-11T05:30:08.743Z",
    "type": "execution"
   },
   {
    "id": "38c9c363a85d46c4868718973821f0a2",
    "time": "2021-02-11T05:30:08.879Z",
    "type": "completion"
   },
   {
    "code": "# Problem 2\n# a) Start  by  splitting  the  data  into  a  training  set  and  testing  set. The trainingset should contain all observations for 2011 through 2016.  \n#The testing set should have allobservations for 2017 through 2020.\n\nRav4_train = Rav4[(Rav4['Year'] >= 2011) & (Rav4['Year'] <= 2016)]\nRav4_test = Rav4[(Rav4['Year'] >= 2017) & (Rav4['Year'] <= 2020)]",
    "id": "71b269bf771643769a542c2d9ebe1a66",
    "idx": 3,
    "time": "2021-02-11T05:30:08.923Z",
    "type": "execution"
   },
   {
    "id": "1a0bdff07d804214a7216c43e35f679a",
    "time": "2021-02-11T05:30:08.944Z",
    "type": "completion"
   },
   {
    "id": "fb15c577af5448d28a1ae1504c0b8f4b",
    "time": "2021-02-11T05:30:09.070Z",
    "type": "completion"
   },
   {
    "code": "#i) What  is  the  linear  regression  equation  produced  by  your  model,  and  how  should  one interpret the coefficients for the independent variables?  \n#Consider interpretability issues when  writing  down  the  equation  (e.g.,  do  not  just  copy  and  paste  the  output  from Python)",
    "id": "0dec8a1649bd44fc83bef428d1280272",
    "idx": 4,
    "time": "2021-02-11T05:30:09.104Z",
    "type": "execution"
   },
   {
    "id": "71b269bf771643769a542c2d9ebe1a66",
    "time": "2021-02-11T05:30:09.204Z",
    "type": "completion"
   },
   {
    "id": "0dec8a1649bd44fc83bef428d1280272",
    "time": "2021-02-11T05:30:09.344Z",
    "type": "completion"
   },
   {
    "code": "import statsmodels.api as sm\nimport statsmodels.formula.api as smf\n\nols_1 = smf.ols(formula='RAV4Sales ~ Unemployment + RAV4Queries + CPIAll + CPIEnergy ', data = Rav4_train)\nmodel_1 = ols_1.fit()\nprint(model_1.summary())",
    "id": "fd777955556e4ebf9a8f1ba2800d596b",
    "idx": 6,
    "time": "2021-02-11T05:30:09.454Z",
    "type": "execution"
   },
   {
    "code": "#ii) How did you select the variables to include in your linear regression model?\nfrom statsmodels.stats.outliers_influence import variance_inflation_factor\n\ndef VIF(df, columns):\n    values = sm.add_constant(df[columns]).values\n    num_columns = len(columns)+1\n    vif = [variance_inflation_factor(values, i) for i in range(num_columns)]\n    return pd.Series(vif[1:], index=columns)",
    "id": "370d9ce719eb4ae48ce55d51d5dc46f2",
    "idx": 7,
    "time": "2021-02-11T05:30:09.641Z",
    "type": "execution"
   },
   {
    "code": "cols_1 = ['Unemployment', 'RAV4Queries', 'CPIAll', 'CPIEnergy']\nVIF(Rav4_train, cols_1)",
    "id": "ab6205bb4d404e5eba2fbab71c98352c",
    "idx": 8,
    "time": "2021-02-11T05:30:09.817Z",
    "type": "execution"
   },
   {
    "code": "ols_2 = smf.ols(formula='RAV4Sales ~ RAV4Queries + CPIAll + CPIEnergy ', data = Rav4_train)\nmodel_2 = ols_2.fit()\nprint(model_2.summary())",
    "id": "10b2bce63e6e47d49f897fa91f6f7a39",
    "idx": 10,
    "time": "2021-02-11T05:30:10.191Z",
    "type": "execution"
   },
   {
    "code": "cols_2 = ['RAV4Queries', 'CPIAll', 'CPIEnergy']\nVIF(Rav4_train, cols_2)",
    "id": "b6fea5bd0f6e47749b9efcb22e723089",
    "idx": 11,
    "time": "2021-02-11T05:30:10.370Z",
    "type": "execution"
   },
   {
    "id": "fd777955556e4ebf9a8f1ba2800d596b",
    "time": "2021-02-11T05:30:10.523Z",
    "type": "completion"
   },
   {
    "id": "370d9ce719eb4ae48ce55d51d5dc46f2",
    "time": "2021-02-11T05:30:10.529Z",
    "type": "completion"
   },
   {
    "id": "ab6205bb4d404e5eba2fbab71c98352c",
    "time": "2021-02-11T05:30:10.669Z",
    "type": "completion"
   },
   {
    "id": "10b2bce63e6e47d49f897fa91f6f7a39",
    "time": "2021-02-11T05:30:10.671Z",
    "type": "completion"
   },
   {
    "id": "b6fea5bd0f6e47749b9efcb22e723089",
    "time": "2021-02-11T05:30:10.690Z",
    "type": "completion"
   },
   {
    "code": "#iii) Do the signs of the models coefficients make sense?  Are you reasonably sure that thesigns are correct?",
    "id": "c78bfcdc1d874f09801530e830dd935b",
    "idx": 13,
    "time": "2021-02-11T05:30:10.727Z",
    "type": "execution"
   },
   {
    "id": "c78bfcdc1d874f09801530e830dd935b",
    "time": "2021-02-11T05:30:10.902Z",
    "type": "completion"
   },
   {
    "code": "#iv) How well does the model predict training set observations? Can you justify the models performance on the training data with a quantifiable metric?\nols_3 = smf.ols(formula='RAV4Sales ~ CPIAll + CPIEnergy', data = Rav4_train)\nmodel_3 = ols_3.fit()\nprint(model_3.summary())",
    "id": "a802456ff1e5431aa457194decbe0b7b",
    "idx": 15,
    "time": "2021-02-11T05:30:11.109Z",
    "type": "execution"
   },
   {
    "code": "cols_3 = ['CPIAll', 'CPIEnergy']\nVIF(Rav4_train, cols_3)",
    "id": "273f511f08ef45dc9655e7f4a25cad0a",
    "idx": 16,
    "time": "2021-02-11T05:30:11.294Z",
    "type": "execution"
   },
   {
    "id": "a802456ff1e5431aa457194decbe0b7b",
    "time": "2021-02-11T05:30:11.320Z",
    "type": "completion"
   },
   {
    "id": "273f511f08ef45dc9655e7f4a25cad0a",
    "time": "2021-02-11T05:30:11.488Z",
    "type": "completion"
   },
   {
    "code": "#Plot the sales of RAV4 versus Year, by different months\nimport seaborn as sns\nimport matplotlib.pyplot as plt\nsns.set_theme(style=\"darkgrid\")\n# Load an example dataset with long-form data\nfmri = sns.load_dataset(\"fmri\")\n\n# Plot the responses for different events and regions\ng = sns.lineplot(x=\"Year\", y=\"RAV4Sales\", hue=\"MonthFactor\", data=Rav4_train)\nplt.legend(bbox_to_anchor=(1.05, 1), loc=2, borderaxespad=0.)",
    "id": "17d5e1744fab40489fe82579262b552c",
    "idx": 18,
    "time": "2021-02-11T05:30:11.662Z",
    "type": "execution"
   },
   {
    "code": "Rav4_train2 = Rav4_train[(Rav4_train['MonthFactor'] == 'January') | (Rav4_train['MonthFactor'] == 'February')]\ng = sns.lineplot(x=\"Year\", y=\"RAV4Sales\", hue=\"MonthFactor\", data=Rav4_train2).set_title(\"RAV4 Sales for Jan and Feb\")\nplt.legend(bbox_to_anchor=(1.05, 1), loc=2, borderaxespad=0.)",
    "id": "52fc3b6fb54f4faead530b13b8da2f5a",
    "idx": 19,
    "time": "2021-02-11T05:30:11.848Z",
    "type": "execution"
   },
   {
    "code": "#Using One hot encoding to use specific MonthFactors\nfrom sklearn.feature_extraction import DictVectorizer\nall_columns = ['MonthFactor', 'Year', 'RAV4Sales', 'Unemployment', \n               'RAV4Queries', 'CPIAll','CPIEnergy']\n\nrecords = Rav4_train[all_columns].to_dict(orient='records')\nencoder = DictVectorizer(sparse=False)\nencoded_X = encoder.fit_transform(records)\nencoded_X",
    "id": "7ce6efeb24fd4f8bb2e6ac32dbe860d7",
    "idx": 20,
    "time": "2021-02-11T05:30:12.023Z",
    "type": "execution"
   },
   {
    "code": "#To get a better sense of the transformed data, we display it with the column names\nRav4_train_mf = pd.DataFrame(data=encoded_X, columns=encoder.feature_names_)\nRav4_train_mf22 = Rav4_train_mf.rename(columns={\"MonthFactor=January\": \"Jan\",\n                                               \"MonthFactor=February\": \"Feb\",\n                                               \"MonthFactor=March\": \"Mar\",\n                                               \"MonthFactor=April\": \"Apr\",\n                                               \"MonthFactor=May\": \"May\",\n                                               \"MonthFactor=June\": \"Jun\",\n                                               \"MonthFactor=July\": \"Jul\",\n                                               \"MonthFactor=August\": \"Aug\",\n                                               \"MonthFactor=September\": \"Sep\",\n                                               \"MonthFactor=October\": \"Oct\",\n                                               \"MonthFactor=November\": \"Nov\",\n                                               \"MonthFactor=December\": \"Dec\"})\nRav4_train_mf22.head()",
    "id": "5ffa3ffbe0764e8185ca69eb53818337",
    "idx": 21,
    "time": "2021-02-11T05:30:12.481Z",
    "type": "execution"
   },
   {
    "code": "Rav4_train_mf2 = Rav4_train_mf22[(Rav4_train_mf22['Year'] >= 2011) & (Rav4_train_mf22['Year'] <= 2016)]",
    "id": "7d02a8869f6c44cd877e69f357d9a8c1",
    "idx": 22,
    "time": "2021-02-11T05:30:13.120Z",
    "type": "execution"
   },
   {
    "id": "17d5e1744fab40489fe82579262b552c",
    "time": "2021-02-11T05:30:13.608Z",
    "type": "completion"
   },
   {
    "id": "52fc3b6fb54f4faead530b13b8da2f5a",
    "time": "2021-02-11T05:30:13.790Z",
    "type": "completion"
   },
   {
    "id": "7ce6efeb24fd4f8bb2e6ac32dbe860d7",
    "time": "2021-02-11T05:30:13.938Z",
    "type": "completion"
   },
   {
    "id": "5ffa3ffbe0764e8185ca69eb53818337",
    "time": "2021-02-11T05:30:13.974Z",
    "type": "completion"
   },
   {
    "id": "7d02a8869f6c44cd877e69f357d9a8c1",
    "time": "2021-02-11T05:30:13.975Z",
    "type": "completion"
   },
   {
    "code": "#b \n#Construct a new linear regression model using theMonthFactorvariable as an independentvariable, in addition to all four of the variables you used at the start of part(a)\nols_4 = smf.ols(formula='RAV4Sales ~ MonthFactor + Unemployment + RAV4Queries + CPIAll + CPIEnergy', data = Rav4_train)\nmodel_4 = ols_4.fit()\nprint(model_4.summary())",
    "id": "ffc84a259e3e44759973500976d940df",
    "idx": 23,
    "time": "2021-02-11T05:30:16.825Z",
    "type": "execution"
   },
   {
    "id": "ffc84a259e3e44759973500976d940df",
    "time": "2021-02-11T05:30:17.070Z",
    "type": "completion"
   },
   {
    "code": "ols_5 = smf.ols(formula='RAV4Sales ~ Jan + Feb + CPIAll + CPIEnergy', data = Rav4_train_mf2)\nmodel_5 = ols_5.fit()\nprint(model_5.summary())",
    "id": "55e5a9c82e9b441d86a99a77010e5155",
    "idx": 25,
    "time": "2021-02-11T05:30:18.391Z",
    "type": "execution"
   },
   {
    "id": "55e5a9c82e9b441d86a99a77010e5155",
    "time": "2021-02-11T05:30:18.596Z",
    "type": "completion"
   },
   {
    "code": "cols_5 = ['Jan', 'Feb', 'CPIAll', 'CPIEnergy']\nVIF(Rav4_train_mf2, cols_5)",
    "id": "6052e3dea952463c86604f088c4724c4",
    "idx": 26,
    "time": "2021-02-11T05:30:19.913Z",
    "type": "execution"
   },
   {
    "id": "6052e3dea952463c86604f088c4724c4",
    "time": "2021-02-11T05:30:20.101Z",
    "type": "completion"
   },
   {
    "code": "#b\n#i) Describe your new model. What is the regression equation? (Do not simply copy andpaste output  from  Python. How  should  one  interpret  the  coefficients  of  each  of  theMonthFactordummy variables?",
    "id": "df9c3359746e4ff4babd69017e4c0a61",
    "idx": 27,
    "time": "2021-02-11T05:30:20.640Z",
    "type": "execution"
   },
   {
    "id": "df9c3359746e4ff4babd69017e4c0a61",
    "time": "2021-02-11T05:30:20.826Z",
    "type": "completion"
   },
   {
    "code": "#ii) What is the training set R^2 for the new model? Which variables are significant?",
    "id": "57c6df1121f4461e99ccba9a4722624c",
    "idx": 29,
    "time": "2021-02-11T05:30:22.880Z",
    "type": "execution"
   },
   {
    "id": "57c6df1121f4461e99ccba9a4722624c",
    "time": "2021-02-11T05:30:23.072Z",
    "type": "completion"
   },
   {
    "code": "#iii) Do you think adding the independent variable MonthFactor improves the quality of themodel?  Why or why not?",
    "id": "afa48962931742d696897a8ec39eae73",
    "idx": 31,
    "time": "2021-02-11T05:30:23.988Z",
    "type": "execution"
   },
   {
    "id": "afa48962931742d696897a8ec39eae73",
    "time": "2021-02-11T05:30:24.188Z",
    "type": "completion"
   },
   {
    "code": "#iv) Can you think of a different way that you might use the given data to model seasonality? Do you think your new way would improve on the best model you have constructed sofar? ",
    "id": "74a764128d57466b8a747aaba5622b1b",
    "idx": 33,
    "time": "2021-02-11T05:30:24.984Z",
    "type": "execution"
   },
   {
    "id": "74a764128d57466b8a747aaba5622b1b",
    "time": "2021-02-11T05:30:25.170Z",
    "type": "completion"
   },
   {
    "code": "#c) Build a final model using a subset of the independent variables used in parts(a)and(b), providing a brief justification for the variables selected.  What is the training set R2and theOSR2(this is theR2of your model on the test set)?  Do you think your model wouldbe useful to Toyota?  Why or why not?",
    "id": "d7f12295e2334ce4a4732c19ea2ff558",
    "idx": 35,
    "time": "2021-02-11T05:30:25.560Z",
    "type": "execution"
   },
   {
    "id": "d7f12295e2334ce4a4732c19ea2ff558",
    "time": "2021-02-11T05:30:25.783Z",
    "type": "completion"
   },
   {
    "code": "ols_final = smf.ols(formula='RAV4Sales ~ MonthFactor + CPIAll + CPIEnergy', data = Rav4_train)\nmodel_final = ols_final.fit()\nprint(model_final.summary())",
    "id": "81030c769bb3438b802fa654d6cd7971",
    "idx": 36,
    "time": "2021-02-11T05:30:26.039Z",
    "type": "execution"
   },
   {
    "id": "81030c769bb3438b802fa654d6cd7971",
    "time": "2021-02-11T05:30:26.352Z",
    "type": "completion"
   },
   {
    "code": "# Compute out-of-sample R-squared using the test set\ndef OSR2(model, df_train, df_test, dependent_var):   \n    y_test = df_test[dependent_var]\n    y_pred = model.predict(df_test)\n    SSE = np.sum((y_test - y_pred)**2)\n    SST = np.sum((y_test - np.mean(df_train[dependent_var]))**2)    \n    return 1 - SSE/SST\n\nOSR2(model_final, Rav4_train, Rav4_test, 'RAV4Sales')",
    "id": "09df1316081e4f2eb690626237175beb",
    "idx": 37,
    "time": "2021-02-11T05:30:26.477Z",
    "type": "execution"
   },
   {
    "id": "09df1316081e4f2eb690626237175beb",
    "time": "2021-02-11T05:30:26.677Z",
    "type": "completion"
   },
   {
    "code": "#d) Now, build  a  new  regression  model  with  your  additional  chosen  feature  in  addition  to  thefeatures that you selected in part(c).  Does the new feature add any predictive value?  Justifyyour answer based on the results of your analysis.",
    "id": "eba528c83fdf49298ab020ae9a104194",
    "idx": 39,
    "time": "2021-02-11T05:30:27.197Z",
    "type": "execution"
   },
   {
    "id": "eba528c83fdf49298ab020ae9a104194",
    "time": "2021-02-11T05:30:27.377Z",
    "type": "completion"
   },
   {
    "code": "#Loading data\nweekly_gas = pd.read_csv('US Gasoline and Diesel Prices.csv')",
    "id": "d21e2bb580594596872ff8517a37fb5c",
    "idx": 40,
    "time": "2021-02-11T05:30:27.486Z",
    "type": "execution"
   },
   {
    "id": "d21e2bb580594596872ff8517a37fb5c",
    "time": "2021-02-11T05:30:27.786Z",
    "type": "completion"
   },
   {
    "code": "#Parse only the Year from the Date column \nweekly_gas = weekly_gas.iloc[:,0:2]\nweekly_gas['Year'] = pd.DatetimeIndex(weekly_gas['Date']).year\nweekly_gas_1 = weekly_gas.iloc[2:]\ndel weekly_gas_1['Date']",
    "id": "1c8b8aa6bb774acf8a7b5a36d803ee23",
    "idx": 42,
    "time": "2021-02-11T05:30:27.974Z",
    "type": "execution"
   },
   {
    "id": "1c8b8aa6bb774acf8a7b5a36d803ee23",
    "time": "2021-02-11T05:30:28.161Z",
    "type": "completion"
   },
   {
    "code": "#Make the constraints to be the same as our Rav4 train which is 2011 through 2016\nweekly_gas_train = weekly_gas_1[(weekly_gas['Year'] >= 2011 ) & (weekly_gas_1['Year'] <= 2016)]\ndel weekly_gas_train['Year']\nweekly_gas_train.head()\n#Randomnly select 72 outputs as our Rav4 train also has 72 outputs\nweekly_gas_train = weekly_gas_train.sample(72)\nRav4_train[\"A1\"] = weekly_gas_train[\"A1\"].tolist()\n\n#rename column A1 to Gas Prices\nRav4_train= Rav4_train.rename(columns={\"A1\": \"GasPrices\"})",
    "id": "3780a5b3572346cc8297530b16645382",
    "idx": 43,
    "time": "2021-02-11T05:30:28.215Z",
    "type": "execution"
   },
   {
    "id": "3780a5b3572346cc8297530b16645382",
    "time": "2021-02-11T05:30:28.402Z",
    "type": "completion"
   },
   {
    "code": "ols_new = smf.ols(formula='RAV4Sales ~ GasPrices + MonthFactor + CPIAll + CPIEnergy', data = Rav4_train)\nmodel_new = ols_new.fit()\nprint(model_new.summary())",
    "id": "3da4f905c57645df827489f3d497d1ee",
    "idx": 44,
    "time": "2021-02-11T05:30:28.776Z",
    "type": "execution"
   },
   {
    "id": "3da4f905c57645df827489f3d497d1ee",
    "time": "2021-02-11T05:30:28.984Z",
    "type": "completion"
   },
   {
    "code": "cols_final = ['GasPrices', 'CPIAll', 'CPIEnergy']\nVIF(Rav4_train, cols_final)",
    "id": "e6844bbd2b194652806919f9c1c16f5c",
    "idx": 45,
    "time": "2021-02-11T05:30:29.439Z",
    "type": "execution"
   },
   {
    "id": "e6844bbd2b194652806919f9c1c16f5c",
    "time": "2021-02-11T05:30:29.642Z",
    "type": "completion"
   }
  ],
  "kernelspec": {
   "display_name": "Python 3",
   "language": "python",
   "name": "python3"
  },
  "language_info": {
   "codemirror_mode": {
    "name": "ipython",
    "version": 3
   },
   "file_extension": ".py",
   "mimetype": "text/x-python",
   "name": "python",
   "nbconvert_exporter": "python",
   "pygments_lexer": "ipython3",
   "version": "3.8.8"
  }
 },
 "nbformat": 4,
 "nbformat_minor": 4
}
