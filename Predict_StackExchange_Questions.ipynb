{
 "cells": [
  {
   "cell_type": "markdown",
   "metadata": {},
   "source": [
    "## HW 4 Predicting Useful Questions on Stack Exchange"
   ]
  },
  {
   "cell_type": "code",
   "execution_count": 169,
   "metadata": {},
   "outputs": [
    {
     "name": "stderr",
     "output_type": "stream",
     "text": [
      "[nltk_data] Error loading stopwords: <urlopen error [Errno 61]\n",
      "[nltk_data]     Connection refused>\n",
      "[nltk_data] Error loading punkt: <urlopen error [Errno 61] Connection\n",
      "[nltk_data]     refused>\n"
     ]
    }
   ],
   "source": [
    "import pandas as pd\n",
    "import numpy as np\n",
    "import matplotlib.pyplot as plt\n",
    "import seaborn as sns\n",
    "from bs4 import BeautifulSoup\n",
    "import re\n",
    "import nltk\n",
    "import bs4 as bs\n",
    "\n",
    "\n",
    "nltk.download('stopwords')\n",
    "nltk.download('punkt')\n",
    "\n",
    "from nltk.tokenize import sent_tokenize # tokenizes sentences\n",
    "from nltk.stem import PorterStemmer     # parsing/stemmer\n",
    "from nltk.tag import pos_tag            # parts-of-speech tagging\n",
    "from nltk.corpus import wordnet         # sentiment scores\n",
    "from nltk.stem import WordNetLemmatizer # stem and context\n",
    "from nltk.util import ngrams            # ngram iterator\n",
    "from nltk.corpus import stopwords       # stopwords"
   ]
  },
  {
   "cell_type": "code",
   "execution_count": 170,
   "metadata": {},
   "outputs": [],
   "source": [
    "stacks_train = pd.read_csv(\"stack_stats_2020_train.csv\")\n",
    "stacks_test = pd.read_csv(\"stack_stats_2020_test.csv\")"
   ]
  },
  {
   "cell_type": "markdown",
   "metadata": {},
   "source": [
    "## Part a)"
   ]
  },
  {
   "cell_type": "markdown",
   "metadata": {},
   "source": [
    "As a very first step in cleaning the train and test dataset, I am using the beautifulsoup library to deal with the html text. After using beautifulsoup to take care of the html, we are further cleaning the \"\\n\" and \"\\r\" tags and getting rid of all the linebreaks that are in our data. In part iii), I went ahead and checked the tags and title/body separately. First, I used tags to remove any puncutations and as well applied the same remove punctuation function for my body and title. I used digits remover to make a more refined data possible as we don't want extra digits associated with words which will confuse when we implement algorithms later on. Similarly, to standardize our dataset, I included lowercase function to change any uppercase texts to lowercase.\n",
    "\n",
    "\n",
    "After I did some few steps of cleaning my dataset. I thought it was a necessary step to now tokenize my texts. This means I am essentially splitting a phrase, sentence, paragraph, or an entire document into similar units of individual words. These sparsed individual words are called tokens and gives us an easier approach when capturing into further analysis later. After tokenization, I removed stopwords which includes like \"is\", \"in\", \"for\", \"to\", \"when\", \"at\", and etc. These words are the most common words which does not add much values to the meaning of the texts. \n",
    "\n",
    "\n",
    "Upon removing the stopwords, I read on piazza that stemming is also a necessary step to include which is a process of reducing the words to its word stem such as suffix and prefix that are roots of the words. After this process, I went ahead and applied detokenization to join everything together.\n",
    "\n",
    "\n",
    "In part iv) I performed document term matrix, the spec decribes that countVectorizer is a function that allows us to transform our data into a compressed sparse format matrix. Doing this process, we are able to store a new dataframe for each sparsed body, title, and tag dtm. I made a three separate function for each body, title, and tag because I wanted to handle these all separately before concatenating the train and tests together. After doing the dtm, I changed the word names to include unique identifying suffix. For instance, the suffix I included were \"_word_body\", \"_word_title\", \"_word_tag\". \n",
    "\n",
    "\n",
    "Next, I concatenated all of my trains together as one df and tests together as another df. This part is crucial because I need to figure which set of words would be missing from each other. Using the difference function, I found a list of words that are missing from test that are in the train and vice versa. This step allows us to maintain a same length for the columns in our train and test df.\n",
    "\n",
    "\n",
    "Finally, I created a column \"[OneOrAbove]\" that says a question is useful if its score is greater than or equal to one. This serve as our dependent variable moving forward in our next steps."
   ]
  },
  {
   "cell_type": "markdown",
   "metadata": {},
   "source": [
    "i) The Python libraryBeautifulSoupis useful for dealing with html text.  In order to use this library, you will need to install it first by running the following command:"
   ]
  },
  {
   "cell_type": "code",
   "execution_count": 171,
   "metadata": {},
   "outputs": [],
   "source": [
    "#Clenaning the html with BeautifulSoup\n",
    "def cleaning_text(df):\n",
    "    cleaned_beautiful = df.apply(lambda text: BeautifulSoup(text, 'html.parser').get_text())\n",
    "    return cleaned_beautiful\n",
    "\n",
    "train_body_beautiful = cleaning_text(stacks_train['Body'])\n",
    "train_title_beautiful = cleaning_text(stacks_train['Title'])\n",
    "\n",
    "test_body_beautiful = cleaning_text(stacks_test['Body'])\n",
    "test_title_beautiful = cleaning_text(stacks_test['Title'])"
   ]
  },
  {
   "cell_type": "code",
   "execution_count": 293,
   "metadata": {},
   "outputs": [
    {
     "data": {
      "text/plain": [
       "0    I often hear that in a longitudinal multi-leve...\n",
       "1    I have a normally distributed dataset and an a...\n",
       "2    I have created a random forest to classify a d...\n",
       "3    I have some issues with my linear difference-i...\n",
       "4    I have created a mixed model to model the numb...\n",
       "Name: Body, dtype: object"
      ]
     },
     "execution_count": 293,
     "metadata": {},
     "output_type": "execute_result"
    }
   ],
   "source": [
    "train_body_beautiful.head()"
   ]
  },
  {
   "cell_type": "markdown",
   "metadata": {},
   "source": [
    "ii) When converting html texts that include multiple lines of texts to plain texts using get_text()fromBeautifulSoup, the output texts still contain one type of html string,\\n or the line break character. In other words,get_text()does not remove the line break characters. You will need to remove them using a proper method of your choice."
   ]
  },
  {
   "cell_type": "code",
   "execution_count": 172,
   "metadata": {},
   "outputs": [],
   "source": [
    "#Cleaning \\n or line breaker\n",
    "def line_break_remove(text):\n",
    "    no_line_break = text.replace(\"\\n\", \" \").replace(\"\\r\", \" \")\n",
    "    return no_line_break\n",
    "\n",
    "train_body_linebreak_no = train_body_beautiful.apply(line_break_remove)\n",
    "train_title_linebreak_no = train_title_beautiful.apply(line_break_remove)\n",
    "\n",
    "test_body_linebreak_no = test_body_beautiful.apply(line_break_remove)\n",
    "test_title_linebreak_no = test_title_beautiful.apply(line_break_remove)"
   ]
  },
  {
   "cell_type": "code",
   "execution_count": 294,
   "metadata": {},
   "outputs": [
    {
     "data": {
      "text/plain": [
       "0    I often hear that in a longitudinal multi-leve...\n",
       "1    I have a normally distributed dataset and an a...\n",
       "2    I have created a random forest to classify a d...\n",
       "3    I have some issues with my linear difference-i...\n",
       "4    I have created a mixed model to model the numb...\n",
       "Name: Body, dtype: object"
      ]
     },
     "execution_count": 294,
     "metadata": {},
     "output_type": "execute_result"
    }
   ],
   "source": [
    "train_body_linebreak_no.head()"
   ]
  },
  {
   "cell_type": "markdown",
   "metadata": {},
   "source": [
    "iii) You should also inspect several texts fromBody, TagsandTitleto see if there is anyother transformation needed.  You may need to write a custom transformation function."
   ]
  },
  {
   "cell_type": "code",
   "execution_count": 173,
   "metadata": {},
   "outputs": [],
   "source": [
    "#Checking the Tags column to make further custom transformation function\n",
    "train_tag = stacks_train['Tags']\n",
    "test_tag = stacks_test['Tags']"
   ]
  },
  {
   "cell_type": "code",
   "execution_count": 174,
   "metadata": {},
   "outputs": [],
   "source": [
    "#Removing Punctuation in body and title\n",
    "from string import punctuation\n",
    "\n",
    "def remove_punctuation(document):\n",
    "    no_punct = ''.join([character for character in document if character not in punctuation])\n",
    "    return no_punct\n",
    "\n",
    "#Removing tags\n",
    "def remove_tags(text):\n",
    "    no_punct =''\n",
    "    for i in text:\n",
    "        if i not in punctuation:\n",
    "            no_punct += i\n",
    "        else:\n",
    "            no_punct += ' '\n",
    "    return no_punct\n",
    "\n",
    "train_tag_punct_no = train_tag.apply(remove_tags)\n",
    "test_tag_punct_no = test_tag.apply(remove_tags)\n",
    "\n",
    "train_body_punct_no = train_body_linebreak_no.apply(remove_punctuation)\n",
    "train_title_punct_no = train_title_linebreak_no.apply(remove_punctuation)\n",
    "\n",
    "test_body_punct_no = test_body_linebreak_no.apply(remove_punctuation)\n",
    "test_title_punct_no = test_title_linebreak_no.apply(remove_punctuation)"
   ]
  },
  {
   "cell_type": "code",
   "execution_count": 299,
   "metadata": {},
   "outputs": [
    {
     "data": {
      "text/plain": [
       "0    Are time points nested in students or crossed ...\n",
       "1    Find confidence level given a confidence interval\n",
       "2    Random Forest Classifier bound to a specific t...\n",
       "3    How to back transform ln  1 or log10  1 and in...\n",
       "4                     Interpret dotplot in mixed model\n",
       "Name: Title, dtype: object"
      ]
     },
     "execution_count": 299,
     "metadata": {},
     "output_type": "execute_result"
    }
   ],
   "source": [
    "train_title_punct_no.head()"
   ]
  },
  {
   "cell_type": "code",
   "execution_count": 175,
   "metadata": {},
   "outputs": [],
   "source": [
    "#Removing digits\n",
    "def remove_digit(document): \n",
    "    no_digit = ''.join([character for character in document if not character.isdigit()])           \n",
    "    return no_digit\n",
    "\n",
    "train_body_digit_no = train_body_punct_no.apply(remove_digit)\n",
    "train_title_digit_no = train_title_punct_no.apply(remove_digit)\n",
    "train_tag_digit_no = train_tag_punct_no.apply(remove_digit)\n",
    "\n",
    "test_body_digit_no = test_body_punct_no.apply(remove_digit)\n",
    "test_title_digit_no = test_title_punct_no.apply(remove_digit)\n",
    "test_tag_digit_no = test_tag_punct_no.apply(remove_digit)"
   ]
  },
  {
   "cell_type": "code",
   "execution_count": 297,
   "metadata": {},
   "outputs": [
    {
     "data": {
      "text/plain": [
       "0     r  mixed model  lme nlme  repeated measures  ...\n",
       "1     r  probability  normal distribution  confiden...\n",
       "2             random forest  feature selection  error \n",
       "3     regression  logistic  multiple regression  lo...\n",
       "4           r  regression  multilevel analysis  model \n",
       "Name: Tags, dtype: object"
      ]
     },
     "execution_count": 297,
     "metadata": {},
     "output_type": "execute_result"
    }
   ],
   "source": [
    "train_tag_digit_no.head()"
   ]
  },
  {
   "cell_type": "code",
   "execution_count": 176,
   "metadata": {},
   "outputs": [],
   "source": [
    "#Change to lowercase\n",
    "train_body_lowercase = train_body_digit_no.apply(str.lower)\n",
    "train_title_lowercase = train_title_digit_no.apply(str.lower)\n",
    "train_tag_lowercase = train_tag_digit_no.apply(str.lower)\n",
    "\n",
    "test_body_lowercase = test_body_digit_no.apply(str.lower)\n",
    "test_title_lowercase = test_title_digit_no.apply(str.lower)\n",
    "test_tag_lowercase = test_tag_digit_no.apply(str.lower)"
   ]
  },
  {
   "cell_type": "code",
   "execution_count": 301,
   "metadata": {},
   "outputs": [
    {
     "data": {
      "text/plain": [
       "0    are time points nested in students or crossed ...\n",
       "1    find confidence level given a confidence interval\n",
       "2    random forest classifier bound to a specific t...\n",
       "3    how to back transform ln   or log   and interp...\n",
       "4                     interpret dotplot in mixed model\n",
       "Name: Title, dtype: object"
      ]
     },
     "execution_count": 301,
     "metadata": {},
     "output_type": "execute_result"
    }
   ],
   "source": [
    "train_title_lowercase.head()"
   ]
  },
  {
   "cell_type": "code",
   "execution_count": 177,
   "metadata": {},
   "outputs": [],
   "source": [
    "#Tokenization\n",
    "from nltk.tokenize import word_tokenize\n",
    "\n",
    "train_body_tokenize = train_body_lowercase.apply(word_tokenize)\n",
    "train_title_tokenize = train_title_lowercase.apply(word_tokenize)\n",
    "train_tag_tokenize = train_tag_lowercase.apply(word_tokenize)\n",
    "\n",
    "test_body_tokenize = test_body_lowercase.apply(word_tokenize)\n",
    "test_title_tokenize = test_title_lowercase.apply(word_tokenize)\n",
    "test_tag_tokenize = test_tag_lowercase.apply(word_tokenize)"
   ]
  },
  {
   "cell_type": "code",
   "execution_count": 302,
   "metadata": {},
   "outputs": [
    {
     "data": {
      "text/plain": [
       "0    [i, often, hear, that, in, a, longitudinal, mu...\n",
       "1    [i, have, a, normally, distributed, dataset, a...\n",
       "2    [i, have, created, a, random, forest, to, clas...\n",
       "3    [i, have, some, issues, with, my, linear, diff...\n",
       "4    [i, have, created, a, mixed, model, to, model,...\n",
       "Name: Body, dtype: object"
      ]
     },
     "execution_count": 302,
     "metadata": {},
     "output_type": "execute_result"
    }
   ],
   "source": [
    "train_body_tokenize.head()"
   ]
  },
  {
   "cell_type": "code",
   "execution_count": 178,
   "metadata": {},
   "outputs": [],
   "source": [
    "#Remove Stopwords\n",
    "stop_words = set(stopwords.words('english'))\n",
    "\n",
    "def remove_stopwords(document):\n",
    "    words = [word for word in document if not word in stop_words]\n",
    "    return words\n",
    "\n",
    "train_body_stopwords = train_body_tokenize.apply(remove_stopwords)\n",
    "train_title_stopwords = train_title_tokenize.apply(remove_stopwords)\n",
    "train_tag_stopwords = train_tag_tokenize.apply(remove_stopwords)\n",
    "\n",
    "test_body_stopwords = test_body_tokenize.apply(remove_stopwords)\n",
    "test_title_stopwords = test_title_tokenize.apply(remove_stopwords)\n",
    "test_tag_stopwords = test_tag_tokenize.apply(remove_stopwords)"
   ]
  },
  {
   "cell_type": "code",
   "execution_count": 303,
   "metadata": {},
   "outputs": [
    {
     "data": {
      "text/plain": [
       "0    [often, hear, longitudinal, multilevel, analys...\n",
       "1    [normally, distributed, dataset, associated, s...\n",
       "2    [created, random, forest, classify, dataset, v...\n",
       "3    [issues, linear, differenceindifference, analy...\n",
       "4    [created, mixed, model, model, number, jobs, d...\n",
       "Name: Body, dtype: object"
      ]
     },
     "execution_count": 303,
     "metadata": {},
     "output_type": "execute_result"
    }
   ],
   "source": [
    "train_body_stopwords.head()"
   ]
  },
  {
   "cell_type": "code",
   "execution_count": 179,
   "metadata": {},
   "outputs": [],
   "source": [
    "#Stemming\n",
    "porter = PorterStemmer()\n",
    "\n",
    "def stemmer(document):\n",
    "    stemmed_document = [porter.stem(word) for word in document]\n",
    "    return stemmed_document\n",
    "\n",
    "train_body_stemmed = train_body_stopwords.apply(stemmer)\n",
    "train_title_stemmed = train_title_stopwords.apply(stemmer)\n",
    "train_tag_stemmed = train_tag_stopwords.apply(stemmer)\n",
    "\n",
    "test_body_stemmed = test_body_stopwords.apply(stemmer)\n",
    "test_title_stemmed = test_title_stopwords.apply(stemmer)\n",
    "test_tag_stemmed = test_tag_stopwords.apply(stemmer)"
   ]
  },
  {
   "cell_type": "code",
   "execution_count": 305,
   "metadata": {},
   "outputs": [
    {
     "data": {
      "text/plain": [
       "0    [time, point, nest, student, cross, longitudin...\n",
       "1         [find, confid, level, given, confid, interv]\n",
       "2    [random, forest, classifi, bound, specif, type...\n",
       "3        [back, transform, ln, log, interpret, result]\n",
       "4                     [interpret, dotplot, mix, model]\n",
       "Name: Title, dtype: object"
      ]
     },
     "execution_count": 305,
     "metadata": {},
     "output_type": "execute_result"
    }
   ],
   "source": [
    "train_title_stemmed.head()"
   ]
  },
  {
   "cell_type": "markdown",
   "metadata": {},
   "source": [
    "iv) Once you have all texts in plain texts, you can use the Python library nltk to do text cleaning and generate document term matrices as we did in Lab."
   ]
  },
  {
   "cell_type": "code",
   "execution_count": 180,
   "metadata": {},
   "outputs": [],
   "source": [
    "#Detokenization\n",
    "from nltk.tokenize.treebank import TreebankWordDetokenizer\n",
    "\n",
    "def detokenization(text):\n",
    "    return text.apply(TreebankWordDetokenizer().detokenize)\n",
    "\n",
    "train_body_detokenized = detokenization(train_body_stemmed)\n",
    "train_title_detokenized = detokenization(train_title_stemmed)\n",
    "train_tag_detokenized = detokenization(train_tag_stemmed)\n",
    "\n",
    "test_body_detokenized = detokenization(test_body_stemmed)\n",
    "test_title_detokenized = detokenization(test_title_stemmed)\n",
    "test_tag_detokenized = detokenization(test_tag_stemmed)"
   ]
  },
  {
   "cell_type": "code",
   "execution_count": 306,
   "metadata": {},
   "outputs": [
    {
     "data": {
      "text/plain": [
       "0    often hear longitudin multilevel analysi time ...\n",
       "1    normal distribut dataset associ systemat error...\n",
       "2    creat random forest classifi dataset variabl s...\n",
       "3    issu linear differenceindiffer analys outcom h...\n",
       "4    creat mix model model number job differ region...\n",
       "Name: Body, dtype: object"
      ]
     },
     "execution_count": 306,
     "metadata": {},
     "output_type": "execute_result"
    }
   ],
   "source": [
    "train_body_detokenized.head()"
   ]
  },
  {
   "cell_type": "markdown",
   "metadata": {},
   "source": [
    "CountVectorizer is a function that allows us to transform our data into a compressed sparse format matrix. Doing this process, we are able to store a new dataframe for each sparsed body, title, and tag dtm"
   ]
  },
  {
   "cell_type": "code",
   "execution_count": 181,
   "metadata": {},
   "outputs": [],
   "source": [
    "#Document Term Matrix\n",
    "#Using min_df to reduce the df by filtering out the proportion of appearances in the documents\n",
    "#We want to remove more words in the body as there are many words that are not important\n",
    "from sklearn.feature_extraction.text import CountVectorizer\n",
    "\n",
    "def document_term_matrix_body(text, origin):\n",
    "    countvec = CountVectorizer(min_df = 0.04)\n",
    "    sparse_dtm = countvec.fit_transform(text)\n",
    "    df = pd.DataFrame(sparse_dtm.toarray(), columns=countvec.get_feature_names(), index=origin.index)       \n",
    "    return df\n",
    "\n",
    "train_body_sparse = document_term_matrix_body(train_body_detokenized, stacks_train)\n",
    "test_body_sparse = document_term_matrix_body(test_body_detokenized, stacks_test)"
   ]
  },
  {
   "cell_type": "code",
   "execution_count": 307,
   "metadata": {},
   "outputs": [
    {
     "data": {
      "text/html": [
       "<div>\n",
       "<style scoped>\n",
       "    .dataframe tbody tr th:only-of-type {\n",
       "        vertical-align: middle;\n",
       "    }\n",
       "\n",
       "    .dataframe tbody tr th {\n",
       "        vertical-align: top;\n",
       "    }\n",
       "\n",
       "    .dataframe thead th {\n",
       "        text-align: right;\n",
       "    }\n",
       "</style>\n",
       "<table border=\"1\" class=\"dataframe\">\n",
       "  <thead>\n",
       "    <tr style=\"text-align: right;\">\n",
       "      <th></th>\n",
       "      <th>abl</th>\n",
       "      <th>across</th>\n",
       "      <th>actual</th>\n",
       "      <th>addit</th>\n",
       "      <th>advanc</th>\n",
       "      <th>algorithm</th>\n",
       "      <th>also</th>\n",
       "      <th>analysi</th>\n",
       "      <th>anoth</th>\n",
       "      <th>answer</th>\n",
       "      <th>...</th>\n",
       "      <th>well</th>\n",
       "      <th>whether</th>\n",
       "      <th>within</th>\n",
       "      <th>without</th>\n",
       "      <th>wonder</th>\n",
       "      <th>work</th>\n",
       "      <th>would</th>\n",
       "      <th>wrong</th>\n",
       "      <th>year</th>\n",
       "      <th>zero</th>\n",
       "    </tr>\n",
       "  </thead>\n",
       "  <tbody>\n",
       "    <tr>\n",
       "      <th>0</th>\n",
       "      <td>0</td>\n",
       "      <td>0</td>\n",
       "      <td>0</td>\n",
       "      <td>0</td>\n",
       "      <td>0</td>\n",
       "      <td>0</td>\n",
       "      <td>0</td>\n",
       "      <td>1</td>\n",
       "      <td>0</td>\n",
       "      <td>1</td>\n",
       "      <td>...</td>\n",
       "      <td>0</td>\n",
       "      <td>0</td>\n",
       "      <td>3</td>\n",
       "      <td>0</td>\n",
       "      <td>0</td>\n",
       "      <td>0</td>\n",
       "      <td>0</td>\n",
       "      <td>0</td>\n",
       "      <td>0</td>\n",
       "      <td>0</td>\n",
       "    </tr>\n",
       "    <tr>\n",
       "      <th>1</th>\n",
       "      <td>0</td>\n",
       "      <td>0</td>\n",
       "      <td>0</td>\n",
       "      <td>0</td>\n",
       "      <td>0</td>\n",
       "      <td>0</td>\n",
       "      <td>0</td>\n",
       "      <td>0</td>\n",
       "      <td>0</td>\n",
       "      <td>0</td>\n",
       "      <td>...</td>\n",
       "      <td>0</td>\n",
       "      <td>0</td>\n",
       "      <td>1</td>\n",
       "      <td>0</td>\n",
       "      <td>0</td>\n",
       "      <td>1</td>\n",
       "      <td>1</td>\n",
       "      <td>0</td>\n",
       "      <td>0</td>\n",
       "      <td>0</td>\n",
       "    </tr>\n",
       "    <tr>\n",
       "      <th>2</th>\n",
       "      <td>0</td>\n",
       "      <td>0</td>\n",
       "      <td>0</td>\n",
       "      <td>0</td>\n",
       "      <td>0</td>\n",
       "      <td>0</td>\n",
       "      <td>0</td>\n",
       "      <td>0</td>\n",
       "      <td>0</td>\n",
       "      <td>0</td>\n",
       "      <td>...</td>\n",
       "      <td>0</td>\n",
       "      <td>0</td>\n",
       "      <td>0</td>\n",
       "      <td>0</td>\n",
       "      <td>0</td>\n",
       "      <td>0</td>\n",
       "      <td>0</td>\n",
       "      <td>0</td>\n",
       "      <td>0</td>\n",
       "      <td>0</td>\n",
       "    </tr>\n",
       "    <tr>\n",
       "      <th>3</th>\n",
       "      <td>0</td>\n",
       "      <td>0</td>\n",
       "      <td>0</td>\n",
       "      <td>0</td>\n",
       "      <td>0</td>\n",
       "      <td>0</td>\n",
       "      <td>0</td>\n",
       "      <td>0</td>\n",
       "      <td>0</td>\n",
       "      <td>0</td>\n",
       "      <td>...</td>\n",
       "      <td>0</td>\n",
       "      <td>0</td>\n",
       "      <td>0</td>\n",
       "      <td>0</td>\n",
       "      <td>0</td>\n",
       "      <td>0</td>\n",
       "      <td>0</td>\n",
       "      <td>0</td>\n",
       "      <td>0</td>\n",
       "      <td>0</td>\n",
       "    </tr>\n",
       "    <tr>\n",
       "      <th>4</th>\n",
       "      <td>0</td>\n",
       "      <td>0</td>\n",
       "      <td>0</td>\n",
       "      <td>0</td>\n",
       "      <td>0</td>\n",
       "      <td>0</td>\n",
       "      <td>0</td>\n",
       "      <td>0</td>\n",
       "      <td>0</td>\n",
       "      <td>0</td>\n",
       "      <td>...</td>\n",
       "      <td>0</td>\n",
       "      <td>0</td>\n",
       "      <td>0</td>\n",
       "      <td>0</td>\n",
       "      <td>0</td>\n",
       "      <td>0</td>\n",
       "      <td>0</td>\n",
       "      <td>0</td>\n",
       "      <td>3</td>\n",
       "      <td>0</td>\n",
       "    </tr>\n",
       "  </tbody>\n",
       "</table>\n",
       "<p>5 rows × 275 columns</p>\n",
       "</div>"
      ],
      "text/plain": [
       "   abl  across  actual  addit  advanc  algorithm  also  analysi  anoth  \\\n",
       "0    0       0       0      0       0          0     0        1      0   \n",
       "1    0       0       0      0       0          0     0        0      0   \n",
       "2    0       0       0      0       0          0     0        0      0   \n",
       "3    0       0       0      0       0          0     0        0      0   \n",
       "4    0       0       0      0       0          0     0        0      0   \n",
       "\n",
       "   answer  ...  well  whether  within  without  wonder  work  would  wrong  \\\n",
       "0       1  ...     0        0       3        0       0     0      0      0   \n",
       "1       0  ...     0        0       1        0       0     1      1      0   \n",
       "2       0  ...     0        0       0        0       0     0      0      0   \n",
       "3       0  ...     0        0       0        0       0     0      0      0   \n",
       "4       0  ...     0        0       0        0       0     0      0      0   \n",
       "\n",
       "   year  zero  \n",
       "0     0     0  \n",
       "1     0     0  \n",
       "2     0     0  \n",
       "3     0     0  \n",
       "4     3     0  \n",
       "\n",
       "[5 rows x 275 columns]"
      ]
     },
     "execution_count": 307,
     "metadata": {},
     "output_type": "execute_result"
    }
   ],
   "source": [
    "train_body_sparse.head()"
   ]
  },
  {
   "cell_type": "code",
   "execution_count": 182,
   "metadata": {},
   "outputs": [],
   "source": [
    "def document_term_matrix_title(text, origin):\n",
    "    countvec = CountVectorizer(min_df = 0.004)\n",
    "    sparse_dtm = countvec.fit_transform(text)\n",
    "    df = pd.DataFrame(sparse_dtm.toarray(), columns=countvec.get_feature_names(), index=origin.index)       \n",
    "    return df\n",
    "\n",
    "train_title_sparse = document_term_matrix_title(train_title_detokenized, stacks_train)\n",
    "test_title_sparse = document_term_matrix_title(test_title_detokenized, stacks_test)"
   ]
  },
  {
   "cell_type": "code",
   "execution_count": 308,
   "metadata": {},
   "outputs": [
    {
     "data": {
      "text/html": [
       "<div>\n",
       "<style scoped>\n",
       "    .dataframe tbody tr th:only-of-type {\n",
       "        vertical-align: middle;\n",
       "    }\n",
       "\n",
       "    .dataframe tbody tr th {\n",
       "        vertical-align: top;\n",
       "    }\n",
       "\n",
       "    .dataframe thead th {\n",
       "        text-align: right;\n",
       "    }\n",
       "</style>\n",
       "<table border=\"1\" class=\"dataframe\">\n",
       "  <thead>\n",
       "    <tr style=\"text-align: right;\">\n",
       "      <th></th>\n",
       "      <th>accuraci</th>\n",
       "      <th>adjust</th>\n",
       "      <th>algorithm</th>\n",
       "      <th>analysi</th>\n",
       "      <th>anoth</th>\n",
       "      <th>anova</th>\n",
       "      <th>appli</th>\n",
       "      <th>approach</th>\n",
       "      <th>appropri</th>\n",
       "      <th>approxim</th>\n",
       "      <th>...</th>\n",
       "      <th>vector</th>\n",
       "      <th>vs</th>\n",
       "      <th>way</th>\n",
       "      <th>weight</th>\n",
       "      <th>what</th>\n",
       "      <th>within</th>\n",
       "      <th>without</th>\n",
       "      <th>work</th>\n",
       "      <th>would</th>\n",
       "      <th>zero</th>\n",
       "    </tr>\n",
       "  </thead>\n",
       "  <tbody>\n",
       "    <tr>\n",
       "      <th>0</th>\n",
       "      <td>0</td>\n",
       "      <td>0</td>\n",
       "      <td>0</td>\n",
       "      <td>0</td>\n",
       "      <td>0</td>\n",
       "      <td>0</td>\n",
       "      <td>0</td>\n",
       "      <td>0</td>\n",
       "      <td>0</td>\n",
       "      <td>0</td>\n",
       "      <td>...</td>\n",
       "      <td>0</td>\n",
       "      <td>0</td>\n",
       "      <td>0</td>\n",
       "      <td>0</td>\n",
       "      <td>0</td>\n",
       "      <td>0</td>\n",
       "      <td>0</td>\n",
       "      <td>0</td>\n",
       "      <td>0</td>\n",
       "      <td>0</td>\n",
       "    </tr>\n",
       "    <tr>\n",
       "      <th>1</th>\n",
       "      <td>0</td>\n",
       "      <td>0</td>\n",
       "      <td>0</td>\n",
       "      <td>0</td>\n",
       "      <td>0</td>\n",
       "      <td>0</td>\n",
       "      <td>0</td>\n",
       "      <td>0</td>\n",
       "      <td>0</td>\n",
       "      <td>0</td>\n",
       "      <td>...</td>\n",
       "      <td>0</td>\n",
       "      <td>0</td>\n",
       "      <td>0</td>\n",
       "      <td>0</td>\n",
       "      <td>0</td>\n",
       "      <td>0</td>\n",
       "      <td>0</td>\n",
       "      <td>0</td>\n",
       "      <td>0</td>\n",
       "      <td>0</td>\n",
       "    </tr>\n",
       "    <tr>\n",
       "      <th>2</th>\n",
       "      <td>0</td>\n",
       "      <td>0</td>\n",
       "      <td>0</td>\n",
       "      <td>0</td>\n",
       "      <td>0</td>\n",
       "      <td>0</td>\n",
       "      <td>0</td>\n",
       "      <td>0</td>\n",
       "      <td>0</td>\n",
       "      <td>0</td>\n",
       "      <td>...</td>\n",
       "      <td>0</td>\n",
       "      <td>0</td>\n",
       "      <td>0</td>\n",
       "      <td>0</td>\n",
       "      <td>0</td>\n",
       "      <td>0</td>\n",
       "      <td>0</td>\n",
       "      <td>0</td>\n",
       "      <td>0</td>\n",
       "      <td>0</td>\n",
       "    </tr>\n",
       "    <tr>\n",
       "      <th>3</th>\n",
       "      <td>0</td>\n",
       "      <td>0</td>\n",
       "      <td>0</td>\n",
       "      <td>0</td>\n",
       "      <td>0</td>\n",
       "      <td>0</td>\n",
       "      <td>0</td>\n",
       "      <td>0</td>\n",
       "      <td>0</td>\n",
       "      <td>0</td>\n",
       "      <td>...</td>\n",
       "      <td>0</td>\n",
       "      <td>0</td>\n",
       "      <td>0</td>\n",
       "      <td>0</td>\n",
       "      <td>0</td>\n",
       "      <td>0</td>\n",
       "      <td>0</td>\n",
       "      <td>0</td>\n",
       "      <td>0</td>\n",
       "      <td>0</td>\n",
       "    </tr>\n",
       "    <tr>\n",
       "      <th>4</th>\n",
       "      <td>0</td>\n",
       "      <td>0</td>\n",
       "      <td>0</td>\n",
       "      <td>0</td>\n",
       "      <td>0</td>\n",
       "      <td>0</td>\n",
       "      <td>0</td>\n",
       "      <td>0</td>\n",
       "      <td>0</td>\n",
       "      <td>0</td>\n",
       "      <td>...</td>\n",
       "      <td>0</td>\n",
       "      <td>0</td>\n",
       "      <td>0</td>\n",
       "      <td>0</td>\n",
       "      <td>0</td>\n",
       "      <td>0</td>\n",
       "      <td>0</td>\n",
       "      <td>0</td>\n",
       "      <td>0</td>\n",
       "      <td>0</td>\n",
       "    </tr>\n",
       "  </tbody>\n",
       "</table>\n",
       "<p>5 rows × 277 columns</p>\n",
       "</div>"
      ],
      "text/plain": [
       "   accuraci  adjust  algorithm  analysi  anoth  anova  appli  approach  \\\n",
       "0         0       0          0        0      0      0      0         0   \n",
       "1         0       0          0        0      0      0      0         0   \n",
       "2         0       0          0        0      0      0      0         0   \n",
       "3         0       0          0        0      0      0      0         0   \n",
       "4         0       0          0        0      0      0      0         0   \n",
       "\n",
       "   appropri  approxim  ...  vector  vs  way  weight  what  within  without  \\\n",
       "0         0         0  ...       0   0    0       0     0       0        0   \n",
       "1         0         0  ...       0   0    0       0     0       0        0   \n",
       "2         0         0  ...       0   0    0       0     0       0        0   \n",
       "3         0         0  ...       0   0    0       0     0       0        0   \n",
       "4         0         0  ...       0   0    0       0     0       0        0   \n",
       "\n",
       "   work  would  zero  \n",
       "0     0      0     0  \n",
       "1     0      0     0  \n",
       "2     0      0     0  \n",
       "3     0      0     0  \n",
       "4     0      0     0  \n",
       "\n",
       "[5 rows x 277 columns]"
      ]
     },
     "execution_count": 308,
     "metadata": {},
     "output_type": "execute_result"
    }
   ],
   "source": [
    "train_title_sparse.head()"
   ]
  },
  {
   "cell_type": "code",
   "execution_count": 183,
   "metadata": {},
   "outputs": [],
   "source": [
    "def document_term_matrix_tag(text, origin):\n",
    "    countvec = CountVectorizer(min_df = 0.005)\n",
    "    sparse_dtm = countvec.fit_transform(text)\n",
    "    df = pd.DataFrame(sparse_dtm.toarray(), columns=countvec.get_feature_names(), index=origin.index)       \n",
    "    return df\n",
    "\n",
    "train_tag_sparse = document_term_matrix_tag(train_tag_detokenized, stacks_train)\n",
    "test_tag_sparse = document_term_matrix_tag(test_title_detokenized, stacks_test)"
   ]
  },
  {
   "cell_type": "code",
   "execution_count": 309,
   "metadata": {},
   "outputs": [
    {
     "data": {
      "text/html": [
       "<div>\n",
       "<style scoped>\n",
       "    .dataframe tbody tr th:only-of-type {\n",
       "        vertical-align: middle;\n",
       "    }\n",
       "\n",
       "    .dataframe tbody tr th {\n",
       "        vertical-align: top;\n",
       "    }\n",
       "\n",
       "    .dataframe thead th {\n",
       "        text-align: right;\n",
       "    }\n",
       "</style>\n",
       "<table border=\"1\" class=\"dataframe\">\n",
       "  <thead>\n",
       "    <tr style=\"text-align: right;\">\n",
       "      <th></th>\n",
       "      <th>addit</th>\n",
       "      <th>aic</th>\n",
       "      <th>analysi</th>\n",
       "      <th>anova</th>\n",
       "      <th>arima</th>\n",
       "      <th>assumpt</th>\n",
       "      <th>asymptot</th>\n",
       "      <th>autocorrel</th>\n",
       "      <th>autoregress</th>\n",
       "      <th>bay</th>\n",
       "      <th>...</th>\n",
       "      <th>time</th>\n",
       "      <th>transform</th>\n",
       "      <th>unbalanc</th>\n",
       "      <th>valid</th>\n",
       "      <th>valu</th>\n",
       "      <th>variabl</th>\n",
       "      <th>varianc</th>\n",
       "      <th>visual</th>\n",
       "      <th>weight</th>\n",
       "      <th>wilcoxon</th>\n",
       "    </tr>\n",
       "  </thead>\n",
       "  <tbody>\n",
       "    <tr>\n",
       "      <th>0</th>\n",
       "      <td>0</td>\n",
       "      <td>0</td>\n",
       "      <td>1</td>\n",
       "      <td>0</td>\n",
       "      <td>0</td>\n",
       "      <td>0</td>\n",
       "      <td>0</td>\n",
       "      <td>0</td>\n",
       "      <td>0</td>\n",
       "      <td>0</td>\n",
       "      <td>...</td>\n",
       "      <td>0</td>\n",
       "      <td>0</td>\n",
       "      <td>0</td>\n",
       "      <td>0</td>\n",
       "      <td>0</td>\n",
       "      <td>0</td>\n",
       "      <td>0</td>\n",
       "      <td>0</td>\n",
       "      <td>0</td>\n",
       "      <td>0</td>\n",
       "    </tr>\n",
       "    <tr>\n",
       "      <th>1</th>\n",
       "      <td>0</td>\n",
       "      <td>0</td>\n",
       "      <td>0</td>\n",
       "      <td>0</td>\n",
       "      <td>0</td>\n",
       "      <td>0</td>\n",
       "      <td>0</td>\n",
       "      <td>0</td>\n",
       "      <td>0</td>\n",
       "      <td>0</td>\n",
       "      <td>...</td>\n",
       "      <td>0</td>\n",
       "      <td>0</td>\n",
       "      <td>0</td>\n",
       "      <td>0</td>\n",
       "      <td>0</td>\n",
       "      <td>0</td>\n",
       "      <td>0</td>\n",
       "      <td>0</td>\n",
       "      <td>0</td>\n",
       "      <td>0</td>\n",
       "    </tr>\n",
       "    <tr>\n",
       "      <th>2</th>\n",
       "      <td>0</td>\n",
       "      <td>0</td>\n",
       "      <td>0</td>\n",
       "      <td>0</td>\n",
       "      <td>0</td>\n",
       "      <td>0</td>\n",
       "      <td>0</td>\n",
       "      <td>0</td>\n",
       "      <td>0</td>\n",
       "      <td>0</td>\n",
       "      <td>...</td>\n",
       "      <td>0</td>\n",
       "      <td>0</td>\n",
       "      <td>0</td>\n",
       "      <td>0</td>\n",
       "      <td>0</td>\n",
       "      <td>0</td>\n",
       "      <td>0</td>\n",
       "      <td>0</td>\n",
       "      <td>0</td>\n",
       "      <td>0</td>\n",
       "    </tr>\n",
       "    <tr>\n",
       "      <th>3</th>\n",
       "      <td>0</td>\n",
       "      <td>0</td>\n",
       "      <td>0</td>\n",
       "      <td>0</td>\n",
       "      <td>0</td>\n",
       "      <td>0</td>\n",
       "      <td>0</td>\n",
       "      <td>0</td>\n",
       "      <td>0</td>\n",
       "      <td>0</td>\n",
       "      <td>...</td>\n",
       "      <td>0</td>\n",
       "      <td>0</td>\n",
       "      <td>0</td>\n",
       "      <td>0</td>\n",
       "      <td>0</td>\n",
       "      <td>0</td>\n",
       "      <td>0</td>\n",
       "      <td>0</td>\n",
       "      <td>0</td>\n",
       "      <td>0</td>\n",
       "    </tr>\n",
       "    <tr>\n",
       "      <th>4</th>\n",
       "      <td>0</td>\n",
       "      <td>0</td>\n",
       "      <td>1</td>\n",
       "      <td>0</td>\n",
       "      <td>0</td>\n",
       "      <td>0</td>\n",
       "      <td>0</td>\n",
       "      <td>0</td>\n",
       "      <td>0</td>\n",
       "      <td>0</td>\n",
       "      <td>...</td>\n",
       "      <td>0</td>\n",
       "      <td>0</td>\n",
       "      <td>0</td>\n",
       "      <td>0</td>\n",
       "      <td>0</td>\n",
       "      <td>0</td>\n",
       "      <td>0</td>\n",
       "      <td>0</td>\n",
       "      <td>0</td>\n",
       "      <td>0</td>\n",
       "    </tr>\n",
       "  </tbody>\n",
       "</table>\n",
       "<p>5 rows × 182 columns</p>\n",
       "</div>"
      ],
      "text/plain": [
       "   addit  aic  analysi  anova  arima  assumpt  asymptot  autocorrel  \\\n",
       "0      0    0        1      0      0        0         0           0   \n",
       "1      0    0        0      0      0        0         0           0   \n",
       "2      0    0        0      0      0        0         0           0   \n",
       "3      0    0        0      0      0        0         0           0   \n",
       "4      0    0        1      0      0        0         0           0   \n",
       "\n",
       "   autoregress  bay  ...  time  transform  unbalanc  valid  valu  variabl  \\\n",
       "0            0    0  ...     0          0         0      0     0        0   \n",
       "1            0    0  ...     0          0         0      0     0        0   \n",
       "2            0    0  ...     0          0         0      0     0        0   \n",
       "3            0    0  ...     0          0         0      0     0        0   \n",
       "4            0    0  ...     0          0         0      0     0        0   \n",
       "\n",
       "   varianc  visual  weight  wilcoxon  \n",
       "0        0       0       0         0  \n",
       "1        0       0       0         0  \n",
       "2        0       0       0         0  \n",
       "3        0       0       0         0  \n",
       "4        0       0       0         0  \n",
       "\n",
       "[5 rows x 182 columns]"
      ]
     },
     "execution_count": 309,
     "metadata": {},
     "output_type": "execute_result"
    }
   ],
   "source": [
    "train_tag_sparse.head()"
   ]
  },
  {
   "cell_type": "code",
   "execution_count": 184,
   "metadata": {},
   "outputs": [],
   "source": [
    "#Checking which words are used most frequently\n",
    "freq_train_body= train_body_sparse.sum().sort_values(ascending = False)\n",
    "freq_train_title= train_title_sparse.sum().sort_values(ascending = False)\n",
    "freq_train_tag= train_tag_sparse.sum().sort_values(ascending = False)\n",
    "\n",
    "freq_test_body= test_body_sparse.sum().sort_values(ascending = False)\n",
    "freq_test_title= test_title_sparse.sum().sort_values(ascending = False)\n",
    "freq_test_tag= test_tag_sparse.sum().sort_values(ascending = False)"
   ]
  },
  {
   "cell_type": "code",
   "execution_count": 310,
   "metadata": {},
   "outputs": [
    {
     "data": {
      "text/plain": [
       "model      21762\n",
       "use        20838\n",
       "data       18988\n",
       "variabl    13571\n",
       "would      11440\n",
       "dtype: int64"
      ]
     },
     "execution_count": 310,
     "metadata": {},
     "output_type": "execute_result"
    }
   ],
   "source": [
    "freq_train_body.head()"
   ]
  },
  {
   "cell_type": "markdown",
   "metadata": {},
   "source": [
    "v) For this reason, the three types of text data that we are dealing with should be processed independently, and you should use different column names "
   ]
  },
  {
   "cell_type": "code",
   "execution_count": 185,
   "metadata": {},
   "outputs": [],
   "source": [
    "train_body_suffix = train_body_sparse.add_suffix('_word_body')\n",
    "test_body_suffix = test_body_sparse.add_suffix('_word_body')\n",
    "\n",
    "train_title_suffix = train_title_sparse.add_suffix('_word_title')\n",
    "test_title_suffix = test_title_sparse.add_suffix('_word_title')\n",
    "\n",
    "train_tag_suffix = train_tag_sparse.add_suffix('_word_tag')\n",
    "test_tag_suffix = test_tag_sparse.add_suffix('_word_tag')"
   ]
  },
  {
   "cell_type": "code",
   "execution_count": 312,
   "metadata": {},
   "outputs": [
    {
     "data": {
      "text/html": [
       "<div>\n",
       "<style scoped>\n",
       "    .dataframe tbody tr th:only-of-type {\n",
       "        vertical-align: middle;\n",
       "    }\n",
       "\n",
       "    .dataframe tbody tr th {\n",
       "        vertical-align: top;\n",
       "    }\n",
       "\n",
       "    .dataframe thead th {\n",
       "        text-align: right;\n",
       "    }\n",
       "</style>\n",
       "<table border=\"1\" class=\"dataframe\">\n",
       "  <thead>\n",
       "    <tr style=\"text-align: right;\">\n",
       "      <th></th>\n",
       "      <th>abl_word_body</th>\n",
       "      <th>across_word_body</th>\n",
       "      <th>actual_word_body</th>\n",
       "      <th>addit_word_body</th>\n",
       "      <th>advanc_word_body</th>\n",
       "      <th>algorithm_word_body</th>\n",
       "      <th>also_word_body</th>\n",
       "      <th>analysi_word_body</th>\n",
       "      <th>anoth_word_body</th>\n",
       "      <th>answer_word_body</th>\n",
       "      <th>...</th>\n",
       "      <th>well_word_body</th>\n",
       "      <th>whether_word_body</th>\n",
       "      <th>within_word_body</th>\n",
       "      <th>without_word_body</th>\n",
       "      <th>wonder_word_body</th>\n",
       "      <th>work_word_body</th>\n",
       "      <th>would_word_body</th>\n",
       "      <th>wrong_word_body</th>\n",
       "      <th>year_word_body</th>\n",
       "      <th>zero_word_body</th>\n",
       "    </tr>\n",
       "  </thead>\n",
       "  <tbody>\n",
       "    <tr>\n",
       "      <th>0</th>\n",
       "      <td>0</td>\n",
       "      <td>0</td>\n",
       "      <td>0</td>\n",
       "      <td>0</td>\n",
       "      <td>0</td>\n",
       "      <td>0</td>\n",
       "      <td>0</td>\n",
       "      <td>1</td>\n",
       "      <td>0</td>\n",
       "      <td>1</td>\n",
       "      <td>...</td>\n",
       "      <td>0</td>\n",
       "      <td>0</td>\n",
       "      <td>3</td>\n",
       "      <td>0</td>\n",
       "      <td>0</td>\n",
       "      <td>0</td>\n",
       "      <td>0</td>\n",
       "      <td>0</td>\n",
       "      <td>0</td>\n",
       "      <td>0</td>\n",
       "    </tr>\n",
       "    <tr>\n",
       "      <th>1</th>\n",
       "      <td>0</td>\n",
       "      <td>0</td>\n",
       "      <td>0</td>\n",
       "      <td>0</td>\n",
       "      <td>0</td>\n",
       "      <td>0</td>\n",
       "      <td>0</td>\n",
       "      <td>0</td>\n",
       "      <td>0</td>\n",
       "      <td>0</td>\n",
       "      <td>...</td>\n",
       "      <td>0</td>\n",
       "      <td>0</td>\n",
       "      <td>1</td>\n",
       "      <td>0</td>\n",
       "      <td>0</td>\n",
       "      <td>1</td>\n",
       "      <td>1</td>\n",
       "      <td>0</td>\n",
       "      <td>0</td>\n",
       "      <td>0</td>\n",
       "    </tr>\n",
       "    <tr>\n",
       "      <th>2</th>\n",
       "      <td>0</td>\n",
       "      <td>0</td>\n",
       "      <td>0</td>\n",
       "      <td>0</td>\n",
       "      <td>0</td>\n",
       "      <td>0</td>\n",
       "      <td>0</td>\n",
       "      <td>0</td>\n",
       "      <td>0</td>\n",
       "      <td>0</td>\n",
       "      <td>...</td>\n",
       "      <td>0</td>\n",
       "      <td>0</td>\n",
       "      <td>0</td>\n",
       "      <td>0</td>\n",
       "      <td>0</td>\n",
       "      <td>0</td>\n",
       "      <td>0</td>\n",
       "      <td>0</td>\n",
       "      <td>0</td>\n",
       "      <td>0</td>\n",
       "    </tr>\n",
       "    <tr>\n",
       "      <th>3</th>\n",
       "      <td>0</td>\n",
       "      <td>0</td>\n",
       "      <td>0</td>\n",
       "      <td>0</td>\n",
       "      <td>0</td>\n",
       "      <td>0</td>\n",
       "      <td>0</td>\n",
       "      <td>0</td>\n",
       "      <td>0</td>\n",
       "      <td>0</td>\n",
       "      <td>...</td>\n",
       "      <td>0</td>\n",
       "      <td>0</td>\n",
       "      <td>0</td>\n",
       "      <td>0</td>\n",
       "      <td>0</td>\n",
       "      <td>0</td>\n",
       "      <td>0</td>\n",
       "      <td>0</td>\n",
       "      <td>0</td>\n",
       "      <td>0</td>\n",
       "    </tr>\n",
       "    <tr>\n",
       "      <th>4</th>\n",
       "      <td>0</td>\n",
       "      <td>0</td>\n",
       "      <td>0</td>\n",
       "      <td>0</td>\n",
       "      <td>0</td>\n",
       "      <td>0</td>\n",
       "      <td>0</td>\n",
       "      <td>0</td>\n",
       "      <td>0</td>\n",
       "      <td>0</td>\n",
       "      <td>...</td>\n",
       "      <td>0</td>\n",
       "      <td>0</td>\n",
       "      <td>0</td>\n",
       "      <td>0</td>\n",
       "      <td>0</td>\n",
       "      <td>0</td>\n",
       "      <td>0</td>\n",
       "      <td>0</td>\n",
       "      <td>3</td>\n",
       "      <td>0</td>\n",
       "    </tr>\n",
       "  </tbody>\n",
       "</table>\n",
       "<p>5 rows × 275 columns</p>\n",
       "</div>"
      ],
      "text/plain": [
       "   abl_word_body  across_word_body  actual_word_body  addit_word_body  \\\n",
       "0              0                 0                 0                0   \n",
       "1              0                 0                 0                0   \n",
       "2              0                 0                 0                0   \n",
       "3              0                 0                 0                0   \n",
       "4              0                 0                 0                0   \n",
       "\n",
       "   advanc_word_body  algorithm_word_body  also_word_body  analysi_word_body  \\\n",
       "0                 0                    0               0                  1   \n",
       "1                 0                    0               0                  0   \n",
       "2                 0                    0               0                  0   \n",
       "3                 0                    0               0                  0   \n",
       "4                 0                    0               0                  0   \n",
       "\n",
       "   anoth_word_body  answer_word_body  ...  well_word_body  whether_word_body  \\\n",
       "0                0                 1  ...               0                  0   \n",
       "1                0                 0  ...               0                  0   \n",
       "2                0                 0  ...               0                  0   \n",
       "3                0                 0  ...               0                  0   \n",
       "4                0                 0  ...               0                  0   \n",
       "\n",
       "   within_word_body  without_word_body  wonder_word_body  work_word_body  \\\n",
       "0                 3                  0                 0               0   \n",
       "1                 1                  0                 0               1   \n",
       "2                 0                  0                 0               0   \n",
       "3                 0                  0                 0               0   \n",
       "4                 0                  0                 0               0   \n",
       "\n",
       "   would_word_body  wrong_word_body  year_word_body  zero_word_body  \n",
       "0                0                0               0               0  \n",
       "1                1                0               0               0  \n",
       "2                0                0               0               0  \n",
       "3                0                0               0               0  \n",
       "4                0                0               3               0  \n",
       "\n",
       "[5 rows x 275 columns]"
      ]
     },
     "execution_count": 312,
     "metadata": {},
     "output_type": "execute_result"
    }
   ],
   "source": [
    "train_body_suffix.head()"
   ]
  },
  {
   "cell_type": "code",
   "execution_count": 186,
   "metadata": {},
   "outputs": [],
   "source": [
    "new_train_cleaned = pd.concat([train_body_suffix, train_title_suffix, train_tag_suffix], axis = 1)\n",
    "new_test_cleaned = pd.concat([test_body_suffix, test_title_suffix, test_tag_suffix], axis = 1)"
   ]
  },
  {
   "cell_type": "code",
   "execution_count": 311,
   "metadata": {},
   "outputs": [
    {
     "data": {
      "text/html": [
       "<div>\n",
       "<style scoped>\n",
       "    .dataframe tbody tr th:only-of-type {\n",
       "        vertical-align: middle;\n",
       "    }\n",
       "\n",
       "    .dataframe tbody tr th {\n",
       "        vertical-align: top;\n",
       "    }\n",
       "\n",
       "    .dataframe thead th {\n",
       "        text-align: right;\n",
       "    }\n",
       "</style>\n",
       "<table border=\"1\" class=\"dataframe\">\n",
       "  <thead>\n",
       "    <tr style=\"text-align: right;\">\n",
       "      <th></th>\n",
       "      <th>abl_word_body</th>\n",
       "      <th>across_word_body</th>\n",
       "      <th>actual_word_body</th>\n",
       "      <th>addit_word_body</th>\n",
       "      <th>advanc_word_body</th>\n",
       "      <th>algorithm_word_body</th>\n",
       "      <th>also_word_body</th>\n",
       "      <th>analysi_word_body</th>\n",
       "      <th>anoth_word_body</th>\n",
       "      <th>answer_word_body</th>\n",
       "      <th>...</th>\n",
       "      <th>unit_word_title</th>\n",
       "      <th>use_word_tag</th>\n",
       "      <th>vector_word_tag</th>\n",
       "      <th>vs_word_tag</th>\n",
       "      <th>way_word_tag</th>\n",
       "      <th>whether_word_title</th>\n",
       "      <th>without_word_tag</th>\n",
       "      <th>work_word_tag</th>\n",
       "      <th>would_word_tag</th>\n",
       "      <th>zero_word_tag</th>\n",
       "    </tr>\n",
       "  </thead>\n",
       "  <tbody>\n",
       "    <tr>\n",
       "      <th>0</th>\n",
       "      <td>0</td>\n",
       "      <td>0</td>\n",
       "      <td>0</td>\n",
       "      <td>0</td>\n",
       "      <td>0</td>\n",
       "      <td>0</td>\n",
       "      <td>0</td>\n",
       "      <td>1</td>\n",
       "      <td>0</td>\n",
       "      <td>1</td>\n",
       "      <td>...</td>\n",
       "      <td>0</td>\n",
       "      <td>0</td>\n",
       "      <td>0</td>\n",
       "      <td>0</td>\n",
       "      <td>0</td>\n",
       "      <td>0</td>\n",
       "      <td>0</td>\n",
       "      <td>0</td>\n",
       "      <td>0</td>\n",
       "      <td>0</td>\n",
       "    </tr>\n",
       "    <tr>\n",
       "      <th>1</th>\n",
       "      <td>0</td>\n",
       "      <td>0</td>\n",
       "      <td>0</td>\n",
       "      <td>0</td>\n",
       "      <td>0</td>\n",
       "      <td>0</td>\n",
       "      <td>0</td>\n",
       "      <td>0</td>\n",
       "      <td>0</td>\n",
       "      <td>0</td>\n",
       "      <td>...</td>\n",
       "      <td>0</td>\n",
       "      <td>0</td>\n",
       "      <td>0</td>\n",
       "      <td>0</td>\n",
       "      <td>0</td>\n",
       "      <td>0</td>\n",
       "      <td>0</td>\n",
       "      <td>0</td>\n",
       "      <td>0</td>\n",
       "      <td>0</td>\n",
       "    </tr>\n",
       "    <tr>\n",
       "      <th>2</th>\n",
       "      <td>0</td>\n",
       "      <td>0</td>\n",
       "      <td>0</td>\n",
       "      <td>0</td>\n",
       "      <td>0</td>\n",
       "      <td>0</td>\n",
       "      <td>0</td>\n",
       "      <td>0</td>\n",
       "      <td>0</td>\n",
       "      <td>0</td>\n",
       "      <td>...</td>\n",
       "      <td>0</td>\n",
       "      <td>0</td>\n",
       "      <td>0</td>\n",
       "      <td>0</td>\n",
       "      <td>0</td>\n",
       "      <td>0</td>\n",
       "      <td>0</td>\n",
       "      <td>0</td>\n",
       "      <td>0</td>\n",
       "      <td>0</td>\n",
       "    </tr>\n",
       "    <tr>\n",
       "      <th>3</th>\n",
       "      <td>0</td>\n",
       "      <td>0</td>\n",
       "      <td>0</td>\n",
       "      <td>0</td>\n",
       "      <td>0</td>\n",
       "      <td>0</td>\n",
       "      <td>0</td>\n",
       "      <td>0</td>\n",
       "      <td>0</td>\n",
       "      <td>0</td>\n",
       "      <td>...</td>\n",
       "      <td>0</td>\n",
       "      <td>0</td>\n",
       "      <td>0</td>\n",
       "      <td>0</td>\n",
       "      <td>0</td>\n",
       "      <td>0</td>\n",
       "      <td>0</td>\n",
       "      <td>0</td>\n",
       "      <td>0</td>\n",
       "      <td>0</td>\n",
       "    </tr>\n",
       "    <tr>\n",
       "      <th>4</th>\n",
       "      <td>0</td>\n",
       "      <td>0</td>\n",
       "      <td>0</td>\n",
       "      <td>0</td>\n",
       "      <td>0</td>\n",
       "      <td>0</td>\n",
       "      <td>0</td>\n",
       "      <td>0</td>\n",
       "      <td>0</td>\n",
       "      <td>0</td>\n",
       "      <td>...</td>\n",
       "      <td>0</td>\n",
       "      <td>0</td>\n",
       "      <td>0</td>\n",
       "      <td>0</td>\n",
       "      <td>0</td>\n",
       "      <td>0</td>\n",
       "      <td>0</td>\n",
       "      <td>0</td>\n",
       "      <td>0</td>\n",
       "      <td>0</td>\n",
       "    </tr>\n",
       "  </tbody>\n",
       "</table>\n",
       "<p>5 rows × 875 columns</p>\n",
       "</div>"
      ],
      "text/plain": [
       "   abl_word_body  across_word_body  actual_word_body  addit_word_body  \\\n",
       "0              0                 0                 0                0   \n",
       "1              0                 0                 0                0   \n",
       "2              0                 0                 0                0   \n",
       "3              0                 0                 0                0   \n",
       "4              0                 0                 0                0   \n",
       "\n",
       "   advanc_word_body  algorithm_word_body  also_word_body  analysi_word_body  \\\n",
       "0                 0                    0               0                  1   \n",
       "1                 0                    0               0                  0   \n",
       "2                 0                    0               0                  0   \n",
       "3                 0                    0               0                  0   \n",
       "4                 0                    0               0                  0   \n",
       "\n",
       "   anoth_word_body  answer_word_body  ...  unit_word_title  use_word_tag  \\\n",
       "0                0                 1  ...                0             0   \n",
       "1                0                 0  ...                0             0   \n",
       "2                0                 0  ...                0             0   \n",
       "3                0                 0  ...                0             0   \n",
       "4                0                 0  ...                0             0   \n",
       "\n",
       "   vector_word_tag  vs_word_tag  way_word_tag  whether_word_title  \\\n",
       "0                0            0             0                   0   \n",
       "1                0            0             0                   0   \n",
       "2                0            0             0                   0   \n",
       "3                0            0             0                   0   \n",
       "4                0            0             0                   0   \n",
       "\n",
       "   without_word_tag  work_word_tag  would_word_tag  zero_word_tag  \n",
       "0                 0              0               0              0  \n",
       "1                 0              0               0              0  \n",
       "2                 0              0               0              0  \n",
       "3                 0              0               0              0  \n",
       "4                 0              0               0              0  \n",
       "\n",
       "[5 rows x 875 columns]"
      ]
     },
     "execution_count": 311,
     "metadata": {},
     "output_type": "execute_result"
    }
   ],
   "source": [
    "new_train_cleaned.head()"
   ]
  },
  {
   "cell_type": "code",
   "execution_count": 313,
   "metadata": {},
   "outputs": [
    {
     "data": {
      "text/html": [
       "<div>\n",
       "<style scoped>\n",
       "    .dataframe tbody tr th:only-of-type {\n",
       "        vertical-align: middle;\n",
       "    }\n",
       "\n",
       "    .dataframe tbody tr th {\n",
       "        vertical-align: top;\n",
       "    }\n",
       "\n",
       "    .dataframe thead th {\n",
       "        text-align: right;\n",
       "    }\n",
       "</style>\n",
       "<table border=\"1\" class=\"dataframe\">\n",
       "  <thead>\n",
       "    <tr style=\"text-align: right;\">\n",
       "      <th></th>\n",
       "      <th>abl_word_body</th>\n",
       "      <th>account_word_body</th>\n",
       "      <th>across_word_body</th>\n",
       "      <th>actual_word_body</th>\n",
       "      <th>addit_word_body</th>\n",
       "      <th>advanc_word_body</th>\n",
       "      <th>algorithm_word_body</th>\n",
       "      <th>also_word_body</th>\n",
       "      <th>analysi_word_body</th>\n",
       "      <th>anoth_word_body</th>\n",
       "      <th>...</th>\n",
       "      <th>survey_word_tag</th>\n",
       "      <th>surviv_word_tag</th>\n",
       "      <th>tensorflow_word_tag</th>\n",
       "      <th>terminolog_word_tag</th>\n",
       "      <th>theori_word_tag</th>\n",
       "      <th>timeseri_word_title</th>\n",
       "      <th>treatment_word_title</th>\n",
       "      <th>unbalanc_word_tag</th>\n",
       "      <th>visual_word_tag</th>\n",
       "      <th>wilcoxon_word_tag</th>\n",
       "    </tr>\n",
       "  </thead>\n",
       "  <tbody>\n",
       "    <tr>\n",
       "      <th>0</th>\n",
       "      <td>0</td>\n",
       "      <td>0</td>\n",
       "      <td>0</td>\n",
       "      <td>0</td>\n",
       "      <td>0</td>\n",
       "      <td>0</td>\n",
       "      <td>0</td>\n",
       "      <td>0</td>\n",
       "      <td>0</td>\n",
       "      <td>0</td>\n",
       "      <td>...</td>\n",
       "      <td>0</td>\n",
       "      <td>0</td>\n",
       "      <td>0</td>\n",
       "      <td>0</td>\n",
       "      <td>0</td>\n",
       "      <td>0</td>\n",
       "      <td>0</td>\n",
       "      <td>0</td>\n",
       "      <td>0</td>\n",
       "      <td>0</td>\n",
       "    </tr>\n",
       "    <tr>\n",
       "      <th>1</th>\n",
       "      <td>0</td>\n",
       "      <td>0</td>\n",
       "      <td>0</td>\n",
       "      <td>0</td>\n",
       "      <td>0</td>\n",
       "      <td>0</td>\n",
       "      <td>0</td>\n",
       "      <td>0</td>\n",
       "      <td>0</td>\n",
       "      <td>0</td>\n",
       "      <td>...</td>\n",
       "      <td>0</td>\n",
       "      <td>0</td>\n",
       "      <td>0</td>\n",
       "      <td>0</td>\n",
       "      <td>0</td>\n",
       "      <td>0</td>\n",
       "      <td>0</td>\n",
       "      <td>0</td>\n",
       "      <td>0</td>\n",
       "      <td>0</td>\n",
       "    </tr>\n",
       "    <tr>\n",
       "      <th>2</th>\n",
       "      <td>0</td>\n",
       "      <td>0</td>\n",
       "      <td>0</td>\n",
       "      <td>0</td>\n",
       "      <td>0</td>\n",
       "      <td>0</td>\n",
       "      <td>0</td>\n",
       "      <td>1</td>\n",
       "      <td>0</td>\n",
       "      <td>0</td>\n",
       "      <td>...</td>\n",
       "      <td>0</td>\n",
       "      <td>0</td>\n",
       "      <td>0</td>\n",
       "      <td>0</td>\n",
       "      <td>0</td>\n",
       "      <td>0</td>\n",
       "      <td>0</td>\n",
       "      <td>0</td>\n",
       "      <td>0</td>\n",
       "      <td>0</td>\n",
       "    </tr>\n",
       "    <tr>\n",
       "      <th>3</th>\n",
       "      <td>0</td>\n",
       "      <td>0</td>\n",
       "      <td>0</td>\n",
       "      <td>0</td>\n",
       "      <td>0</td>\n",
       "      <td>0</td>\n",
       "      <td>0</td>\n",
       "      <td>1</td>\n",
       "      <td>0</td>\n",
       "      <td>0</td>\n",
       "      <td>...</td>\n",
       "      <td>0</td>\n",
       "      <td>0</td>\n",
       "      <td>0</td>\n",
       "      <td>0</td>\n",
       "      <td>0</td>\n",
       "      <td>0</td>\n",
       "      <td>0</td>\n",
       "      <td>0</td>\n",
       "      <td>0</td>\n",
       "      <td>0</td>\n",
       "    </tr>\n",
       "    <tr>\n",
       "      <th>4</th>\n",
       "      <td>0</td>\n",
       "      <td>0</td>\n",
       "      <td>1</td>\n",
       "      <td>1</td>\n",
       "      <td>0</td>\n",
       "      <td>0</td>\n",
       "      <td>0</td>\n",
       "      <td>0</td>\n",
       "      <td>0</td>\n",
       "      <td>0</td>\n",
       "      <td>...</td>\n",
       "      <td>0</td>\n",
       "      <td>0</td>\n",
       "      <td>0</td>\n",
       "      <td>0</td>\n",
       "      <td>0</td>\n",
       "      <td>0</td>\n",
       "      <td>0</td>\n",
       "      <td>0</td>\n",
       "      <td>0</td>\n",
       "      <td>0</td>\n",
       "    </tr>\n",
       "  </tbody>\n",
       "</table>\n",
       "<p>5 rows × 875 columns</p>\n",
       "</div>"
      ],
      "text/plain": [
       "   abl_word_body  account_word_body  across_word_body  actual_word_body  \\\n",
       "0              0                  0                 0                 0   \n",
       "1              0                  0                 0                 0   \n",
       "2              0                  0                 0                 0   \n",
       "3              0                  0                 0                 0   \n",
       "4              0                  0                 1                 1   \n",
       "\n",
       "   addit_word_body  advanc_word_body  algorithm_word_body  also_word_body  \\\n",
       "0                0                 0                    0               0   \n",
       "1                0                 0                    0               0   \n",
       "2                0                 0                    0               1   \n",
       "3                0                 0                    0               1   \n",
       "4                0                 0                    0               0   \n",
       "\n",
       "   analysi_word_body  anoth_word_body  ...  survey_word_tag  surviv_word_tag  \\\n",
       "0                  0                0  ...                0                0   \n",
       "1                  0                0  ...                0                0   \n",
       "2                  0                0  ...                0                0   \n",
       "3                  0                0  ...                0                0   \n",
       "4                  0                0  ...                0                0   \n",
       "\n",
       "   tensorflow_word_tag  terminolog_word_tag  theori_word_tag  \\\n",
       "0                    0                    0                0   \n",
       "1                    0                    0                0   \n",
       "2                    0                    0                0   \n",
       "3                    0                    0                0   \n",
       "4                    0                    0                0   \n",
       "\n",
       "   timeseri_word_title  treatment_word_title  unbalanc_word_tag  \\\n",
       "0                    0                     0                  0   \n",
       "1                    0                     0                  0   \n",
       "2                    0                     0                  0   \n",
       "3                    0                     0                  0   \n",
       "4                    0                     0                  0   \n",
       "\n",
       "   visual_word_tag  wilcoxon_word_tag  \n",
       "0                0                  0  \n",
       "1                0                  0  \n",
       "2                0                  0  \n",
       "3                0                  0  \n",
       "4                0                  0  \n",
       "\n",
       "[5 rows x 875 columns]"
      ]
     },
     "execution_count": 313,
     "metadata": {},
     "output_type": "execute_result"
    }
   ],
   "source": [
    "new_test_cleaned.head()"
   ]
  },
  {
   "cell_type": "code",
   "execution_count": 187,
   "metadata": {},
   "outputs": [],
   "source": [
    "#Using the Difference to find out which words are missing from each \n",
    "train_minus_test = new_train_cleaned.columns.difference(new_test_cleaned.columns)\n",
    "test_minus_train = new_test_cleaned.columns.difference(new_train_cleaned.columns)"
   ]
  },
  {
   "cell_type": "code",
   "execution_count": 315,
   "metadata": {},
   "outputs": [
    {
     "data": {
      "text/plain": [
       "Index(['addit_word_tag', 'aic_word_tag', 'anoth_word_title',\n",
       "       'asymptot_word_tag', 'autocorrel_word_tag', 'autoregress_word_tag',\n",
       "       'biostatist_word_tag', 'boost_word_tag', 'carlo_word_tag',\n",
       "       'cart_word_tag', 'categor_word_body', 'causal_word_tag',\n",
       "       'central_word_tag', 'chain_word_tag', 'chi_word_tag', 'conv_word_tag',\n",
       "       'cox_word_tag', 'cumul_word_tag', 'deriv_word_body',\n",
       "       'descript_word_tag', 'dimension_word_tag', 'econometr_word_tag',\n",
       "       'edit_word_body', 'encod_word_tag', 'end_word_body', 'engin_word_tag',\n",
       "       'entropi_word_tag', 'entropi_word_title', 'equival_word_title',\n",
       "       'experi_word_tag', 'follow_word_title', 'gamma_word_title',\n",
       "       'glmm_word_tag', 'got_word_body', 'graph_word_title',\n",
       "       'heteroscedast_word_tag', 'hierarch_word_tag', 'imag_word_title',\n",
       "       'inflat_word_tag', 'kera_word_tag', 'languag_word_tag',\n",
       "       'least_word_tag', 'lme_word_tag', 'lstm_word_tag', 'lstm_word_title',\n",
       "       'markov_word_tag', 'markov_word_title', 'mathemat_word_tag',\n",
       "       'meta_word_tag', 'miss_word_tag', 'moment_word_tag',\n",
       "       'moment_word_title', 'mont_word_tag', 'montecarlo_word_tag',\n",
       "       'multicollinear_word_tag', 'multinomi_word_tag', 'natur_word_tag',\n",
       "       'nlme_word_tag', 'nonparametr_word_tag', 'object_word_title',\n",
       "       'outlier_word_tag', 'overfit_word_tag', 'pdf_word_title',\n",
       "       'quantil_word_tag', 'reduct_word_tag', 'refer_word_tag',\n",
       "       'regular_word_tag', 'regular_word_title', 'reinforc_word_tag',\n",
       "       'report_word_title', 'scikit_word_tag', 'self_word_tag',\n",
       "       'smooth_word_tag', 'split_word_title', 'stata_word_tag',\n",
       "       'stationar_word_tag', 'stochast_word_tag', 'survey_word_tag',\n",
       "       'surviv_word_tag', 'tensorflow_word_tag', 'terminolog_word_tag',\n",
       "       'theori_word_tag', 'timeseri_word_title', 'treatment_word_title',\n",
       "       'unbalanc_word_tag', 'visual_word_tag', 'wilcoxon_word_tag'],\n",
       "      dtype='object')"
      ]
     },
     "execution_count": 315,
     "metadata": {},
     "output_type": "execute_result"
    }
   ],
   "source": [
    "train_minus_test"
   ]
  },
  {
   "cell_type": "code",
   "execution_count": 316,
   "metadata": {},
   "outputs": [
    {
     "data": {
      "text/plain": [
       "Index(['account_word_body', 'accuraci_word_tag', 'adjust_word_tag',\n",
       "       'algorithm_word_tag', 'analys_word_title', 'appli_word_tag',\n",
       "       'approach_word_tag', 'appropri_word_tag', 'averag_word_tag',\n",
       "       'base_word_tag',\n",
       "       ...\n",
       "       'unit_word_title', 'use_word_tag', 'vector_word_tag', 'vs_word_tag',\n",
       "       'way_word_tag', 'whether_word_title', 'without_word_tag',\n",
       "       'work_word_tag', 'would_word_tag', 'zero_word_tag'],\n",
       "      dtype='object', length=141)"
      ]
     },
     "execution_count": 316,
     "metadata": {},
     "output_type": "execute_result"
    }
   ],
   "source": [
    "test_minus_train"
   ]
  },
  {
   "cell_type": "code",
   "execution_count": 188,
   "metadata": {},
   "outputs": [],
   "source": [
    "#Adding the difference to the train and test set\n",
    "def difference_add_function(diff, df):\n",
    "    for i in diff:\n",
    "        if i not in df.columns:\n",
    "            df[i] = 0 \n",
    "    return df\n",
    "\n",
    "new_train = difference_add_function(test_minus_train, new_train_cleaned)\n",
    "new_test = difference_add_function(train_minus_test, new_test_cleaned)"
   ]
  },
  {
   "cell_type": "code",
   "execution_count": 189,
   "metadata": {},
   "outputs": [],
   "source": [
    "#Setting a Useful Column so we know a question is useful when the score is greater or equal to one\n",
    "stacks_train['OneOrAbove'] = stacks_train['Score'].apply(lambda x: 1 if x >= 1 else 0)\n",
    "stacks_test['OneOrAbove'] = stacks_test['Score'].apply(lambda x: 1 if x >= 1 else 0)"
   ]
  },
  {
   "cell_type": "code",
   "execution_count": 190,
   "metadata": {},
   "outputs": [
    {
     "data": {
      "text/plain": [
       "((19247, 875), (8249, 875))"
      ]
     },
     "execution_count": 190,
     "metadata": {},
     "output_type": "execute_result"
    }
   ],
   "source": [
    "#Setting the new test, train dataset. Now we have a same column length for x_train and x_test\n",
    "y_train = stacks_train['OneOrAbove']\n",
    "X_train = new_train\n",
    "\n",
    "y_test = stacks_test['OneOrAbove']\n",
    "X_test = new_test\n",
    "\n",
    "X_train.shape, X_test.shape"
   ]
  },
  {
   "cell_type": "code",
   "execution_count": 317,
   "metadata": {},
   "outputs": [
    {
     "data": {
      "text/html": [
       "<div>\n",
       "<style scoped>\n",
       "    .dataframe tbody tr th:only-of-type {\n",
       "        vertical-align: middle;\n",
       "    }\n",
       "\n",
       "    .dataframe tbody tr th {\n",
       "        vertical-align: top;\n",
       "    }\n",
       "\n",
       "    .dataframe thead th {\n",
       "        text-align: right;\n",
       "    }\n",
       "</style>\n",
       "<table border=\"1\" class=\"dataframe\">\n",
       "  <thead>\n",
       "    <tr style=\"text-align: right;\">\n",
       "      <th></th>\n",
       "      <th>abl_word_body</th>\n",
       "      <th>across_word_body</th>\n",
       "      <th>actual_word_body</th>\n",
       "      <th>addit_word_body</th>\n",
       "      <th>advanc_word_body</th>\n",
       "      <th>algorithm_word_body</th>\n",
       "      <th>also_word_body</th>\n",
       "      <th>analysi_word_body</th>\n",
       "      <th>anoth_word_body</th>\n",
       "      <th>answer_word_body</th>\n",
       "      <th>...</th>\n",
       "      <th>unit_word_title</th>\n",
       "      <th>use_word_tag</th>\n",
       "      <th>vector_word_tag</th>\n",
       "      <th>vs_word_tag</th>\n",
       "      <th>way_word_tag</th>\n",
       "      <th>whether_word_title</th>\n",
       "      <th>without_word_tag</th>\n",
       "      <th>work_word_tag</th>\n",
       "      <th>would_word_tag</th>\n",
       "      <th>zero_word_tag</th>\n",
       "    </tr>\n",
       "  </thead>\n",
       "  <tbody>\n",
       "    <tr>\n",
       "      <th>0</th>\n",
       "      <td>0</td>\n",
       "      <td>0</td>\n",
       "      <td>0</td>\n",
       "      <td>0</td>\n",
       "      <td>0</td>\n",
       "      <td>0</td>\n",
       "      <td>0</td>\n",
       "      <td>1</td>\n",
       "      <td>0</td>\n",
       "      <td>1</td>\n",
       "      <td>...</td>\n",
       "      <td>0</td>\n",
       "      <td>0</td>\n",
       "      <td>0</td>\n",
       "      <td>0</td>\n",
       "      <td>0</td>\n",
       "      <td>0</td>\n",
       "      <td>0</td>\n",
       "      <td>0</td>\n",
       "      <td>0</td>\n",
       "      <td>0</td>\n",
       "    </tr>\n",
       "    <tr>\n",
       "      <th>1</th>\n",
       "      <td>0</td>\n",
       "      <td>0</td>\n",
       "      <td>0</td>\n",
       "      <td>0</td>\n",
       "      <td>0</td>\n",
       "      <td>0</td>\n",
       "      <td>0</td>\n",
       "      <td>0</td>\n",
       "      <td>0</td>\n",
       "      <td>0</td>\n",
       "      <td>...</td>\n",
       "      <td>0</td>\n",
       "      <td>0</td>\n",
       "      <td>0</td>\n",
       "      <td>0</td>\n",
       "      <td>0</td>\n",
       "      <td>0</td>\n",
       "      <td>0</td>\n",
       "      <td>0</td>\n",
       "      <td>0</td>\n",
       "      <td>0</td>\n",
       "    </tr>\n",
       "    <tr>\n",
       "      <th>2</th>\n",
       "      <td>0</td>\n",
       "      <td>0</td>\n",
       "      <td>0</td>\n",
       "      <td>0</td>\n",
       "      <td>0</td>\n",
       "      <td>0</td>\n",
       "      <td>0</td>\n",
       "      <td>0</td>\n",
       "      <td>0</td>\n",
       "      <td>0</td>\n",
       "      <td>...</td>\n",
       "      <td>0</td>\n",
       "      <td>0</td>\n",
       "      <td>0</td>\n",
       "      <td>0</td>\n",
       "      <td>0</td>\n",
       "      <td>0</td>\n",
       "      <td>0</td>\n",
       "      <td>0</td>\n",
       "      <td>0</td>\n",
       "      <td>0</td>\n",
       "    </tr>\n",
       "    <tr>\n",
       "      <th>3</th>\n",
       "      <td>0</td>\n",
       "      <td>0</td>\n",
       "      <td>0</td>\n",
       "      <td>0</td>\n",
       "      <td>0</td>\n",
       "      <td>0</td>\n",
       "      <td>0</td>\n",
       "      <td>0</td>\n",
       "      <td>0</td>\n",
       "      <td>0</td>\n",
       "      <td>...</td>\n",
       "      <td>0</td>\n",
       "      <td>0</td>\n",
       "      <td>0</td>\n",
       "      <td>0</td>\n",
       "      <td>0</td>\n",
       "      <td>0</td>\n",
       "      <td>0</td>\n",
       "      <td>0</td>\n",
       "      <td>0</td>\n",
       "      <td>0</td>\n",
       "    </tr>\n",
       "    <tr>\n",
       "      <th>4</th>\n",
       "      <td>0</td>\n",
       "      <td>0</td>\n",
       "      <td>0</td>\n",
       "      <td>0</td>\n",
       "      <td>0</td>\n",
       "      <td>0</td>\n",
       "      <td>0</td>\n",
       "      <td>0</td>\n",
       "      <td>0</td>\n",
       "      <td>0</td>\n",
       "      <td>...</td>\n",
       "      <td>0</td>\n",
       "      <td>0</td>\n",
       "      <td>0</td>\n",
       "      <td>0</td>\n",
       "      <td>0</td>\n",
       "      <td>0</td>\n",
       "      <td>0</td>\n",
       "      <td>0</td>\n",
       "      <td>0</td>\n",
       "      <td>0</td>\n",
       "    </tr>\n",
       "    <tr>\n",
       "      <th>...</th>\n",
       "      <td>...</td>\n",
       "      <td>...</td>\n",
       "      <td>...</td>\n",
       "      <td>...</td>\n",
       "      <td>...</td>\n",
       "      <td>...</td>\n",
       "      <td>...</td>\n",
       "      <td>...</td>\n",
       "      <td>...</td>\n",
       "      <td>...</td>\n",
       "      <td>...</td>\n",
       "      <td>...</td>\n",
       "      <td>...</td>\n",
       "      <td>...</td>\n",
       "      <td>...</td>\n",
       "      <td>...</td>\n",
       "      <td>...</td>\n",
       "      <td>...</td>\n",
       "      <td>...</td>\n",
       "      <td>...</td>\n",
       "      <td>...</td>\n",
       "    </tr>\n",
       "    <tr>\n",
       "      <th>19242</th>\n",
       "      <td>0</td>\n",
       "      <td>0</td>\n",
       "      <td>0</td>\n",
       "      <td>0</td>\n",
       "      <td>0</td>\n",
       "      <td>0</td>\n",
       "      <td>0</td>\n",
       "      <td>0</td>\n",
       "      <td>0</td>\n",
       "      <td>0</td>\n",
       "      <td>...</td>\n",
       "      <td>0</td>\n",
       "      <td>0</td>\n",
       "      <td>0</td>\n",
       "      <td>0</td>\n",
       "      <td>0</td>\n",
       "      <td>0</td>\n",
       "      <td>0</td>\n",
       "      <td>0</td>\n",
       "      <td>0</td>\n",
       "      <td>0</td>\n",
       "    </tr>\n",
       "    <tr>\n",
       "      <th>19243</th>\n",
       "      <td>0</td>\n",
       "      <td>0</td>\n",
       "      <td>0</td>\n",
       "      <td>0</td>\n",
       "      <td>0</td>\n",
       "      <td>0</td>\n",
       "      <td>0</td>\n",
       "      <td>2</td>\n",
       "      <td>0</td>\n",
       "      <td>0</td>\n",
       "      <td>...</td>\n",
       "      <td>0</td>\n",
       "      <td>0</td>\n",
       "      <td>0</td>\n",
       "      <td>0</td>\n",
       "      <td>0</td>\n",
       "      <td>0</td>\n",
       "      <td>0</td>\n",
       "      <td>0</td>\n",
       "      <td>0</td>\n",
       "      <td>0</td>\n",
       "    </tr>\n",
       "    <tr>\n",
       "      <th>19244</th>\n",
       "      <td>0</td>\n",
       "      <td>0</td>\n",
       "      <td>0</td>\n",
       "      <td>0</td>\n",
       "      <td>0</td>\n",
       "      <td>0</td>\n",
       "      <td>0</td>\n",
       "      <td>0</td>\n",
       "      <td>1</td>\n",
       "      <td>0</td>\n",
       "      <td>...</td>\n",
       "      <td>0</td>\n",
       "      <td>0</td>\n",
       "      <td>0</td>\n",
       "      <td>0</td>\n",
       "      <td>0</td>\n",
       "      <td>0</td>\n",
       "      <td>0</td>\n",
       "      <td>0</td>\n",
       "      <td>0</td>\n",
       "      <td>0</td>\n",
       "    </tr>\n",
       "    <tr>\n",
       "      <th>19245</th>\n",
       "      <td>1</td>\n",
       "      <td>0</td>\n",
       "      <td>0</td>\n",
       "      <td>0</td>\n",
       "      <td>0</td>\n",
       "      <td>0</td>\n",
       "      <td>0</td>\n",
       "      <td>0</td>\n",
       "      <td>1</td>\n",
       "      <td>0</td>\n",
       "      <td>...</td>\n",
       "      <td>0</td>\n",
       "      <td>0</td>\n",
       "      <td>0</td>\n",
       "      <td>0</td>\n",
       "      <td>0</td>\n",
       "      <td>0</td>\n",
       "      <td>0</td>\n",
       "      <td>0</td>\n",
       "      <td>0</td>\n",
       "      <td>0</td>\n",
       "    </tr>\n",
       "    <tr>\n",
       "      <th>19246</th>\n",
       "      <td>0</td>\n",
       "      <td>0</td>\n",
       "      <td>0</td>\n",
       "      <td>0</td>\n",
       "      <td>0</td>\n",
       "      <td>0</td>\n",
       "      <td>0</td>\n",
       "      <td>0</td>\n",
       "      <td>0</td>\n",
       "      <td>2</td>\n",
       "      <td>...</td>\n",
       "      <td>0</td>\n",
       "      <td>0</td>\n",
       "      <td>0</td>\n",
       "      <td>0</td>\n",
       "      <td>0</td>\n",
       "      <td>0</td>\n",
       "      <td>0</td>\n",
       "      <td>0</td>\n",
       "      <td>0</td>\n",
       "      <td>0</td>\n",
       "    </tr>\n",
       "  </tbody>\n",
       "</table>\n",
       "<p>19247 rows × 875 columns</p>\n",
       "</div>"
      ],
      "text/plain": [
       "       abl_word_body  across_word_body  actual_word_body  addit_word_body  \\\n",
       "0                  0                 0                 0                0   \n",
       "1                  0                 0                 0                0   \n",
       "2                  0                 0                 0                0   \n",
       "3                  0                 0                 0                0   \n",
       "4                  0                 0                 0                0   \n",
       "...              ...               ...               ...              ...   \n",
       "19242              0                 0                 0                0   \n",
       "19243              0                 0                 0                0   \n",
       "19244              0                 0                 0                0   \n",
       "19245              1                 0                 0                0   \n",
       "19246              0                 0                 0                0   \n",
       "\n",
       "       advanc_word_body  algorithm_word_body  also_word_body  \\\n",
       "0                     0                    0               0   \n",
       "1                     0                    0               0   \n",
       "2                     0                    0               0   \n",
       "3                     0                    0               0   \n",
       "4                     0                    0               0   \n",
       "...                 ...                  ...             ...   \n",
       "19242                 0                    0               0   \n",
       "19243                 0                    0               0   \n",
       "19244                 0                    0               0   \n",
       "19245                 0                    0               0   \n",
       "19246                 0                    0               0   \n",
       "\n",
       "       analysi_word_body  anoth_word_body  answer_word_body  ...  \\\n",
       "0                      1                0                 1  ...   \n",
       "1                      0                0                 0  ...   \n",
       "2                      0                0                 0  ...   \n",
       "3                      0                0                 0  ...   \n",
       "4                      0                0                 0  ...   \n",
       "...                  ...              ...               ...  ...   \n",
       "19242                  0                0                 0  ...   \n",
       "19243                  2                0                 0  ...   \n",
       "19244                  0                1                 0  ...   \n",
       "19245                  0                1                 0  ...   \n",
       "19246                  0                0                 2  ...   \n",
       "\n",
       "       unit_word_title  use_word_tag  vector_word_tag  vs_word_tag  \\\n",
       "0                    0             0                0            0   \n",
       "1                    0             0                0            0   \n",
       "2                    0             0                0            0   \n",
       "3                    0             0                0            0   \n",
       "4                    0             0                0            0   \n",
       "...                ...           ...              ...          ...   \n",
       "19242                0             0                0            0   \n",
       "19243                0             0                0            0   \n",
       "19244                0             0                0            0   \n",
       "19245                0             0                0            0   \n",
       "19246                0             0                0            0   \n",
       "\n",
       "       way_word_tag  whether_word_title  without_word_tag  work_word_tag  \\\n",
       "0                 0                   0                 0              0   \n",
       "1                 0                   0                 0              0   \n",
       "2                 0                   0                 0              0   \n",
       "3                 0                   0                 0              0   \n",
       "4                 0                   0                 0              0   \n",
       "...             ...                 ...               ...            ...   \n",
       "19242             0                   0                 0              0   \n",
       "19243             0                   0                 0              0   \n",
       "19244             0                   0                 0              0   \n",
       "19245             0                   0                 0              0   \n",
       "19246             0                   0                 0              0   \n",
       "\n",
       "       would_word_tag  zero_word_tag  \n",
       "0                   0              0  \n",
       "1                   0              0  \n",
       "2                   0              0  \n",
       "3                   0              0  \n",
       "4                   0              0  \n",
       "...               ...            ...  \n",
       "19242               0              0  \n",
       "19243               0              0  \n",
       "19244               0              0  \n",
       "19245               0              0  \n",
       "19246               0              0  \n",
       "\n",
       "[19247 rows x 875 columns]"
      ]
     },
     "execution_count": 317,
     "metadata": {},
     "output_type": "execute_result"
    }
   ],
   "source": [
    "X_train"
   ]
  },
  {
   "cell_type": "code",
   "execution_count": 318,
   "metadata": {},
   "outputs": [
    {
     "data": {
      "text/plain": [
       "0        1\n",
       "1        1\n",
       "2        0\n",
       "3        0\n",
       "4        1\n",
       "        ..\n",
       "19242    0\n",
       "19243    0\n",
       "19244    0\n",
       "19245    1\n",
       "19246    1\n",
       "Name: OneOrAbove, Length: 19247, dtype: int64"
      ]
     },
     "execution_count": 318,
     "metadata": {},
     "output_type": "execute_result"
    }
   ],
   "source": [
    "y_train"
   ]
  },
  {
   "cell_type": "code",
   "execution_count": 319,
   "metadata": {},
   "outputs": [
    {
     "data": {
      "text/html": [
       "<div>\n",
       "<style scoped>\n",
       "    .dataframe tbody tr th:only-of-type {\n",
       "        vertical-align: middle;\n",
       "    }\n",
       "\n",
       "    .dataframe tbody tr th {\n",
       "        vertical-align: top;\n",
       "    }\n",
       "\n",
       "    .dataframe thead th {\n",
       "        text-align: right;\n",
       "    }\n",
       "</style>\n",
       "<table border=\"1\" class=\"dataframe\">\n",
       "  <thead>\n",
       "    <tr style=\"text-align: right;\">\n",
       "      <th></th>\n",
       "      <th>abl_word_body</th>\n",
       "      <th>account_word_body</th>\n",
       "      <th>across_word_body</th>\n",
       "      <th>actual_word_body</th>\n",
       "      <th>addit_word_body</th>\n",
       "      <th>advanc_word_body</th>\n",
       "      <th>algorithm_word_body</th>\n",
       "      <th>also_word_body</th>\n",
       "      <th>analysi_word_body</th>\n",
       "      <th>anoth_word_body</th>\n",
       "      <th>...</th>\n",
       "      <th>survey_word_tag</th>\n",
       "      <th>surviv_word_tag</th>\n",
       "      <th>tensorflow_word_tag</th>\n",
       "      <th>terminolog_word_tag</th>\n",
       "      <th>theori_word_tag</th>\n",
       "      <th>timeseri_word_title</th>\n",
       "      <th>treatment_word_title</th>\n",
       "      <th>unbalanc_word_tag</th>\n",
       "      <th>visual_word_tag</th>\n",
       "      <th>wilcoxon_word_tag</th>\n",
       "    </tr>\n",
       "  </thead>\n",
       "  <tbody>\n",
       "    <tr>\n",
       "      <th>0</th>\n",
       "      <td>0</td>\n",
       "      <td>0</td>\n",
       "      <td>0</td>\n",
       "      <td>0</td>\n",
       "      <td>0</td>\n",
       "      <td>0</td>\n",
       "      <td>0</td>\n",
       "      <td>0</td>\n",
       "      <td>0</td>\n",
       "      <td>0</td>\n",
       "      <td>...</td>\n",
       "      <td>0</td>\n",
       "      <td>0</td>\n",
       "      <td>0</td>\n",
       "      <td>0</td>\n",
       "      <td>0</td>\n",
       "      <td>0</td>\n",
       "      <td>0</td>\n",
       "      <td>0</td>\n",
       "      <td>0</td>\n",
       "      <td>0</td>\n",
       "    </tr>\n",
       "    <tr>\n",
       "      <th>1</th>\n",
       "      <td>0</td>\n",
       "      <td>0</td>\n",
       "      <td>0</td>\n",
       "      <td>0</td>\n",
       "      <td>0</td>\n",
       "      <td>0</td>\n",
       "      <td>0</td>\n",
       "      <td>0</td>\n",
       "      <td>0</td>\n",
       "      <td>0</td>\n",
       "      <td>...</td>\n",
       "      <td>0</td>\n",
       "      <td>0</td>\n",
       "      <td>0</td>\n",
       "      <td>0</td>\n",
       "      <td>0</td>\n",
       "      <td>0</td>\n",
       "      <td>0</td>\n",
       "      <td>0</td>\n",
       "      <td>0</td>\n",
       "      <td>0</td>\n",
       "    </tr>\n",
       "    <tr>\n",
       "      <th>2</th>\n",
       "      <td>0</td>\n",
       "      <td>0</td>\n",
       "      <td>0</td>\n",
       "      <td>0</td>\n",
       "      <td>0</td>\n",
       "      <td>0</td>\n",
       "      <td>0</td>\n",
       "      <td>1</td>\n",
       "      <td>0</td>\n",
       "      <td>0</td>\n",
       "      <td>...</td>\n",
       "      <td>0</td>\n",
       "      <td>0</td>\n",
       "      <td>0</td>\n",
       "      <td>0</td>\n",
       "      <td>0</td>\n",
       "      <td>0</td>\n",
       "      <td>0</td>\n",
       "      <td>0</td>\n",
       "      <td>0</td>\n",
       "      <td>0</td>\n",
       "    </tr>\n",
       "    <tr>\n",
       "      <th>3</th>\n",
       "      <td>0</td>\n",
       "      <td>0</td>\n",
       "      <td>0</td>\n",
       "      <td>0</td>\n",
       "      <td>0</td>\n",
       "      <td>0</td>\n",
       "      <td>0</td>\n",
       "      <td>1</td>\n",
       "      <td>0</td>\n",
       "      <td>0</td>\n",
       "      <td>...</td>\n",
       "      <td>0</td>\n",
       "      <td>0</td>\n",
       "      <td>0</td>\n",
       "      <td>0</td>\n",
       "      <td>0</td>\n",
       "      <td>0</td>\n",
       "      <td>0</td>\n",
       "      <td>0</td>\n",
       "      <td>0</td>\n",
       "      <td>0</td>\n",
       "    </tr>\n",
       "    <tr>\n",
       "      <th>4</th>\n",
       "      <td>0</td>\n",
       "      <td>0</td>\n",
       "      <td>1</td>\n",
       "      <td>1</td>\n",
       "      <td>0</td>\n",
       "      <td>0</td>\n",
       "      <td>0</td>\n",
       "      <td>0</td>\n",
       "      <td>0</td>\n",
       "      <td>0</td>\n",
       "      <td>...</td>\n",
       "      <td>0</td>\n",
       "      <td>0</td>\n",
       "      <td>0</td>\n",
       "      <td>0</td>\n",
       "      <td>0</td>\n",
       "      <td>0</td>\n",
       "      <td>0</td>\n",
       "      <td>0</td>\n",
       "      <td>0</td>\n",
       "      <td>0</td>\n",
       "    </tr>\n",
       "    <tr>\n",
       "      <th>...</th>\n",
       "      <td>...</td>\n",
       "      <td>...</td>\n",
       "      <td>...</td>\n",
       "      <td>...</td>\n",
       "      <td>...</td>\n",
       "      <td>...</td>\n",
       "      <td>...</td>\n",
       "      <td>...</td>\n",
       "      <td>...</td>\n",
       "      <td>...</td>\n",
       "      <td>...</td>\n",
       "      <td>...</td>\n",
       "      <td>...</td>\n",
       "      <td>...</td>\n",
       "      <td>...</td>\n",
       "      <td>...</td>\n",
       "      <td>...</td>\n",
       "      <td>...</td>\n",
       "      <td>...</td>\n",
       "      <td>...</td>\n",
       "      <td>...</td>\n",
       "    </tr>\n",
       "    <tr>\n",
       "      <th>8244</th>\n",
       "      <td>0</td>\n",
       "      <td>0</td>\n",
       "      <td>0</td>\n",
       "      <td>0</td>\n",
       "      <td>0</td>\n",
       "      <td>0</td>\n",
       "      <td>0</td>\n",
       "      <td>0</td>\n",
       "      <td>1</td>\n",
       "      <td>0</td>\n",
       "      <td>...</td>\n",
       "      <td>0</td>\n",
       "      <td>0</td>\n",
       "      <td>0</td>\n",
       "      <td>0</td>\n",
       "      <td>0</td>\n",
       "      <td>0</td>\n",
       "      <td>0</td>\n",
       "      <td>0</td>\n",
       "      <td>0</td>\n",
       "      <td>0</td>\n",
       "    </tr>\n",
       "    <tr>\n",
       "      <th>8245</th>\n",
       "      <td>0</td>\n",
       "      <td>0</td>\n",
       "      <td>0</td>\n",
       "      <td>1</td>\n",
       "      <td>0</td>\n",
       "      <td>0</td>\n",
       "      <td>0</td>\n",
       "      <td>1</td>\n",
       "      <td>0</td>\n",
       "      <td>0</td>\n",
       "      <td>...</td>\n",
       "      <td>0</td>\n",
       "      <td>0</td>\n",
       "      <td>0</td>\n",
       "      <td>0</td>\n",
       "      <td>0</td>\n",
       "      <td>0</td>\n",
       "      <td>0</td>\n",
       "      <td>0</td>\n",
       "      <td>0</td>\n",
       "      <td>0</td>\n",
       "    </tr>\n",
       "    <tr>\n",
       "      <th>8246</th>\n",
       "      <td>0</td>\n",
       "      <td>0</td>\n",
       "      <td>0</td>\n",
       "      <td>0</td>\n",
       "      <td>0</td>\n",
       "      <td>0</td>\n",
       "      <td>0</td>\n",
       "      <td>0</td>\n",
       "      <td>1</td>\n",
       "      <td>0</td>\n",
       "      <td>...</td>\n",
       "      <td>0</td>\n",
       "      <td>0</td>\n",
       "      <td>0</td>\n",
       "      <td>0</td>\n",
       "      <td>0</td>\n",
       "      <td>0</td>\n",
       "      <td>0</td>\n",
       "      <td>0</td>\n",
       "      <td>0</td>\n",
       "      <td>0</td>\n",
       "    </tr>\n",
       "    <tr>\n",
       "      <th>8247</th>\n",
       "      <td>0</td>\n",
       "      <td>0</td>\n",
       "      <td>1</td>\n",
       "      <td>0</td>\n",
       "      <td>0</td>\n",
       "      <td>0</td>\n",
       "      <td>0</td>\n",
       "      <td>0</td>\n",
       "      <td>1</td>\n",
       "      <td>0</td>\n",
       "      <td>...</td>\n",
       "      <td>0</td>\n",
       "      <td>0</td>\n",
       "      <td>0</td>\n",
       "      <td>0</td>\n",
       "      <td>0</td>\n",
       "      <td>0</td>\n",
       "      <td>0</td>\n",
       "      <td>0</td>\n",
       "      <td>0</td>\n",
       "      <td>0</td>\n",
       "    </tr>\n",
       "    <tr>\n",
       "      <th>8248</th>\n",
       "      <td>0</td>\n",
       "      <td>0</td>\n",
       "      <td>0</td>\n",
       "      <td>0</td>\n",
       "      <td>0</td>\n",
       "      <td>0</td>\n",
       "      <td>0</td>\n",
       "      <td>0</td>\n",
       "      <td>0</td>\n",
       "      <td>0</td>\n",
       "      <td>...</td>\n",
       "      <td>0</td>\n",
       "      <td>0</td>\n",
       "      <td>0</td>\n",
       "      <td>0</td>\n",
       "      <td>0</td>\n",
       "      <td>0</td>\n",
       "      <td>0</td>\n",
       "      <td>0</td>\n",
       "      <td>0</td>\n",
       "      <td>0</td>\n",
       "    </tr>\n",
       "  </tbody>\n",
       "</table>\n",
       "<p>8249 rows × 875 columns</p>\n",
       "</div>"
      ],
      "text/plain": [
       "      abl_word_body  account_word_body  across_word_body  actual_word_body  \\\n",
       "0                 0                  0                 0                 0   \n",
       "1                 0                  0                 0                 0   \n",
       "2                 0                  0                 0                 0   \n",
       "3                 0                  0                 0                 0   \n",
       "4                 0                  0                 1                 1   \n",
       "...             ...                ...               ...               ...   \n",
       "8244              0                  0                 0                 0   \n",
       "8245              0                  0                 0                 1   \n",
       "8246              0                  0                 0                 0   \n",
       "8247              0                  0                 1                 0   \n",
       "8248              0                  0                 0                 0   \n",
       "\n",
       "      addit_word_body  advanc_word_body  algorithm_word_body  also_word_body  \\\n",
       "0                   0                 0                    0               0   \n",
       "1                   0                 0                    0               0   \n",
       "2                   0                 0                    0               1   \n",
       "3                   0                 0                    0               1   \n",
       "4                   0                 0                    0               0   \n",
       "...               ...               ...                  ...             ...   \n",
       "8244                0                 0                    0               0   \n",
       "8245                0                 0                    0               1   \n",
       "8246                0                 0                    0               0   \n",
       "8247                0                 0                    0               0   \n",
       "8248                0                 0                    0               0   \n",
       "\n",
       "      analysi_word_body  anoth_word_body  ...  survey_word_tag  \\\n",
       "0                     0                0  ...                0   \n",
       "1                     0                0  ...                0   \n",
       "2                     0                0  ...                0   \n",
       "3                     0                0  ...                0   \n",
       "4                     0                0  ...                0   \n",
       "...                 ...              ...  ...              ...   \n",
       "8244                  1                0  ...                0   \n",
       "8245                  0                0  ...                0   \n",
       "8246                  1                0  ...                0   \n",
       "8247                  1                0  ...                0   \n",
       "8248                  0                0  ...                0   \n",
       "\n",
       "      surviv_word_tag  tensorflow_word_tag  terminolog_word_tag  \\\n",
       "0                   0                    0                    0   \n",
       "1                   0                    0                    0   \n",
       "2                   0                    0                    0   \n",
       "3                   0                    0                    0   \n",
       "4                   0                    0                    0   \n",
       "...               ...                  ...                  ...   \n",
       "8244                0                    0                    0   \n",
       "8245                0                    0                    0   \n",
       "8246                0                    0                    0   \n",
       "8247                0                    0                    0   \n",
       "8248                0                    0                    0   \n",
       "\n",
       "      theori_word_tag  timeseri_word_title  treatment_word_title  \\\n",
       "0                   0                    0                     0   \n",
       "1                   0                    0                     0   \n",
       "2                   0                    0                     0   \n",
       "3                   0                    0                     0   \n",
       "4                   0                    0                     0   \n",
       "...               ...                  ...                   ...   \n",
       "8244                0                    0                     0   \n",
       "8245                0                    0                     0   \n",
       "8246                0                    0                     0   \n",
       "8247                0                    0                     0   \n",
       "8248                0                    0                     0   \n",
       "\n",
       "      unbalanc_word_tag  visual_word_tag  wilcoxon_word_tag  \n",
       "0                     0                0                  0  \n",
       "1                     0                0                  0  \n",
       "2                     0                0                  0  \n",
       "3                     0                0                  0  \n",
       "4                     0                0                  0  \n",
       "...                 ...              ...                ...  \n",
       "8244                  0                0                  0  \n",
       "8245                  0                0                  0  \n",
       "8246                  0                0                  0  \n",
       "8247                  0                0                  0  \n",
       "8248                  0                0                  0  \n",
       "\n",
       "[8249 rows x 875 columns]"
      ]
     },
     "execution_count": 319,
     "metadata": {},
     "output_type": "execute_result"
    }
   ],
   "source": [
    "X_test"
   ]
  },
  {
   "cell_type": "code",
   "execution_count": 320,
   "metadata": {},
   "outputs": [
    {
     "data": {
      "text/plain": [
       "0       1\n",
       "1       1\n",
       "2       1\n",
       "3       0\n",
       "4       0\n",
       "       ..\n",
       "8244    1\n",
       "8245    1\n",
       "8246    0\n",
       "8247    1\n",
       "8248    0\n",
       "Name: OneOrAbove, Length: 8249, dtype: int64"
      ]
     },
     "execution_count": 320,
     "metadata": {},
     "output_type": "execute_result"
    }
   ],
   "source": [
    "y_test"
   ]
  },
  {
   "cell_type": "markdown",
   "metadata": {},
   "source": [
    "## Part b)"
   ]
  },
  {
   "cell_type": "markdown",
   "metadata": {},
   "source": [
    "Use your analytics skills to build the best model that you can for predicting usefulquestions.  You are free to try whichever approaches you like, but you should try at leastfourdistinct methods that have been discussed in class (e.g., Logistic Regression, LDA, CART,Random Forests, Boosting) and you should evaluate no more than a handful (i.e., 4-10) ofcandidate models on the test set.  For Random Forests and Boosting, it is OK to not crossvalidate all of the parameters if it takes too much time on your computer – instead you mayuse some reasonable values of these parameters and/or only cross validate some of them.Report on the details of your training procedures and final comparisons on the test set.  Useyour best judgment to choose a final model and explain your choice.  Use thebootstraptoasses the performance of your single chosen final model in a way that properly reports on thevariability of the relevant performance metrics (accuracy, TPR, and FPR)"
   ]
  },
  {
   "cell_type": "code",
   "execution_count": 191,
   "metadata": {},
   "outputs": [],
   "source": [
    "import numpy as np\n",
    "import bootstrapped.bootstrap as bs\n",
    "import bootstrapped.stats_functions as bs_stats\n",
    "import statsmodels.formula.api as smf\n",
    "import statsmodels.formula.api as sm\n",
    "from sklearn.metrics import confusion_matrix\n",
    "from sklearn.metrics import accuracy_score"
   ]
  },
  {
   "cell_type": "markdown",
   "metadata": {},
   "source": [
    "## Logistic Regression"
   ]
  },
  {
   "cell_type": "markdown",
   "metadata": {},
   "source": [
    "First model is logistic regression. This model gives an accuracy of 50.48% which is considered a moderate performance with a tpr of 28.52% and fpr of 37.84%. "
   ]
  },
  {
   "cell_type": "code",
   "execution_count": 125,
   "metadata": {},
   "outputs": [
    {
     "data": {
      "text/plain": [
       "LogisticRegression(max_iter=1000, random_state=88)"
      ]
     },
     "execution_count": 125,
     "metadata": {},
     "output_type": "execute_result"
    }
   ],
   "source": [
    "from sklearn.linear_model import LogisticRegression\n",
    "\n",
    "logreg = LogisticRegression(random_state = 88, max_iter = 1000)\n",
    "logreg.fit(X_train, y_train)"
   ]
  },
  {
   "cell_type": "code",
   "execution_count": 139,
   "metadata": {},
   "outputs": [
    {
     "name": "stdout",
     "output_type": "stream",
     "text": [
      "Confusion Matrix: \n",
      " [[2594 1579]\n",
      " [2506 1570]]\n",
      "\n",
      "Accuracy: 0.5047884592071766\n",
      "tpr 0.38518155053974484\n",
      "fpr 0.37838485502036906\n"
     ]
    }
   ],
   "source": [
    "#Logistic Regression on the test set\n",
    "log_prob = logreg.predict_proba(X_test)\n",
    "log_pred = pd.Series([1 if x > 0.5 else 0 for x in log_prob[:,1]], index=y_test.index)\n",
    "log_acc = accuracy_score(y_test, log_pred)\n",
    "\n",
    "#confusion matrix for Logistic Regression\n",
    "cm = confusion_matrix(y_test, log_pred)\n",
    "\n",
    "#TPR for Logistic Regression\n",
    "log_tpr = cm.ravel()[3]/(cm.ravel()[3]+cm.ravel()[2])\n",
    "\n",
    "#FPR for Logistic Regression\n",
    "log_fpr = cm.ravel()[1]/(cm.ravel()[1]+cm.ravel()[0])\n",
    "\n",
    "print (\"Confusion Matrix: \\n\", cm)\n",
    "print (\"\\nAccuracy:\", log_acc)\n",
    "print(\"tpr\", log_tpr)\n",
    "print(\"fpr\", log_fpr)"
   ]
  },
  {
   "cell_type": "markdown",
   "metadata": {},
   "source": [
    "## LDA"
   ]
  },
  {
   "cell_type": "markdown",
   "metadata": {},
   "source": [
    "Second model is LDA which is to find a linear combination of features that characterizes or separates two or more classes of objects or events. It produces robust and decent classification results despite being quite simple. This model gives an accuracy rate of 50.22% and tpr of 38.52% with fpr of 37.84%. Compared to Logistic, LDA has a slightly lower accuracy."
   ]
  },
  {
   "cell_type": "code",
   "execution_count": 137,
   "metadata": {},
   "outputs": [
    {
     "data": {
      "text/plain": [
       "LinearDiscriminantAnalysis()"
      ]
     },
     "execution_count": 137,
     "metadata": {},
     "output_type": "execute_result"
    }
   ],
   "source": [
    "from sklearn.discriminant_analysis import LinearDiscriminantAnalysis\n",
    "\n",
    "lda = LinearDiscriminantAnalysis()\n",
    "lda.fit(X_train, y_train)"
   ]
  },
  {
   "cell_type": "code",
   "execution_count": 142,
   "metadata": {},
   "outputs": [
    {
     "name": "stdout",
     "output_type": "stream",
     "text": [
      "Confusion Matrix: \n",
      " [[2585 1588]\n",
      " [2518 1558]]\n",
      "\n",
      "Accuracy: 0.5022426960843739\n",
      "tpr 0.38518155053974484\n",
      "fpr 0.37838485502036906\n"
     ]
    }
   ],
   "source": [
    "lda_pred = lda.predict(X_test)\n",
    "lda_acc = accuracy_score(y_test, lda_pred)\n",
    "\n",
    "#confusion matrix for LDA\n",
    "cm = confusion_matrix(y_test, lda_pred)\n",
    "\n",
    "#TPR for LDA\n",
    "lda_tpr = cm.ravel()[3]/(cm.ravel()[3]+cm.ravel()[2])\n",
    "\n",
    "#FPR for LDA\n",
    "lda_fpr = cm.ravel()[1]/(cm.ravel()[1]+cm.ravel()[0])\n",
    "\n",
    "\n",
    "print (\"Confusion Matrix: \\n\", cm_lda)\n",
    "print (\"\\nAccuracy:\", lda_acc)\n",
    "print(\"tpr\", log_tpr)\n",
    "print(\"fpr\", log_fpr)"
   ]
  },
  {
   "cell_type": "markdown",
   "metadata": {},
   "source": [
    "## Random Forest Classifier "
   ]
  },
  {
   "cell_type": "markdown",
   "metadata": {},
   "source": [
    "Random Forest adds randomness to the model in the trees. It searches for the best feature amongst the random subset of features. This gives diversity to the selection of features and readily offers a a better model. We are getting an accuracy of 51.6% with tpr of 35% and fpr of 35%."
   ]
  },
  {
   "cell_type": "code",
   "execution_count": 360,
   "metadata": {},
   "outputs": [
    {
     "data": {
      "text/plain": [
       "RandomForestClassifier(max_features=20, min_samples_leaf=10, n_estimators=500,\n",
       "                       random_state=88)"
      ]
     },
     "execution_count": 360,
     "metadata": {},
     "output_type": "execute_result"
    }
   ],
   "source": [
    "from sklearn.ensemble import RandomForestClassifier\n",
    "\n",
    "rf = RandomForestClassifier(max_features=20, min_samples_leaf=10, n_estimators=500, random_state=88)\n",
    "rf.fit(X_train, y_train)"
   ]
  },
  {
   "cell_type": "code",
   "execution_count": 359,
   "metadata": {},
   "outputs": [
    {
     "name": "stdout",
     "output_type": "stream",
     "text": [
      "Confusion Matrix: \n",
      " [[2956 1217]\n",
      " [2792 1284]]\n",
      "\n",
      "Accuracy 0.5140016971754152\n",
      "tpr 0.3150147203140334\n",
      "fpr 0.29163671219745985\n"
     ]
    }
   ],
   "source": [
    "rf_pred = rf.predict(X_test)\n",
    "rf_acc = accuracy_score(y_test, rf_pred)\n",
    "\n",
    "#confusion marix for Random Forest\n",
    "cm = confusion_matrix(y_test, rf_pred)\n",
    "\n",
    "#TPR for Random Forest\n",
    "rf_tpr = cm.ravel()[3]/(cm.ravel()[3]+cm.ravel()[2])\n",
    "\n",
    "#FPR for Random Forest\n",
    "rf_fpr = cm.ravel()[1]/(cm.ravel()[1]+cm.ravel()[0])\n",
    "\n",
    "print (\"Confusion Matrix: \\n\", cm)\n",
    "print(\"\\nAccuracy\", rf_acc)\n",
    "print(\"tpr\", rf_tpr)\n",
    "print(\"fpr\", rf_fpr)"
   ]
  },
  {
   "cell_type": "markdown",
   "metadata": {},
   "source": [
    "## Random Forest Classifier with CV"
   ]
  },
  {
   "cell_type": "markdown",
   "metadata": {},
   "source": [
    "Using Random Forest Classifier with CV to check how CV can affect our accuracy, tpr and fpr values. For the sake of reducing the run time, I changed the n_estimators to 40 for smaller numbers. I have the max_depth to be 20 to prevent each tree from going very deep. I also changed min_samples_split and min_samples_leaf to be a smaller values in the range. This feature engineering portion does add some more specificity into our model however, for the sake of running time, I set the values to be small. The accuracy for this model is 51.24 and tpr and fpr is around 25%. Althought the accuracy is not much different from the standard random forest model, the tpr and fpr have been reduced to about 10%."
   ]
  },
  {
   "cell_type": "code",
   "execution_count": 146,
   "metadata": {},
   "outputs": [
    {
     "name": "stdout",
     "output_type": "stream",
     "text": [
      "CPU times: user 3min 45s, sys: 484 ms, total: 3min 46s\n",
      "Wall time: 3min 46s\n"
     ]
    },
    {
     "data": {
      "text/plain": [
       "GridSearchCV(cv=5,\n",
       "             estimator=RandomForestClassifier(max_features=5,\n",
       "                                              min_samples_leaf=5,\n",
       "                                              n_estimators=500,\n",
       "                                              random_state=88),\n",
       "             param_grid={'max_depth': [20],\n",
       "                         'max_features': array([ 1,  2,  3,  4,  5,  6,  7,  8,  9, 10, 11, 12, 13, 14, 15, 16, 17,\n",
       "       18, 19, 20, 21, 22, 23, 24, 25, 26, 27, 28, 29, 30, 31, 32, 33, 34,\n",
       "       35, 36, 37, 38, 39, 40, 41, 42, 43, 44, 45, 46, 47, 48, 49, 50],\n",
       "      dtype=int32),\n",
       "                         'min_samples_leaf': [5], 'min_samples_split': [20],\n",
       "                         'n_estimators': [40], 'random_state': [88]})"
      ]
     },
     "execution_count": 146,
     "metadata": {},
     "output_type": "execute_result"
    }
   ],
   "source": [
    "%%time\n",
    "import time\n",
    "grid_values = {'max_features': np.linspace(1,50,50, dtype='int32'),\n",
    "               'min_samples_leaf': [5],\n",
    "               'max_depth': [20],\n",
    "               'min_samples_split': [20],\n",
    "               'n_estimators': [40],\n",
    "               'random_state': [88]} \n",
    "\n",
    "rfc = RandomForestClassifier() \n",
    "rfc_cv = GridSearchCV(rf, param_grid=grid_values, cv=5)\n",
    "rfc_cv.fit(X_train, y_train)"
   ]
  },
  {
   "cell_type": "code",
   "execution_count": 147,
   "metadata": {},
   "outputs": [
    {
     "data": {
      "image/png": "[encoded data removed]",
      "text/plain": [
       "<Figure size 576x432 with 1 Axes>"
      ]
     },
     "metadata": {
      "needs_background": "light"
     },
     "output_type": "display_data"
    },
    {
     "name": "stdout",
     "output_type": "stream",
     "text": [
      "Best parameters {'max_depth': 20, 'max_features': 44, 'min_samples_leaf': 5, 'min_samples_split': 20, 'n_estimators': 40, 'random_state': 88}\n"
     ]
    }
   ],
   "source": [
    "max_features = rfc_cv.cv_results_['param_max_features'].data\n",
    "ACC_scores = rfc_cv.cv_results_['mean_test_score']\n",
    "\n",
    "plt.figure(figsize=(8, 6))\n",
    "plt.xlabel('max_features', fontsize=16)\n",
    "plt.ylabel('CV Accuracy', fontsize=16)\n",
    "plt.scatter(max_features, ACC_scores, s=3)\n",
    "plt.plot(max_features, ACC_scores, linewidth=3)\n",
    "plt.grid(True, which='both')\n",
    "\n",
    "plt.tight_layout()\n",
    "plt.show()\n",
    "\n",
    "print('Best parameters', rfc_cv.best_params_)"
   ]
  },
  {
   "cell_type": "code",
   "execution_count": 153,
   "metadata": {},
   "outputs": [
    {
     "name": "stdout",
     "output_type": "stream",
     "text": [
      "Confusion Matrix: \n",
      " [[3168 1005]\n",
      " [3017 1059]]\n",
      "\n",
      "Accuracy 0.5124257485755849\n",
      "tpr 0.2598135426889107\n",
      "fpr 0.24083393242271747\n"
     ]
    }
   ],
   "source": [
    "rfc_pred = rfc_cv.predict(X_test)\n",
    "rfc_acc = accuracy_score(y_test, rfc_pred)\n",
    "\n",
    "#confusion marix for Random Forest\n",
    "cm = confusion_matrix(y_test, rfc_pred)\n",
    "\n",
    "#TPR for Random Forest\n",
    "rfc_tpr = cm.ravel()[3]/(cm.ravel()[3]+cm.ravel()[2])\n",
    "\n",
    "#FPR for Random Forest\n",
    "rfc_fpr = cm.ravel()[1]/(cm.ravel()[1]+cm.ravel()[0])\n",
    "\n",
    "print (\"Confusion Matrix: \\n\", cm)\n",
    "print(\"\\nAccuracy\", rfc_acc)\n",
    "print(\"tpr\", rfc_tpr)\n",
    "print(\"fpr\", rfc_fpr)\n"
   ]
  },
  {
   "cell_type": "markdown",
   "metadata": {},
   "source": [
    "## Gradient Boosting Classifier with CV"
   ]
  },
  {
   "cell_type": "markdown",
   "metadata": {},
   "source": [
    "I made logistic regression, LDA, Random forest classifier, and Random forest classifier with cv. Thus, throughout checking these candidate models on the test set and checking the performance metric accuracy, the ouputs were all very moderate ranging from 50% to 53%. Therefore, I decided to check gradient boosting as one of my model to see if this model could bring any upbringing in the accuracy. I made changed to the grid_values in order to lower the runtime and to efficiently produce a model such as changing the values of n_estimators, max_leaf_node and max_depth. Upon checking the accuracy, I found out that there is not much difference in this value as it gave out 50.68% with fpr and tpr of 15%. The fpr and tpr is the lowest of all the models."
   ]
  },
  {
   "cell_type": "code",
   "execution_count": 154,
   "metadata": {},
   "outputs": [
    {
     "name": "stdout",
     "output_type": "stream",
     "text": [
      "CPU times: user 2h 38min 37s, sys: 14.6 s, total: 2h 38min 52s\n",
      "Wall time: 5h 7min 42s\n"
     ]
    },
    {
     "data": {
      "text/plain": [
       "GridSearchCV(cv=5, estimator=GradientBoostingClassifier(),\n",
       "             param_grid={'learning_rate': [0.01], 'max_depth': [20],\n",
       "                         'max_leaf_nodes': array([ 2,  3,  4,  5,  6,  7,  8, 10], dtype=int32),\n",
       "                         'min_samples_leaf': [10],\n",
       "                         'n_estimators': array([ 1,  2,  3,  4,  5,  6,  7,  8,  9, 10, 11, 12, 13, 14, 15, 16, 17,\n",
       "       18, 19, 20, 21, 22, 23, 24, 25, 26, 27, 28, 29, 30, 31, 32, 33, 34,\n",
       "       35, 36, 37, 38, 39, 40, 41, 42, 43, 44, 45, 46, 47, 48, 49, 50],\n",
       "      dtype=int32),\n",
       "                         'random_state': [88]})"
      ]
     },
     "execution_count": 154,
     "metadata": {},
     "output_type": "execute_result"
    }
   ],
   "source": [
    "%%time\n",
    "from sklearn.ensemble import GradientBoostingClassifier\n",
    "grid_values = {'n_estimators': np.linspace(1, 50, 50, dtype='int32'), \n",
    "               'learning_rate': [0.01],\n",
    "               'max_leaf_nodes': np.linspace(2, 10, 8, dtype='int32'),\n",
    "               'max_depth': [20],\n",
    "               'min_samples_leaf': [10],\n",
    "               'random_state': [88]} \n",
    "\n",
    "gbc = GradientBoostingClassifier()\n",
    "gbc_cv = GridSearchCV(gbc, param_grid=grid_values, cv=5)\n",
    "gbc_cv.fit(X_train, y_train)"
   ]
  },
  {
   "cell_type": "code",
   "execution_count": 155,
   "metadata": {},
   "outputs": [
    {
     "data": {
      "image/png": "[encoded data removed]",
      "text/plain": [
       "<Figure size 864x576 with 1 Axes>"
      ]
     },
     "metadata": {
      "needs_background": "light"
     },
     "output_type": "display_data"
    }
   ],
   "source": [
    "n_estimators = gbc_cv.cv_results_['param_n_estimators'].data\n",
    "cv_acc_scores = gbc_cv.cv_results_['mean_test_score']\n",
    "\n",
    "plt.figure(figsize=(12, 8))\n",
    "plt.xlabel('n estimators', fontsize=16)\n",
    "plt.ylabel('CV Accuracy', fontsize=16)\n",
    "plt.grid(True, which='both')\n",
    "\n",
    "N = len(grid_values['max_leaf_nodes'])\n",
    "M = len(grid_values['n_estimators'])\n",
    "for i in range(N):\n",
    "    plt.scatter(n_estimators[(M*i):(M*i)+M], cv_acc_scores[(M*i):(M*i)+M], s=30)\n",
    "    plt.plot(n_estimators[(M*i):(M*i)+M], cv_acc_scores[(M*i):(M*i)+M], linewidth=2,\n",
    "             label='max leaf nodes = '+str(grid_values['max_leaf_nodes'][i]))\n",
    "plt.legend(loc='lower right')\n",
    "plt.show()"
   ]
  },
  {
   "cell_type": "code",
   "execution_count": 355,
   "metadata": {},
   "outputs": [
    {
     "name": "stdout",
     "output_type": "stream",
     "text": [
      "Confusion Matrix: \n",
      " [[3544  629]\n",
      " [3439  637]]\n",
      "\n",
      "Accuracy 0.5068493150684932\n",
      "tpr 0.15628066732090284\n",
      "fpr 0.15073088904864607\n"
     ]
    }
   ],
   "source": [
    "gbc_pred = gbc_cv.predict(X_test)\n",
    "gbc_acc = accuracy_score(y_test, gbc_pred)\n",
    "\n",
    "#confusion marix for Gradient Boosting\n",
    "cm = confusion_matrix(y_test, gbc_pred)\n",
    "\n",
    "#TPR for Random Forest\n",
    "gbc_tpr = cm.ravel()[3]/(cm.ravel()[3]+cm.ravel()[2])\n",
    "\n",
    "#FPR for Random Forest\n",
    "gbc_fpr = cm.ravel()[1]/(cm.ravel()[1]+cm.ravel()[0])\n",
    "\n",
    "print (\"Confusion Matrix: \\n\", cm)\n",
    "print(\"\\nAccuracy\", gbc_acc)\n",
    "print(\"tpr\", gbc_tpr)\n",
    "print(\"fpr\", gbc_fpr)"
   ]
  },
  {
   "cell_type": "markdown",
   "metadata": {},
   "source": [
    "## Decision Tree Classifier with CV"
   ]
  },
  {
   "cell_type": "markdown",
   "metadata": {},
   "source": [
    "I also checked decision tree classifier. This metric splits data continuously according to a specific parameter, in this method we set our training dataset to be broken down into smaller subsets and as this continues, our decision tree becomes larger and larger. This model gave us an accuracy of 50.76% and fpr and tpr of 30%."
   ]
  },
  {
   "cell_type": "code",
   "execution_count": 82,
   "metadata": {},
   "outputs": [
    {
     "name": "stdout",
     "output_type": "stream",
     "text": [
      "CPU times: user 11min 34s, sys: 1.15 s, total: 11min 35s\n",
      "Wall time: 11min 35s\n"
     ]
    },
    {
     "data": {
      "text/plain": [
       "GridSearchCV(cv=10, estimator=DecisionTreeClassifier(),\n",
       "             param_grid={'ccp_alpha': array([0.   , 0.002, 0.004, 0.006, 0.008, 0.01 , 0.012, 0.014, 0.016,\n",
       "       0.018, 0.02 , 0.022, 0.024, 0.026, 0.028, 0.03 , 0.032, 0.034,\n",
       "       0.036, 0.038, 0.04 , 0.042, 0.044, 0.046, 0.048, 0.05 , 0.052,\n",
       "       0.054, 0.056, 0.058, 0.06 , 0.062, 0.064, 0.066, 0.068, 0.07 ,\n",
       "       0.072, 0.074, 0.076, 0.078, 0.08 , 0.082, 0.084, 0.086, 0.088,\n",
       "       0.09 , 0.092, 0.094, 0.096, 0.098, 0.1  ]),\n",
       "                         'max_depth': [30], 'min_samples_leaf': [5],\n",
       "                         'min_samples_split': [20], 'random_state': [88]})"
      ]
     },
     "execution_count": 82,
     "metadata": {},
     "output_type": "execute_result"
    }
   ],
   "source": [
    "%%time \n",
    "from sklearn.model_selection import GridSearchCV\n",
    "from sklearn.tree import DecisionTreeClassifier\n",
    "\n",
    "grid_values = {'ccp_alpha': np.linspace(0, 0.1, 51),\n",
    "               'min_samples_leaf': [5],\n",
    "               'max_depth': [30],\n",
    "               'min_samples_split': [20],\n",
    "               'random_state': [88]}\n",
    "\n",
    "dtc = DecisionTreeClassifier()\n",
    "dtc_cv = GridSearchCV(dtc, param_grid=grid_values, cv=10)\n",
    "dtc_cv.fit(X_train, y_train)"
   ]
  },
  {
   "cell_type": "code",
   "execution_count": 83,
   "metadata": {},
   "outputs": [
    {
     "data": {
      "image/png": "[encoded data removed]",
      "text/plain": [
       "<Figure size 576x432 with 1 Axes>"
      ]
     },
     "metadata": {
      "needs_background": "light"
     },
     "output_type": "display_data"
    },
    {
     "name": "stdout",
     "output_type": "stream",
     "text": [
      "Best ccp_alpha {'ccp_alpha': 0.0, 'max_depth': 30, 'min_samples_leaf': 5, 'min_samples_split': 20, 'random_state': 88}\n"
     ]
    }
   ],
   "source": [
    "ccp_alpha = dtc_cv.cv_results_['param_ccp_alpha'].data\n",
    "ACC_scores = dtc_cv.cv_results_['mean_test_score']\n",
    "\n",
    "plt.figure(figsize=(8, 6))\n",
    "plt.xlabel('ccp_alpha', fontsize=16)\n",
    "plt.ylabel('CV Accuracy', fontsize=16)\n",
    "plt.scatter(ccp_alpha, ACC_scores, s=3)\n",
    "plt.plot(ccp_alpha, ACC_scores, linewidth=3)\n",
    "plt.grid(True, which='both')\n",
    "\n",
    "plt.tight_layout()\n",
    "plt.show()\n",
    "\n",
    "print('Best ccp_alpha', dtc_cv.best_params_)"
   ]
  },
  {
   "cell_type": "code",
   "execution_count": 84,
   "metadata": {},
   "outputs": [
    {
     "name": "stdout",
     "output_type": "stream",
     "text": [
      "Node count = 1995\n"
     ]
    },
    {
     "data": {
      "image/png": "[encoded data removed]",
      "text/plain": [
       "<Figure size 432x432 with 1 Axes>"
      ]
     },
     "metadata": {
      "needs_background": "light"
     },
     "output_type": "display_data"
    }
   ],
   "source": [
    "from sklearn.tree import plot_tree\n",
    "\n",
    "print('Node count =', dtc_cv.best_estimator_.tree_.node_count)\n",
    "plt.figure(figsize=(6,6))\n",
    "plot_tree(dtc_cv.best_estimator_, \n",
    "          feature_names=X_train.columns, \n",
    "          class_names=['0','1'], \n",
    "          filled=True,\n",
    "          impurity=False,\n",
    "          fontsize=12) \n",
    "plt.show()"
   ]
  },
  {
   "cell_type": "code",
   "execution_count": 322,
   "metadata": {},
   "outputs": [
    {
     "name": "stdout",
     "output_type": "stream",
     "text": [
      "Confusion Matrix: \n",
      " [[2959 1214]\n",
      " [2848 1228]]\n",
      "\n",
      "Accuracy 0.5075766759607225\n",
      "tpr 0.3012757605495584\n",
      "fpr 0.29091780493649655\n"
     ]
    }
   ],
   "source": [
    "dtc_pred = dtc_cv.predict(X_test)\n",
    "dtc_acc = accuracy_score(y_test, dtc_pred)\n",
    "\n",
    "\n",
    "#confusion matrix of decision tree classifier\n",
    "cm = confusion_matrix(y_test, dtc_pred)\n",
    "\n",
    "#TPR for decision tree classifier\n",
    "dtc_tpr = cm.ravel()[3]/(cm.ravel()[3]+cm.ravel()[2])\n",
    "\n",
    "#FPR for decision tree classifier\n",
    "dtc_fpr = cm.ravel()[1]/(cm.ravel()[1]+cm.ravel()[0])\n",
    "\n",
    "print (\"Confusion Matrix: \\n\", cm)\n",
    "print(\"\\nAccuracy\", dtc_acc)\n",
    "print(\"tpr\", dtc_tpr)\n",
    "print(\"fpr\", dtc_fpr)"
   ]
  },
  {
   "cell_type": "markdown",
   "metadata": {},
   "source": [
    "## Bootstrap"
   ]
  },
  {
   "cell_type": "markdown",
   "metadata": {},
   "source": [
    "Finally, as a last part to our part b) is carrying out a bootstrap with the best model that we made from above. The best model I selected is the random forest model based on the accuracy of 51.5%. I carried out the boostrap method for each separate performance metric methods \"accuracy\", \"tpr\", and \"fpr\" instead of having all three in one. I defined the metrics function for accuracy, tpr and fpr. Then did a manual implementation of bootstrap for my random forest model on the test set by sampling with replacement on the testing data to generate a new testing set for each bootstrap iteration. This allows us to compute the metric on predicted value for our new testing set.\n",
    "\n",
    "I wanted to check the variability of the boostrapped performance so I went ahead and checked standard deviaiton of these performances. Accuracy gave an 0.005437, tpr gave 0.006759, and fpr gave 0.006617. These standard deviation represents the dispersion of datasets relative to its mean. For our performance metric, I can discern that the values for standad deviations are quite small, meaning that there is low variability in our random forest model boostrapped method."
   ]
  },
  {
   "cell_type": "markdown",
   "metadata": {},
   "source": [
    "## 1) Accuracy"
   ]
  },
  {
   "cell_type": "code",
   "execution_count": 194,
   "metadata": {},
   "outputs": [],
   "source": [
    "#Metrics Method for Accuracy\n",
    "def accuracy(pred, y_test, y_train):\n",
    "    return accuracy_score(y_test, pred)"
   ]
  },
  {
   "cell_type": "code",
   "execution_count": 196,
   "metadata": {},
   "outputs": [],
   "source": [
    "#Metrics Method\n",
    "def bootstrap_validation_accuracy (test_data, test_label, train_label,model, metrics, sample, random_state = 66):\n",
    "    \n",
    "    n_sample = sample\n",
    "   \n",
    "    output_array = []\n",
    "    for bs_iter in range(sample):\n",
    "        bs_index = np.random.choice(test_data.index, len(test_data.index), replace=True)\n",
    "        bs_data = test_data.loc[bs_index]\n",
    "        bs_label = test_label.loc[bs_index]\n",
    "        bs_predicted = model.predict(bs_data)\n",
    "        bs_metrics = metrics(bs_predicted, bs_label, train_label)\n",
    "        output_array.append(bs_metrics)\n",
    "    output_df = pd.DataFrame(output_array)\n",
    "    return output_df"
   ]
  },
  {
   "cell_type": "code",
   "execution_count": 344,
   "metadata": {},
   "outputs": [],
   "source": [
    "bs_output_accuracy = bootstrap_validation_accuracy(X_test, y_test, y_train, rf_cv,accuracy,sample = 2000)"
   ]
  },
  {
   "cell_type": "code",
   "execution_count": 347,
   "metadata": {},
   "outputs": [
    {
     "name": "stdout",
     "output_type": "stream",
     "text": [
      "0    0.005437\n",
      "dtype: float64\n"
     ]
    }
   ],
   "source": [
    "accuracy_std = bs_output_accuracy.std()\n",
    "print(accuracy_std)"
   ]
  },
  {
   "cell_type": "code",
   "execution_count": 219,
   "metadata": {},
   "outputs": [
    {
     "data": {
      "text/html": [
       "<div>\n",
       "<style scoped>\n",
       "    .dataframe tbody tr th:only-of-type {\n",
       "        vertical-align: middle;\n",
       "    }\n",
       "\n",
       "    .dataframe tbody tr th {\n",
       "        vertical-align: top;\n",
       "    }\n",
       "\n",
       "    .dataframe thead th {\n",
       "        text-align: right;\n",
       "    }\n",
       "</style>\n",
       "<table border=\"1\" class=\"dataframe\">\n",
       "  <thead>\n",
       "    <tr style=\"text-align: right;\">\n",
       "      <th></th>\n",
       "      <th>0</th>\n",
       "    </tr>\n",
       "  </thead>\n",
       "  <tbody>\n",
       "    <tr>\n",
       "      <th>0</th>\n",
       "      <td>0.512547</td>\n",
       "    </tr>\n",
       "    <tr>\n",
       "      <th>1</th>\n",
       "      <td>0.521518</td>\n",
       "    </tr>\n",
       "    <tr>\n",
       "      <th>2</th>\n",
       "      <td>0.510850</td>\n",
       "    </tr>\n",
       "    <tr>\n",
       "      <th>3</th>\n",
       "      <td>0.506728</td>\n",
       "    </tr>\n",
       "    <tr>\n",
       "      <th>4</th>\n",
       "      <td>0.507334</td>\n",
       "    </tr>\n",
       "  </tbody>\n",
       "</table>\n",
       "</div>"
      ],
      "text/plain": [
       "          0\n",
       "0  0.512547\n",
       "1  0.521518\n",
       "2  0.510850\n",
       "3  0.506728\n",
       "4  0.507334"
      ]
     },
     "execution_count": 219,
     "metadata": {},
     "output_type": "execute_result"
    }
   ],
   "source": [
    "bs_output_accuracy.head()"
   ]
  },
  {
   "cell_type": "code",
   "execution_count": 259,
   "metadata": {},
   "outputs": [
    {
     "data": {
      "text/plain": [
       "(-0.02, 0.03)"
      ]
     },
     "execution_count": 259,
     "metadata": {},
     "output_type": "execute_result"
    },
    {
     "data": {
      "image/png": "[encoded data removed]",
      "text/plain": [
       "<Figure size 864x360 with 2 Axes>"
      ]
     },
     "metadata": {
      "needs_background": "light"
     },
     "output_type": "display_data"
    }
   ],
   "source": [
    "test_accuracy = accuracy(y_pred,y_test,y_train)\n",
    "\n",
    "fig, axs = plt.subplots(ncols=2, figsize=(12,5))\n",
    "axs[0].set_xlabel('Bootstrap accuracy Estimate', fontsize=16)\n",
    "axs[1].set_xlabel('Boot accuracy - Test Set accuracy', fontsize=16)\n",
    "axs[0].set_ylabel('Count', fontsize=16)\n",
    "axs[0].hist(bs_output_accuracy.iloc[:,0], bins=20,edgecolor='orange', linewidth=2,color = \"grey\")\n",
    "axs[0].set_xlim([0.49,0.535])\n",
    "axs[1].hist(bs_output_accuracy.iloc[:,0]-test_accuracy, bins=20,edgecolor='orange', linewidth=2,color = \"grey\")\n",
    "axs[1].set_xlim([-0.02,0.03])"
   ]
  },
  {
   "cell_type": "code",
   "execution_count": 267,
   "metadata": {},
   "outputs": [
    {
     "name": "stdout",
     "output_type": "stream",
     "text": [
      "The 95-percent confidence interval of OSR2 is [-0.00509153  0.01685053]\n"
     ]
    }
   ],
   "source": [
    "CI= np.quantile(bs_output_accuracy.iloc[:,0]-test_accuracy,np.array([0.025,0.975]))\n",
    "print(\"The 95-percent confidence interval of OSR2 is %s\" % CI)"
   ]
  },
  {
   "cell_type": "code",
   "execution_count": 280,
   "metadata": {},
   "outputs": [
    {
     "data": {
      "text/plain": [
       "<matplotlib.collections.LineCollection at 0x7fccdd1e2af0>"
      ]
     },
     "execution_count": 280,
     "metadata": {},
     "output_type": "execute_result"
    },
    {
     "data": {
      "image/png": "[encoded data removed]",
      "text/plain": [
       "<Figure size 576x432 with 1 Axes>"
      ]
     },
     "metadata": {
      "needs_background": "light"
     },
     "output_type": "display_data"
    }
   ],
   "source": [
    "fig, axs = plt.subplots(ncols=1, figsize=(8,6))\n",
    "axs.set_xlabel('Boot accuracy - Test Set accuracy', fontsize=16)\n",
    "axs.set_ylabel('Count', fontsize=16)\n",
    "axs.hist(bs_output_accuracy.iloc[:,0]-test_accuracy, bins=20,edgecolor='orange', linewidth=2,color = \"grey\")\n",
    "axs.set_xlim([-0.015,0.025])\n",
    "axs.vlines(x=CI[0], ymin = 0, ymax =300, color = \"black\")\n",
    "axs.vlines(x=CI[1], ymin = 0, ymax =300, color = \"black\")"
   ]
  },
  {
   "cell_type": "markdown",
   "metadata": {},
   "source": [
    "## 2) TPR"
   ]
  },
  {
   "cell_type": "code",
   "execution_count": 215,
   "metadata": {},
   "outputs": [],
   "source": [
    "#Metrics Method for TPR and FPR\n",
    "def calculate_cm_tpr(pred, y_test, y_train):\n",
    "    m = confusion_matrix(y_test, pred)\n",
    "    result = m.ravel()[3]/(m.ravel()[3]+m.ravel()[2])\n",
    "    return result"
   ]
  },
  {
   "cell_type": "code",
   "execution_count": 216,
   "metadata": {},
   "outputs": [],
   "source": [
    "def bootstrap_validation_tpr (test_data, test_label, train_label,model, metrics, sample, random_state = 66):\n",
    "    \n",
    "    n_sample = sample\n",
    "   \n",
    "    output_array = []\n",
    "    for bs_iter in range(sample):\n",
    "        bs_index = np.random.choice(test_data.index, len(test_data.index), replace=True)\n",
    "        bs_data = test_data.loc[bs_index]\n",
    "        bs_label = test_label.loc[bs_index]\n",
    "        bs_predicted = model.predict(bs_data)\n",
    "        bs_metrics = metrics(bs_predicted, bs_label, train_label)\n",
    "        output_array.append(bs_metrics)\n",
    "    output_df = pd.DataFrame(output_array)\n",
    "    return output_df"
   ]
  },
  {
   "cell_type": "code",
   "execution_count": 217,
   "metadata": {},
   "outputs": [],
   "source": [
    "bs_output_tpr = bootstrap_validation_tpr(X_test, y_test, y_train, rf_cv, calculate_cm_tpr, sample = 2000)"
   ]
  },
  {
   "cell_type": "code",
   "execution_count": 348,
   "metadata": {},
   "outputs": [
    {
     "name": "stdout",
     "output_type": "stream",
     "text": [
      "0    0.006759\n",
      "dtype: float64\n"
     ]
    }
   ],
   "source": [
    "tpr_std = bs_output_tpr.std()\n",
    "print(tpr_std)"
   ]
  },
  {
   "cell_type": "code",
   "execution_count": 218,
   "metadata": {},
   "outputs": [
    {
     "data": {
      "text/html": [
       "<div>\n",
       "<style scoped>\n",
       "    .dataframe tbody tr th:only-of-type {\n",
       "        vertical-align: middle;\n",
       "    }\n",
       "\n",
       "    .dataframe tbody tr th {\n",
       "        vertical-align: top;\n",
       "    }\n",
       "\n",
       "    .dataframe thead th {\n",
       "        text-align: right;\n",
       "    }\n",
       "</style>\n",
       "<table border=\"1\" class=\"dataframe\">\n",
       "  <thead>\n",
       "    <tr style=\"text-align: right;\">\n",
       "      <th></th>\n",
       "      <th>0</th>\n",
       "    </tr>\n",
       "  </thead>\n",
       "  <tbody>\n",
       "    <tr>\n",
       "      <th>0</th>\n",
       "      <td>0.247918</td>\n",
       "    </tr>\n",
       "    <tr>\n",
       "      <th>1</th>\n",
       "      <td>0.269042</td>\n",
       "    </tr>\n",
       "    <tr>\n",
       "      <th>2</th>\n",
       "      <td>0.262899</td>\n",
       "    </tr>\n",
       "    <tr>\n",
       "      <th>3</th>\n",
       "      <td>0.271692</td>\n",
       "    </tr>\n",
       "    <tr>\n",
       "      <th>4</th>\n",
       "      <td>0.264828</td>\n",
       "    </tr>\n",
       "  </tbody>\n",
       "</table>\n",
       "</div>"
      ],
      "text/plain": [
       "          0\n",
       "0  0.247918\n",
       "1  0.269042\n",
       "2  0.262899\n",
       "3  0.271692\n",
       "4  0.264828"
      ]
     },
     "execution_count": 218,
     "metadata": {},
     "output_type": "execute_result"
    }
   ],
   "source": [
    "bs_output_tpr.head()"
   ]
  },
  {
   "cell_type": "code",
   "execution_count": 254,
   "metadata": {},
   "outputs": [
    {
     "data": {
      "text/plain": [
       "(0.08, 0.125)"
      ]
     },
     "execution_count": 254,
     "metadata": {},
     "output_type": "execute_result"
    },
    {
     "data": {
      "image/png": "[encoded data removed]",
      "text/plain": [
       "<Figure size 864x360 with 2 Axes>"
      ]
     },
     "metadata": {
      "needs_background": "light"
     },
     "output_type": "display_data"
    }
   ],
   "source": [
    "test_tpr = calculate_cm_tpr(y_pred,y_test,y_train)\n",
    "fig, axs = plt.subplots(ncols=2, figsize=(12,5))\n",
    "axs[0].set_xlabel('Bootstrap Tpr Estimate', fontsize=16)\n",
    "axs[1].set_xlabel('Boot Tpr - Test Set Tpr', fontsize=16)\n",
    "axs[0].set_ylabel('Count', fontsize=16)\n",
    "axs[0].hist(bs_output_tpr.iloc[:,0], bins=20,edgecolor='orange', linewidth=2,color = \"grey\")\n",
    "axs[0].set_xlim([0.235,0.285])\n",
    "axs[1].hist(bs_output_tpr.values-test_tpr, bins=20,edgecolor='orange', linewidth=2,color = \"grey\")\n",
    "axs[1].set_xlim([0.08,0.125])"
   ]
  },
  {
   "cell_type": "code",
   "execution_count": 281,
   "metadata": {},
   "outputs": [
    {
     "name": "stdout",
     "output_type": "stream",
     "text": [
      "The 95-percent confidence interval of OSR2 is [0.09039952 0.11653989]\n"
     ]
    }
   ],
   "source": [
    "CI= np.quantile(bs_output_tpr.values-test_tpr,np.array([0.025,0.975]))\n",
    "print(\"The 95-percent confidence interval of OSR2 is %s\" % CI)"
   ]
  },
  {
   "cell_type": "code",
   "execution_count": 288,
   "metadata": {},
   "outputs": [
    {
     "data": {
      "text/plain": [
       "<matplotlib.collections.LineCollection at 0x7fccbc955c10>"
      ]
     },
     "execution_count": 288,
     "metadata": {},
     "output_type": "execute_result"
    },
    {
     "data": {
      "image/png": "[encoded data removed]",
      "text/plain": [
       "<Figure size 576x432 with 1 Axes>"
      ]
     },
     "metadata": {
      "needs_background": "light"
     },
     "output_type": "display_data"
    }
   ],
   "source": [
    "fig, axs = plt.subplots(ncols=1, figsize=(8,6))\n",
    "axs.set_xlabel('Boot tpr - Test Set tpr', fontsize=16)\n",
    "axs.set_ylabel('Count', fontsize=16)\n",
    "axs.hist(bs_output_tpr.values-test_tpr, bins=20,edgecolor='orange', linewidth=2,color = \"grey\")\n",
    "axs.set_xlim([0.075,0.13])\n",
    "axs.vlines(x=CI[0], ymin = 0, ymax =250, color = \"black\")\n",
    "axs.vlines(x=CI[1], ymin = 0, ymax =250, color = \"black\")"
   ]
  },
  {
   "cell_type": "markdown",
   "metadata": {},
   "source": [
    "## 3) FPR"
   ]
  },
  {
   "cell_type": "code",
   "execution_count": 261,
   "metadata": {},
   "outputs": [],
   "source": [
    "def calculate_cm_fpr(pred, y_test, y_train):\n",
    "    n = confusion_matrix(y_test, pred)\n",
    "    result = n.ravel()[1]/(n.ravel()[1]+n.ravel()[0])\n",
    "    return result"
   ]
  },
  {
   "cell_type": "code",
   "execution_count": 262,
   "metadata": {},
   "outputs": [],
   "source": [
    "def bootstrap_validation_fpr (test_data, test_label, train_label,model, metrics, sample, random_state = 66):\n",
    "    \n",
    "    n_sample = sample\n",
    "   \n",
    "    output_array = []\n",
    "    for bs_iter in range(sample):\n",
    "        bs_index = np.random.choice(test_data.index, len(test_data.index), replace=True)\n",
    "        bs_data = test_data.loc[bs_index]\n",
    "        bs_label = test_label.loc[bs_index]\n",
    "        bs_predicted = model.predict(bs_data)\n",
    "        bs_metrics = metrics(bs_predicted, bs_label, train_label)\n",
    "        output_array.append(bs_metrics)\n",
    "    output_df = pd.DataFrame(output_array)\n",
    "    return output_df"
   ]
  },
  {
   "cell_type": "code",
   "execution_count": 263,
   "metadata": {},
   "outputs": [],
   "source": [
    "bs_output_fpr = bootstrap_validation_fpr(X_test, y_test, y_train, rf_cv, calculate_cm_fpr, sample = 2000)"
   ]
  },
  {
   "cell_type": "code",
   "execution_count": 349,
   "metadata": {},
   "outputs": [
    {
     "name": "stdout",
     "output_type": "stream",
     "text": [
      "0    0.006617\n",
      "dtype: float64\n"
     ]
    }
   ],
   "source": [
    "fpr_std = bs_output_fpr.std()\n",
    "print(fpr_std)"
   ]
  },
  {
   "cell_type": "code",
   "execution_count": 264,
   "metadata": {},
   "outputs": [
    {
     "data": {
      "text/html": [
       "<div>\n",
       "<style scoped>\n",
       "    .dataframe tbody tr th:only-of-type {\n",
       "        vertical-align: middle;\n",
       "    }\n",
       "\n",
       "    .dataframe tbody tr th {\n",
       "        vertical-align: top;\n",
       "    }\n",
       "\n",
       "    .dataframe thead th {\n",
       "        text-align: right;\n",
       "    }\n",
       "</style>\n",
       "<table border=\"1\" class=\"dataframe\">\n",
       "  <thead>\n",
       "    <tr style=\"text-align: right;\">\n",
       "      <th></th>\n",
       "      <th>0</th>\n",
       "    </tr>\n",
       "  </thead>\n",
       "  <tbody>\n",
       "    <tr>\n",
       "      <th>0</th>\n",
       "      <td>0.246908</td>\n",
       "    </tr>\n",
       "    <tr>\n",
       "      <th>1</th>\n",
       "      <td>0.239239</td>\n",
       "    </tr>\n",
       "    <tr>\n",
       "      <th>2</th>\n",
       "      <td>0.249527</td>\n",
       "    </tr>\n",
       "    <tr>\n",
       "      <th>3</th>\n",
       "      <td>0.242105</td>\n",
       "    </tr>\n",
       "    <tr>\n",
       "      <th>4</th>\n",
       "      <td>0.240000</td>\n",
       "    </tr>\n",
       "  </tbody>\n",
       "</table>\n",
       "</div>"
      ],
      "text/plain": [
       "          0\n",
       "0  0.246908\n",
       "1  0.239239\n",
       "2  0.249527\n",
       "3  0.242105\n",
       "4  0.240000"
      ]
     },
     "execution_count": 264,
     "metadata": {},
     "output_type": "execute_result"
    }
   ],
   "source": [
    "bs_output_fpr.head()"
   ]
  },
  {
   "cell_type": "code",
   "execution_count": 266,
   "metadata": {},
   "outputs": [
    {
     "data": {
      "text/plain": [
       "(0.06, 0.12)"
      ]
     },
     "execution_count": 266,
     "metadata": {},
     "output_type": "execute_result"
    },
    {
     "data": {
      "image/png": "[encoded data removed]",
      "text/plain": [
       "<Figure size 864x360 with 2 Axes>"
      ]
     },
     "metadata": {
      "needs_background": "light"
     },
     "output_type": "display_data"
    }
   ],
   "source": [
    "test_fpr = calculate_cm_fpr(y_pred,y_test,y_train)\n",
    "fig, axs = plt.subplots(ncols=2, figsize=(12,5))\n",
    "axs[0].set_xlabel('Bootstrap Fpr Estimate', fontsize=16)\n",
    "axs[1].set_xlabel('Boot Fpr - Test Set Fpr', fontsize=16)\n",
    "axs[0].set_ylabel('Count', fontsize=16)\n",
    "axs[0].hist(bs_output_fpr.iloc[:,0], bins=20,edgecolor='orange', linewidth=2,color = \"grey\")\n",
    "axs[0].set_xlim([0.21,0.27])\n",
    "axs[1].hist(bs_output_fpr.values-test_fpr, bins=20,edgecolor='orange', linewidth=2,color = \"grey\")\n",
    "axs[1].set_xlim([0.06,0.12])"
   ]
  },
  {
   "cell_type": "code",
   "execution_count": 289,
   "metadata": {},
   "outputs": [
    {
     "name": "stdout",
     "output_type": "stream",
     "text": [
      "The 95-percent confidence interval of OSR2 is [0.07771867 0.10295741]\n"
     ]
    }
   ],
   "source": [
    "CI= np.quantile(bs_output_fpr.values-test_fpr,np.array([0.025,0.975]))\n",
    "print(\"The 95-percent confidence interval of OSR2 is %s\" % CI)"
   ]
  },
  {
   "cell_type": "code",
   "execution_count": 292,
   "metadata": {},
   "outputs": [
    {
     "data": {
      "text/plain": [
       "<matplotlib.collections.LineCollection at 0x7fccbb179370>"
      ]
     },
     "execution_count": 292,
     "metadata": {},
     "output_type": "execute_result"
    },
    {
     "data": {
      "image/png": "[encoded data removed]",
      "text/plain": [
       "<Figure size 576x432 with 1 Axes>"
      ]
     },
     "metadata": {
      "needs_background": "light"
     },
     "output_type": "display_data"
    }
   ],
   "source": [
    "fig, axs = plt.subplots(ncols=1, figsize=(8,6))\n",
    "axs.set_xlabel('Boot fpr - Test Set fpr', fontsize=16)\n",
    "axs.set_ylabel('Count', fontsize=16)\n",
    "axs.hist(bs_output_fpr.values-test_fpr, bins=20,edgecolor='orange', linewidth=2,color = \"grey\")\n",
    "axs.set_xlim([0.065,0.115])\n",
    "axs.vlines(x=CI[0], ymin = 0, ymax =250, color = \"black\")\n",
    "axs.vlines(x=CI[1], ymin = 0, ymax =250, color = \"black\")"
   ]
  },
  {
   "cell_type": "markdown",
   "metadata": {},
   "source": [
    "## Part c)"
   ]
  },
  {
   "cell_type": "markdown",
   "metadata": {},
   "source": [
    "i) Think about how to select a model, among many different models, to best accomplishthe  goal  of  maximizing  the  probability  that  the  top  question  is  useful.   Comment  onthe precise criteria that you would use (e.g., “I would select a model with the highestaccuracy” or “I would select a model with the highest TPR”, etc.)  and note that youranswer may involve multiple performance metrics if you wish.  Explain your response."
   ]
  },
  {
   "cell_type": "markdown",
   "metadata": {},
   "source": [
    "From part a to part b, we were able to delegate all process from data cleaning to model building. For this homework particularly, I would like to make my opinion that developing models to attain high accuracy would be the most important factor and thus maximizing the probability for questions that are useful. Accuracy is a prime metric to compare between several models and since we are using the same type of dataset (train and test) for our homework. If it was a case that we are building a model where we have to consider flexibility due to using different dataset, choosing a model with the highest accuracy might not be suffice. We will probably have to consider multiple metrics and make further interpretation about how robust our model might be.\n",
    "\n",
    "Therefore, I would pick a model that gives the highest accuracy. This Accuracy tells us an overall prediction on whether or not a question is useful. Further, in order to maximize the probability that the top question is useful, we could rank the accuracy for each 15 questions using the model built to see the order of least to greatest accuracy values. If a question is useful that means there will be more classified \"OneOrAbove\" score 1. The more classified score of 1 means that there is a better chance in getting the top 15 questions to be useful. "
   ]
  },
  {
   "cell_type": "markdown",
   "metadata": {},
   "source": [
    "ii) Revisiting the models that you have built in part (b), can you identify a specific modelthat best accomplishes the goal?  (Note that this model may be different from the finalmodel you selected in part (b), and you are allowed to do some re-training in addition tore-evaluating your models.)  How much does the model you selected improve upon StackExchange’s current approach of showing the most recent posts first (described above)?In particular, use the results of your model on the test set to give a precise numericalestimate of the increase in the probability that the top question is useful.  If you like, youmay use a back-of-the-envelope “on average” style of analysis as part of your reasoningto answer this question."
   ]
  },
  {
   "cell_type": "code",
   "execution_count": 354,
   "metadata": {},
   "outputs": [
    {
     "name": "stdout",
     "output_type": "stream",
     "text": [
      "Accuracy 0.5058795005455207\n",
      "tpr 0.0\n",
      "fpr 0.0\n"
     ]
    }
   ],
   "source": [
    "#Accuracy for the Baseline Model\n",
    "baseline_pred = [0 for i in range(len(y_test))]\n",
    "baseline_acc = accuracy_score(y_test, baseline_pred)\n",
    "\n",
    "#confusion matrix for baseline\n",
    "cm = confusion_matrix(y_test, baseline_pred)\n",
    "\n",
    "#TPR for Baseline\n",
    "bm_tpr = cm.ravel()[3]/(cm.ravel()[3]+cm.ravel()[2])\n",
    "\n",
    "#FPR for Baseline\n",
    "bm_fpr = cm.ravel()[1]/(cm.ravel()[1]+cm.ravel()[0])\n",
    "print(\"Accuracy\", baseline_acc)\n",
    "print(\"tpr\", bm_tpr)\n",
    "print(\"fpr\", bm_fpr)"
   ]
  },
  {
   "cell_type": "markdown",
   "metadata": {},
   "source": [
    "Based on the model building and analysis based on part b, random forest performed the best out of the five models (LDA, Logistic Regression, Boosting, CART) with an accuracy value of 51.59%. According to our baseline model, we get an accuracy value of 50.58%. This means that our random forest is about (51.59-50.58)/50.58 = 0.0199 which is roughly about 2% better than our baseline model. This model can improve upon stackexchange's current approach of showing the most recent posts first above by 2% overall. This may be a small increase but that's primarily due to the fact that there's more room for us to thoroughly optimize our random forest models further by changing the parameters and the grid values (for the sake or this homework and running time issues, I input a generalized small values) "
   ]
  },
  {
   "cell_type": "markdown",
   "metadata": {},
   "source": [
    "## REF"
   ]
  },
  {
   "cell_type": "markdown",
   "metadata": {},
   "source": [
    "This homework was referenced from lab 8 codes as well as discussed with classmates."
   ]
  },
  {
   "cell_type": "code",
   "execution_count": null,
   "metadata": {},
   "outputs": [],
   "source": []
  }
 ],
 "metadata": {
  "kernelspec": {
   "display_name": "Python 3",
   "language": "python",
   "name": "python3"
  },
  "language_info": {
   "codemirror_mode": {
    "name": "ipython",
    "version": 3
   },
   "file_extension": ".py",
   "mimetype": "text/x-python",
   "name": "python",
   "nbconvert_exporter": "python",
   "pygments_lexer": "ipython3",
   "version": "3.8.5"
  }
 },
 "nbformat": 4,
 "nbformat_minor": 4
}
